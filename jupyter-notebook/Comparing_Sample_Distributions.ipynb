{
 "cells": [
  {
   "cell_type": "markdown",
   "metadata": {},
   "source": [
    "# Comparing Sample Distributions\n",
    "\n",
    "This notebook contains graphs to compare the distribution of stars in the spectroscopic sample of Gaia DR2 when the distances are  \n",
    "adopted frrom through the Bailer - Jones Bayesian analysis (C. A. L. Bailer-Jones et al 2018 AJ 156 58): https://iopscience.iop.org/article/10.3847/1538-3881/aacb21."
   ]
  },
  {
   "cell_type": "code",
   "execution_count": null,
   "metadata": {},
   "outputs": [],
   "source": [
    "import matplotlib.pyplot as plt\n",
    "import numpy as np\n",
    "import pandas as pd\n",
    "from astropy.visualization import LogStretch\n",
    "from astropy.visualization.mpl_normalize import ImageNormalize\n",
    "import sys\n",
    "\n",
    "sys.path.append(\"../gaia_tools/\")\n",
    "\n",
    "import data_analysis\n",
    "import transformation_constants\n",
    "import covariance_generation\n",
    "import data_plot\n",
    "from import_functions import import_data"
   ]
  },
  {
   "cell_type": "code",
   "execution_count": null,
   "metadata": {},
   "outputs": [],
   "source": [
    "path = \"/hdfs/local/sven/gaia_tools_data/gaia_rv_data_bayes.csv\""
   ]
  },
  {
   "cell_type": "code",
   "execution_count": null,
   "metadata": {},
   "outputs": [],
   "source": [
    "# The data without the Bayesian estimates\n",
    "# \"is_bayes = False\" removes negative parallaxes from the sample\n",
    "\n",
    "data_nonbayes = import_data(path = path, is_bayes = False, debug = True)"
   ]
  },
  {
   "cell_type": "code",
   "execution_count": null,
   "metadata": {},
   "outputs": [],
   "source": [
    "# The data with the Bayesian estimates\n",
    "# \"is_bayes = True\" keeps negative parallaxes in the sample\n",
    "\n",
    "data_bayes = import_data(path, is_bayes = True)"
   ]
  },
  {
   "cell_type": "code",
   "execution_count": null,
   "metadata": {},
   "outputs": [],
   "source": [
    "print(\"The number of stars in the sample: {0}\".format(len(data_bayes)))\n",
    "print(\"The star with largest distance: {0}\".format(np.max(data_bayes.r_est)))\n",
    "print(\"The star with smallest distance: {0}\".format(np.min(data_bayes.r_est)))"
   ]
  },
  {
   "cell_type": "markdown",
   "metadata": {},
   "source": [
    "There are fewer stars in the Bayesian sample than in the original full spectroscopic because some stars are missing parallax measurements."
   ]
  },
  {
   "cell_type": "markdown",
   "metadata": {},
   "source": [
    "## Transforming to a galactocentric ref."
   ]
  },
  {
   "cell_type": "code",
   "execution_count": null,
   "metadata": {},
   "outputs": [],
   "source": [
    "galcen_data = data_analysis.get_transformed_data(data_nonbayes, \n",
    "                                   include_cylindrical = True,\n",
    "                                   debug = True, \n",
    "                                   is_source_included = True)\n",
    "\n",
    "galcen_data_bayes = data_analysis.get_transformed_data(data_bayes, \n",
    "                                   include_cylindrical = True,\n",
    "                                   debug = True, \n",
    "                                   is_source_included = True,\n",
    "                                   is_bayes = True)"
   ]
  },
  {
   "cell_type": "markdown",
   "metadata": {},
   "source": [
    "---\n",
    "## Histograms in r"
   ]
  },
  {
   "cell_type": "code",
   "execution_count": null,
   "metadata": {
    "jupyter": {
     "source_hidden": true
    }
   },
   "outputs": [],
   "source": [
    "fig = plt.figure(figsize=(10, 10))\n",
    "\n",
    "fig.patch.set_facecolor('white')\n",
    "\n",
    "n_bins = 150\n",
    "r_min = 0\n",
    "r_max = 30000\n",
    "\n",
    "plt.hist(galcen_data.r, bins=np.linspace(r_min, r_max, n_bins))\n",
    "\n",
    "plt.ticklabel_format(axis=\"y\", style=\"sci\", scilimits=(0,0))\n",
    "\n",
    "txt=\"{0} bins defined in the range [{1} - {2}] kpc\".format(n_bins, r_min, r_max)\n",
    "plt.figtext(0.5, 0.01, txt, wrap=True, horizontalalignment='center', fontsize=12)\n",
    "\n",
    "plt.xlabel(r'$r$ [pc]', fontdict={'fontsize': 18}, labelpad = 20);\n",
    "plt.ylabel('Star count', fontdict={'fontsize': 18}, labelpad = 20);\n",
    "plt.xticks(fontsize=16)\n",
    "plt.yticks(fontsize=16)\n",
    "plt.grid()\n",
    "\n",
    "# The position of the Sun\n",
    "plt.axvline(x=8178, color='y', linestyle='--')\n",
    "plt.rcParams[\"patch.force_edgecolor\"] = True\n",
    "plt.rc('font', **{'size':'16'})\n",
    "plt.title(\"Star Density Histogram (Non-Bayes)\", pad=20, fontdict={'fontsize': 20})\n",
    "\n",
    "#plt.savefig(\"Star_Density_R_Presentation\", dpi=300, facecolor=fig.get_facecolor(), edgecolor='none')\n",
    "plt.show()"
   ]
  },
  {
   "cell_type": "code",
   "execution_count": null,
   "metadata": {
    "jupyter": {
     "source_hidden": true
    }
   },
   "outputs": [],
   "source": [
    "fig = plt.figure(figsize=(10, 10))\n",
    "\n",
    "fig.patch.set_facecolor('white')\n",
    "\n",
    "n_bins = 150\n",
    "r_min = 0\n",
    "r_max = 30000\n",
    "\n",
    "plt.hist(galcen_data_bayes.r, bins=np.linspace(r_min, r_max, n_bins))\n",
    "\n",
    "\n",
    "#plt.ticklabel_format(axis=\"x\", style=\"sci\", scilimits=(0,0))\n",
    "plt.ticklabel_format(axis=\"y\", style=\"sci\", scilimits=(0,0))\n",
    "\n",
    "txt=\"{0} bins defined in the range [{1} - {2}] kpc\".format(n_bins, r_min, r_max)\n",
    "plt.figtext(0.5, 0.01, txt, wrap=True, horizontalalignment='center', fontsize=12)\n",
    "\n",
    "plt.xlabel(r'$r$ [pc]', fontdict={'fontsize': 18}, labelpad = 20);\n",
    "plt.ylabel('Star count', fontdict={'fontsize': 18}, labelpad = 20);\n",
    "plt.xticks(fontsize=16)\n",
    "plt.yticks(fontsize=16)\n",
    "plt.grid()\n",
    "\n",
    "# The position of the Sun\n",
    "plt.axvline(x=8178, color='y', linestyle='--')\n",
    "plt.rcParams[\"patch.force_edgecolor\"] = True\n",
    "plt.rc('font', **{'size':'16'})\n",
    "plt.title(\"Star Density Histogram (Bayes)\", pad=20, fontdict={'fontsize': 20})\n",
    "\n",
    "#plt.savefig(\"Star_Density_R_Presentation\", dpi=300, facecolor=fig.get_facecolor(), edgecolor='none')\n",
    "plt.show()"
   ]
  },
  {
   "cell_type": "code",
   "execution_count": null,
   "metadata": {
    "jupyter": {
     "source_hidden": true
    }
   },
   "outputs": [],
   "source": [
    "fig = plt.figure(figsize=(10, 10))\n",
    "fig.patch.set_facecolor('white')\n",
    "\n",
    "n_bins = 150\n",
    "r_min = 0\n",
    "r_max = 30000\n",
    "\n",
    "plt.hist(galcen_data_bayes.r, bins=np.linspace(r_min, r_max, n_bins), label='Bayes',  alpha=1)\n",
    "plt.hist(galcen_data.r, bins=np.linspace(r_min, r_max, n_bins), label='Non-Bayes', alpha=0.5)\n",
    "\n",
    "#plt.ticklabel_format(axis=\"x\", style=\"sci\", scilimits=(0,0))\n",
    "plt.ticklabel_format(axis=\"y\", style=\"sci\", scilimits=(0,0))\n",
    "\n",
    "txt=\"{0} bins defined in the range [{1} - {2}] kpc\".format(n_bins, r_min, r_max)\n",
    "plt.figtext(0.5, 0.01, txt, wrap=True, horizontalalignment='center', fontsize=12)\n",
    "\n",
    "plt.legend(loc='upper right')\n",
    "\n",
    "\n",
    "plt.xlabel(r'$r$ [pc]', fontdict={'fontsize': 18}, labelpad = 20);\n",
    "plt.ylabel('Star count', fontdict={'fontsize': 18}, labelpad = 20);\n",
    "plt.xticks(fontsize=16)\n",
    "plt.yticks(fontsize=16)\n",
    "plt.grid()\n",
    "plt.axvline(x=8178, color='y', linestyle='--')\n",
    "plt.rcParams[\"patch.force_edgecolor\"] = True\n",
    "plt.rc('font', **{'size':'16'})\n",
    "plt.title(\"Star Density Histogram (Both)\", pad=20, fontdict={'fontsize': 20})\n",
    "\n",
    "#plt.savefig(\"Star_Density_R_Presentation\", dpi=300, facecolor=fig.get_facecolor(), edgecolor='none')\n",
    "plt.show()"
   ]
  },
  {
   "cell_type": "markdown",
   "metadata": {},
   "source": [
    "---\n",
    "## Histograms in z"
   ]
  },
  {
   "cell_type": "code",
   "execution_count": null,
   "metadata": {
    "jupyter": {
     "source_hidden": true
    }
   },
   "outputs": [],
   "source": [
    "fig = plt.figure(figsize=(10, 10))\n",
    "fig.patch.set_facecolor('white')\n",
    "\n",
    "n_bins = 150\n",
    "z_min = -2000\n",
    "z_max = 2000\n",
    "\n",
    "plt.hist(galcen_data.z, bins=np.linspace(z_min, z_max, n_bins), label='Non-Bayes', alpha=1)\n",
    "\n",
    "#plt.ticklabel_format(axis=\"x\", style=\"sci\", scilimits=(0,0))\n",
    "plt.ticklabel_format(axis=\"y\", style=\"sci\", scilimits=(0,0))\n",
    "\n",
    "txt=\"{0} bins defined in the range [{1} - {2}] pc\".format(n_bins, z_min, z_max)\n",
    "plt.figtext(0.5, 0.01, txt, wrap=True, horizontalalignment='center', fontsize=12)\n",
    "\n",
    "plt.xlabel(r'$r$ [pc]', fontdict={'fontsize': 18}, labelpad = 20);\n",
    "plt.ylabel('Star count', fontdict={'fontsize': 18}, labelpad = 20);\n",
    "plt.xticks(fontsize=16)\n",
    "plt.yticks(fontsize=16)\n",
    "plt.grid()\n",
    "\n",
    "plt.rcParams[\"patch.force_edgecolor\"] = True\n",
    "plt.rc('font', **{'size':'16'})\n",
    "plt.title(\"Star Density Histogram (Non-Bayes)\", pad=20, fontdict={'fontsize': 20})\n",
    "\n",
    "#plt.savefig(\"Star_Density_R_Presentation\", dpi=300, facecolor=fig.get_facecolor(), edgecolor='none')\n",
    "plt.show()"
   ]
  },
  {
   "cell_type": "code",
   "execution_count": null,
   "metadata": {
    "jupyter": {
     "source_hidden": true
    }
   },
   "outputs": [],
   "source": [
    "fig = plt.figure(figsize=(10, 10))\n",
    "fig.patch.set_facecolor('white')\n",
    "\n",
    "n_bins = 150\n",
    "z_min = -2000\n",
    "z_max = 2000\n",
    "\n",
    "plt.hist(galcen_data_bayes.z, bins=np.linspace(z_min, z_max, n_bins), label='Bayes', alpha=1)\n",
    "\n",
    "#plt.ticklabel_format(axis=\"x\", style=\"sci\", scilimits=(0,0))\n",
    "plt.ticklabel_format(axis=\"y\", style=\"sci\", scilimits=(0,0))\n",
    "\n",
    "txt=\"{0} bins defined in the range [{1} - {2}] pc\".format(n_bins, z_min, z_max)\n",
    "plt.figtext(0.5, 0.01, txt, wrap=True, horizontalalignment='center', fontsize=12)\n",
    "\n",
    "\n",
    "plt.xlabel(r'$z$ [pc]', fontdict={'fontsize': 18}, labelpad = 20);\n",
    "plt.ylabel('Star count', fontdict={'fontsize': 18}, labelpad = 20);\n",
    "plt.xticks(fontsize=16)\n",
    "plt.yticks(fontsize=16)\n",
    "plt.grid()\n",
    "#plt.axvline(x=8178, color='y', linestyle='--')\n",
    "plt.rcParams[\"patch.force_edgecolor\"] = True\n",
    "plt.rc('font', **{'size':'16'})\n",
    "plt.title(\"Star Density Histogram - Z (Bayes)\", pad=20, fontdict={'fontsize': 20})\n",
    "\n",
    "#plt.savefig(\"Star_Density_R_Presentation\", dpi=300, facecolor=fig.get_facecolor(), edgecolor='none')\n",
    "plt.show()"
   ]
  },
  {
   "cell_type": "code",
   "execution_count": null,
   "metadata": {
    "jupyter": {
     "source_hidden": true
    }
   },
   "outputs": [],
   "source": [
    "fig = plt.figure(figsize=(10, 10))\n",
    "fig.patch.set_facecolor('white')\n",
    "\n",
    "n_bins = 150\n",
    "z_min = -2000\n",
    "z_max = 2000\n",
    "\n",
    "plt.hist(galcen_data_bayes.z, bins=np.linspace(z_min, z_max, n_bins), label='Bayes',  alpha=1)\n",
    "plt.hist(galcen_data.z, bins=np.linspace(z_min, z_max, n_bins), label='Non-Bayes', alpha=0.5)\n",
    "\n",
    "#plt.ticklabel_format(axis=\"x\", style=\"sci\", scilimits=(0,0))\n",
    "plt.ticklabel_format(axis=\"y\", style=\"sci\", scilimits=(0,0))\n",
    "\n",
    "txt=\"{0} bins defined in the range [{1} - {2}] pc\".format(n_bins, z_min, z_max)\n",
    "plt.figtext(0.5, 0.01, txt, wrap=True, horizontalalignment='center', fontsize=12)\n",
    "\n",
    "plt.legend(loc='upper right')\n",
    "\n",
    "\n",
    "plt.xlabel(r'$r$ [pc]', fontdict={'fontsize': 18}, labelpad = 20);\n",
    "plt.ylabel('Star count', fontdict={'fontsize': 18}, labelpad = 20);\n",
    "plt.xticks(fontsize=16)\n",
    "plt.yticks(fontsize=16)\n",
    "plt.grid()\n",
    "\n",
    "plt.rcParams[\"patch.force_edgecolor\"] = True\n",
    "plt.rc('font', **{'size':'16'})\n",
    "plt.title(\"Star Density Histogram (Both)\", pad=20, fontdict={'fontsize': 20})\n",
    "\n",
    "#plt.savefig(\"Star_Density_R_Presentation\", dpi=300, facecolor=fig.get_facecolor(), edgecolor='none')\n",
    "plt.show()"
   ]
  },
  {
   "cell_type": "markdown",
   "metadata": {},
   "source": [
    "---\n",
    "## Polar Histograms"
   ]
  },
  {
   "cell_type": "markdown",
   "metadata": {},
   "source": [
    "Polar histograms depicting the distribution of data over the Galactic plane"
   ]
  },
  {
   "cell_type": "code",
   "execution_count": null,
   "metadata": {
    "jupyter": {
     "source_hidden": true
    }
   },
   "outputs": [],
   "source": [
    "def display_polar_histogram(galcen_data, n_bins=100, norm_max = 1000, r_limits = (), title = \"Polar Plot\"):\n",
    "\n",
    "    from astropy.visualization.mpl_normalize import ImageNormalize\n",
    "    from astropy.visualization import LogStretch\n",
    "\n",
    "    fig= plt.figure(figsize=(10, 10), facecolor='white')\n",
    "    \n",
    "    # Init Data\n",
    "    phi = galcen_data.phi\n",
    "    r = galcen_data.r\n",
    "\n",
    "    if not r_limits:\n",
    "        min_r = np.min(galcen_data.r)\n",
    "        max_r = np.max(galcen_data.r)     \n",
    "    else:\n",
    "        min_r = r_limits[0]\n",
    "        max_r = r_limits[1]\n",
    "        \n",
    "    plt.ylim(min_r, max_r)\n",
    "    \n",
    "    # Init Bins\n",
    "    rbins = np.linspace(0, max_r, n_bins)\n",
    "    abins = np.linspace(-np.pi,np.pi, n_bins)\n",
    "\n",
    "    norm_hist2d = ImageNormalize(vmin=0., vmax=norm_max, stretch=LogStretch())\n",
    "\n",
    "    \n",
    "    \n",
    "    ax = fig.add_subplot(111, projection='polar')\n",
    "    plt.hist2d(phi, r, bins=(abins, rbins), norm = norm_hist2d)\n",
    "\n",
    "    plt.title(title, pad=20, fontdict={'fontsize': 20})\n",
    "    \n",
    "    # Set r label background color to black\n",
    "    plt.setp(ax.get_yticklabels(), backgroundcolor=\"black\")\n",
    "\n",
    "    # Set r label font color to white\n",
    "    ax.tick_params(axis=\"y\", colors=\"white\")\n",
    "\n",
    "    # Configure angle labels\n",
    "    ax.set_thetamin(360)\n",
    "    ax.set_thetamax(0)\n",
    "\n",
    "    cbar = plt.colorbar()\n",
    "    cbar.ax.set_ylabel('Number of stars in bin')\n",
    "\n",
    "    plt.grid()\n",
    "    #plt.show()\n",
    "    \n",
    "    return fig\n"
   ]
  },
  {
   "cell_type": "code",
   "execution_count": null,
   "metadata": {
    "jupyter": {
     "source_hidden": true
    }
   },
   "outputs": [],
   "source": [
    "fig2 = display_polar_histogram(galcen_data, r_limits=(0, 30000), title = \"Distribution of data without Bayes\")"
   ]
  },
  {
   "cell_type": "code",
   "execution_count": null,
   "metadata": {
    "jupyter": {
     "source_hidden": true
    }
   },
   "outputs": [],
   "source": [
    "fig = display_polar_histogram(galcen_data_bayes, title = \"Distribution of data using Bayes\")"
   ]
  },
  {
   "cell_type": "code",
   "execution_count": null,
   "metadata": {
    "jupyter": {
     "source_hidden": true
    }
   },
   "outputs": [],
   "source": [
    "import matplotlib.ticker as ticker\n",
    "def point_density_histogram(galcen, vmax, bin_start = -16000, bin_end = 16000, n_bins = 200):\n",
    "    \n",
    "    # Check if data is in DataFrame or Astropy SkyCoords object\n",
    "    if isinstance(galcen, pd.DataFrame):\n",
    "        x_coord = [x for x in galcen.x]\n",
    "        y_coord = [y for y in galcen.y]\n",
    "    else:\n",
    "        x_coord = [x for x in galcen.x.value]\n",
    "        y_coord = [y for y in galcen.y.value]\n",
    "\n",
    "    norm_hist2d = ImageNormalize(vmin=0., vmax=vmax, stretch=LogStretch())\n",
    "    \n",
    "    fig = plt.figure(figsize=(10, 10))\n",
    "    \n",
    "    plt.hist2d(x_coord, y_coord, bins=np.linspace(bin_start, bin_end, n_bins), norm = norm_hist2d)\n",
    "    \n",
    "    plt.plot(0, 0, markersize=15, marker ='x', color='red');\n",
    "    plt.ticklabel_format(axis=\"x\", style=\"sci\", scilimits=(3,3))\n",
    "    plt.ticklabel_format(axis=\"y\", style=\"sci\", scilimits=(3,3))\n",
    "    plt.xlabel('x [pc]', fontsize=15)\n",
    "    plt.ylabel('y [pc]', fontsize=15)\n",
    "    plt.title(\"2D Histogram of Data Distribution\", pad=20, fontdict={'fontsize': 20})\n",
    "    plt.xlim(bin_start, bin_end)\n",
    "    plt.ylim(bin_start, bin_end)\n",
    "    plt.grid()\n",
    "\n",
    "    \n",
    "\n",
    "    def fmt(x, pos):\n",
    "        a, b = '{:.1e}'.format(x).split('e')\n",
    "        b = int(b)\n",
    "\n",
    "        if x == 0.0:\n",
    "            return\n",
    "        else:\n",
    "            return r'${} \\times 10^{{{}}}$'.format(a, b)\n",
    "\n",
    "    cbar = plt.colorbar(format=ticker.FuncFormatter(fmt))\n",
    "    cbar.ax.set_ylabel('Number of stars in bin')\n",
    "\n",
    "    tick_locator = ticker.MaxNLocator(nbins=5)\n",
    "    cbar.locator = tick_locator\n",
    "    cbar.update_ticks()\n",
    "\n",
    "    plt.show()\n"
   ]
  },
  {
   "cell_type": "markdown",
   "metadata": {},
   "source": [
    "## 2D Histograms"
   ]
  },
  {
   "cell_type": "code",
   "execution_count": null,
   "metadata": {
    "jupyter": {
     "source_hidden": true
    }
   },
   "outputs": [],
   "source": [
    "point_density_histogram(galcen_data_bayes, vmax=20000, bin_start = -20000, bin_end = 20000, n_bins = 100)"
   ]
  },
  {
   "cell_type": "code",
   "execution_count": null,
   "metadata": {},
   "outputs": [],
   "source": [
    "point_density_histogram(galcen_data_bayes[(galcen_data_bayes.z < 1000) & (galcen_data_bayes.z > -1000)], vmax=20000, bin_start = -20000, bin_end = 20000, n_bins = 100)"
   ]
  },
  {
   "cell_type": "markdown",
   "metadata": {},
   "source": [
    "## Without Bayes"
   ]
  },
  {
   "cell_type": "code",
   "execution_count": null,
   "metadata": {
    "jupyter": {
     "source_hidden": true
    }
   },
   "outputs": [],
   "source": [
    "point_density_histogram(galcen_data, vmax=1000, bin_start = -30000, bin_end = 30000, n_bins = 100)"
   ]
  },
  {
   "cell_type": "markdown",
   "metadata": {},
   "source": [
    "---"
   ]
  }
 ],
 "metadata": {
  "kernelspec": {
   "display_name": "Python 3",
   "language": "python",
   "name": "python3"
  },
  "language_info": {
   "codemirror_mode": {
    "name": "ipython",
    "version": 3
   },
   "file_extension": ".py",
   "mimetype": "text/x-python",
   "name": "python",
   "nbconvert_exporter": "python",
   "pygments_lexer": "ipython3",
   "version": "3.6.8"
  }
 },
 "nbformat": 4,
 "nbformat_minor": 4
}
