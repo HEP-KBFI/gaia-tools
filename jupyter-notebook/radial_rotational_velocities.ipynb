{
 "cells": [
  {
   "cell_type": "code",
   "execution_count": 2,
   "metadata": {},
   "outputs": [
    {
     "name": "stdout",
     "output_type": "stream",
     "text": [
      "Index(['source_id', 'ra', 'dec', 'rgeo', 'b_rgeo', 'B_rgeo', 'r_est',\n",
      "       'b_rpgeo', 'B_rpgeo', 'ra_error', 'dec_error', 'parallax',\n",
      "       'parallax_error', 'PM', 'pmra', 'pmra_error', 'pmdec', 'pmdec_error',\n",
      "       'radial_velocity', 'radial_velocity_error', 'ra_dec_corr',\n",
      "       'ra_pmdec_corr', 'ra_parallax_corr', 'ra_pmra_corr', 'dec_pmra_corr',\n",
      "       'dec_pmdec_corr', 'dec_parallax_corr', 'parallax_pmdec_corr',\n",
      "       'parallax_pmra_corr', 'pmra_pmdec_corr', 'r_est_error',\n",
      "       'parallax_over_error'],\n",
      "      dtype='object')\n",
      "Starting galactocentric transformation loop over all data points.. \n",
      "Time elapsed for data coordinate transformation: 6.526432948652655 sec\n",
      "Galactocentric data shape: (6586329, 11)\n",
      "Galactocentric data shape after merge with covariance info: (6586329, 13)\n",
      "Removing noisy distances\n",
      "Galactocentric data shape after removing noisy distances: (5272518, 13)\n",
      "Galactocentric data shape after constraining region in r: (4644164, 13)\n",
      "Galactocentric data shape after constraining region in z: (1621218, 13)\n",
      "Galactocentric data shape after removing halo stars: (1614923, 14)\n",
      "(1614923, 14)\n"
     ]
    }
   ],
   "source": [
    "import sys\n",
    "sys.path.append(\"../gaia_tools/\")\n",
    "sys.path.append(\"../scripts/\")\n",
    "import covariance_generation\n",
    "import transformation_constants\n",
    "import data_analysis\n",
    "import numpy as np\n",
    "import pandas as pd\n",
    "import matplotlib.pyplot as plt\n",
    "\n",
    "dr3_path = '/local/mariacst/2022_v0_project/data/GaiaDR3_RV_RGB_fidelity.csv'\n",
    "dr3_path ='/home/svenpoder/DATA/Gaia_DR3/GaiaDR3_RV_RGB_fidelity.csv'\n",
    "dr3_path ='/local/sven/v0_project_archive/GaiaDR3_RV_RGB_fidelity.csv'\n",
    "gaia_dr3 = pd.read_csv(dr3_path)\n",
    "\n",
    "r_est_error = (gaia_dr3.B_rpgeo - gaia_dr3.b_rpgeo)/2\n",
    "gaia_dr3['r_est_error'] = r_est_error\n",
    "\n",
    "columns_to_drop = ['Unnamed: 0', 'Vbroad', 'GRVSmag', 'Gal', 'Teff', 'logg',\n",
    "       '[Fe/H]', 'Dist', 'A0', 'RAJ2000', 'DEJ2000', 'e_RAJ2000', 'e_DEJ2000',\n",
    "       'RADEcorJ2000', 'B_Teff', 'b_Teff', 'b_logg', 'B_logg', 'b_Dist',\n",
    "       'B_Dist', 'b_AG', 'B_AG', 'b_A0', 'B_A0', 'Gmag', 'BPmag', 'RPmag', 'BP-RP']\n",
    "gaia_dr3 = gaia_dr3.drop(columns=columns_to_drop)\n",
    "\n",
    "parallax_over_error = gaia_dr3.parallax/gaia_dr3.parallax_error\n",
    "gaia_dr3['parallax_over_error'] = parallax_over_error\n",
    "\n",
    "print(gaia_dr3.columns)\n",
    "\n",
    "def load_galactic_parameters():\n",
    "   '''The load_galactic_parameters function sets the initial galactocentric distance, height over the Galactic plane, and solar vector used in the coordinate transformations.'''\n",
    "\n",
    "   # Initial Galactocentric distance\n",
    "   r_0 = 8277\n",
    "\n",
    "   # Initial height over Galactic plane\n",
    "   z_0 = 25\n",
    "\n",
    "   # Initial solar vector\n",
    "   v_sun = transformation_constants.V_SUN\n",
    "   v_sun[0][0] = 11.1\n",
    "   v_sun[1][0] = 251.5\n",
    "   v_sun[2][0] = 8.59\n",
    "\n",
    "   return r_0, z_0, v_sun\n",
    "\n",
    "def apply_initial_cut(icrs_data):\n",
    "\n",
    "   r_0, z_0, v_sun = load_galactic_parameters()\n",
    "\n",
    "   galcen_data = data_analysis.get_transformed_data(icrs_data,\n",
    "                                          include_cylindrical = True,\n",
    "                                          z_0 = z_0,\n",
    "                                          r_0 = r_0,\n",
    "                                          v_sun = v_sun,\n",
    "                                          debug = True,\n",
    "                                          is_bayes = True,\n",
    "                                          is_source_included = True)\n",
    "\n",
    "   print(\"Galactocentric data shape: {}\".format(galcen_data.shape))\n",
    "\n",
    "   galactocentric_cov = covariance_generation.generate_galactocentric_covmat(icrs_data, \n",
    "                                                               is_bayes = True,\n",
    "                                                               Z_0 = z_0,\n",
    "                                                               R_0 = r_0)\n",
    "\n",
    "   cyl_cov = covariance_generation.transform_cov_cylindirical(galcen_data, \n",
    "                                                C = galactocentric_cov,\n",
    "                                                Z_0 = z_0,\n",
    "                                                R_0 = r_0)\n",
    "   galcen_data = galcen_data.merge(cyl_cov, on='source_id')\n",
    "\n",
    "   print(\"Galactocentric data shape after merge with covariance info: {}\".format(galcen_data.shape))\n",
    "\n",
    "   # Remove noisy distances\n",
    "   print(\"Removing noisy distances\")\n",
    "   galcen_data['parallax_over_error'] = icrs_data.parallax_over_error[galcen_data.source_id == icrs_data.source_id]\n",
    "   galcen_data = galcen_data[galcen_data.parallax_over_error > 5]\n",
    "   galcen_data = galcen_data.drop(columns=['parallax_over_error'])\n",
    "\n",
    "   print(\"Galactocentric data shape after removing noisy distances: {}\".format(galcen_data.shape))\n",
    "\n",
    "   # Final data cut\n",
    "   galcen_data = galcen_data[(galcen_data.r < 15000) & (galcen_data.r > 5000)]\n",
    "   print(\"Galactocentric data shape after constraining region in r: {}\".format(galcen_data.shape))\n",
    "   galcen_data = galcen_data[(galcen_data.z < 200) & (galcen_data.z > -200)]\n",
    "   print(\"Galactocentric data shape after constraining region in z: {}\".format(galcen_data.shape))\n",
    "\n",
    "   # Remove halo stars (condition taken from 1806.06038)                        \n",
    "   v_dif = np.linalg.norm(np.array([galcen_data.v_x, galcen_data.v_y, galcen_data.v_z])-v_sun,\n",
    "                        axis=0)                                               \n",
    "   galcen_data['v_dif'] = v_dif                                                 \n",
    "   galcen_data = galcen_data[galcen_data.v_dif<210.]\n",
    "\n",
    "   print(\"Galactocentric data shape after removing halo stars: {}\".format(galcen_data.shape))\n",
    "\n",
    "   galcen_data.reset_index(inplace=True, drop=True)\n",
    "   \n",
    "   return galcen_data\n",
    "\n",
    "galcen_data = apply_initial_cut(gaia_dr3)\n",
    "\n",
    "print(galcen_data.shape)\n",
    "\n",
    "gaia_dr3 = gaia_dr3.merge(galcen_data, on='source_id')[gaia_dr3.columns]\n",
    "\n"
   ]
  },
  {
   "cell_type": "code",
   "execution_count": 3,
   "metadata": {},
   "outputs": [],
   "source": [
    "# Generate bins\n",
    "bin_collection = data_analysis.get_collapsed_bins(data = galcen_data,\n",
    "                                                        theta = (0, 1),\n",
    "                                                        BL_r_min = 5000,\n",
    "                                                        BL_r_max = 15000,\n",
    "                                                        BL_z_min = -200,\n",
    "                                                        BL_z_max = 200,\n",
    "                                                        N_bins = (10, 1),\n",
    "                                                        r_drift = False,\n",
    "                                                        debug = False)"
   ]
  },
  {
   "cell_type": "code",
   "execution_count": 4,
   "metadata": {},
   "outputs": [],
   "source": [
    "import helper_functions as helpfunc"
   ]
  },
  {
   "cell_type": "code",
   "execution_count": 6,
   "metadata": {},
   "outputs": [],
   "source": [
    "mean_rot_vel = []\n",
    "rot_vel_error = []\n",
    "\n",
    "mean_rad_vel = []\n",
    "rad_vel_error = []\n",
    "\n",
    "bootstrap_vphi_error = []\n",
    "bootstrap_vr_error = []\n",
    "\n",
    "bin_rs = []\n",
    "for i, bin in enumerate(bin_collection.bins):\n",
    "\n",
    "    bin_rs.append(np.mean(bin.r_boundaries))\n",
    "\n",
    "    bootstrap_vphi_error.append(helpfunc.bootstrap_weighted_error(bin.data.v_phi.to_numpy(), bin.data.sig_vphi.to_numpy()))\n",
    "    bootstrap_vr_error.append(helpfunc.bootstrap_weighted_error(bin.data.v_r.to_numpy(), bin.data.sig_vr.to_numpy()))\n",
    "\n",
    "    mean_rot_vel.append(np.mean(bin.data.v_phi))\n",
    "    rot_vel_error.append(np.mean(np.sqrt(bin.data.sig_vphi)))\n",
    "\n",
    "    mean_rad_vel.append(np.mean(bin.data.v_r))\n",
    "    rad_vel_error.append(np.mean(np.sqrt(bin.data.sig_vr)))"
   ]
  },
  {
   "cell_type": "code",
   "execution_count": 7,
   "metadata": {},
   "outputs": [
    {
     "data": {
      "text/plain": [
       "10"
      ]
     },
     "execution_count": 7,
     "metadata": {},
     "output_type": "execute_result"
    }
   ],
   "source": [
    "len(bootstrap_vphi_error)"
   ]
  },
  {
   "cell_type": "code",
   "execution_count": 8,
   "metadata": {},
   "outputs": [
    {
     "data": {
      "text/plain": [
       "[-222.2879599106774,\n",
       " -228.2254427272831,\n",
       " -229.41715097326735,\n",
       " -228.2318757311543,\n",
       " -225.1438731426887,\n",
       " -222.80032573237492,\n",
       " -221.4884059668088,\n",
       " -221.26368524034825,\n",
       " -218.16915389893418,\n",
       " -214.62310990747875]"
      ]
     },
     "execution_count": 8,
     "metadata": {},
     "output_type": "execute_result"
    }
   ],
   "source": [
    "mean_rot_vel"
   ]
  },
  {
   "cell_type": "code",
   "execution_count": 16,
   "metadata": {},
   "outputs": [
    {
     "name": "stderr",
     "output_type": "stream",
     "text": [
      "No handles with labels found to put in legend.\n"
     ]
    },
    {
     "data": {
      "image/png": "[encoded data removed]",
      "text/plain": [
       "<Figure size 864x432 with 1 Axes>"
      ]
     },
     "metadata": {
      "needs_background": "light"
     },
     "output_type": "display_data"
    }
   ],
   "source": [
    "import matplotlib.ticker as ticker\n",
    "\n",
    "fig, ax = plt.subplots(figsize=(12, 6))\n",
    "\n",
    "x = np.array(bin_rs)\n",
    "y = np.array(mean_rot_vel)\n",
    "\n",
    "ax.scatter(x, -y, color='black')\n",
    "ax.errorbar(x, -y, \n",
    "            yerr=bootstrap_vphi_error, color='black', linestyle='', capsize=10)\n",
    "\n",
    "def numfmt(x, pos):\n",
    "            s = '{:.1f}'.format(x / 1000.0)\n",
    "            return s\n",
    "fmt = ticker.FuncFormatter(numfmt)\n",
    "ax.xaxis.set_major_formatter(fmt)\n",
    "fontdict = {'fontsize' : 24}\n",
    "ax.set_xlabel(r'$\\rm R$ [kpc]', fontdict= fontdict)\n",
    "ax.set_ylabel(r'$\\rm v_\\phi$ [km/s]', fontdict= fontdict)\n",
    "\n",
    "plt.xticks(fontsize=22, rotation=0)\n",
    "plt.yticks(fontsize=22, rotation=0)\n",
    "plt.legend()\n",
    "\n",
    "plt.savefig('mean_rotational_velocities_bootstrap.pdf', dpi = 300, bbox_inches='tight')"
   ]
  },
  {
   "cell_type": "code",
   "execution_count": 17,
   "metadata": {},
   "outputs": [
    {
     "data": {
      "image/png": "[encoded data removed]",
      "text/plain": [
       "<Figure size 864x432 with 1 Axes>"
      ]
     },
     "metadata": {
      "needs_background": "light"
     },
     "output_type": "display_data"
    }
   ],
   "source": [
    "import matplotlib.ticker as ticker\n",
    "\n",
    "fig, ax = plt.subplots(figsize=(12, 6))\n",
    "\n",
    "x = np.array(bin_rs)\n",
    "\n",
    "y = np.array(mean_rad_vel)\n",
    "ax.scatter(x, -y, color='black', label=r'mean radial velocity ($v_r$)')\n",
    "ax.errorbar(x, -y, \n",
    "            yerr=bootstrap_vr_error, color='black', linestyle='', capsize=10)\n",
    "\n",
    "def numfmt(x, pos):\n",
    "            s = '{:.1f}'.format(x / 1000.0)\n",
    "            return s\n",
    "fmt = ticker.FuncFormatter(numfmt)\n",
    "ax.xaxis.set_major_formatter(fmt)\n",
    "fontdict = {'fontsize' : 24}\n",
    "ax.set_xlabel(r'$\\rm R$ [kpc]', fontdict= fontdict)\n",
    "ax.set_ylabel(r'$\\rm v_R$ [km/s]', fontdict= fontdict)\n",
    "\n",
    "#ax.hlines(0, 5000, 15000)\n",
    "plt.xticks(fontsize=22, rotation=0)\n",
    "plt.yticks(fontsize=22, rotation=0)\n",
    "\n",
    "plt.savefig('mean_radial_velocities_bootstrap.pdf', dpi = 300, bbox_inches='tight')"
   ]
  },
  {
   "cell_type": "code",
   "execution_count": null,
   "metadata": {},
   "outputs": [],
   "source": []
  },
  {
   "cell_type": "code",
   "execution_count": null,
   "metadata": {},
   "outputs": [],
   "source": []
  }
 ],
 "metadata": {
  "kernelspec": {
   "display_name": ".gaia-project-env",
   "language": "python",
   "name": "python3"
  },
  "language_info": {
   "codemirror_mode": {
    "name": "ipython",
    "version": 3
   },
   "file_extension": ".py",
   "mimetype": "text/x-python",
   "name": "python",
   "nbconvert_exporter": "python",
   "pygments_lexer": "ipython3",
   "version": "3.6.8"
  },
  "orig_nbformat": 4,
  "vscode": {
   "interpreter": {
    "hash": "9664bd7e647e04d1f05a974ef63424cfbcb43577b30ab287f55d31a5457144e6"
   }
  }
 },
 "nbformat": 4,
 "nbformat_minor": 2
}
