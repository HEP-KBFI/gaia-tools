{
 "cells": [
  {
   "cell_type": "code",
   "execution_count": null,
   "metadata": {},
   "outputs": [],
   "source": [
    "import sys\n",
    "sys.path.append(\"../gaia_tools/\")\n",
    "sys.path.append(\"../scripts/\")\n",
    "import covariance_generation as cov\n",
    "from mcmc_plots import *\n",
    "import numpy as np\n",
    "import emcee\n",
    "import matplotlib.pyplot as plt\n",
    "import matplotlib.ticker as ticker\n",
    "import pickle\n",
    "from pylab import *\n",
    "from scipy.optimize import curve_fit\n",
    "from cProfile import label\n",
    "import pandas as pd"
   ]
  },
  {
   "cell_type": "code",
   "execution_count": null,
   "metadata": {},
   "outputs": [],
   "source": [
    "# Curves from literature\n",
    "\n",
    "headers = ['R', 'v_c', 'sig']\n",
    "cepheids_pm_method = pd.read_csv(\"others_curves/cepheids_ablimit_1.dat\", sep='  ', names=headers, skiprows=2, engine='python')\n",
    "cepheids_vel_method = pd.read_csv(\"others_curves/cepheids_ablimit_2.dat\", sep='  ', names=headers, skiprows=2,  engine='python')\n",
    "vc_data_wang = pd.read_csv(\"others_curves/vcdata_wang+2022.dat\", sep='  ', names=headers, skiprows=3, engine='python')\n",
    "\n",
    "headers = ['R', 'v_c', 'sig_below', 'sig_above']\n",
    "eilers_rc = pd.read_csv(\"others_curves/Eilers_RC_Data.csv\", sep=' ', names=headers)\n",
    "\n",
    "other_curves_dict = {'Ablimit et al. 2020 - \\nproper motion method' : cepheids_pm_method,\n",
    "                    'Ablimit et al. 2020 - \\n3D velocity method' : cepheids_vel_method,\n",
    "                    'Wang et al. 2022' : vc_data_wang,\n",
    "                    'Eilers et al. 2018' : eilers_rc}"
   ]
  },
  {
   "cell_type": "code",
   "execution_count": null,
   "metadata": {},
   "outputs": [],
   "source": [
    "# Rotation Curve Plotting Function\n",
    "\n",
    "def plot_rotation_curve(is_fit_curve, \n",
    "                        mcmc_runs, \n",
    "                        labels, \n",
    "                        burnin, \n",
    "                        extra_dims=[], \n",
    "                        display_eilers=False, \n",
    "                        display_bin_edges=False, \n",
    "                        is_h_fitted = True):\n",
    "\n",
    "    def func(x, a, b, c, ):\n",
    "        return a*x*x + b*x + c\n",
    "\n",
    "    fig, ax = plt.subplots(figsize=(12, 6))\n",
    "    colors = ['black', 'orange', 'blue', 'green', 'red']\n",
    "    \n",
    "    for i_path, path in enumerate(mcmc_runs):\n",
    "\n",
    "        \n",
    "        bin_setup = load_bin_settings(path, is_print=False)\n",
    "        bin_centers_r = bin_setup['bin_centers_r']\n",
    "\n",
    "        path = path + '/sampler_' + path.split('/')[-1].split('_')[0] + '.h5'\n",
    "        reader = emcee.backends.HDFBackend(path, read_only=True)\n",
    "        samples_data = reader.get_chain(discard=burnin[i_path])\n",
    "        flatchain = reader.get_chain(flat=True, discard = burnin[i_path])\n",
    "\n",
    "        bin_velocities = []\n",
    "        ndim = samples_data.shape[2]\n",
    "\n",
    "        if(len(extra_dims) > 0):\n",
    "            ndim = samples_data.shape[2] - extra_dims[i_path]\n",
    "        \n",
    "        print('R, v_c, sig-, sig+')\n",
    "        for i in range(ndim):\n",
    "            mcmc = np.percentile(flatchain[:, i], [16, 50, 84])\n",
    "            q = np.diff(mcmc)\n",
    "            v_mean, v_sub, v_sup = mcmc[1], q[0], q[1] \n",
    "            v_med = np.median(flatchain[:, i])\n",
    "            bin_velocities.append((v_med, v_sub, v_sup))\n",
    "\n",
    "            print(\"{} {} {} {}\".format(round(bin_centers_r[i]/1e3, 2) ,-round(v_mean,1), round(v_sub,1), round(v_sup, 1)))\n",
    "        velocity_array = np.array(bin_velocities)\n",
    "\n",
    "        if(len(mcmc_runs) == 0):\n",
    "            x_offset = 0\n",
    "            x_values = bin_centers_r + x_offset\n",
    "        else:\n",
    "            x_offset = np.linspace(-200, 200, len(mcmc_runs))\n",
    "            x_values = bin_centers_r + x_offset[i_path]\n",
    "        y_values = velocity_array[:,0]\n",
    "        y_error = [velocity_array[:,1], velocity_array[:,2]]\n",
    "\n",
    "        print(x_values.shape)\n",
    "        print(y_values.shape)\n",
    "\n",
    "        plt.errorbar(x_values, -y_values,\n",
    "                    yerr= y_error,\n",
    "                    fmt='o', c=colors[i_path], label=labels[i_path])\n",
    "\n",
    "        if(is_fit_curve):\n",
    "            popt, pcov = curve_fit(func, bin_centers_r, -y_values, sigma=velocity_array[:,1])\n",
    "            perr = np.sqrt(np.diag(pcov))\n",
    "            fit = func(np.array(bin_centers_r), popt[0], popt[1], popt[2])\n",
    "            plot(bin_centers_r, fit, colors[i_path], lw=2, linestyle=\"-\", alpha=0.75, label='Fitted curve')\n",
    "\n",
    "    plt.xlabel(r'$R$ [kpc]', fontdict={'fontsize' : 16})\n",
    "    plt.ylabel(r'$v_c$ [km/s]',  fontdict={'fontsize' : 16})\n",
    "    plt.xticks(fontsize=14, rotation=0)\n",
    "    plt.yticks(fontsize=14, rotation=0)\n",
    "\n",
    "    def numfmt(x, pos):\n",
    "            s = '{}'.format(x / 1000.0)\n",
    "            return s\n",
    "    fmt = ticker.FuncFormatter(numfmt)\n",
    "    ax.xaxis.set_major_formatter(fmt)\n",
    "\n",
    "    bin_edges_r = bin_setup['bin_edges'][0][0]\n",
    "    bin_edges_z = bin_setup['bin_edges'][1].T[0]\n",
    "\n",
    "    if(display_bin_edges):\n",
    "        # y_min = np.min(y_values)\n",
    "        # y_max = np.max(y_values)\n",
    "\n",
    "        ax.vlines(bin_edges_r, 205, 250, linestyles='dashed', alpha=0.5, colors='grey')\n",
    "        \n",
    "        x_ticks = np.round(bin_edges_r)\n",
    "        #x_ticks = np.insert(x_ticks, 0, 4300)\n",
    "        #x_ticks = np.insert(x_ticks, -1, 12700)\n",
    "        ax.set_xticks(x_ticks)\n",
    "\n",
    "\n",
    "    if(display_eilers):\n",
    "        for i, key in enumerate(other_curves_dict.keys()):\n",
    "            rc_data = other_curves_dict[key]\n",
    "            rc_data = rc_data[rc_data.R <= 16]\n",
    "\n",
    "            rc_y_values = np.array(rc_data.v_c)\n",
    "            rc_x_values = np.array(rc_data.R*1e3)\n",
    "            \n",
    "            if(key == 'Eilers et al. 2018'):\n",
    "                rc_y_error = [np.array(rc_data.sig_below), np.array(rc_data.sig_above)]\n",
    "            else:\n",
    "                rc_y_error = [np.array(rc_data.sig), np.array(rc_data.sig)]\n",
    "\n",
    "            plt.errorbar(rc_x_values, rc_y_values, \n",
    "                    yerr=rc_y_error, \n",
    "                    fmt='v',\n",
    "                    label=key)\n",
    "    plt.legend(prop={'size': 7})\n",
    " \n",
    "    r_range = r', $r \\in [{},{}]$ kpc'.format(np.round(bin_edges_r[0]/1000), np.round(bin_edges_r[-1]/1000))\n",
    "    z_range = r', $z \\in [{},{}]$ pc'.format(np.round(bin_edges_z[0]), np.round(bin_edges_z[-1]))\n",
    "    #plt.title('Rotation Curve' + r_range + z_range, fontsize=18, pad=12)\n",
    "\n",
    "    plt.xlim(4000, 16000)\n",
    "\n",
    "def load_bin_settings(folder_path, is_print=False):\n",
    "    with open(folder_path + '/run_settings.txt', 'rb') as handle:\n",
    "        data = handle.read()\n",
    "    bin_setup = pickle.loads(data)\n",
    "\n",
    "    if(is_print):\n",
    "        for i, key in enumerate(bin_setup.keys()):\n",
    "            print('{}. '.format(i+1) + key + '= {}'.format(bin_setup[key]))\n",
    "\n",
    "    return bin_setup"
   ]
  },
  {
   "cell_type": "markdown",
   "metadata": {},
   "source": [
    "---\n",
    "# Curves With Varying $R_0$"
   ]
  },
  {
   "cell_type": "code",
   "execution_count": null,
   "metadata": {},
   "outputs": [],
   "source": [
    "# R_0 = 7.8 kpc\n",
    "path1 = '/home/sven/repos/gaia-tools/out/mcmc_runs/2022-12-19-12-09-53_range0.3'\n",
    "\n",
    "# R_0 = 8.275 kpc\n",
    "path2 = '/home/sven/repos/gaia-tools/out/mcmc_runs/2022-12-16-18-18-52_range0.3'\n",
    "\n",
    "# R_0 = 8.5 kpc\n",
    "path3 = '/home/sven/repos/gaia-tools/out/mcmc_runs/2022-12-19-12-48-32_range0.3'\n",
    "\n",
    "paths=[path1, path2, path3]\n",
    "labels =[]\n",
    "\n",
    "samplers=[]\n",
    "for folder_path in paths:\n",
    "    samplers.append(folder_path+'/sampler_' + folder_path.split('/')[-1].split('_')[0] + '.h5')\n",
    "\n",
    "# Load run settings and print\n",
    "bin_setup = load_bin_settings(path3, True)\n",
    "bin_centers_r = bin_setup['bin_centers_r']\n",
    "bin_centers_z = bin_setup['bin_centers_z']\n"
   ]
  },
  {
   "cell_type": "code",
   "execution_count": null,
   "metadata": {},
   "outputs": [],
   "source": [
    "plot_walkers(samplers[1], 0)"
   ]
  },
  {
   "cell_type": "code",
   "execution_count": null,
   "metadata": {},
   "outputs": [],
   "source": [
    "extra_dims = [2, 2, 2]\n",
    "plot_rotation_curve(False, \n",
    "                    paths, \n",
    "                    ['DR3 Result ($R_0 = 7.8 kpc$)', \n",
    "                    'DR3 Result ($R_0 = 8.275 kpc$)', \n",
    "                    'DR3 Result ($R_0 = 8.5 kpc$)'],\n",
    "                    [4000, 12000, 4000],\n",
    "                    extra_dims=extra_dims,\n",
    "                    display_eilers=False,\n",
    "                    display_bin_edges=True)"
   ]
  },
  {
   "attachments": {},
   "cell_type": "markdown",
   "metadata": {},
   "source": [
    "## Tests With Small Sample (1%)"
   ]
  },
  {
   "cell_type": "code",
   "execution_count": null,
   "metadata": {},
   "outputs": [],
   "source": [
    "\n",
    "path1 = '/home/sven/repos/gaia-tools/out/mcmc_runs/2022-12-19-12-09-53_range0.3'\n",
    "\n",
    "paths=[path1]\n",
    "labels =[]\n",
    "\n",
    "samplers=[]\n",
    "for folder_path in paths:\n",
    "    samplers.append(folder_path+'/sampler_' + folder_path.split('/')[-1].split('_')[0] + '.h5')\n",
    "\n",
    "# Load run settings and print\n",
    "bin_setup = load_bin_settings(path3, True)\n",
    "bin_centers_r = bin_setup['bin_centers_r']\n",
    "bin_centers_z = bin_setup['bin_centers_z']"
   ]
  },
  {
   "cell_type": "code",
   "execution_count": null,
   "metadata": {},
   "outputs": [],
   "source": [
    "\n",
    "path1 = '/home/sven/repos/gaia-tools/out/mcmc_runs/2023-01-02-15-50-22_48'\n",
    "\n",
    "paths=[path1]\n",
    "labels =[]\n",
    "\n",
    "samplers=[]\n",
    "for folder_path in paths:\n",
    "    samplers.append(folder_path+'/sampler_' + folder_path.split('/')[-1].split('_')[0] + '.h5')\n",
    "\n",
    "\n",
    "reader = emcee.backends.HDFBackend(samplers[0], read_only=True)\n",
    "samples_data = reader.get_chain(discard = 2000)\n",
    "print(\"Sampler shape: {}\".format(samples_data.shape))\n",
    "\n",
    "fig,ax = plt.subplots(figsize=(10,10))\n",
    " \n",
    "ax.plot(samples_data[:, :, -2], \"k\", alpha=0.3)\n",
    "ax.ticklabel_format(useOffset=False)\n",
    "plt.show()"
   ]
  },
  {
   "cell_type": "code",
   "execution_count": null,
   "metadata": {},
   "outputs": [],
   "source": [
    "plot_walkers(samplers[0], 0)"
   ]
  },
  {
   "cell_type": "code",
   "execution_count": null,
   "metadata": {},
   "outputs": [],
   "source": [
    "\n",
    "path1 = '/home/sven/repos/gaia-tools/out/mcmc_runs/2023-01-02-23-50-30_48'\n",
    "\n",
    "paths=[path1]\n",
    "labels =[]\n",
    "\n",
    "samplers=[]\n",
    "for folder_path in paths:\n",
    "    samplers.append(folder_path+'/sampler_' + folder_path.split('/')[-1].split('_')[0] + '.h5')\n",
    "\n",
    "\n",
    "\n",
    "reader = emcee.backends.HDFBackend(samplers[0], read_only=True)\n",
    "samples_data = reader.get_chain(discard = 2000)\n",
    "print(\"Sampler shape: {}\".format(samples_data.shape))\n",
    "\n",
    "fig,ax = plt.subplots(figsize=(10,10))\n",
    " \n",
    "ax.plot(samples_data[:, :, 1], \"k\", alpha=0.3)\n",
    "ax.ticklabel_format(useOffset=False)\n",
    "plt.show()"
   ]
  },
  {
   "cell_type": "code",
   "execution_count": null,
   "metadata": {},
   "outputs": [],
   "source": [
    "plot_walkers(samplers[0], 3)"
   ]
  },
  {
   "attachments": {},
   "cell_type": "markdown",
   "metadata": {},
   "source": [
    "# Tests With 10% of Data"
   ]
  },
  {
   "cell_type": "code",
   "execution_count": null,
   "metadata": {},
   "outputs": [],
   "source": [
    "# Fitting only h-params - CPU\n",
    "path1 = '/home/sven/repos/gaia-tools/out/mcmc_runs/2023-01-03-15-24-26_48'\n",
    "\n",
    "# Fitting only h-params - GPU\n",
    "path2 = '/home/sven/repos/gaia-tools/out/mcmc_runs/2023-01-03-15-40-35_48'\n",
    "\n",
    "# Fitting all params - GPU\n",
    "path3 = '/home/sven/repos/gaia-tools/out/mcmc_runs/2023-01-03-15-25-27_48'\n",
    "\n",
    "# R_0 = 7.8 kpc - CPU run\n",
    "path4 = '/home/sven/repos/gaia-tools/out/mcmc_runs/2022-12-19-12-09-53_range0.3'\n",
    "\n",
    "# Fitting only h-params - CPU - after code refacto\n",
    "path5 = ''\n",
    "\n",
    "paths=[path1, path2, path3, path4]\n",
    "labels =[]\n",
    "\n",
    "samplers=[]\n",
    "for folder_path in paths:\n",
    "    samplers.append(folder_path+'/sampler_' + folder_path.split('/')[-1].split('_')[0] + '.h5')\n",
    "\n",
    "# Load run settings and print\n",
    "bin_setup = load_bin_settings(path1, True)\n",
    "bin_centers_r = bin_setup['bin_centers_r']\n",
    "bin_centers_z = bin_setup['bin_centers_z']"
   ]
  },
  {
   "cell_type": "code",
   "execution_count": null,
   "metadata": {},
   "outputs": [],
   "source": [
    "# Comparing results when not fitting R0 for CPU and GPU cases\n",
    "\n",
    "cpu_run = samplers[0]\n",
    "gpu_run = samplers[1]\n",
    "compare_mcmc_runs((cpu_run, gpu_run), 5, 0)"
   ]
  },
  {
   "cell_type": "code",
   "execution_count": null,
   "metadata": {},
   "outputs": [],
   "source": [
    "extra_dim_labels = ['sig_d', 'sig_vr']\n",
    "plot_walkers(samplers[0], 0, extra_dim_labels)"
   ]
  },
  {
   "cell_type": "code",
   "execution_count": null,
   "metadata": {},
   "outputs": [],
   "source": [
    "extra_dim_labels = ['sig_d', 'sig_vr']\n",
    "plot_walkers(samplers[1], 0, extra_dim_labels)"
   ]
  },
  {
   "cell_type": "code",
   "execution_count": null,
   "metadata": {},
   "outputs": [],
   "source": [
    "extra_dim_labels = ['sig_d', 'sig_vr', 'R_0']\n",
    "plot_walkers(samplers[2], 0, extra_dim_labels)"
   ]
  },
  {
   "cell_type": "code",
   "execution_count": null,
   "metadata": {},
   "outputs": [],
   "source": [
    "# Comparing results of:\n",
    "#   1) when not fitting R0 for CPU \n",
    "#   2) when fitting for R0 using GPUS\n",
    "\n",
    "cpu_run = samplers[0]\n",
    "gpu_run_all_fit = samplers[2]\n",
    "compare_mcmc_runs((cpu_run, gpu_run_all_fit), bin_idx  = 0, discard=0)"
   ]
  },
  {
   "cell_type": "code",
   "execution_count": null,
   "metadata": {},
   "outputs": [],
   "source": [
    "extra_dims = [2, 2, 3]\n",
    "plot_rotation_curve(False, \n",
    "                    paths[0:3], \n",
    "                    ['DR3 (10%) - not fitting $R_0$ - CPU', \n",
    "                    'DR3 (10%) - not fitting $R_0$ - GPU',\n",
    "                    'DR3 (10%) - fitting $R_0$ - GPUs'],\n",
    "                    [4000, 4000, 4000],\n",
    "                    extra_dims=extra_dims,\n",
    "                    display_eilers=False,\n",
    "                    display_bin_edges=True)\n",
    "\n"
   ]
  },
  {
   "cell_type": "code",
   "execution_count": null,
   "metadata": {},
   "outputs": [],
   "source": [
    "extra_dims = [2, 3, 2]\n",
    "plot_rotation_curve(False, \n",
    "                    paths[1:], \n",
    "                    [ 'DR3 (10%) - not fitting $R_0$ - GPU',\n",
    "                    'DR3 (10%) - fitting $R_0$ - GPUs',\n",
    "                    'DR3 - $R_0$ = 7.8 kpc - CPU'],\n",
    "                    [4000, 4000, 4000],\n",
    "                    extra_dims=extra_dims,\n",
    "                    display_eilers=False,\n",
    "                    display_bin_edges=True)\n",
    "\n"
   ]
  },
  {
   "attachments": {},
   "cell_type": "markdown",
   "metadata": {},
   "source": [
    "# Comparison With Symmetric Prior"
   ]
  },
  {
   "cell_type": "code",
   "execution_count": null,
   "metadata": {},
   "outputs": [],
   "source": [
    "# Fitting only h-params - CPU\n",
    "path1 = '/home/sven/repos/gaia-tools/out/mcmc_runs/2023-01-03-15-24-26_48'\n",
    "\n",
    "# Fitting all params - GPU\n",
    "path2 = '/home/sven/repos/gaia-tools/out/mcmc_runs/2023-01-03-15-25-27_48'\n",
    "\n",
    "# Symmetric Prior\n",
    "path3 = '/home/sven/repos/gaia-tools/out/mcmc_runs/2023-01-04-17-25-11_48'\n",
    "\n",
    "paths=[path1, path2, path3]\n",
    "labels =[]\n",
    "\n",
    "samplers=[]\n",
    "for folder_path in paths:\n",
    "    samplers.append(folder_path+'/sampler_' + folder_path.split('/')[-1].split('_')[0] + '.h5')\n",
    "\n",
    "# Load run settings and print\n",
    "bin_setup = load_bin_settings(path1, True)\n",
    "bin_centers_r = bin_setup['bin_centers_r']\n",
    "bin_centers_z = bin_setup['bin_centers_z']"
   ]
  },
  {
   "cell_type": "code",
   "execution_count": null,
   "metadata": {},
   "outputs": [],
   "source": [
    "# Comparing results of:\n",
    "#   1) Non-symmetric\n",
    "#   2) Symmetric prior\n",
    "\n",
    "gpu_non = samplers[1]\n",
    "gpu_sym = samplers[2]\n",
    "compare_mcmc_runs((gpu_non, gpu_sym), bin_idx  = 0, discard=0)"
   ]
  },
  {
   "cell_type": "code",
   "execution_count": null,
   "metadata": {},
   "outputs": [],
   "source": [
    "# Comparing results of:\n",
    "#   1) Not fitting R0\n",
    "#   2) Symmetric prior\n",
    "\n",
    "gpu_nofit = samplers[0]\n",
    "gpu_sym = samplers[2]\n",
    "compare_mcmc_runs((gpu_nofit, gpu_sym), bin_idx  = 0, discard=0)"
   ]
  },
  {
   "cell_type": "code",
   "execution_count": null,
   "metadata": {},
   "outputs": [],
   "source": [
    "extra_dims = [2, 3, 3]\n",
    "plot_rotation_curve(False, \n",
    "                    paths[:], \n",
    "                    [ 'DR3 (10%) - not fitting $R_0$ - GPU',\n",
    "                    'DR3 (10%) - fitting $R_0$ - GPUs',\n",
    "                    'DR3 (10%) - fitting $R_0$ symmetric prior - GPU'],\n",
    "                    [4000, 4000, 3000],\n",
    "                    extra_dims=extra_dims,\n",
    "                    display_eilers=False,\n",
    "                    display_bin_edges=True)\n"
   ]
  },
  {
   "attachments": {},
   "cell_type": "markdown",
   "metadata": {},
   "source": [
    "# Binning Scheme Comparisons"
   ]
  },
  {
   "cell_type": "code",
   "execution_count": null,
   "metadata": {},
   "outputs": [],
   "source": [
    "# New Binning 1% Data - GPU\n",
    "path1 = '/home/svenpoder/repos/gaia-tools/out/mcmc_runs/2023-01-05-15-12-33_48'\n",
    "\n",
    "# New Binning 10% Data - GPU\n",
    "path2 = '/home/svenpoder/repos/gaia-tools/out/mcmc_runs/2023-01-05-16-01-14_48'\n",
    "\n",
    "# Old Binning 10% Data - GPU\n",
    "path3 = '/home/svenpoder/repos/gaia-tools/out/mcmc_runs/2023-01-04-17-25-11_48'\n",
    "\n",
    "# New Binning, No R0 Fitting\n",
    "path4 = '/home/svenpoder/repos/gaia-tools/out/mcmc_runs/2023-01-06-11-46-41_48_H_FITTING_TEST'\n",
    "\n",
    "# Old Binning, No R0 Fitting\n",
    "path5 = '/home/svenpoder/repos/gaia-tools/out/mcmc_runs/2023-01-06-13-13-26_48_OLD_BINNING_H_FIT'\n",
    "\n",
    "# # New Binning, No R0 Fitting, BIN FIXED\n",
    "path6 = '/home/svenpoder/repos/gaia-tools/out/mcmc_runs/2023-01-06-14-13-30_48_OLD_BINNING_H_FIT_FIXBIN'\n",
    "\n",
    "paths=[path1, path2, path3, path4, path5, path6]\n",
    "labels =[]\n",
    "\n",
    "samplers=[]\n",
    "for folder_path in paths:\\\n",
    "    samplers.append(folder_path+'/sampler_' + folder_path.split('/')[-1].split('_')[0] + '.h5')\n",
    "\n",
    "# Load run settings and print\n",
    "bin_setup = load_bin_settings(path2, True)\n",
    "bin_centers_r = bin_setup['bin_centers_r']\n",
    "bin_centers_z = bin_setup['bin_centers_z']"
   ]
  },
  {
   "cell_type": "code",
   "execution_count": null,
   "metadata": {},
   "outputs": [],
   "source": [
    "plot_walkers(samplers[-1], 0)"
   ]
  },
  {
   "cell_type": "code",
   "execution_count": null,
   "metadata": {},
   "outputs": [],
   "source": [
    "extra_dims = [3, 3, 3]\n",
    "plot_rotation_curve(False, \n",
    "                    paths[:], \n",
    "                    [ 'DR3 (1%) - New Binning - GPU',\n",
    "                     'DR3 (10%) - New Binning - GPU',\n",
    "                    'DR3 (10%) - Baseline Symmetric Prior (Old binning)'],\n",
    "                    [2000, 2500, 4000],\n",
    "                    extra_dims=extra_dims,\n",
    "                    display_eilers=False,\n",
    "                    display_bin_edges=True)"
   ]
  },
  {
   "cell_type": "code",
   "execution_count": null,
   "metadata": {},
   "outputs": [],
   "source": [
    "extra_dims = [3, 3, 2]\n",
    "plot_rotation_curve(False, \n",
    "                    [paths[1], paths[2], paths[3]], \n",
    "                    [\n",
    "                     'DR3 (10%) - New Binning - GPU',\n",
    "                    'DR3 (10%) - Baseline Symmetric Prior (Old binning)',\n",
    "                    'No Fit, New bin'],\n",
    "                    [2500, 4000, 2000],\n",
    "                    extra_dims=extra_dims,\n",
    "                    display_eilers=False,\n",
    "                    display_bin_edges=True)"
   ]
  },
  {
   "cell_type": "code",
   "execution_count": null,
   "metadata": {},
   "outputs": [],
   "source": [
    "extra_dims = [3, 3, 2, 2, 2]\n",
    "plot_rotation_curve(False, \n",
    "                    [paths[1], paths[2], paths[3], paths[4], paths[5]], \n",
    "                    [\n",
    "                    'DR3 (10%) - R0 Fitting (New binning) - GPU',\n",
    "                    'DR3 (10%) - R0 Fitting (Old binning) - GPU',\n",
    "                    'DR3 (10%) - No R0 Fitting (New binning) - CPU',\n",
    "                    'DR3 (10%) - No R0 Fitting (Old binning) - CPU',\n",
    "                    'DR3 (10%) - No R0 Fitting (New binning), minor fix - CPU'],\n",
    "                    [2500, 4000, 2000, 2000, 3500],\n",
    "                    extra_dims=extra_dims,\n",
    "                    display_eilers=False,\n",
    "                    display_bin_edges=True)"
   ]
  },
  {
   "cell_type": "code",
   "execution_count": null,
   "metadata": {},
   "outputs": [],
   "source": [
    "plot_walkers(samplers[-1], 0)"
   ]
  },
  {
   "attachments": {},
   "cell_type": "markdown",
   "metadata": {},
   "source": [
    "## New binning Vs Old Binning"
   ]
  },
  {
   "cell_type": "code",
   "execution_count": null,
   "metadata": {},
   "outputs": [],
   "source": [
    "# Fitting R0, New Binning, 10% Data - GPU\n",
    "path1 = '/home/sven/repos/gaia-tools/out/mcmc_runs/2023-01-06-15-16-50_48_10per_data'\n",
    "\n",
    "# Fitting R0, Old Binning, 10% Data - GPU\n",
    "path2 = '/home/sven/repos/gaia-tools/out/mcmc_runs/2023-01-04-17-25-11_48'\n",
    "\n",
    "paths=[path1, path2]\n",
    "labels =[]\n",
    "\n",
    "samplers=[]\n",
    "for folder_path in paths:\\\n",
    "    samplers.append(folder_path+'/sampler_' + folder_path.split('/')[-1].split('_')[0] + '.h5')\n",
    "\n",
    "# Load run settings and print\n",
    "bin_setup = load_bin_settings(path1, True)\n",
    "bin_centers_r = bin_setup['bin_centers_r']\n",
    "bin_centers_z = bin_setup['bin_centers_z']"
   ]
  },
  {
   "cell_type": "code",
   "execution_count": null,
   "metadata": {},
   "outputs": [],
   "source": [
    "plot_walkers(samplers[0], 0)"
   ]
  },
  {
   "cell_type": "code",
   "execution_count": null,
   "metadata": {},
   "outputs": [],
   "source": [
    "extra_dims = [3, 3]\n",
    "plot_rotation_curve(False, \n",
    "                    [paths[0],paths[1]], \n",
    "                    [\n",
    "                    'DR3 (10%) - R0 Fitting (New binning) - GPU',\n",
    "                    'DR3 (10%) - R0 Fitting (Old binning) - GPU'\n",
    "                    ],\n",
    "                    [3000, 4000],\n",
    "                    extra_dims=extra_dims,\n",
    "                    display_eilers=False,\n",
    "                    display_bin_edges=True)\n"
   ]
  },
  {
   "attachments": {},
   "cell_type": "markdown",
   "metadata": {},
   "source": [
    "# Full Run Results"
   ]
  },
  {
   "cell_type": "code",
   "execution_count": null,
   "metadata": {},
   "outputs": [],
   "source": [
    "# Fitting R0, New Binning, 100% Data - GPU\n",
    "path1 = '/home/sven/repos/gaia-tools/out/mcmc_runs/2023-01-09-21-42-37_48_full_run'\n",
    "\n",
    "# Fitting R0, New Binning, 10% Data - GPU\n",
    "path2 = '/home/sven/repos/gaia-tools/out/mcmc_runs/2023-01-06-15-16-50_48_10per_data'\n",
    "\n",
    "# Fixed R0 and V0, fitting h-params, 100% Data\n",
    "path3 = '/home/sven/repos/gaia-tools/out/mcmc_runs/2023-01-23-12-18-45_48_EILERS_RUN'\n",
    "\n",
    "paths=[path1, path3]\n",
    "labels =[]\n",
    "\n",
    "samplers=[]\n",
    "for folder_path in paths:\\\n",
    "    samplers.append(folder_path+'/sampler_' + folder_path.split('/')[-1].split('_')[0] + '.h5')\n",
    "\n",
    "# Load run settings and print\n",
    "bin_setup = load_bin_settings(path1, True)\n",
    "bin_centers_r = bin_setup['bin_centers_r']\n",
    "bin_centers_z = bin_setup['bin_centers_z']"
   ]
  },
  {
   "cell_type": "code",
   "execution_count": null,
   "metadata": {},
   "outputs": [],
   "source": [
    "plot_walkers(samplers[1],0)"
   ]
  },
  {
   "cell_type": "code",
   "execution_count": null,
   "metadata": {},
   "outputs": [],
   "source": [
    "extra_dims = [3]\n",
    "plot_rotation_curve(False, \n",
    "                    [paths[0]], \n",
    "                    [\n",
    "                    'DR3 - Full Run'],\n",
    "                    [3000, 300],\n",
    "                    extra_dims=extra_dims,\n",
    "                    display_eilers=True,\n",
    "                    display_bin_edges=True)\n"
   ]
  },
  {
   "cell_type": "code",
   "execution_count": null,
   "metadata": {},
   "outputs": [],
   "source": [
    "plot_corner(samplers[1], 3000)"
   ]
  },
  {
   "attachments": {},
   "cell_type": "markdown",
   "metadata": {},
   "source": [
    "# Walker Investigation"
   ]
  },
  {
   "cell_type": "code",
   "execution_count": null,
   "metadata": {},
   "outputs": [],
   "source": [
    "# Fitting R0, New Binning, '10p_run_noise_test'\n",
    "path1 = '/home/sven/repos/gaia-tools/out/mcmc_runs/2023-01-15-14-08-56_48_10p_run_noise_test'\n",
    "\n",
    "\n",
    "paths=[path1]\n",
    "labels =[]\n",
    "\n",
    "samplers=[]\n",
    "for folder_path in paths:\\\n",
    "    samplers.append(folder_path+'/sampler_' + folder_path.split('/')[-1].split('_')[0] + '.h5')\n",
    "\n",
    "# Load run settings and print\n",
    "bin_setup = load_bin_settings(path1, True)\n",
    "bin_centers_r = bin_setup['bin_centers_r']\n",
    "bin_centers_z = bin_setup['bin_centers_z']"
   ]
  },
  {
   "cell_type": "code",
   "execution_count": null,
   "metadata": {},
   "outputs": [],
   "source": [
    "plot_walkers(samplers[0],0)"
   ]
  },
  {
   "cell_type": "code",
   "execution_count": null,
   "metadata": {},
   "outputs": [],
   "source": [
    "plot_corner(samplers[0], 2000)"
   ]
  },
  {
   "cell_type": "code",
   "execution_count": null,
   "metadata": {},
   "outputs": [],
   "source": [
    "# Comparing results of:\n",
    "#   1) Not fitting R0\n",
    "#   2) Symmetric prior\n",
    "\n",
    "gpu_nofit = samplers[0]\n",
    "gpu_sym = samplers[0]\n",
    "compare_mcmc_runs((gpu_nofit, gpu_sym), bin_idx  = 4, discard=2000)"
   ]
  },
  {
   "cell_type": "code",
   "execution_count": null,
   "metadata": {},
   "outputs": [],
   "source": []
  }
 ],
 "metadata": {
  "kernelspec": {
   "display_name": "dspn_env",
   "language": "python",
   "name": "python3"
  },
  "language_info": {
   "codemirror_mode": {
    "name": "ipython",
    "version": 3
   },
   "file_extension": ".py",
   "mimetype": "text/x-python",
   "name": "python",
   "nbconvert_exporter": "python",
   "pygments_lexer": "ipython3",
   "version": "3.6.8 (default, Nov 16 2020, 16:55:22) \n[GCC 4.8.5 20150623 (Red Hat 4.8.5-44)]"
  },
  "orig_nbformat": 4,
  "vscode": {
   "interpreter": {
    "hash": "af1399650a6de459a9a764ca6f3d56f5c10db3565673a08cfbc83104c38a1a89"
   }
  }
 },
 "nbformat": 4,
 "nbformat_minor": 2
}
