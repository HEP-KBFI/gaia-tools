{
 "cells": [
  {
   "cell_type": "markdown",
   "metadata": {},
   "source": [
    "## Fouesnau Catalog Plots\n",
    "\n",
    "* [Catalog Plots](#section1)\n",
    "* [Join Fouesneau, Gaia RV and 2MASS data](#section2)\n",
    "* [Checks between Fouesnau and Crossmatched 2MASS](#section3)\n",
    "* [Sample Histograms](#section4)\n",
    "* [Sample Cuts](#section5)\n",
    "* [Gaia photometry](##section6)\n",
    "* [Fitting Across ROI](#section7)\n",
    "---"
   ]
  },
  {
   "cell_type": "code",
   "execution_count": null,
   "metadata": {},
   "outputs": [],
   "source": [
    "from astroquery.gaia import Gaia\n",
    "import warnings\n",
    "\n",
    "# Comment this out if you want to see warnings\n",
    "warnings.filterwarnings('ignore')\n",
    "import astropy\n",
    "import requests\n",
    "import pyvo as vo\n",
    "import numpy as np\n",
    "from io import StringIO\n",
    "import matplotlib.pyplot as plt\n",
    "import matplotlib as mpl\n",
    "import matplotlib.ticker as ticker\n",
    "from matplotlib import colors\n",
    "from mpl_toolkits.axes_grid1.inset_locator import inset_axes\n",
    "import pandas as pd\n",
    "import glob\n",
    "import os\n",
    "import requests\n",
    "import sys\n",
    "sys.path.append(\"../gaia_tools/\")\n",
    "import data_analysis\n",
    "import covariance_generation as cov\n",
    "from import_functions import import_data\n",
    "import vaex"
   ]
  },
  {
   "cell_type": "code",
   "execution_count": null,
   "metadata": {},
   "outputs": [],
   "source": [
    "plt.rc('text', usetex=False)\n",
    "\n",
    "def scatter_hist(x, y, ax, ax_histx, ax_histy, xlim_min, xlim_max, ylim_min, ylim_max):\n",
    "    # no labels\n",
    "    ax_histx.tick_params(axis=\"x\", labelbottom=False)\n",
    "    ax_histy.tick_params(axis=\"y\", labelleft=False)\n",
    "\n",
    "    range = [[xlim_min, xlim_max], [ylim_min, ylim_max]]\n",
    "    h = ax.hist2d(x, y, range=range, bins=250, cmin=50, norm=colors.PowerNorm(0.5), zorder=0.5)\n",
    "    ax.scatter(x, y, alpha=0.05, s=1, color='k', zorder=0)\n",
    "    fmt = mpl.ticker.ScalarFormatter(useMathText=True)\n",
    "    fmt.set_powerlimits((0, 0))\n",
    "\n",
    "    axins = inset_axes(ax,\n",
    "                    width=\"100%\",  \n",
    "                    height=\"3%\",\n",
    "                    loc='lower center',\n",
    "                    borderpad=-7)\n",
    "    cb = fig.colorbar(h[3], cax=axins, ax=ax, pad=0.02, format=fmt, orientation='horizontal')\n",
    "\n",
    "   \n",
    "\n",
    "    # the scatter plot:\n",
    "    #ax.scatter(x, y, alpha=0.1, s=0.5)\n",
    "    ax.set_xlim(xlim_min, xlim_max)\n",
    "    ax.set_ylim(ylim_min, ylim_max)\n",
    "\n",
    "    ax.set_xlabel(r'$J - K_s$ [mag]', fontdict={'fontsize' : 14})\n",
    "    ax.set_ylabel(r'$H$ [mag]',  fontdict={'fontsize' : 14})\n",
    "\n",
    "    ax.set_yticks(np.arange(ylim_min, ylim_max, 2))\n",
    "\n",
    "    # now determine nice limits by hand:\n",
    "    binwidth = 0.25\n",
    "    xymax = max(np.max(np.abs(x)), np.max(np.abs(y)))\n",
    "    lim = (int(xymax/binwidth) + 1) * binwidth\n",
    "\n",
    "    bins = np.arange(-lim, lim + binwidth, binwidth)\n",
    "    bins = 40\n",
    "    ax_histx.hist(x, bins=3*bins, histtype='step', linewidth = 2, density=True)\n",
    "    ax_histy.hist(y, bins=bins, histtype='step', linewidth = 2, orientation='horizontal', density=True)\n",
    "\n",
    "    ax_histx.set_yticks([])\n",
    "    ax_histy.set_xticks([])\n",
    "\n",
    "    ax.vlines([0.5, 1.1], ylim_min, ylim_max, linestyles='dashed', alpha=0.5, colors='orange')\n",
    "    ax.hlines([-1.5, -1.5 + 0.04, -1.5 - 0.04], xlim_min, xlim_max, linestyles='dashed', alpha=0.25,  colors='r', label=r'H=-1.5')\n",
    "    ax.hlines([-1.5 + 0.04, -1.5 - 0.04], xlim_min, xlim_max, linestyles='dotted', alpha=0.25,  colors='r')"
   ]
  },
  {
   "cell_type": "code",
   "execution_count": null,
   "metadata": {},
   "outputs": [],
   "source": [
    "# Only need these columns \n",
    "columns = ['source_id', 'J_p50', 'Ks_p50', 'H_p50', 'J_sigma', 'Ks_sigma', 'H_sigma', 'parallax', 'parallax_sigma']\n",
    "\n",
    "df=vaex.open('/scratch/sven/gaia_downloads/catalog-20210311-goodphot_lite_nodup.vaex.hdf5')\n",
    "df['source_id'] = df.source_id.astype('int64')\n",
    "df.shape\n",
    "\n",
    "df = df[columns]\n",
    "print(df.shape)"
   ]
  },
  {
   "cell_type": "markdown",
   "metadata": {},
   "source": [
    "## Catalog Plots <a class=\"anchor\" id=\"section1\"></a>"
   ]
  },
  {
   "cell_type": "markdown",
   "metadata": {},
   "source": [
    "### Uncorrected vs extinction corrected 2MASS"
   ]
  },
  {
   "cell_type": "code",
   "execution_count": null,
   "metadata": {},
   "outputs": [],
   "source": [
    "from matplotlib import colors\n",
    "plt.rc('text', usetex=False)\n",
    "\n",
    "filters_fouesnau = ['J', 'H', 'Ks']\n",
    "filters_tmass = ['j_m', 'h_m', 'k_m']\n",
    "\n",
    "fig, axs = plt.subplots(nrows=1, ncols=3,figsize = (24,8))\n",
    "\n",
    "for i, filter in enumerate(filters_tmass):\n",
    "\n",
    "    x_values = df[filters_fouesnau[i]].values\n",
    "    y_values = df[filters_fouesnau[i]+'_p50'].values\n",
    "\n",
    "    range = [[-10, 20], [-10, 20]]\n",
    "\n",
    "    h = axs[i].hist2d(x_values, y_values, range=range, bins=250, cmin=50, norm=colors.PowerNorm(0.5), zorder=0.5)\n",
    "    axs[i].scatter(x_values, y_values, alpha=0.05, s=1, color='k', zorder=0)\n",
    "\n",
    "    fmt = mpl.ticker.ScalarFormatter(useMathText=True)\n",
    "    fmt.set_powerlimits((0, 0))\n",
    "    cb = fig.colorbar(h[3], ax=axs[i], pad=0.02, format=fmt)\n",
    "\n",
    "    x_line = np.linspace(-10, 20, 11)\n",
    "    y_line = np.linspace(-10, 20, 11)\n",
    "\n",
    "    axs[i].plot(x_line, y_line)\n",
    "\n",
    "    axs[i].set_xlabel('{} (TMASS)'.format(filters_fouesnau[i]), fontdict={'fontsize': 15}, labelpad=10)\n",
    "    axs[i].set_ylabel('{} (Fouesnau)'.format(filters_fouesnau[i]), fontdict={'fontsize': 15}, labelpad=0)\n",
    "\n",
    "    axs[i].tick_params(axis='both', which='major', labelsize=15)\n",
    "\n",
    "    axs[i].set_xticks(x_line)\n",
    "    axs[i].set_yticks(y_line)\n",
    "\n",
    "    axs[i].set_title('Check for filter {} \\n(Fouesnau extinction correction)'.format(filters_fouesnau[i]), fontdict={'fontsize': 15})\n",
    "\n",
    "fig_name = 'No_correction_2MASS_VS_extinction_corrected_2MASS'\n",
    "plt.savefig('/home/sven/repos/gaia-tools/out/fouesnau_plots/' + fig_name +'.png',bbox_inches='tight',  dpi=300, facecolor='white')"
   ]
  },
  {
   "cell_type": "markdown",
   "metadata": {},
   "source": [
    "### Data distribution in Fouseneau catalog"
   ]
  },
  {
   "cell_type": "code",
   "execution_count": null,
   "metadata": {},
   "outputs": [],
   "source": [
    "filters_fouesnau = ['J_p50', 'H_p50', 'Ks_p50']\n",
    "filters_TMASS = ['J', 'H', 'Ks']\n",
    "filters = filters_fouesnau+filters_TMASS\n",
    "\n",
    "row_titles = ['Fouesnau (Extinction corrected)', '2MASS (No correction)']\n",
    "\n",
    "fig, axs = plt.subplots(nrows=2, ncols=3,figsize = (24,16))\n",
    "\n",
    "for ax,col in zip(axs[0], filters_TMASS):\n",
    "    ax.set_title(col, fontdict={'fontsize': 20}, pad=20, fontweight='bold')\n",
    "\n",
    "for ax,row in zip(axs[:,0], row_titles):\n",
    "    ax.set_ylabel(row, fontdict={'fontsize': 20}, labelpad=15)\n",
    "\n",
    "for i, ax in enumerate(axs.flat):\n",
    "\n",
    "    x_values = df[filters[i]].values\n",
    "    ax.hist(x_values, bins=30, histtype='step', density=False, lw=3)\n",
    "    ax.set_xlabel('{}'.format(filters[i]), fontdict={'fontsize': 17}, labelpad=15)\n",
    "    ax.set_xticks(np.linspace(-10, 14, 5))\n",
    "    ax.tick_params(axis='both', which='major', labelsize=15)\n",
    "\n",
    "fig_name = 'filter_distributions'\n",
    "plt.savefig('/home/sven/repos/gaia-tools/out/fouesnau_plots/' + fig_name +'.png', bbox_inches='tight', dpi=300, facecolor='white')\n"
   ]
  },
  {
   "cell_type": "markdown",
   "metadata": {},
   "source": [
    "----"
   ]
  },
  {
   "cell_type": "markdown",
   "metadata": {},
   "source": [
    "---"
   ]
  },
  {
   "cell_type": "markdown",
   "metadata": {},
   "source": [
    "## Join Fouesneau, Gaia RV and 2MASS data <a class=\"anchor\" id=\"section2\"></a>   "
   ]
  },
  {
   "cell_type": "code",
   "execution_count": null,
   "metadata": {},
   "outputs": [],
   "source": [
    "# Import 2MASS data to data frame\n",
    "tmass_data_path = '/scratch/sven/gaia_downloads/crossmatched_tmass_data.csv'\n",
    "crossmatched_tmass_data = vaex.from_csv(tmass_data_path, convert=True)"
   ]
  },
  {
   "cell_type": "code",
   "execution_count": null,
   "metadata": {},
   "outputs": [],
   "source": [
    "crossmatched_tmass_data = crossmatched_tmass_data.join(df, how='inner', \n",
    "                            left_on='source_id', \n",
    "                            right_on='source_id',\n",
    "                            lsuffix='_tmass_xmass',\n",
    "                            rsuffix='_fouesnau')"
   ]
  },
  {
   "cell_type": "code",
   "execution_count": null,
   "metadata": {},
   "outputs": [],
   "source": [
    "# Load RV sample data and \n",
    "\n",
    "gaia_rv_data = vaex.from_csv('/scratch/sven/gaia_downloads/bayesian_distance_rv_stars.csv', convert=True)\n",
    "crossmatched_tmass_data = crossmatched_tmass_data.join(gaia_rv_data, how='inner', \n",
    "                            left_on='source_id_tmass_xmass', \n",
    "                            right_on='source_id',\n",
    "                            lsuffix='_tmass_xmass',\n",
    "                            rsuffix='_rv_data')"
   ]
  },
  {
   "cell_type": "markdown",
   "metadata": {},
   "source": [
    "## Checks between Fouesnau and Crossmatched 2MASS <a class=\"anchor\" id=\"section3\"></a>"
   ]
  },
  {
   "cell_type": "markdown",
   "metadata": {},
   "source": [
    "### Sanity check between original JHKs values"
   ]
  },
  {
   "cell_type": "code",
   "execution_count": null,
   "metadata": {},
   "outputs": [],
   "source": [
    "filters_fouesnau = ['J', 'H', 'Ks']\n",
    "filters_tmass = ['j_m', 'h_m', 'k_m']\n",
    "\n",
    "fig, axs = plt.subplots(nrows=1, ncols=3,figsize = (24,8))\n",
    "\n",
    "for i, filter in enumerate(filters_tmass):\n",
    "\n",
    "    x_values = crossmatched_tmass_data[filters_tmass[i]].values\n",
    "    y_values = crossmatched_tmass_data[filters_fouesnau[i]].values\n",
    "\n",
    "    axs[i].scatter(x_values, y_values, alpha=0.3, s = 0.7)\n",
    "    axs[i].set_xlabel('{} (TMASS)'.format(filters_fouesnau[i]), fontdict={'fontsize': 15}, labelpad=10)\n",
    "    axs[i].set_ylabel('{} (Fouesnau)'.format(filters_fouesnau[i]), fontdict={'fontsize': 15}, labelpad=10)\n",
    "\n",
    "    axs[i].set_title('Check for filter {} \\n(No extinction correction)'.format(filters_fouesnau[i]), fontdict={'fontsize': 15})\n",
    "\n",
    "fig_name = 'sanity_check_no_correction'\n",
    "plt.savefig('/home/sven/repos/gaia-tools/out/fouesnau_plots/' + fig_name +'.png', dpi=300, facecolor='white')\n"
   ]
  },
  {
   "cell_type": "markdown",
   "metadata": {},
   "source": [
    "### Distance modulus VS Distance"
   ]
  },
  {
   "cell_type": "code",
   "execution_count": null,
   "metadata": {},
   "outputs": [],
   "source": [
    "from matplotlib import colors\n",
    "plt.rc('text', usetex=False)\n",
    "\n",
    "filters_fouesnau = ['J', 'H', 'Ks']\n",
    "\n",
    "fig, axs = plt.subplots(nrows=1, ncols=3, figsize = (24,8))\n",
    "\n",
    "for i, filter in enumerate(filters_fouesnau):\n",
    "\n",
    "    x_values = crossmatched_tmass_data.r_est.values\n",
    "    y_values = crossmatched_tmass_data[filters_fouesnau[i]].values - crossmatched_tmass_data[filters_fouesnau[i]+'_p50'].values\n",
    "\n",
    "    h = axs[i].hist2d(x_values, y_values, bins=200, cmin=10, norm=colors.LogNorm(0.5), zorder=0.5)\n",
    "    axs[i].scatter(x_values, y_values, alpha=0.05, s=1, color='k', zorder=0)\n",
    "    cb = fig.colorbar(h[3], ax=axs[i], pad=0.02)\n",
    "\n",
    "    # Theoretical\n",
    "    x_line = np.linspace(0, 15000, 31)\n",
    "    axs[i].plot(x_line, 5*np.log10(x_line) - 5, \n",
    "                linestyle='dashed', \n",
    "                lw=1.5,\n",
    "                alpha=0.5, \n",
    "                zorder=0.6, \n",
    "                color='black',\n",
    "                label='$m - M = 5log_{10}(d) - 5$')\n",
    "\n",
    "    axs[i].set_xlabel('Distance (kpc)', fontdict={'fontsize': 15}, labelpad=10)\n",
    "    axs[i].set_ylabel('J(2MASS) - J(Fouesnau)', fontdict={'fontsize': 15}, labelpad=0)\n",
    "    axs[i].legend(loc=\"lower right\")\n",
    "\n",
    "    def numfmt(x, pos):\n",
    "        s = '{}'.format(x / 1000.0)\n",
    "        return s\n",
    "    yfmt = ticker.FuncFormatter(numfmt)\n",
    "    axs[i].xaxis.set_major_formatter(yfmt)\n",
    "\n",
    "\n",
    "    axs[i].tick_params(axis='both', which='major', labelsize=15)\n",
    "\n",
    "    axs[i].set_yticks(y_line)\n",
    "\n",
    "    axs[i].set_title('{} Correction'.format(filters_fouesnau[i]), fontdict={'fontsize': 15}, pad=20, fontweight='bold')\n",
    "\n",
    "fig_name = 'extinction_corrected_2MASS_vs_distance'\n",
    "plt.savefig('/home/sven/repos/gaia-tools/out/fouesnau_plots/' + fig_name +'.png', bbox_inches='tight', dpi=300, facecolor='white')"
   ]
  },
  {
   "cell_type": "code",
   "execution_count": null,
   "metadata": {},
   "outputs": [],
   "source": [
    "from matplotlib import colors\n",
    "plt.rc('text', usetex=False)\n",
    "\n",
    "filters_fouesnau = ['J', 'H', 'Ks']\n",
    "\n",
    "fig, axs = plt.subplots(nrows=1, ncols=3, figsize = (24,8))\n",
    "\n",
    "for i, filter in enumerate(filters_fouesnau):\n",
    "\n",
    "    x_values = crossmatched_tmass_data.r_est.values\n",
    "    y_values = 10**((crossmatched_tmass_data[filters_fouesnau[i]].values - crossmatched_tmass_data[filters_fouesnau[i]+'_p50'].values + 5)/5)\n",
    "\n",
    "    h = axs[i].hist2d(x_values, y_values, bins=200, cmin=10, norm=colors.LogNorm(0.5), zorder=0.5)\n",
    "    axs[i].scatter(x_values, y_values, alpha=0.05, s=1, color='k', zorder=0)\n",
    "    cb = fig.colorbar(h[3], ax=axs[i], pad=0.02)\n",
    "\n",
    "    # Theoretical\n",
    "    x_line = np.linspace(0, 15000, 31)\n",
    "    y_line = np.linspace(0, 15000, 31)\n",
    "    axs[i].plot(x_line, y_line, \n",
    "                linestyle='dashed', \n",
    "                lw=1.5,\n",
    "                alpha=0.5, \n",
    "                zorder=0.6, \n",
    "                color='black',\n",
    "                label='$10^{(m - M + 5)/5} = d$')\n",
    "\n",
    "    axs[i].set_xlabel('Distance (kpc)', fontdict={'fontsize': 15}, labelpad=10)\n",
    "    axs[i].set_ylabel('Distance Fouesneau (kpc)', fontdict={'fontsize': 15}, labelpad=0)\n",
    "    #axs[i].legend(loc=\"upper right\", prop={'size': 15})\n",
    "\n",
    "    def numfmt(x, pos):\n",
    "        s = '{}'.format(x / 1000.0)\n",
    "        return s\n",
    "    yfmt = ticker.FuncFormatter(numfmt)\n",
    "    axs[i].xaxis.set_major_formatter(yfmt)\n",
    "    axs[i].yaxis.set_major_formatter(yfmt)\n",
    "\n",
    "    axs[i].tick_params(axis='both', which='major', labelsize=15)\n",
    "\n",
    "    #y_line = np.linspace(-10, 20, 11)\n",
    "    #axs[i].set_yticks(y_line)\n",
    "\n",
    "    axs[i].set_title('{} Correction'.format(filters_fouesnau[i]), fontdict={'fontsize': 15}, pad=20, fontweight='bold')\n",
    "\n",
    "fig_name = 'Fouesnau_distance_vs_distance'\n",
    "plt.savefig('/home/sven/repos/gaia-tools/out/fouesnau_plots/' + fig_name +'.png', bbox_inches='tight', dpi=300, facecolor='white')"
   ]
  },
  {
   "cell_type": "code",
   "execution_count": null,
   "metadata": {},
   "outputs": [],
   "source": [
    "filters_fouesnau = ['J', 'H', 'Ks']\n",
    "filters_tmass = ['j_m', 'h_m', 'k_m']\n",
    "\n",
    "fig, axs = plt.subplots(nrows=1, ncols=3,figsize = (24,8))\n",
    "\n",
    "for i, filter in enumerate(filters_tmass):\n",
    "\n",
    "    x_values = crossmatched_tmass_data[filters_tmass[i]].values\n",
    "    y_values = crossmatched_tmass_data[filters_fouesnau[i]+'_p50'].values\n",
    "\n",
    "    axs[i].scatter(x_values, y_values, alpha=0.3, s = 0.7)\n",
    "    axs[i].set_xlabel('{} (TMASS)'.format(filters_fouesnau[i]), fontdict={'fontsize': 15}, labelpad=10)\n",
    "    axs[i].set_ylabel('{} (Fouesnau)'.format(filters_fouesnau[i]), fontdict={'fontsize': 15}, labelpad=0)\n",
    "    axs[i].tick_params(axis='both', which='major', labelsize=15)\n",
    "    axs[i].set_title('Check for filter {} \\n(Fouesnau extinction correction)'.format(filters_fouesnau[i]), fontdict={'fontsize': 15})\n",
    "\n",
    "fig_name = 'No_correction_2MASS_VS_extinction_corrected_2MASS'\n",
    "plt.savefig('/home/sven/repos/gaia-tools/out/fouesnau_plots/' + fig_name +'.png', dpi=300, facecolor='white')"
   ]
  },
  {
   "cell_type": "markdown",
   "metadata": {},
   "source": [
    "## Sample Histograms <a class=\"anchor\" id=\"section4\"></a>"
   ]
  },
  {
   "cell_type": "code",
   "execution_count": null,
   "metadata": {},
   "outputs": [],
   "source": [
    "filters_fouesnau = ['J_p50', 'H_p50', 'Ks_p50']\n",
    "filters_tmass = ['j_m', 'h_m', 'k_m']\n",
    "filters = filters_fouesnau+filters_tmass\n",
    "filter_titles = ['J', 'H', 'Ks']\n",
    "\n",
    "row_titles = ['Fouesnau (Extinction corrected)', '2MASS (No correction)']\n",
    "\n",
    "fig, axs = plt.subplots(nrows=2, ncols=3,figsize = (24,16))\n",
    "\n",
    "for ax,col in zip(axs[0], filter_titles):\n",
    "    ax.set_title(col, fontdict={'fontsize': 20})\n",
    "\n",
    "for ax,row in zip(axs[:,0], row_titles):\n",
    "    ax.set_ylabel(row, fontdict={'fontsize': 20}, labelpad=15)\n",
    "\n",
    "for i, ax in enumerate(axs.flat):\n",
    "    x_values = crossmatched_tmass_data[filters[i]].values\n",
    "    ax.hist(x_values, bins=30, histtype='step', density=True, lw=3)\n",
    "    #ax.set_xlabel('{}'.format(filters[i]), fontdict={'fontsize': 17}, labelpad=15)\n",
    "    ax.set_xticks(np.linspace(-10, 14, 5))\n",
    "    ax.tick_params(axis='both', which='major', labelsize=15)\n",
    "\n",
    "fig_name = 'filter_distributions'\n",
    "plt.savefig('/home/sven/repos/gaia-tools/out/fouesnau_plots/' + fig_name +'.png', dpi=300, facecolor='white')\n"
   ]
  },
  {
   "cell_type": "code",
   "execution_count": null,
   "metadata": {},
   "outputs": [],
   "source": [
    "x_values = (crossmatched_tmass_data.J_p50 - crossmatched_tmass_data.Ks_p50).values\n",
    "y_values = crossmatched_tmass_data.H_p50.values\n",
    "\n",
    "# definitions for the axes\n",
    "left, width = 0.1, 0.65\n",
    "bottom, height = 0.1, 0.65\n",
    "spacing = 0.005\n",
    "\n",
    "rect_scatter = [left, bottom, width, height]\n",
    "rect_histx = [left, bottom + height + spacing, width, 0.2]\n",
    "rect_histy = [left + width + spacing, bottom, 0.2, height]\n",
    "\n",
    "# start with a square Figure\n",
    "fig = plt.figure(figsize=(8, 8))\n",
    "ax = fig.add_axes(rect_scatter)\n",
    "ax_histx = fig.add_axes(rect_histx, sharex=ax)\n",
    "ax_histy = fig.add_axes(rect_histy, sharey=ax)\n",
    "\n",
    "# use the previously defined function\n",
    "scatter_hist(x_values,y_values, ax, ax_histx, ax_histy, -1, 3, -12, 11)\n",
    "#plt.title(\"Extinction \\nCorrected \\nPhotometry\", fontdict={'fontsize' : 15})\n",
    "#plt.show()\n",
    "\n",
    "fig_name = 'color_index_vs_H_NOCUT'\n",
    "#plt.savefig('/home/sven/repos/gaia-tools/out/fouesnau_plots/' + fig_name +'.png', dpi=300, facecolor='white')"
   ]
  },
  {
   "cell_type": "markdown",
   "metadata": {},
   "source": [
    "### Zoomed In Sample Density"
   ]
  },
  {
   "cell_type": "code",
   "execution_count": null,
   "metadata": {},
   "outputs": [],
   "source": [
    "x_values = (crossmatched_tmass_data.J_p50 - crossmatched_tmass_data.Ks_p50).values\n",
    "y_values = crossmatched_tmass_data.H_p50.values\n",
    "\n",
    "# definitions for the axes\n",
    "left, width = 0.1, 0.65\n",
    "bottom, height = 0.1, 0.65\n",
    "spacing = 0.005\n",
    "\n",
    "rect_scatter = [left, bottom, width, height]\n",
    "rect_histx = [left, bottom + height + spacing, width, 0.2]\n",
    "rect_histy = [left + width + spacing, bottom, 0.2, height]\n",
    "\n",
    "# start with a square Figure\n",
    "fig = plt.figure(figsize=(8, 8))\n",
    "ax = fig.add_axes(rect_scatter)\n",
    "ax_histx = fig.add_axes(rect_histx, sharex=ax)\n",
    "ax_histy = fig.add_axes(rect_histy, sharey=ax)\n",
    "\n",
    "# use the previously defined function\n",
    "scatter_hist(x_values,y_values, ax, ax_histx, ax_histy, 0.4, 1.2, -3, 0)\n",
    "#plt.title(\"Extinction \\nCorrected \\nPhotometry\", fontdict={'fontsize' : 15})\n",
    "#plt.show()\n",
    "\n",
    "fig_name = 'color_index_vs_H_NOCUT'\n",
    "#plt.savefig('/home/sven/repos/gaia-tools/out/fouesnau_plots/' + fig_name +'.png', dpi=300, facecolor='white')"
   ]
  },
  {
   "cell_type": "markdown",
   "metadata": {},
   "source": [
    "---"
   ]
  },
  {
   "cell_type": "markdown",
   "metadata": {},
   "source": [
    "## Sample Cut Selection <a class=\"anchor\" id=\"section5\"></a>"
   ]
  },
  {
   "cell_type": "code",
   "execution_count": null,
   "metadata": {},
   "outputs": [],
   "source": [
    "print(\"Stars in the sample before making photometric cuts: {}\".format(crossmatched_tmass_data.shape))"
   ]
  },
  {
   "cell_type": "code",
   "execution_count": null,
   "metadata": {},
   "outputs": [],
   "source": [
    "# Create new column with quality flag being True or False\n",
    "\n",
    "import re\n",
    "def is_allowed_flg(string):\n",
    "\n",
    "    charRe = re.compile(r'[^A-B]')\n",
    "    string = charRe.search(string)\n",
    "    return not bool(string)\n",
    "\n",
    "crossmatched_tmass_data['is_qual_true'] = crossmatched_tmass_data.ph_qual.apply(is_allowed_flg)"
   ]
  },
  {
   "cell_type": "markdown",
   "metadata": {},
   "source": [
    "### 2D Histogram After Imposing All Cuts"
   ]
  },
  {
   "cell_type": "code",
   "execution_count": null,
   "metadata": {},
   "outputs": [],
   "source": [
    "# Example on how to impose different cuts on the dataset\n",
    "\n",
    "cut_sample = crossmatched_tmass_data[((crossmatched_tmass_data.J_p50 - crossmatched_tmass_data.Ks_p50) > 0.5) & ((crossmatched_tmass_data.J_p50 - crossmatched_tmass_data.Ks_p50) < 1.1)]\n",
    "cut_sample = cut_sample[(cut_sample.J_sigma < 0.1) & (cut_sample.Ks_sigma < 0.1) & (cut_sample.H_sigma < 0.1)]\n",
    "cut_sample =  cut_sample[cut_sample.is_qual_true == True]\n",
    "cut_sample = cut_sample[cut_sample.parallax_sigma/cut_sample.parallax < 0.2]\n",
    "print(cut_sample.shape)"
   ]
  },
  {
   "cell_type": "code",
   "execution_count": null,
   "metadata": {},
   "outputs": [],
   "source": [
    "x_values = (cut_sample.J_p50 - cut_sample.Ks_p50).values\n",
    "y_values = cut_sample.H_p50.values\n",
    "\n",
    "# definitions for the axes\n",
    "left, width = 0.1, 0.65\n",
    "bottom, height = 0.1, 0.65\n",
    "spacing = 0.005\n",
    "\n",
    "rect_scatter = [left, bottom, width, height]\n",
    "rect_histx = [left, bottom + height + spacing, width, 0.2]\n",
    "rect_histy = [left + width + spacing, bottom, 0.2, height]\n",
    "\n",
    "fig = plt.figure(figsize=(8, 8))\n",
    "ax = fig.add_axes(rect_scatter)\n",
    "ax_histx = fig.add_axes(rect_histx, sharex=ax)\n",
    "ax_histy = fig.add_axes(rect_histy, sharey=ax)\n",
    "\n",
    "scatter_hist(x_values,y_values, ax, ax_histx, ax_histy, 0.4, 1.2, -3, 0)\n",
    "\n",
    "fig_name = 'color_index_vs_H_NOCUT'\n",
    "#plt.savefig('/home/sven/repos/gaia-tools/out/fouesnau_plots/' + fig_name +'.png', dpi=300, facecolor='white')"
   ]
  },
  {
   "cell_type": "markdown",
   "metadata": {},
   "source": [
    "### 1D Histograms of Error Distributions"
   ]
  },
  {
   "cell_type": "code",
   "execution_count": null,
   "metadata": {},
   "outputs": [],
   "source": [
    "cut_sample = crossmatched_tmass_data[((crossmatched_tmass_data.J_p50 - crossmatched_tmass_data.Ks_p50) > 0.5) & ((crossmatched_tmass_data.J_p50 - crossmatched_tmass_data.Ks_p50) < 1.1)]\n",
    "#cut_sample = cut_sample[(cut_sample.J_sigma < 0.1) & (cut_sample.Ks_sigma < 0.1) & (cut_sample.H_sigma < 0.1)]\n",
    "#cut_sample =  cut_sample[crossmatched_tmass_data.is_qual_true == True]\n",
    "\n",
    "from matplotlib import colors\n",
    "plt.rc('text', usetex=False)\n",
    "\n",
    "filters_fouesnau = ['J', 'H', 'Ks']\n",
    "fig, axs = plt.subplots(nrows=1, ncols=3, figsize = (24,8))\n",
    "\n",
    "for i, filter in enumerate(filters_fouesnau):\n",
    "    y_values = cut_sample[filters_fouesnau[i]+'_sigma'].values \n",
    "\n",
    "    h = axs[i].hist(y_values, bins=120, histtype='step', density=False, lw=2)\n",
    "    #cb = fig.colorbar(h[3], ax=axs[i], pad=0.02)\n",
    "\n",
    "    axs[i].set_xlabel(filters_fouesnau[i]+'_sigma', fontdict={'fontsize': 15}, labelpad=10)\n",
    "    axs[i].set_xscale('log')\n",
    "    axs[i].set_yscale('log')\n",
    "    axs[i].tick_params(axis='both', which='major', labelsize=15)\n",
    "    axs[i].set_title('{}'.format(filters_fouesnau[i]), fontdict={'fontsize': 15}, pad=20, fontweight='bold')\n",
    "    axs[i].vlines(0.1, 0, np.max(h[0]), colors='red', linestyles = '--')\n",
    "\n",
    "fig.suptitle('Sample before the cut JHKS_sigma < 0.1', fontsize=18)\n",
    "\n",
    "fig_name = 'JHKs_sigma_hist_NO_QUAL_CUT'\n",
    "#plt.savefig('/home/sven/repos/gaia-tools/out/fouesnau_plots/error_plots/' + fig_name +'.png', dpi=300, bbox_inches='tight', facecolor='white')\n"
   ]
  },
  {
   "cell_type": "markdown",
   "metadata": {},
   "source": [
    "### Plots after cut"
   ]
  },
  {
   "cell_type": "code",
   "execution_count": null,
   "metadata": {},
   "outputs": [],
   "source": [
    "from matplotlib import colors\n",
    "plt.rc('text', usetex=False)\n",
    "\n",
    "cut_sample = crossmatched_tmass_data[((crossmatched_tmass_data.J_p50 - crossmatched_tmass_data.Ks_p50) > 0.5) & ((crossmatched_tmass_data.J_p50 - crossmatched_tmass_data.Ks_p50) < 1.1)]\n",
    "cut_sample = cut_sample[(cut_sample.J_sigma < 0.1) & (cut_sample.Ks_sigma < 0.1) & (cut_sample.H_sigma < 0.1)]\n",
    "cut_sample =  cut_sample[crossmatched_tmass_data.is_qual_true == True]\n",
    "\n",
    "temp_sample = cut_sample[(cut_sample.J_sigma < 0.1) & (cut_sample.Ks_sigma < 0.1) & (cut_sample.H_sigma < 0.1)]\n",
    "\n",
    "filters_fouesnau = ['J_p50', 'H_p50', 'Ks_p50']\n",
    "filters = ['J', 'H', 'Ks']\n",
    "\n",
    "fig, axs = plt.subplots(nrows=1, ncols=3, figsize = (24,8))\n",
    "\n",
    "for i, filter in enumerate(filters_fouesnau):\n",
    "\n",
    "    x_values = cut_sample[filters_fouesnau[i]].values \n",
    "    y_values = cut_sample[filters[i]+'_sigma'].values \n",
    "\n",
    "    axs[i].hist(y_values, bins=30, histtype='step', density=False, lw=2)\n",
    "    #cb = fig.colorbar(h[3], ax=axs[i], pad=0.02)\n",
    "\n",
    "    axs[i].set_xlabel(filters_fouesnau[i]+'_sigma', fontdict={'fontsize': 15}, labelpad=0)\n",
    "\n",
    "    axs[i].set_yscale('log')\n",
    "    axs[i].tick_params(axis='both', which='major', labelsize=15)\n",
    "    axs[i].set_title('{}'.format(filters_fouesnau[i]), fontdict={'fontsize': 15}, pad=20, fontweight='bold')\n",
    "\n",
    "fig.suptitle('Sample after the cut JHKS_sigma < 0.1', fontsize=18)\n",
    "\n",
    "fig_name = 'JHKs_sigma_hist_QUAL_CUT'\n",
    "#plt.savefig('/home/sven/repos/gaia-tools/out/fouesnau_plots/error_plots/' + fig_name +'.png', dpi=300, bbox_inches='tight', facecolor='white')\n"
   ]
  },
  {
   "cell_type": "markdown",
   "metadata": {},
   "source": [
    "Error Distribution After Quality Flag Cut"
   ]
  },
  {
   "cell_type": "code",
   "execution_count": null,
   "metadata": {},
   "outputs": [],
   "source": [
    "from matplotlib import colors\n",
    "plt.rc('text', usetex=False)\n",
    "\n",
    "cut_sample = crossmatched_tmass_data[((crossmatched_tmass_data.J_p50 - crossmatched_tmass_data.Ks_p50) > 0.5) & ((crossmatched_tmass_data.J_p50 - crossmatched_tmass_data.Ks_p50) < 1.1)]\n",
    "cut_sample = cut_sample[(cut_sample.J_sigma < 0.1) & (cut_sample.Ks_sigma < 0.1) & (cut_sample.H_sigma < 0.1)]\n",
    "cut_sample_qual =  cut_sample[crossmatched_tmass_data.is_qual_true == True]\n",
    "\n",
    "filters_fouesnau = ['J_p50', 'H_p50', 'Ks_p50']\n",
    "filters = ['J', 'H', 'Ks']\n",
    "\n",
    "fig, axs = plt.subplots(nrows=1, ncols=3, figsize = (24,8))\n",
    "\n",
    "for i, filter in enumerate(filters_fouesnau):\n",
    "\n",
    "    x_values = cut_sample[filters_fouesnau[i]].values \n",
    "    y_values = cut_sample[filters[i]+'_sigma'].values \n",
    "\n",
    "    axs[i].hist(y_values, bins=30, histtype='step', density=False, lw=2, label='before')\n",
    "    axs[i].hist(cut_sample_qual[filters[i]+'_sigma'].values , bins=30, histtype='step', density=False, lw=2, label='quality flag A or B')\n",
    "\n",
    "    axs[i].set_xlabel(filters_fouesnau[i]+'_sigma', fontdict={'fontsize': 15}, labelpad=0)\n",
    "    axs[i].legend(loc='upper right')\n",
    "    axs[i].set_yscale('log')\n",
    "    axs[i].tick_params(axis='both', which='major', labelsize=15)\n",
    "    axs[i].set_title('{}'.format(filters_fouesnau[i]), fontdict={'fontsize': 15}, pad=20, fontweight='bold')\n",
    "\n",
    "fig.suptitle('Sample after the quality flag cut', fontsize=18)\n",
    "\n",
    "fig_name = 'JHKs_sigma_hist_QUAL_CUT'\n",
    "#plt.savefig('/home/sven/repos/gaia-tools/out/fouesnau_plots/error_plots/' + fig_name +'.png', dpi=300, bbox_inches='tight', facecolor='white')"
   ]
  },
  {
   "cell_type": "markdown",
   "metadata": {},
   "source": [
    "Uncertainty Distributions After Removing Start with parallax_sigma/parallax > 0.2"
   ]
  },
  {
   "cell_type": "code",
   "execution_count": null,
   "metadata": {},
   "outputs": [],
   "source": [
    "cut_sample = crossmatched_tmass_data[((crossmatched_tmass_data.J_p50 - crossmatched_tmass_data.Ks_p50) > 0.5) & ((crossmatched_tmass_data.J_p50 - crossmatched_tmass_data.Ks_p50) < 1.1)]\n",
    "cut_sample = cut_sample[(cut_sample.J_sigma < 0.1) & (cut_sample.Ks_sigma < 0.1) & (cut_sample.H_sigma < 0.1)]\n",
    "cut_sample =  cut_sample[cut_sample.is_qual_true == True]\n",
    "cut_sample_parallax = cut_sample[cut_sample.parallax_sigma/cut_sample.parallax < 0.2]\n",
    "print(cut_sample.shape)\n",
    "\n",
    "filters_fouesnau = ['J', 'H', 'Ks']\n",
    "\n",
    "fig, axs = plt.subplots(nrows=1, ncols=3, figsize = (24,8))\n",
    "\n",
    "for i, filter in enumerate(filters_fouesnau):\n",
    "\n",
    "    y_values = cut_sample[filters_fouesnau[i]+'_sigma'].values\n",
    "    y_values_parallax =  cut_sample_parallax[filters_fouesnau[i]+'_sigma'].values\n",
    "\n",
    "    axs[i].hist(y_values, bins=30, histtype='step', density=False, lw=2)\n",
    "    axs[i].hist(y_values_parallax, bins=30, histtype='step', density=False, lw=2, label=r\"$\\sigma_\\varpi/\\varpi$ < 0.2\")\n",
    "\n",
    "    axs[i].set_xlabel(filters_fouesnau[i]+'_sigma', fontdict={'fontsize': 15}, labelpad=0)\n",
    "    axs[i].legend(loc='upper right')\n",
    "    axs[i].set_yscale('log')\n",
    "    axs[i].tick_params(axis='both', which='major', labelsize=15)\n",
    "    axs[i].set_title('{}'.format(filters_fouesnau[i]), fontdict={'fontsize': 15}, pad=20, fontweight='bold')\n",
    "\n",
    "fig.suptitle('Sample after the cut JHKS_sigma < 0.1 and sig/parallax < 0.2', fontsize=18)\n",
    "\n",
    "fig_name = 'JHKs_sigma_hist_QUAL_PARALLAX_CUT'\n",
    "#plt.savefig('/home/sven/repos/gaia-tools/out/fouesnau_plots/error_plots/' + fig_name +'.png', dpi=300, bbox_inches='tight', facecolor='white')"
   ]
  },
  {
   "cell_type": "code",
   "execution_count": null,
   "metadata": {},
   "outputs": [],
   "source": [
    "cut_sample = crossmatched_tmass_data[((crossmatched_tmass_data.J_p50 - crossmatched_tmass_data.Ks_p50) > 0.5) & ((crossmatched_tmass_data.J_p50 - crossmatched_tmass_data.Ks_p50) < 1.1)]\n",
    "cut_sample = cut_sample[(cut_sample.J_sigma < 0.1) & (cut_sample.Ks_sigma < 0.1) & (cut_sample.H_sigma < 0.1)]\n",
    "cut_sample =  cut_sample[crossmatched_tmass_data.is_qual_true == True]\n",
    "\n",
    "fig, ax = plt.subplots(nrows=1, ncols=1, figsize = (10,10))\n",
    "\n",
    "x_values = cut_sample['parallax_sigma'].values/cut_sample['parallax'].values \n",
    "ax.hist(x_values, bins=400, histtype='step', density=False, lw=2)\n",
    "ax.set_xlabel(r'$\\sigma_\\varpi/\\varpi$', fontdict={'fontsize': 15}, labelpad=10)\n",
    "ax.set_xlim(0, 10)\n",
    "ax.set_yscale('log')\n",
    "\n",
    "ax.vlines([0.2], 0, 1e6, linestyles='dashed', alpha=0.5, colors='b')\n",
    "#ax.set_ylabel('parallax_sigma', fontdict={'fontsize': 15}, labelpad=10)"
   ]
  },
  {
   "cell_type": "markdown",
   "metadata": {},
   "source": [
    "## Checking Gaia photometry <a class=\"anchor\" id=\"section6\"></a>"
   ]
  },
  {
   "cell_type": "code",
   "execution_count": null,
   "metadata": {},
   "outputs": [],
   "source": [
    "gaia_rv_data = vaex.from_csv('/scratch/sven/gaia_downloads/bayesian_distance_rv_stars.csv', convert=True)\n",
    "print(gaia_rv_data.shape)\n",
    "print(gaia_rv_data.get_column_names)"
   ]
  },
  {
   "cell_type": "code",
   "execution_count": null,
   "metadata": {},
   "outputs": [],
   "source": [
    "gaia_photometry = vaex.from_csv('/scratch/sven/gaia_downloads/gaia_photometry_rv_data.csv', convert=True)\n",
    "gaia_photometry.shape\n"
   ]
  },
  {
   "cell_type": "code",
   "execution_count": null,
   "metadata": {},
   "outputs": [],
   "source": [
    "gaia_photometry_df = crossmatched_tmass_data.join(gaia_photometry, \n",
    "                                                    how='inner', \n",
    "                                                    left_on='source_id_tmass_xmass', \n",
    "                                                    right_on='source_id',\n",
    "                                                    lsuffix='_tmass_xmass',\n",
    "                                                    rsuffix='_gaia_phot')"
   ]
  },
  {
   "cell_type": "code",
   "execution_count": null,
   "metadata": {},
   "outputs": [],
   "source": [
    "print(gaia_photometry_df.G_p50[0:1].values)\n",
    "print(gaia_photometry_df.phot_g_mean_mag[0:1].values)\n",
    "print(gaia_photometry_df.G[0:1].values)\n",
    "print(gaia_photometry_df.A_G_p50[0:1].values)\n",
    "print(gaia_photometry_df.A0_p50[0:1].values)\n",
    "\n"
   ]
  },
  {
   "cell_type": "code",
   "execution_count": null,
   "metadata": {},
   "outputs": [],
   "source": [
    "#print(gaia_photometry_df.shape)\n",
    "print(crossmatched_tmass_data.shape)"
   ]
  },
  {
   "cell_type": "code",
   "execution_count": null,
   "metadata": {},
   "outputs": [],
   "source": [
    "gaia_photometry_df = gaia_photometry_df.join(gaia_rv_data, \n",
    "                                                    how='inner', \n",
    "                                                    left_on='source_id_tmass_xmass', \n",
    "                                                    right_on='source_id',\n",
    "                                                    lsuffix='_gaia_phot',\n",
    "                                                    rsuffix='_gaia_rv')"
   ]
  },
  {
   "cell_type": "code",
   "execution_count": null,
   "metadata": {},
   "outputs": [],
   "source": [
    "from matplotlib import colors\n",
    "plt.rc('text', usetex=False)\n",
    "\n",
    "fig, ax = plt.subplots(figsize=(9, 18))\n",
    "\n",
    "range = [[0,5], [-10, 15]]\n",
    "\n",
    "Mg = gaia_photometry_df.phot_g_mean_mag.values - 5*np.log10(gaia_photometry_df.r_est.values) + 5\n",
    "\n",
    "# only show 2D-histogram for bins with more than 10 stars in them\n",
    "h = ax.hist2d(gaia_photometry_df.bp_rp.values, Mg, range=range, bins=500, cmin=10, norm=colors.PowerNorm(0.5), zorder=0.5)\n",
    "# fill the rest with scatter (set rasterized=True if saving as vector graphics)\n",
    "ax.scatter(gaia_photometry_df.bp_rp.values, Mg, alpha=0.05, s=1, color='k', zorder=0)\n",
    "\n",
    "ax.invert_yaxis()\n",
    "cb = fig.colorbar(h[3], ax=ax, pad=0.02)\n",
    "ax.set_xlabel('$G_{BP} - G_{RP}$', fontdict={'size' : 14})\n",
    "ax.set_ylabel('$M_G$', fontdict={'size' : 14})\n",
    "cb.set_label(\"$\\mathrm{Stellar~density}$\")\n",
    "plt.show()"
   ]
  },
  {
   "cell_type": "code",
   "execution_count": null,
   "metadata": {},
   "outputs": [],
   "source": [
    "from matplotlib import colors\n",
    "plt.rc('text', usetex=False)\n",
    "\n",
    "fig, ax = plt.subplots(figsize=(9, 14))\n",
    "\n",
    "range = [[0,5], [-20, 15]]\n",
    "\n",
    "Mg = gaia_photometry_df.G_p50.values - 5*np.log10(gaia_photometry_df.r_est.values) + 5\n",
    "\n",
    "# only show 2D-histogram for bins with more than 10 stars in them\n",
    "h = ax.hist2d(gaia_photometry_df.BP_p50.values - gaia_photometry_df.RP_p50.values, Mg, range=range, bins=500, cmin=10, norm=colors.PowerNorm(0.5), zorder=0.5)\n",
    "# fill the rest with scatter (set rasterized=True if saving as vector graphics)\n",
    "ax.scatter(gaia_photometry_df.BP_p50.values - gaia_photometry_df.RP_p50.values, Mg, alpha=0.05, s=1, color='k', zorder=0)\n",
    "\n",
    "ax.invert_yaxis()\n",
    "cb = fig.colorbar(h[3], ax=ax, pad=0.02)\n",
    "ax.set_xlabel('$G_{BP} - G_{RP}$', fontdict={'size' : 14})\n",
    "ax.set_ylabel('$M_G$', fontdict={'size' : 14})\n",
    "cb.set_label(\"$\\mathrm{Stellar~density}$\")\n",
    "plt.show()"
   ]
  },
  {
   "cell_type": "markdown",
   "metadata": {},
   "source": [
    "## Fitting Across ROI <a class=\"anchor\" id=\"section7\"></a>"
   ]
  },
  {
   "cell_type": "code",
   "execution_count": null,
   "metadata": {},
   "outputs": [],
   "source": [
    "cut_sample = crossmatched_tmass_data[((crossmatched_tmass_data.J_p50 - crossmatched_tmass_data.Ks_p50) > 0.5) & ((crossmatched_tmass_data.J_p50 - crossmatched_tmass_data.Ks_p50) < 1.1)]\n",
    "cut_sample = cut_sample[(cut_sample.J_sigma < 0.1) & (cut_sample.Ks_sigma < 0.1) & (cut_sample.H_sigma < 0.1)]\n",
    "cut_sample =  cut_sample[cut_sample.is_qual_true == True]\n",
    "cut_sample = cut_sample[cut_sample.parallax_sigma/cut_sample.parallax < 0.2]\n",
    "#cut_sample.shape"
   ]
  },
  {
   "cell_type": "code",
   "execution_count": null,
   "metadata": {},
   "outputs": [],
   "source": [
    "xlim_min = 0.4\n",
    "xlim_max = 1.2\n",
    "ylim_min = -3\n",
    "ylim_max = 0\n",
    "\n",
    "\n",
    "fig = plt.figure(figsize=(8, 8))\n",
    "\n",
    "range = [[xlim_min, xlim_max], [ylim_min, ylim_max]]\n",
    "x = (cut_sample.J_p50 - cut_sample.Ks_p50).values\n",
    "y = cut_sample.H_p50.values\n",
    "h = plt.hist2d(x, y, bins=250, range=range, cmin=50, norm=colors.PowerNorm(0.5), zorder=0.5)\n",
    "plt.scatter(x, y, alpha=0.05, s=1, color='k', zorder=0)\n",
    "\n",
    "fmt = mpl.ticker.ScalarFormatter(useMathText=True)\n",
    "fmt.set_powerlimits((0, 0))\n",
    "plt.colorbar(h[3], pad=0.02, format=fmt, orientation='vertical')\n",
    "\n",
    "thresh_max = 150\n",
    "thresh_min = 50\n",
    "xc, yc = np.where((h[0] > thresh_min) & (h[0] < thresh_max))\n",
    "fit_x = h[1][xc]\n",
    "fit_y = h[2][yc]\n",
    "cut_ids = np.where((fit_y < -2) | (fit_y > -1))\n",
    "a, b = np.polyfit(fit_x[cut_ids], fit_y[cut_ids], 1)\n",
    "plt.plot(h[1], a*h[1] + b, c='w')\n",
    "\n",
    "thresh_max = 200\n",
    "xc, yc = np.where(h[0] > thresh_max)\n",
    "fit_x = h[1][xc]\n",
    "fit_y = h[2][yc]\n",
    "cut_ids = np.where((fit_y > -2) & (fit_y < -1))\n",
    "a, b = np.polyfit(fit_x[cut_ids], fit_y[cut_ids], 1)\n",
    "plt.plot(h[1], a*h[1] + b, c='w')\n",
    "\n",
    "plt.plot(h[1], a*h[1] + b + 0.3, c='w', linestyle=\"--\")\n",
    "plt.plot(h[1], a*h[1] + b - 0.3, c='w', linestyle=\"--\")\n",
    "\n",
    "plt.xlabel(r'$J - K_s$ [mag]', fontdict={'fontsize' : 14})\n",
    "plt.ylabel(r'$H$ [mag]',  fontdict={'fontsize' : 14})\n",
    "\n",
    "plt.grid()\n",
    "plt.show()\n"
   ]
  },
  {
   "cell_type": "code",
   "execution_count": null,
   "metadata": {},
   "outputs": [],
   "source": [
    "# Impose cut on sample\n",
    "\n",
    "JKs = cut_sample.J_p50 - cut_sample.Ks_p50\n",
    "test_sample = cut_sample[(cut_sample.H_p50 < a*JKs + b + 0.3) & (cut_sample.H_p50 > a*JKs + b - 0.3)]"
   ]
  },
  {
   "cell_type": "code",
   "execution_count": null,
   "metadata": {},
   "outputs": [],
   "source": [
    "fig = plt.figure(figsize=(10, 10))\n",
    "\n",
    "fig.patch.set_facecolor('white')\n",
    "\n",
    "n_bins = 150\n",
    "r_min = 0\n",
    "r_max = np.max(test_sample.r_est.values)\n",
    "\n",
    "plt.hist(test_sample.r_est, bins=np.linspace(r_min, r_max, n_bins))\n",
    "\n",
    "plt.ticklabel_format(axis=\"y\", style=\"sci\", scilimits=(0,0))\n",
    "\n",
    "txt=\"{0} bins defined in the range [{1} - {2}] kpc\".format(n_bins, r_min, np.round(r_max))\n",
    "plt.figtext(0.5, 0.01, txt, wrap=True, horizontalalignment='center', fontsize=12)\n",
    "\n",
    "plt.xlabel(r'$r$ (Heliocentric) [pc]', fontdict={'fontsize': 18}, labelpad = 20);\n",
    "plt.ylabel('Star count', fontdict={'fontsize': 18}, labelpad = 20);\n",
    "plt.xticks(fontsize=16)\n",
    "plt.yticks(fontsize=16)\n",
    "plt.grid()\n",
    "\n",
    "plt.rcParams[\"patch.force_edgecolor\"] = True\n",
    "plt.rc('font', **{'size':'16'})\n",
    "plt.title(\"Stellar Distances\", pad=20, fontdict={'fontsize': 20})\n",
    "\n",
    "#plt.savefig(\"Star_Density_R_Presentation\", dpi=300, facecolor=fig.get_facecolor(), edgecolor='none')\n",
    "plt.show()"
   ]
  },
  {
   "cell_type": "code",
   "execution_count": null,
   "metadata": {},
   "outputs": [],
   "source": [
    "from import_functions import import_data\n",
    "\n",
    "# Switch to Pandas\n",
    "test_df = test_sample.to_pandas_df(['source_id', 'r_est'])\n",
    "\n",
    "my_path = \"/hdfs/local/sven/gaia_tools_data/gaia_rv_data_bayes.csv\"\n",
    "icrs_data = import_data(path = my_path, is_bayes = True, debug = True)\n"
   ]
  },
  {
   "cell_type": "code",
   "execution_count": null,
   "metadata": {},
   "outputs": [],
   "source": [
    "icrs_data = icrs_data.merge(test_df, on='source_id', suffixes=(\"\", \"_y\"))"
   ]
  },
  {
   "cell_type": "code",
   "execution_count": null,
   "metadata": {},
   "outputs": [],
   "source": [
    "galcen_data = data_analysis.get_transformed_data(icrs_data, \n",
    "                                   include_cylindrical = True,\n",
    "                                   debug = True, \n",
    "                                   is_source_included = True,\n",
    "                                   is_bayes = True)"
   ]
  },
  {
   "cell_type": "code",
   "execution_count": null,
   "metadata": {},
   "outputs": [],
   "source": [
    "icrs_data.shape"
   ]
  },
  {
   "cell_type": "code",
   "execution_count": null,
   "metadata": {},
   "outputs": [],
   "source": [
    "def display_polar_histogram(galcen_data, n_bins=100, norm_max = 1000, r_limits = (), title = \"Polar Plot\"):\n",
    "\n",
    "    from astropy.visualization.mpl_normalize import ImageNormalize\n",
    "    from astropy.visualization import LogStretch\n",
    "\n",
    "    fig= plt.figure(figsize=(10, 10), facecolor='white')\n",
    "    \n",
    "    # Init Data\n",
    "    phi = galcen_data.phi\n",
    "    r = galcen_data.r\n",
    "\n",
    "    if not r_limits:\n",
    "        min_r = np.min(galcen_data.r)\n",
    "        max_r = np.max(galcen_data.r)     \n",
    "    else:\n",
    "        min_r = r_limits[0]\n",
    "        max_r = r_limits[1]\n",
    "        \n",
    "    plt.ylim(min_r, max_r)\n",
    "    \n",
    "    # Init Bins\n",
    "    rbins = np.linspace(0, max_r, n_bins)\n",
    "    abins = np.linspace(-np.pi,np.pi, n_bins)\n",
    "\n",
    "    norm_hist2d = ImageNormalize(vmin=0., vmax=norm_max, stretch=LogStretch())\n",
    "\n",
    "    \n",
    "    \n",
    "    ax = fig.add_subplot(111, projection='polar')\n",
    "    plt.hist2d(phi, r, bins=(abins, rbins), norm = norm_hist2d)\n",
    "    ax.plot(np.pi, 8178, \"*\", markersize=10, color='red', alpha=0.75)\n",
    "    plt.title(title, pad=20, fontdict={'fontsize': 20})\n",
    "\n",
    "    # Set r label background color to black\n",
    "    plt.setp(ax.get_yticklabels(), backgroundcolor=\"black\")\n",
    "\n",
    "    # Set r label font color to white\n",
    "    ax.tick_params(axis=\"y\", colors=\"white\", labelrotation=45, grid_color=\"palegoldenrod\")\n",
    "\n",
    "    # Configure angle labels\n",
    "    ax.set_thetamin(360)\n",
    "    ax.set_thetamax(0)\n",
    "\n",
    "    cbar = plt.colorbar()\n",
    "    cbar.ax.set_ylabel('Number of stars in bin')\n",
    "\n",
    "    plt.grid()\n",
    "    #plt.show()\n",
    "    \n",
    "    return fig\n"
   ]
  },
  {
   "cell_type": "code",
   "execution_count": null,
   "metadata": {},
   "outputs": [],
   "source": [
    "fig2 = display_polar_histogram(galcen_data, n_bins=150, norm_max=5000, r_limits=(0, 15000), title = \"Distribution on Galactic Pane\")"
   ]
  },
  {
   "cell_type": "code",
   "execution_count": null,
   "metadata": {},
   "outputs": [],
   "source": [
    "fig = plt.figure(figsize=(10, 10))\n",
    "fig.patch.set_facecolor('white')\n",
    "\n",
    "n_bins = 150\n",
    "z_min = np.min(galcen_data.z)\n",
    "z_max = np.max(galcen_data.z)\n",
    "\n",
    "plt.hist(galcen_data.z, bins=np.linspace(z_min, z_max, n_bins), label='Density', alpha=1)\n",
    "\n",
    "#plt.ticklabel_format(axis=\"x\", style=\"sci\", scilimits=(0,0))\n",
    "plt.ticklabel_format(axis=\"y\", style=\"sci\", scilimits=(0,0))\n",
    "\n",
    "txt=\"{0} bins defined in the range [{1} - {2}] pc\".format(n_bins, z_min, z_max)\n",
    "plt.figtext(0.5, 0.01, txt, wrap=True, horizontalalignment='center', fontsize=12)\n",
    "\n",
    "plt.xlabel(r'$z$ [pc]', fontdict={'fontsize': 18}, labelpad = 20);\n",
    "plt.ylabel('Star count', fontdict={'fontsize': 18}, labelpad = 20);\n",
    "plt.xticks(fontsize=16)\n",
    "plt.yticks(fontsize=16)\n",
    "plt.grid()\n",
    "\n",
    "plt.rcParams[\"patch.force_edgecolor\"] = True\n",
    "plt.rc('font', **{'size':'16'})\n",
    "plt.title(\"Star Density Histogram (Non-Bayes)\", pad=20, fontdict={'fontsize': 20})\n",
    "\n",
    "#plt.savefig(\"Star_Density_R_Presentation\", dpi=300, facecolor=fig.get_facecolor(), edgecolor='none')\n",
    "plt.show()"
   ]
  },
  {
   "cell_type": "code",
   "execution_count": null,
   "metadata": {},
   "outputs": [],
   "source": [
    "fig = plt.figure(figsize=(8, 8))\n",
    "\n",
    "range = [[xlim_min, xlim_max], [ylim_min, ylim_max]]\n",
    "x = (test_sample.J_p50 - test_sample.Ks_p50).values\n",
    "y = test_sample.H_p50.values\n",
    "h = plt.hist2d(x, y, bins=250, range=range, cmin=50, norm=colors.PowerNorm(0.5), zorder=0.5)\n",
    "plt.scatter(x, y, alpha=0.05, s=1, color='k', zorder=0)\n",
    "\n",
    "fmt = mpl.ticker.ScalarFormatter(useMathText=True)\n",
    "fmt.set_powerlimits((0, 0))\n",
    "plt.colorbar(h[3], pad=0.02, format=fmt, orientation='vertical')"
   ]
  },
  {
   "cell_type": "code",
   "execution_count": null,
   "metadata": {},
   "outputs": [],
   "source": [
    "from astropy import units as u\n",
    "from astropy.coordinates import SkyCoord\n",
    "c = SkyCoord(ra=list(icrs_data.ra)*u.degree, dec=list(icrs_data.dec)*u.degree, frame='icrs')\n",
    "\n",
    "fig = plt.figure(figsize=(16, 8))\n",
    "\n",
    "#range = [[xlim_min, xlim_max], [ylim_min, ylim_max]]\n",
    "x = c.galactic.l.to_value()\n",
    "y = c.galactic.b.to_value()\n",
    "h = plt.hist2d(x, y, bins=250, cmin=50, norm=colors.PowerNorm(0.5), zorder=0.5)\n",
    "plt.scatter(x, y, alpha=0.05, s=1, color='k', zorder=0)\n",
    "\n",
    "fmt = mpl.ticker.ScalarFormatter(useMathText=True)\n",
    "fmt.set_powerlimits((0, 0))\n",
    "plt.colorbar(h[3], pad=0.02, format=fmt, orientation='vertical')\n",
    "\n",
    "plt.xlabel(r'$l$ [deg]', fontdict={'fontsize' : 16})\n",
    "plt.ylabel(r'$b$ [deg]',  fontdict={'fontsize' : 16})\n",
    "\n",
    "plt.title(\"Sample Distribution in Galactic Coordinates\", fontsize=18, pad=15)\n",
    "fig_name = 'sample_distribution_galactic_coords'\n",
    "#plt.savefig('/home/sven/repos/gaia-tools/out/fouesnau_plots/' + fig_name +'.png', bbox_inches='tight', dpi=300, facecolor='white')"
   ]
  },
  {
   "cell_type": "markdown",
   "metadata": {},
   "source": [
    "---"
   ]
  }
 ],
 "metadata": {
  "interpreter": {
   "hash": "af1399650a6de459a9a764ca6f3d56f5c10db3565673a08cfbc83104c38a1a89"
  },
  "kernelspec": {
   "display_name": "Python 3.6.8 ('dspn_env')",
   "language": "python",
   "name": "python3"
  },
  "language_info": {
   "codemirror_mode": {
    "name": "ipython",
    "version": 3
   },
   "file_extension": ".py",
   "mimetype": "text/x-python",
   "name": "python",
   "nbconvert_exporter": "python",
   "pygments_lexer": "ipython3",
   "version": "3.6.8"
  },
  "orig_nbformat": 4
 },
 "nbformat": 4,
 "nbformat_minor": 2
}
