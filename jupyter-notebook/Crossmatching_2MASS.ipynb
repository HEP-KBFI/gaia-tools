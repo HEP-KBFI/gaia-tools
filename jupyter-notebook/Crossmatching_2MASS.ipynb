{
 "cells": [
  {
   "cell_type": "markdown",
   "metadata": {},
   "source": [
    "### In this notebook\n",
    "\n",
    "* [Uploading Sample ID-s to Gaia Archive](#section1)\n",
    "* [Crossmatching IDs with 2MASS](#section2)\n",
    "* [Creating and Splitting VOTables](#section3)\n",
    "* [Merging Returned 2MASS Chunks](#section4)\n",
    "* [2MASS Crossmatching Sanity Checks](#section5)\n",
    "* [GAIA@AIP Query Example Using API Token](#section6)\n",
    "* [Fouesneau Catalog TAP Query](#section7)\n"
   ]
  },
  {
   "cell_type": "code",
   "execution_count": 1,
   "metadata": {},
   "outputs": [],
   "source": [
    "import vaex"
   ]
  },
  {
   "cell_type": "code",
   "execution_count": 2,
   "metadata": {},
   "outputs": [],
   "source": [
    "tmass_data_path = '/home/svenpoder/Gaia_2MASS Data_DR2/gaia_tools_data/crossmatched_tmass_data/crossmatched_tmass_data.csv'\n",
    "crossmatched_tmass_data = vaex.from_csv(tmass_data_path, convert=True)"
   ]
  },
  {
   "cell_type": "code",
   "execution_count": 1,
   "metadata": {},
   "outputs": [
    {
     "ename": "ModuleNotFoundError",
     "evalue": "No module named 'astroquery'",
     "output_type": "error",
     "traceback": [
      "\u001b[0;31m---------------------------------------------------------------------------\u001b[0m",
      "\u001b[0;31mModuleNotFoundError\u001b[0m                       Traceback (most recent call last)",
      "Cell \u001b[0;32mIn [1], line 1\u001b[0m\n\u001b[0;32m----> 1\u001b[0m \u001b[38;5;28;01mfrom\u001b[39;00m \u001b[38;5;21;01mastroquery\u001b[39;00m\u001b[38;5;21;01m.\u001b[39;00m\u001b[38;5;21;01mgaia\u001b[39;00m \u001b[38;5;28;01mimport\u001b[39;00m Gaia\n\u001b[1;32m      2\u001b[0m \u001b[38;5;28;01mimport\u001b[39;00m \u001b[38;5;21;01mwarnings\u001b[39;00m\n\u001b[1;32m      4\u001b[0m \u001b[38;5;66;03m# Comment this out if you want to see warnings\u001b[39;00m\n",
      "\u001b[0;31mModuleNotFoundError\u001b[0m: No module named 'astroquery'"
     ]
    }
   ],
   "source": [
    "from astroquery.gaia import Gaia\n",
    "import warnings\n",
    "\n",
    "# Comment this out if you want to see warnings\n",
    "warnings.filterwarnings('ignore')\n",
    "import astropy\n",
    "import requests\n",
    "import pyvo as vo\n",
    "import numpy as np\n",
    "from io import StringIO\n",
    "import matplotlib.pyplot as plt\n",
    "import matplotlib as mpl\n",
    "import pandas as pd\n",
    "import glob\n",
    "import os\n",
    "import requests\n",
    "import sys\n",
    "sys.path.append(\"../gaia_tools/\")\n",
    "import data_analysis\n",
    "import covariance_generation as cov\n",
    "from import_functions import import_data"
   ]
  },
  {
   "cell_type": "code",
   "execution_count": null,
   "metadata": {},
   "outputs": [],
   "source": [
    "my_path = \"/hdfs/local/sven/gaia_tools_data/gaia_rv_data_bayes.csv\"\n",
    "icrs_data = import_data(path = my_path, is_bayes = True, debug = True)"
   ]
  },
  {
   "cell_type": "markdown",
   "metadata": {},
   "source": [
    "# Load Public Gaia Tables"
   ]
  },
  {
   "cell_type": "code",
   "execution_count": null,
   "metadata": {},
   "outputs": [],
   "source": [
    "gaia_tables = Gaia.load_tables(only_names=True, include_shared_tables=True)\n",
    "for table in gaia_tables:\n",
    "    print(table.get_qualified_name())"
   ]
  },
  {
   "cell_type": "markdown",
   "metadata": {},
   "source": [
    "# Upload Sample ID-s to Gaia <a class=\"anchor\" id=\"section1\"></a>   \n",
    "I upload the 'source_id'-s of our sample to Gaia Archive to use them for crossmatching."
   ]
  },
  {
   "cell_type": "code",
   "execution_count": null,
   "metadata": {},
   "outputs": [],
   "source": [
    "my_path = \"/hdfs/local/sven/gaia_tools_data/gaia_rv_data_bayes.csv\"\n",
    "\n",
    "# Import the ICRS data\n",
    "icrs_data = import_data(path = my_path, is_bayes = True, debug = True)"
   ]
  },
  {
   "cell_type": "code",
   "execution_count": null,
   "metadata": {},
   "outputs": [],
   "source": [
    "from astropy.table import Table\n",
    "up_table = Table.from_pandas(icrs_data[['source_id']])\n",
    "Gaia.login()\n",
    "\n",
    "# This ran for 8min\n",
    "job = Gaia.upload_table(up_table, table_name='rv_sample_source_id', verbose=True)"
   ]
  },
  {
   "cell_type": "markdown",
   "metadata": {},
   "source": [
    "---"
   ]
  },
  {
   "cell_type": "markdown",
   "metadata": {},
   "source": [
    "# Crossmatching with 2MASS <a class=\"anchor\" id=\"section2\"></a>   \n",
    "I use the uploaded 'source_id'-s of our sample to crossmatch from 'tmass_best_neighbour'."
   ]
  },
  {
   "cell_type": "code",
   "execution_count": null,
   "metadata": {},
   "outputs": [],
   "source": [
    "rv_table_name = 'user_spoder.rv_sample_source_id'\n",
    "xmatch_table_name = 'gaiadr2.tmass_best_neighbour'\n",
    "query_string = 'select ALL t.source_id, t.tmass_oid FROM ' + xmatch_table_name + ' as t, ' + rv_table_name + ' as s '\\\n",
    "                'WHERE t.source_id = s.source_id'"
   ]
  },
  {
   "cell_type": "code",
   "execution_count": null,
   "metadata": {},
   "outputs": [],
   "source": [
    "Gaia.login()\n",
    "\n",
    "job_name = 'tmass_crossmatch'\n",
    "outpath = '/scratch/sven/gaia_downloads/crossmatche_tmass_IDs.csv'\n",
    "\n",
    "job = Gaia.launch_job_async(query_string,\n",
    "                            name=job_name,\n",
    "                            output_file=outpath,\n",
    "                            output_format='csv', \n",
    "                            dump_to_file=True, \n",
    "                            verbose=True)\n",
    "results = job.get_results()"
   ]
  },
  {
   "cell_type": "markdown",
   "metadata": {},
   "source": [
    "---"
   ]
  },
  {
   "cell_type": "markdown",
   "metadata": {},
   "source": [
    "# Convert to VOTable and Split <a class=\"anchor\" id=\"section3\"></a>  \n",
    "I convert the returned 2MASS ID-s to a VOTable and split it into chunks to  \n",
    "match GAIA@AIP requirements."
   ]
  },
  {
   "cell_type": "code",
   "execution_count": null,
   "metadata": {},
   "outputs": [],
   "source": [
    "import pandas as pd\n",
    "str_path = '/scratch/sven/gaia_downloads/crossmatche_tmass_IDs.csv'\n",
    "id_df = pd.read_csv(str_path)"
   ]
  },
  {
   "cell_type": "code",
   "execution_count": null,
   "metadata": {},
   "outputs": [],
   "source": [
    "num_chunks = 6\n",
    "chunk_size = int(len(id_df)/num_chunks)+1\n",
    "\n",
    "for g, df in id_df.groupby(np.arange(len(id_df))//chunk_size):\n",
    "    print(g)\n",
    "    print(df.shape)\n",
    "\n",
    "    t = Table.from_pandas(df)\n",
    "    id_votable = astropy.io.votable.from_table(t)\n",
    "    astropy.io.votable.writeto(id_votable, '/scratch/sven/gaia_downloads/id_votable_chunk_{}'.format(g))"
   ]
  },
  {
   "cell_type": "markdown",
   "metadata": {},
   "source": [
    "---"
   ]
  },
  {
   "cell_type": "markdown",
   "metadata": {},
   "source": [
    "# Merge Returned 2MASS Data Chunks <a class=\"anchor\" id=\"section4\"></a>  \n",
    "I merge the 2MASS data chunks and save them as a new .csv file"
   ]
  },
  {
   "cell_type": "code",
   "execution_count": null,
   "metadata": {},
   "outputs": [],
   "source": [
    "import pandas as pd\n",
    "import glob\n",
    "import os\n",
    "\n",
    "chunks = os.path.join('/hdfs/local/sven/gaia_tools_data/crossmatched_tmass_data/', 'tmass_chunk_*.csv')\n",
    "chunks = glob.glob(chunks)\n",
    "\n",
    "merged_chunks = pd.concat(map(pd.read_csv, chunks), ignore_index=True)"
   ]
  },
  {
   "cell_type": "code",
   "execution_count": null,
   "metadata": {},
   "outputs": [],
   "source": [
    "merged_df_path = '/hdfs/local/sven/gaia_tools_data/crossmatched_tmass_data/crossmatched_tmass_data.csv'\n",
    "merged_chunks.to_csv(merged_df_path, index=False)"
   ]
  },
  {
   "cell_type": "markdown",
   "metadata": {},
   "source": [
    "---"
   ]
  },
  {
   "cell_type": "markdown",
   "metadata": {},
   "source": [
    "# 2MASS Crossmatch Sanity Checks <a class=\"anchor\" id=\"section5\"></a>  "
   ]
  },
  {
   "cell_type": "markdown",
   "metadata": {},
   "source": [
    "* The ID table returned from Gaia archive and 2MASS data must have same length"
   ]
  },
  {
   "cell_type": "code",
   "execution_count": null,
   "metadata": {},
   "outputs": [],
   "source": [
    "id_table_path = '/scratch/sven/gaia_downloads/crossmatche_tmass_IDs.csv'\n",
    "crossmatch_id_table = pd.read_csv(id_table_path)\n",
    "\n",
    "tmass_data_path = '/hdfs/local/sven/gaia_tools_data/crossmatched_tmass_data/crossmatched_tmass_data.csv'\n",
    "crossmatched_tmass_data = pd.read_csv(tmass_data_path)"
   ]
  },
  {
   "cell_type": "code",
   "execution_count": null,
   "metadata": {},
   "outputs": [],
   "source": [
    "print(crossmatch_id_table.shape)\n",
    "print(crossmatched_tmass_data.shape)"
   ]
  },
  {
   "cell_type": "markdown",
   "metadata": {},
   "source": [
    "* Comparing right ascension ($\\alpha$) and declination ($\\delta$) coordinates"
   ]
  },
  {
   "cell_type": "code",
   "execution_count": null,
   "metadata": {},
   "outputs": [],
   "source": [
    "# Original sample\n",
    "my_path = \"/hdfs/local/sven/gaia_tools_data/gaia_rv_data_bayes.csv\"\n",
    "icrs_data = import_data(path = my_path, is_bayes = True, debug = False)"
   ]
  },
  {
   "cell_type": "code",
   "execution_count": null,
   "metadata": {},
   "outputs": [],
   "source": [
    "merged_data = icrs_data.merge(crossmatched_tmass_data, on='source_id', suffixes=('_gaia', '_tmass'))"
   ]
  },
  {
   "cell_type": "code",
   "execution_count": null,
   "metadata": {},
   "outputs": [],
   "source": [
    "fig, ax = plt.subplots(figsize = (8,8))\n",
    "plt.scatter(merged_data.ra_gaia, merged_data.ra_tmass, alpha=0.3, s = 0.7)\n",
    "plt.xlabel('RA (GAIA)', fontdict={'fontsize': 15}, labelpad=10)\n",
    "plt.ylabel('RA (TMASS)', fontdict={'fontsize': 15}, labelpad=10)\n",
    "\n",
    "# inset axes....\n",
    "axins = ax.inset_axes([0.5, 0.1, 0.47, 0.47])\n",
    "axins.scatter(merged_data.ra_gaia, merged_data.ra_tmass, alpha=0.8, s = 0.7)\n",
    "\n",
    "# sub region of the original image\n",
    "x1, x2, y1, y2 = 99.99, 100, 99.99, 100\n",
    "axins.set_xlim(x1, x2)\n",
    "axins.set_ylim(y1, y2)\n",
    "axins.set_xticks([])\n",
    "axins.set_yticklabels([])\n",
    "\n",
    "ax.indicate_inset_zoom(axins, edgecolor=\"black\")\n",
    "\n",
    "fig_name = 'ra_sanity_check'\n",
    "plt.savefig('/home/sven/repos/gaia-tools/out/crossmatch_sanity_checks/' + fig_name +'.png', dpi=300)"
   ]
  },
  {
   "cell_type": "code",
   "execution_count": null,
   "metadata": {},
   "outputs": [],
   "source": [
    "fig, ax = plt.subplots(figsize = (8,8))\n",
    "plt.scatter(merged_data.dec_gaia, merged_data.dec_tmass, alpha=0.3, s = 0.7)\n",
    "plt.xlabel('DEC (GAIA)', fontdict={'fontsize': 15}, labelpad=10)\n",
    "plt.ylabel('DEC (TMASS)', fontdict={'fontsize': 15}, labelpad=10)\n",
    "\n",
    "# inset axes....\n",
    "axins = ax.inset_axes([0.5, 0.1, 0.47, 0.47])\n",
    "axins.scatter(merged_data.ra_gaia, merged_data.ra_tmass, alpha=0.8, s = 0.7)\n",
    "\n",
    "# sub region of the original image\n",
    "x1, x2, y1, y2 = 24.99, 25, 24.99, 25\n",
    "axins.set_xlim(x1, x2)\n",
    "axins.set_ylim(y1, y2)\n",
    "axins.set_xticks([])\n",
    "axins.set_yticklabels([])\n",
    "\n",
    "ax.indicate_inset_zoom(axins, edgecolor=\"black\")\n",
    "\n",
    "fig_name = 'dec_sanity_check'\n",
    "plt.savefig('/home/sven/repos/gaia-tools/out/crossmatch_sanity_checks/' + fig_name +'.png', dpi=300)"
   ]
  },
  {
   "cell_type": "markdown",
   "metadata": {},
   "source": [
    "---"
   ]
  },
  {
   "cell_type": "markdown",
   "metadata": {},
   "source": [
    "# GAIA@AIP Query Example Using API Token <a class=\"anchor\" id=\"section6\"></a>  "
   ]
  },
  {
   "cell_type": "code",
   "execution_count": null,
   "metadata": {},
   "outputs": [],
   "source": [
    "import requests\n",
    "import pyvo as vo\n",
    "\n",
    "name = 'GAIA@AIP'\n",
    "url = 'https://gaia.aip.de/tap'\n",
    "token = '9ef51a3b42860269f9cc7d5e2fa90cf026fc0815'\n",
    "starhorse_string = 'SELECT TOP 50 * \\\n",
    "FROM gaiaedr3_contrib.starhorse'\n",
    "\n",
    "print('\\npyvo version %s \\n' % vo.__version__)\n",
    "print('TAP service %s \\n' % name)\n",
    "\n",
    "# Setup authorization\n",
    "tap_session = requests.Session()\n",
    "tap_session.headers['Authorization'] = token\n",
    "\n",
    "tap_service = vo.dal.TAPService(url, session=tap_session)\n",
    "\n",
    "tap_result = tap_service.run_async(starhorse_string)\n",
    "tap_result.to_table()\n",
    "\n",
    "print(tap_result)"
   ]
  },
  {
   "cell_type": "code",
   "execution_count": null,
   "metadata": {},
   "outputs": [],
   "source": [
    "output_df = tap_result.to_table().to_pandas()\n",
    "output_df.to_csv('test.csv')"
   ]
  },
  {
   "cell_type": "markdown",
   "metadata": {},
   "source": [
    "---\n",
    "# Fouesneau Catalog TAP Query <a class=\"anchor\" id=\"section7\"></a>  "
   ]
  },
  {
   "cell_type": "code",
   "execution_count": null,
   "metadata": {},
   "outputs": [],
   "source": [
    "url_heidelberg = \"http://dc.zah.uni-heidelberg.de/__system__/tap/run\" \n",
    "heidelberg_string = \"select all g.source_id from gdr2ap.main as g where g.source_id = {}\"\n",
    "\n",
    "# Setup authorization\n",
    "tap_session = requests.Session()\n",
    "\n",
    "tap_service = vo.dal.TAPService(url_heidelberg)\n",
    "print('Maxrec {}'.format(tap_service.maxrec))\n",
    "print('Hardlimit {}'.format(tap_service.hardlimit))\n",
    "\n",
    "tap_result = tap_service.run_async(heidelberg_string.format(3), maxrec=10000000)\n",
    "\n",
    "for id in icrs_data.source_id[0:5]:\n",
    "    print(id)\n",
    "    tap_result = tap_service.run_async(heidelberg_string.format(id), maxrec=10000000)"
   ]
  },
  {
   "cell_type": "markdown",
   "metadata": {},
   "source": [
    "---"
   ]
  },
  {
   "cell_type": "markdown",
   "metadata": {},
   "source": [
    "# Gaia DR3 Crossmatch 2MASS"
   ]
  },
  {
   "cell_type": "code",
   "execution_count": null,
   "metadata": {},
   "outputs": [],
   "source": [
    "gaia_path = '/scratch/sven/gaia_downloads/gaia_DR3_xm_2MASS_IDs.csv'\n",
    "gaia_df = pd.read_csv(gaia_path)\n",
    "print(gaia_df.shape)\n",
    "gaia_df.columns"
   ]
  },
  {
   "cell_type": "code",
   "execution_count": null,
   "metadata": {},
   "outputs": [],
   "source": [
    "tmass_data_path = '/scratch/sven/gaia_downloads/gaia_dr3_xm_2MASS_photometry.csv'\n",
    "tmass_df = pd.read_csv(tmass_data_path)\n",
    "print(tmass_df.shape)\n",
    "tmass_df.columns"
   ]
  },
  {
   "cell_type": "code",
   "execution_count": null,
   "metadata": {},
   "outputs": [],
   "source": [
    "tmass_data_path = '/scratch/sven/gaia_downloads/gaia_dr3_xm_2MASS_photometry_orig_ext_id.csv'\n",
    "tmass_df = pd.read_csv(tmass_data_path)\n",
    "print(tmass_df.shape)\n",
    "tmass_df.columns"
   ]
  },
  {
   "cell_type": "code",
   "execution_count": null,
   "metadata": {},
   "outputs": [],
   "source": [
    "df_dr3 = gaia_df.merge(tmass_df, on='source_id', how='inner', suffixes=('', '_tmass'))"
   ]
  },
  {
   "cell_type": "code",
   "execution_count": null,
   "metadata": {},
   "outputs": [],
   "source": [
    "print(df_dr3.shape)\n",
    "print(df_dr3.columns)"
   ]
  },
  {
   "cell_type": "code",
   "execution_count": null,
   "metadata": {},
   "outputs": [],
   "source": [
    "df_dr3.head()"
   ]
  },
  {
   "cell_type": "code",
   "execution_count": null,
   "metadata": {},
   "outputs": [],
   "source": [
    "fig, ax = plt.subplots(figsize = (8,8))\n",
    "plt.scatter(df_dr3.ra, df_dr3.ra_tmass, alpha=0.3, s = 0.3)\n",
    "plt.xlabel('RA (GAIA)', fontdict={'fontsize': 15}, labelpad=10)\n",
    "plt.ylabel('RA (TMASS)', fontdict={'fontsize': 15}, labelpad=10)\n",
    "\n",
    "# inset axes....\n",
    "axins = ax.inset_axes([0.5, 0.1, 0.47, 0.47])\n",
    "axins.scatter(df_dr3.ra, df_dr3.ra_tmass, alpha=0.8, s = 0.7)\n",
    "\n",
    "# sub region of the original image\n",
    "x1, x2, y1, y2 = 99.99, 100, 99.99, 100\n",
    "axins.set_xlim(x1, x2)\n",
    "axins.set_ylim(y1, y2)\n",
    "axins.set_xticks([])\n",
    "axins.set_yticklabels([])\n",
    "\n",
    "ax.indicate_inset_zoom(axins, edgecolor=\"black\")"
   ]
  },
  {
   "cell_type": "code",
   "execution_count": null,
   "metadata": {},
   "outputs": [],
   "source": [
    "fig, ax = plt.subplots(figsize = (8,8))\n",
    "plt.scatter(df_dr3.dec, df_dr3.dec_tmass, alpha=0.3, s = 0.3)\n",
    "plt.xlabel('DEC (GAIA)', fontdict={'fontsize': 15}, labelpad=10)\n",
    "plt.ylabel('DEC (TMASS)', fontdict={'fontsize': 15}, labelpad=10)\n",
    "\n",
    "# inset axes....\n",
    "axins = ax.inset_axes([0.5, 0.1, 0.47, 0.47])\n",
    "axins.scatter(df_dr3.dec, df_dr3.dec_tmass, alpha=0.8, s = 0.7)\n",
    "\n",
    "# sub region of the original image\n",
    "x1, x2, y1, y2 = 24.99, 25, 24.99, 25\n",
    "axins.set_xlim(x1, x2)\n",
    "axins.set_ylim(y1, y2)\n",
    "axins.set_xticks([])\n",
    "axins.set_yticklabels([])\n",
    "\n",
    "ax.indicate_inset_zoom(axins, edgecolor=\"black\")"
   ]
  },
  {
   "cell_type": "code",
   "execution_count": null,
   "metadata": {},
   "outputs": [],
   "source": [
    "print(np.max(np.abs(df_dr3.ra - df_dr3.ra_tmass)))\n",
    "print(np.max(np.abs(df_dr3.dec - df_dr3.dec_tmass)))"
   ]
  },
  {
   "cell_type": "code",
   "execution_count": null,
   "metadata": {},
   "outputs": [],
   "source": [
    "error_df = df_dr3.loc[np.abs(df_dr3.ra - df_dr3.ra_tmass) > 1]\n",
    "error_df[['ra', 'dec', 'ra_tmass', 'dec_tmass']]"
   ]
  },
  {
   "cell_type": "code",
   "execution_count": null,
   "metadata": {},
   "outputs": [],
   "source": []
  },
  {
   "cell_type": "code",
   "execution_count": null,
   "metadata": {},
   "outputs": [],
   "source": [
    "df_dr3.loc[45192]"
   ]
  },
  {
   "cell_type": "code",
   "execution_count": null,
   "metadata": {},
   "outputs": [],
   "source": [
    "360 - error_df.ra_tmass + error_df.ra"
   ]
  },
  {
   "cell_type": "code",
   "execution_count": null,
   "metadata": {},
   "outputs": [],
   "source": [
    "h = plt.hist(np.abs(df_dr3.ra - df_dr3.ra_tmass), bins=100, range = [0, 0.001])"
   ]
  },
  {
   "cell_type": "code",
   "execution_count": null,
   "metadata": {},
   "outputs": [],
   "source": [
    "h = plt.hist(np.abs(df_dr3.dec - df_dr3.dec_tmass), bins=100, range = [0, 0.001])"
   ]
  },
  {
   "cell_type": "code",
   "execution_count": null,
   "metadata": {},
   "outputs": [],
   "source": [
    "df_rnd = df_dr3.iloc[::5, :]\n",
    "df_rnd.shape\n",
    "df_rnd['delta_ra'] = np.abs(df_rnd.ra - df_rnd.ra_tmass)"
   ]
  },
  {
   "cell_type": "code",
   "execution_count": null,
   "metadata": {},
   "outputs": [],
   "source": [
    "from scipy import stats\n",
    "import matplotlib\n",
    "H, xedges, yedges, binnumber = stats.binned_statistic_2d(df_rnd.ra,\n",
    "                                                            df_rnd.dec,\n",
    "                                                            values = df_rnd.delta_ra,\n",
    "                                                            range = [[0, 360], [-90, 90]], bins=100, statistic='mean') "
   ]
  },
  {
   "cell_type": "code",
   "execution_count": null,
   "metadata": {},
   "outputs": [],
   "source": [
    "from mpl_toolkits.axes_grid1 import make_axes_locatable\n",
    "\n",
    "plt.figure(figsize=(15,10))\n",
    "c = plt.imshow(H.T,extent =[xedges.min(), xedges.max(), yedges.min(), yedges.max()], cmap='magma', vmin=1e-5, vmax=0.01, norm=matplotlib.colors.LogNorm(), origin ='lower', interpolation='gaussian')\n",
    "plt.xlabel(\"RA\", fontsize=14)\n",
    "plt.ylabel(\"DEC\", fontsize=14)\n",
    "plt.tick_params(labelsize=14)\n",
    "\n",
    "ax = plt.gca()\n",
    "divider = make_axes_locatable(ax)\n",
    "cax = divider.append_axes(\"right\", size=\"5%\", pad=0.5)\n",
    "\n",
    "cb = plt.colorbar(c, cax=cax)\n",
    "cb.set_label(label='RA(gaia) - RA(tmass)', size = 14)\n",
    "plt.tick_params(labelsize=14)\n",
    "\n",
    "plt.scatter([0.001899, 0.000162], [-88.722426, -52.963303], marker='x', s=300, color='black')\n",
    "plt.tight_layout()"
   ]
  },
  {
   "cell_type": "code",
   "execution_count": null,
   "metadata": {},
   "outputs": [],
   "source": [
    "\n",
    "# Implementation of matplotlib function\n",
    "import matplotlib.pyplot as plt\n",
    "import numpy as np\n",
    "from matplotlib.colors import LogNorm\n",
    "      \n",
    "dx, dy = 0.015, 0.05\n",
    "y, x = np.mgrid[slice(-4, 4 + dy, dy),\n",
    "                slice(-4, 4 + dx, dx)]\n",
    "z = (1 - x / 3. + x ** 5 + y ** 5) * np.exp(-x ** 2 - y ** 2)\n",
    "z = z[:-1, :-1]\n",
    "z_min, z_max = -np.abs(z).max(), np.abs(z).max()\n",
    "  \n",
    "c = plt.imshow(z, cmap ='Greens', vmin = z_min, vmax = z_max,\n",
    "                 extent =[x.min(), x.max(), y.min(), y.max()],\n",
    "                    interpolation ='nearest', origin ='lower')\n",
    "plt.colorbar(c)\n",
    "  \n",
    "plt.title('matplotlib.pyplot.imshow() function Example', \n",
    "                                     fontweight =\"bold\")\n",
    "plt.show()"
   ]
  },
  {
   "cell_type": "code",
   "execution_count": null,
   "metadata": {},
   "outputs": [],
   "source": [
    "outpath = '/scratch/sven/gaia_downloads/gaia_dr3_tmass_data.csv'\n",
    "merged_chunks.to_csv(outpath, index=False)"
   ]
  },
  {
   "cell_type": "code",
   "execution_count": null,
   "metadata": {},
   "outputs": [],
   "source": [
    "# EXAMPLE WORKING QUERY\n",
    "\n",
    "query = 'SELECT TOP 10 gaia.source_id, xmatch.original_ext_source_id, xmatch.clean_tmass_psc_xsc_oid, tmass.ra, tmass.dec \\\n",
    "FROM gaiadr3.gaia_source AS gaia \\\n",
    "JOIN gaiaedr3.tmass_psc_xsc_best_neighbour AS xmatch USING (source_id) \\\n",
    "JOIN gaiaedr3.tmass_psc_xsc_join AS xjoin USING (clean_tmass_psc_xsc_oid) \\\n",
    "JOIN gaiadr1.tmass_original_valid AS tmass \\\n",
    "   ON xjoin.original_psc_source_id = tmass.designation \\\n",
    "WHERE gaia.radial_velocity is not NULL'\n",
    "\n",
    "job = Gaia.launch_job_async(query, output_format='csv', dump_to_file=False, verbose=True)\n",
    "results = job.get_results()"
   ]
  }
 ],
 "metadata": {
  "kernelspec": {
   "display_name": "Python 3.9.12 ('.gaia-project-env')",
   "language": "python",
   "name": "python3"
  },
  "language_info": {
   "codemirror_mode": {
    "name": "ipython",
    "version": 3
   },
   "file_extension": ".py",
   "mimetype": "text/x-python",
   "name": "python",
   "nbconvert_exporter": "python",
   "pygments_lexer": "ipython3",
   "version": "3.9.12"
  },
  "orig_nbformat": 4,
  "vscode": {
   "interpreter": {
    "hash": "d8b682a76a9d2be70a33d5d7adc5516e883f06df882d840d60e537feb5053e29"
   }
  }
 },
 "nbformat": 4,
 "nbformat_minor": 2
}
