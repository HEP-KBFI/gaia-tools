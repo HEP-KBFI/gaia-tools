{
 "cells": [
  {
   "cell_type": "code",
   "execution_count": 1,
   "metadata": {},
   "outputs": [],
   "source": [
    "import sys\n",
    "import matplotlib.pyplot as plt\n",
    "import numpy as np\n",
    "import time\n",
    "from functools import reduce\n",
    "import pandas as pd\n",
    "#import cupy as cp\n",
    "# Disable if running on GPU\n",
    "# from numba import jit, config\n",
    "# config.DISABLE_JIT = True\n",
    "# import cProfile\n",
    "# import pandas as pd\n",
    "\n",
    "sys.path.append(\"../gaia_tools/\")\n",
    "import data_analysis\n",
    "import transformation_constants\n",
    "import transformation_functions\n",
    "import covariance_generation\n",
    "\n",
    "from scipy.stats import norm\n",
    "import matplotlib.mlab as mlab\n",
    "import matplotlib.pyplot as plt"
   ]
  },
  {
   "cell_type": "code",
   "execution_count": 6,
   "metadata": {},
   "outputs": [],
   "source": [
    "# For local\n",
    "#path = '/home/svenpoder/DATA/Gaia_DR3/GaiaDR3_RV_RGB_fidelity.csv'"
   ]
  },
  {
   "cell_type": "code",
   "execution_count": 2,
   "metadata": {},
   "outputs": [
    {
     "name": "stdout",
     "output_type": "stream",
     "text": [
      "Importing DR3...\n",
      "Index(['Unnamed: 0', 'Unnamed: 0.1', 'source_id', 'ra', 'dec', 'rgeo',\n",
      "       'b_rgeo', 'B_rgeo', 'r_est', 'b_rpgeo', 'B_rpgeo', 'ra_error',\n",
      "       'dec_error', 'parallax', 'parallax_error', 'PM', 'pmra', 'pmra_error',\n",
      "       'pmdec', 'pmdec_error', 'radial_velocity', 'radial_velocity_error',\n",
      "       'Dist', 'ra_dec_corr', 'ra_pmdec_corr', 'ra_parallax_corr',\n",
      "       'ra_pmra_corr', 'b_Dist', 'B_Dist', 'dec_pmra_corr', 'dec_pmdec_corr',\n",
      "       'dec_parallax_corr', 'parallax_pmdec_corr', 'parallax_pmra_corr',\n",
      "       'pmra_pmdec_corr', 'r_est_error', 'parallax_over_error'],\n",
      "      dtype='object')\n"
     ]
    }
   ],
   "source": [
    "print('Importing DR3...')\n",
    "#dr3_path = '/local/mariacst/2022_v0_project/data/GaiaDR3_RV_RGB_fidelity.csv'\n",
    "dr3_path = '/local/mariacst/2022_v0_project/data/GaiaDR3_RV_RGB_fidelity_skinny.csv'\n",
    "gaia_dr3 = pd.read_csv(dr3_path)\n",
    "\n",
    "# OLD DISTANCE ESTIMATE\n",
    "# r_est_error = (gaia_dr3.B_rpgeo - gaia_dr3.b_rpgeo)/2\n",
    "# gaia_dr3['r_est_error'] = r_est_error\n",
    "\n",
    "# SWAP FOR GSPPHOT\n",
    "r_est = gaia_dr3.Dist                                               \n",
    "gaia_dr3['r_est'] = r_est \n",
    "r_est_error = (gaia_dr3.B_Dist - gaia_dr3.b_Dist)/2                 \n",
    "gaia_dr3['r_est_error'] = r_est_error \n",
    "\n",
    "# columns_to_drop = ['Vbroad', 'GRVSmag', 'Gal', 'Teff', 'logg',\n",
    "#     '[Fe/H]', 'Dist', 'A0', 'RAJ2000', 'DEJ2000', 'e_RAJ2000', 'e_DEJ2000',\n",
    "#     'RADEcorJ2000', 'B_Teff', 'b_Teff', 'b_logg', 'B_logg', 'b_Dist',\n",
    "#     'B_Dist', 'b_AG', 'B_AG', 'b_A0', 'B_A0', 'Gmag', 'BPmag', 'RPmag', 'BP-RP']\n",
    "# gaia_dr3 = gaia_dr3.drop(columns=columns_to_drop)\n",
    "\n",
    "parallax_over_error = gaia_dr3.parallax/gaia_dr3.parallax_error\n",
    "gaia_dr3['parallax_over_error'] = parallax_over_error\n",
    "\n",
    "print(gaia_dr3.columns)\n",
    "icrs_data = gaia_dr3"
   ]
  },
  {
   "cell_type": "code",
   "execution_count": 5,
   "metadata": {},
   "outputs": [
    {
     "name": "stdout",
     "output_type": "stream",
     "text": [
      "Starting galactocentric transformation loop over all data points.. \n",
      "Time elapsed for data coordinate transformation: 2.458794418722391 sec\n",
      "Final size of sample (1694972, 11)\n"
     ]
    }
   ],
   "source": [
    "## TRANSFORMATION CONSTANTS\n",
    "v_sun = transformation_constants.V_SUN\n",
    "\n",
    "r_0 = 8277.0\n",
    "z_0 = 25.0\n",
    "\n",
    "v_sun[0][0] = 11.1\n",
    "v_sun[1][0] = 251.5*(r_0/8277)\n",
    "v_sun[2][0] = 8.59*(r_0/8277)\n",
    "\n",
    "\n",
    "## APPLY INITIAL CUT\n",
    "galcen_data = data_analysis.get_transformed_data(data_icrs,\n",
    "                                       include_cylindrical = True,\n",
    "                                       z_0 = z_0,\n",
    "                                       r_0 = r_0,\n",
    "                                       v_sun = v_sun,\n",
    "                                       debug = True,\n",
    "                                       is_bayes = True,\n",
    "                                       is_source_included = True)\n",
    "\n",
    "galcen_data = galcen_data[(galcen_data.r < 15000) & (galcen_data.r > 5000)]\n",
    "galcen_data = galcen_data[(galcen_data.z < 200) & (galcen_data.z > -200)]\n",
    "\n",
    "# Remove halo stars (condition taken from 1806.06038)                        \n",
    "v_dif = np.linalg.norm(np.array([galcen_data.v_x, galcen_data.v_y, galcen_data.v_z])-v_sun,\n",
    "                    axis=0)                                               \n",
    "galcen_data['v_dif'] = v_dif                                                 \n",
    "galcen_data = galcen_data[galcen_data.v_dif<210.]\n",
    "\n",
    "galcen_data.reset_index(inplace=True, drop=True)\n",
    "\n",
    "\n",
    "## DECLARE FINAL INPUT DATA\n",
    "data_icrs = data_icrs.merge(galcen_data, on='source_id')[data_icrs.columns]\n",
    "print(\"Final size of sample {}\".format(galcen_data.shape))\n",
    "\n",
    "\n",
    "# Declare backend\n",
    "NUMPY_LIB = cp\n",
    "dtype = cp.float32\n",
    "\n",
    "# Generate covariance matrices for INPUT\n",
    "C_icrs = covariance_generation.generate_covmat(data_icrs)\n",
    "\n",
    "# Export INPUT to GPU with needed columns\n",
    "trans_needed_columns = ['source_id', 'ra', 'dec', 'r_est', 'pmra', 'pmdec', 'radial_velocity',]\n",
    "icrs_data = NUMPY_LIB.asarray(data_icrs[trans_needed_columns], dtype=cp.float32)\n",
    "C_icrs = NUMPY_LIB.asarray(C_icrs, dtype=cp.float32)"
   ]
  },
  {
   "cell_type": "code",
   "execution_count": 6,
   "metadata": {},
   "outputs": [],
   "source": [
    "galcen_data = transformation_functions.get_transformed_data(icrs_data,\n",
    "                                    include_cylindrical = True,\n",
    "                                    z_0 = z_0,\n",
    "                                    r_0 = r_0,\n",
    "                                    v_sun = v_sun,\n",
    "                                    is_bayes = True,\n",
    "                                    NUMPY_LIB = NUMPY_LIB,\n",
    "                                    dtype = dtype)\n",
    "\n",
    "# [\"ra\", \"dec\",\"r_est\",\"pmra\",\"pmdec\",\"radial_velocity\"] -> [:,1::]\n",
    "galactocentric_cov = covariance_generation.transform_cov_matrix(C = C_icrs, \n",
    "                                    df = icrs_data[:,1::],\n",
    "                                    coordinate_system = 'Cartesian',\n",
    "                                    z_0 = z_0,\n",
    "                                    r_0 = r_0,\n",
    "                                    is_bayes = True,\n",
    "                                    NUMPY_LIB = NUMPY_LIB,\n",
    "                                    dtype = dtype)\n",
    "\n",
    "# [\"x\", \"y\",\"r\",\"phi\",\"v_r\",\"v_phi\"] -> [0,1,6,7,8,9]\n",
    "cyl_cov_gpu = covariance_generation.transform_cov_matrix(C = galactocentric_cov, \n",
    "                                    df = galcen_data[:,[0,1,6,7,8,9]],\n",
    "                                    coordinate_system = 'Cylindrical',\n",
    "                                    z_0 = z_0,\n",
    "                                    r_0 = r_0,\n",
    "                                    is_bayes = False,\n",
    "                                    NUMPY_LIB = NUMPY_LIB,\n",
    "                                    dtype = dtype)\n",
    "\n",
    "sig_vphi = NUMPY_LIB.array([cyl_cov_gpu[:,4,4]])\n",
    "sig_vr = NUMPY_LIB.array([cyl_cov_gpu[:,3,3]])\n",
    "source_id = NUMPY_LIB.array([icrs_data[:,0]])\n",
    "galcen_data = NUMPY_LIB.concatenate(([galcen_data, sig_vphi.T, sig_vr.T, source_id.T]), axis=1)\n",
    "\n",
    "final_data_columns = ['x', 'y', 'z', 'v_x', 'v_y', 'v_z', 'r', 'phi', 'v_r', 'v_phi',\n",
    "            'sig_vphi', 'sig_vr', 'source_id']\n",
    "\n",
    "galcen_data = pd.DataFrame(galcen_data.get(), columns=final_data_columns)\n",
    "\n"
   ]
  },
  {
   "cell_type": "code",
   "execution_count": 3,
   "metadata": {},
   "outputs": [
    {
     "name": "stdout",
     "output_type": "stream",
     "text": [
      "Starting galactocentric transformation loop over all data points.. \n",
      "Time elapsed for data coordinate transformation: 6.533362844027579 sec\n",
      "Removing noisy distances\n",
      "Galactocentric data shape after removing noisy distances: (1657485, 13)\n",
      "Galactocentric data shape after constraining region in r: (1648686, 13)\n",
      "Galactocentric data shape after constraining region in z: (666979, 13)\n",
      "Galactocentric data shape after removing halo stars: (665663, 14)\n"
     ]
    }
   ],
   "source": [
    "# CPU version\n",
    "\n",
    "def load_galactic_parameters():\n",
    "   \n",
    "   # Initial Galactocentric distance\n",
    "   r_0 = 8277\n",
    "\n",
    "   # Initial height over Galactic plane\n",
    "   z_0 = 25\n",
    "\n",
    "   # Initial solar vector\n",
    "   v_sun = transformation_constants.V_SUN\n",
    "   v_sun[0][0] = 11.1\n",
    "   v_sun[1][0] = 251.5\n",
    "   v_sun[2][0] = 8.59\n",
    "   \n",
    "   return r_0, z_0, v_sun\n",
    "\n",
    "r_0, z_0, v_sun = load_galactic_parameters()\n",
    "\n",
    "galcen_data = data_analysis.get_transformed_data(icrs_data,\n",
    "                                        include_cylindrical = True,\n",
    "                                        z_0 = z_0,\n",
    "                                        r_0 = r_0,\n",
    "                                        v_sun = v_sun,\n",
    "                                        debug = True,\n",
    "                                        is_bayes = True,\n",
    "                                        is_source_included = True)\n",
    "\n",
    "C_icrs = covariance_generation.generate_covmat(icrs_data)\n",
    "\n",
    "\n",
    "data_array_ICRS =  icrs_data[[\"ra\", \"dec\",\"r_est\",\"pmra\",\"pmdec\",\"radial_velocity\"]].to_numpy()\n",
    "galactocentric_cov = covariance_generation.transform_cov_matrix(C = C_icrs, \n",
    "                                    df = data_array_ICRS,\n",
    "                                    coordinate_system = 'Cartesian',\n",
    "                                    z_0 = z_0,\n",
    "                                    r_0 = r_0,\n",
    "                                    is_bayes = True)\n",
    "\n",
    "cyl_cov = covariance_generation.transform_cov_cylindirical(\n",
    "                                galcen_data, \n",
    "                                galactocentric_cov,\n",
    "                                Z_0 = transformation_constants.Z_0,\n",
    "                                R_0 = transformation_constants.R_0)\n",
    "\n",
    "\n",
    "galcen_data = galcen_data.merge(cyl_cov, on='source_id')\n",
    "\n",
    "# Remove noisy distances\n",
    "print(\"Removing noisy distances\")\n",
    "galcen_data['parallax_over_error'] = icrs_data.parallax_over_error[galcen_data.source_id == icrs_data.source_id]\n",
    "galcen_data = galcen_data[galcen_data.parallax_over_error > 20]\n",
    "galcen_data = galcen_data.drop(columns=['parallax_over_error'])\n",
    "\n",
    "print(\"Galactocentric data shape after removing noisy distances: {}\".format(galcen_data.shape))\n",
    "\n",
    "# Final data cut\n",
    "galcen_data = galcen_data[(galcen_data.r < 14000) & (galcen_data.r > 5000)]\n",
    "print(\"Galactocentric data shape after constraining region in r: {}\".format(galcen_data.shape))\n",
    "galcen_data = galcen_data[(galcen_data.z < 200) & (galcen_data.z > -200)]\n",
    "print(\"Galactocentric data shape after constraining region in z: {}\".format(galcen_data.shape))\n",
    "\n",
    "\n",
    "# Remove halo stars (condition taken from 1806.06038)                        \n",
    "v_dif = np.linalg.norm(np.array([galcen_data.v_x, galcen_data.v_y, galcen_data.v_z])-v_sun,\n",
    "                    axis=0)                                               \n",
    "galcen_data['v_dif'] = v_dif                                                 \n",
    "galcen_data = galcen_data[galcen_data.v_dif<210.]\n",
    "print(\"Galactocentric data shape after removing halo stars: {}\".format(galcen_data.shape))\n",
    "\n",
    "galcen_data.reset_index(inplace=True, drop=True)"
   ]
  },
  {
   "cell_type": "code",
   "execution_count": 4,
   "metadata": {},
   "outputs": [
    {
     "data": {
      "text/plain": [
       "(665663, 14)"
      ]
     },
     "execution_count": 4,
     "metadata": {},
     "output_type": "execute_result"
    }
   ],
   "source": [
    "galcen_data.shape"
   ]
  },
  {
   "cell_type": "code",
   "execution_count": 4,
   "metadata": {},
   "outputs": [
    {
     "name": "stdout",
     "output_type": "stream",
     "text": [
      "(1.4498006524102935, 1.6914340944786759)\n",
      "(-200.0, 200.0)\n"
     ]
    }
   ],
   "source": [
    "r_min = 5000/8277\n",
    "r_max = 14000/8277\n",
    "\n",
    "# # Generate bins\n",
    "bin_collection = data_analysis.get_collapsed_bins(data = galcen_data,\n",
    "                                                    theta = r_0,\n",
    "                                                    BL_r_min = r_min,\n",
    "                                                    BL_r_max = r_max,\n",
    "                                                    BL_z_min = -200,\n",
    "                                                    BL_z_max = 200,\n",
    "                                                    N_bins = (9, 1),\n",
    "                                                    r_drift = True,\n",
    "                                                    debug = False)\n",
    "\n",
    "bin_collection.merge_bins([-2, -1])"
   ]
  },
  {
   "cell_type": "code",
   "execution_count": 5,
   "metadata": {},
   "outputs": [
    {
     "name": "stderr",
     "output_type": "stream",
     "text": [
      "'texgyreheros-regular.otf' can not be subsetted into a Type 3 font. The entire font will be embedded in the output.\n"
     ]
    },
    {
     "data": {
      "image/png": "[encoded data removed]",
      "text/plain": [
       "<Figure size 720x720 with 1 Axes>"
      ]
     },
     "metadata": {
      "needs_background": "light"
     },
     "output_type": "display_data"
    }
   ],
   "source": [
    "import mplhep\n",
    "plt.style.use(mplhep.style.CMS)\n",
    "import boost_histogram\n",
    "\n",
    "prop_cycle = plt.rcParams['axes.prop_cycle']\n",
    "colors = prop_cycle.by_key()['color']\n",
    "\n",
    "n_bins = 8\n",
    "bins = bin_collection.bins\n",
    "i_list = [np.random.randint(n_bins, size=1)[0], -1]\n",
    "\n",
    "i_height = [0.9, 0.83, 0.76]\n",
    "fig, ax = plt.subplots(1, 1, figsize = (10, 10))\n",
    "\n",
    "for i_color, i in enumerate(i_list):\n",
    "\n",
    "    z_range = bins[i].z_boundaries\n",
    "    r_range = bins[i].r_boundaries\n",
    "\n",
    "    min_edge = 125\n",
    "    max_edge = 325\n",
    "    h0 = boost_histogram.Histogram(boost_histogram.axis.Variable(np.linspace(min_edge, max_edge, 50)))\n",
    "    h0.fill(np.abs(bins[i].data.v_phi))\n",
    "\n",
    "\n",
    "    r_loc = np.round(np.mean(bins[i].r_boundaries)*8277, 1)/1e3              \n",
    "    mplhep.histplot(h0, \n",
    "                    histtype=\"step\", \n",
    "                    ax=ax, \n",
    "                    yerr=False, \n",
    "                    lw=2, \n",
    "                    density=1, \n",
    "                    label=r\"$R = {}\\, kpc$\".format(r_loc)+\"\\n\"+r\"($R_0 = 8.277 \\, kpc$)\")\n",
    "   \n",
    "    # add a 'best fit' line\n",
    "    (mu, sigma) = norm.fit(np.abs(bins[i].data.v_phi))\n",
    "    bin_edges = h0.axes.edges[0]\n",
    "    y = norm.pdf(bin_edges, mu, sigma)\n",
    "    plt.plot(bin_edges, y, '--', linewidth=2, color=colors[i_color])\n",
    "\n",
    "plt.legend(loc=1, prop={'size': 20})\n",
    "\n",
    "#plt.title(r\"$V_\\phi}$ Distribution\")\n",
    "plt.xlabel(\"$|{V_\\phi}|}$  [km/s]\")\n",
    "plt.ylabel(\"normalised number of stars\")\n",
    "plt.savefig(\"vphi_dist_cut_20_8_bins.pdf\", bbox_inches=\"tight\")"
   ]
  },
  {
   "cell_type": "code",
   "execution_count": null,
   "metadata": {},
   "outputs": [],
   "source": [
    "bin_collection.GetMLEParameters()"
   ]
  },
  {
   "cell_type": "code",
   "execution_count": null,
   "metadata": {},
   "outputs": [],
   "source": [
    "test_bin = bin_collection.bins[1]\n",
    "print(test_bin.z_boundaries)\n",
    "print(test_bin.data.columns)"
   ]
  },
  {
   "cell_type": "code",
   "execution_count": null,
   "metadata": {},
   "outputs": [],
   "source": [
    "def plot_velocity_distribution(bins, is_range=False, plot_MU=False):\n",
    "\n",
    "    if(len(bins) % np.sqrt(len(bins)) == 0):\n",
    "        figs_x = round(np.sqrt(len(bins)))\n",
    "        figs_y = figs_x\n",
    "    else:\n",
    "        figs_x = round(np.sqrt(len(bins)))\n",
    "        figs_y = figs_x+1\n",
    "\n",
    "    if(len(bins) > 5):\n",
    "        figsize = 15\n",
    "    else:\n",
    "        figsize = 10\n",
    "\n",
    "    fig, axs = plt.subplots(figs_y, figs_x, figsize = (figsize,figsize))\n",
    "\n",
    "    for i, ax in enumerate(axs.flat):\n",
    "        if(i < len(bins)):\n",
    "\n",
    "            if(np.abs(np.min(bins[i].data.v_phi) - np.max(bins[i].data.v_phi)) > 500):\n",
    "                n_bins = 80\n",
    "            else:\n",
    "                n_bins = 40\n",
    "\n",
    "            z_range = bins[i].z_boundaries\n",
    "            r_range = bins[i].r_boundaries\n",
    "\n",
    "            text_string = \"$z \\in [{:.1f}, {:.1f}]$\\n$r \\in [{:.1f}, {:.1f}]$\".format(z_range[0], z_range[1], \n",
    "                                                                                    r_range[0], r_range[1])\n",
    "            ax.text(0.75, 0.8,text_string, horizontalalignment='center',\n",
    "                                            verticalalignment='center',\n",
    "                                            transform = ax.transAxes, fontdict={'fontsize': 12})\n",
    "\n",
    "            if(is_range):\n",
    "                mean = np.mean(bins[i].data.v_phi)\n",
    "                median = np.median(bins[i].data.v_phi)\n",
    "                if plot_MU: MLE_MU = bins[i].MLE_mu\n",
    "\n",
    "                ax.hist(bins[i].data.v_phi, \n",
    "                        bins=n_bins, \n",
    "                        range = (mean-150, mean+150), \n",
    "                        edgecolor='black',\n",
    "                        density = True)\n",
    "\n",
    "                ax.axvline(x=mean, ls=\"--\", label=\"Mean\", color='r')\n",
    "                ax.axvline(x=median, ls=\"--\", label=\"Median\", color='orange')\n",
    "                if plot_MU: ax.axvline(x=bins[i].MLE_mu, ls=\"--\", label=\"MLE\", color='white')\n",
    "                ax.legend(loc=\"lower left\")\n",
    "\n",
    "            else:    \n",
    "                ax.hist(bins[i].data.v_phi, \n",
    "                        bins=n_bins, \n",
    "                        edgecolor='black')\n",
    "            \n",
    "            \n",
    "            ax.set_xlabel(\"$v_\\phi$ [km/s]\", fontdict={'fontsize': 15}, labelpad = 5)\n",
    "            \n",
    "            ax.set_ylabel(\"N\", fontdict={'fontsize': 15}, labelpad = 10, rotation=0)\n",
    "            #ax.ticklabel_format(axis=\"y\", style=\"sci\", scilimits=(3,3))\n",
    "            ax.yaxis.set_label_coords(-0.1, 1.0)\n",
    "\n",
    "            #ax.axvline(x=0, ls=\"--\", label=\"Max\", color='r')\n",
    "        \n",
    "        else:\n",
    "            fig.delaxes(ax)\n",
    "\n",
    "    plt.tight_layout()\n",
    "    #fig.suptitle(\"Velocity distribution in r-z bins\", fontsize=18)\n"
   ]
  },
  {
   "cell_type": "code",
   "execution_count": null,
   "metadata": {},
   "outputs": [],
   "source": []
  },
  {
   "cell_type": "code",
   "execution_count": null,
   "metadata": {},
   "outputs": [],
   "source": [
    "plot_velocity_distribution(bin_collection.bins[0:4])"
   ]
  },
  {
   "attachments": {},
   "cell_type": "markdown",
   "metadata": {},
   "source": [
    "### BinCollection of a thinner slice  \n",
    "  \n",
    "  $z \\in [-200, 200]$"
   ]
  },
  {
   "cell_type": "code",
   "execution_count": null,
   "metadata": {},
   "outputs": [],
   "source": [
    "min_val = np.min(galcen_data.r)\n",
    "max_val = np.max(galcen_data.r)\n",
    "\n",
    "# Default bins in range: -10 - 10 [kpc]\n",
    "bin_collection_thin = data_analysis.get_collapsed_bins(data = galcen_data,\n",
    "                                                theta = (0, 0),\n",
    "                                                BL_r_min = min_val - 1, \n",
    "                                                BL_r_max = max_val + 1, \n",
    "                                                BL_z_min = -200, \n",
    "                                                BL_z_max = 200, \n",
    "                                                N_bins = (10, 4),\n",
    "                                                r_drift = False, \n",
    "                                                debug = True)"
   ]
  },
  {
   "cell_type": "code",
   "execution_count": null,
   "metadata": {},
   "outputs": [],
   "source": [
    "bin_collection_thin.GetMLEParameters()"
   ]
  },
  {
   "cell_type": "code",
   "execution_count": null,
   "metadata": {},
   "outputs": [],
   "source": [
    "for i, j  in enumerate(range(8, 28, 4)):\n",
    "\n",
    "    plot_velocity_distribution(bin_collection_thin.bins[j:j+4], \n",
    "                                is_range=True,\n",
    "                                plot_MU=False)\n",
    "    plt.savefig(\"../out/bin_velocities/Bin_Velocities_{}.png\".format(i), dpi=300)"
   ]
  },
  {
   "attachments": {},
   "cell_type": "markdown",
   "metadata": {},
   "source": [
    "--- \n",
    "--- "
   ]
  },
  {
   "attachments": {},
   "cell_type": "markdown",
   "metadata": {},
   "source": [
    "# Variance distribution plots"
   ]
  },
  {
   "cell_type": "code",
   "execution_count": null,
   "metadata": {},
   "outputs": [],
   "source": [
    "def plot_variance_distribution(bins, parameter, is_range=False, plot_MU=False):\n",
    "\n",
    "    if(len(bins) % np.sqrt(len(bins)) == 0):\n",
    "        figs_x = round(np.sqrt(len(bins)))\n",
    "        figs_y = figs_x\n",
    "    else:\n",
    "        figs_x = round(np.sqrt(len(bins)))\n",
    "        figs_y = figs_x+1\n",
    "\n",
    "    if(len(bins) > 5):\n",
    "        figsize = 15\n",
    "    else:\n",
    "        figsize = 10\n",
    "\n",
    "    fig, axs = plt.subplots(figs_y, figs_x, figsize = (figsize,figsize))\n",
    "\n",
    "    for i, ax in enumerate(axs.flat):\n",
    "\n",
    "        if(i < len(bins)):\n",
    "\n",
    "            n_bins = 160\n",
    "\n",
    "            z_range = bins[i].z_boundaries\n",
    "            r_range = bins[i].r_boundaries\n",
    "\n",
    "            text_string = \"$z \\in [{:.1f}, {:.1f}]$\\n$r \\in [{:.1f}, {:.1f}]$\".format(z_range[0], z_range[1], \n",
    "                                                                                    r_range[0], r_range[1])\n",
    "            ax.text(0.75, 0.8,text_string, horizontalalignment='center',\n",
    "                                            verticalalignment='center',\n",
    "                                            transform = ax.transAxes, fontdict={'fontsize': 12})\n",
    "\n",
    "\n",
    "            var_array = bins[i].get_error_data(parameter)\n",
    "            var_array = var_array**2\n",
    "\n",
    "            mean = np.mean(var_array)\n",
    "            median = np.median(var_array)\n",
    "\n",
    "            ax.hist(var_array, \n",
    "                    bins=n_bins,\n",
    "                    #range = (0, 10*median), \n",
    "                    edgecolor='black',\n",
    "                    density = True)\n",
    "\n",
    "            ax.axvline(x=mean, ls=\"--\", label=\"Mean\", color='r')\n",
    "            ax.axvline(x=median, ls=\"--\", label=\"Median\", color='orange')\n",
    "            ax.legend(loc=\"lower right\")\n",
    "\n",
    "            ax.set_xlim(0, 0.1*np.max(var_array))\n",
    "\n",
    "            ax.set_yscale('log')\n",
    "            \n",
    "            sub_index = \"{\" + \"v_\\{}\".format(parameter[parameter.find('_')+1:]) + \"}\"\n",
    "            if(parameter == 'v_r'):\n",
    "                sub_index = \"{\" + \"v_r\" + \"}\"\n",
    "            \n",
    "            ax.set_xlabel('$\\sigma^2_{}$ [km/s]'.format(sub_index), fontdict={'fontsize': 15}, labelpad = 5)\n",
    "            \n",
    "            ax.set_ylabel(\"N\", fontdict={'fontsize': 15}, labelpad = 10, rotation=0)\n",
    "            #ax.ticklabel_format(axis=\"y\", style=\"sci\", scilimits=(3,3))\n",
    "            ax.yaxis.set_label_coords(-0.1, 1.0)\n",
    "        \n",
    "        else:\n",
    "            fig.delaxes(ax)\n",
    "\n",
    "    plt.tight_layout()\n"
   ]
  },
  {
   "cell_type": "code",
   "execution_count": null,
   "metadata": {},
   "outputs": [],
   "source": [
    "test_arr = bin_collection_thin.bins[4].get_error_data('v_phi')\n",
    "np.median((test_arr))"
   ]
  },
  {
   "cell_type": "code",
   "execution_count": null,
   "metadata": {},
   "outputs": [],
   "source": [
    "plot_variance_distribution(bin_collection_thin.bins[4:8], parameter='v_phi',\n",
    "                                plot_MU=False)"
   ]
  },
  {
   "cell_type": "code",
   "execution_count": null,
   "metadata": {},
   "outputs": [],
   "source": [
    "plot_variance_distribution(bin_collection_thin.bins[24:28], parameter='v_r',\n",
    "                                plot_MU=False)\n"
   ]
  },
  {
   "attachments": {},
   "cell_type": "markdown",
   "metadata": {},
   "source": [
    "---"
   ]
  },
  {
   "cell_type": "code",
   "execution_count": null,
   "metadata": {},
   "outputs": [],
   "source": []
  }
 ],
 "metadata": {
  "kernelspec": {
   "display_name": "dspn_env",
   "language": "python",
   "name": "python3"
  },
  "language_info": {
   "codemirror_mode": {
    "name": "ipython",
    "version": 3
   },
   "file_extension": ".py",
   "mimetype": "text/x-python",
   "name": "python",
   "nbconvert_exporter": "python",
   "pygments_lexer": "ipython3",
   "version": "3.6.8"
  },
  "orig_nbformat": 4,
  "vscode": {
   "interpreter": {
    "hash": "49a7e7b8cb9c8c49df4aa20270c97963c587815697f8fb9b088c19ad751a5862"
   }
  }
 },
 "nbformat": 4,
 "nbformat_minor": 2
}
