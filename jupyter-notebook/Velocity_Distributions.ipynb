{
 "cells": [
  {
   "cell_type": "code",
   "execution_count": null,
   "metadata": {},
   "outputs": [],
   "source": [
    "import sys\n",
    "import matplotlib.pyplot as plt\n",
    "import numpy as np\n",
    "import time\n",
    "from functools import reduce\n",
    "\n",
    "sys.path.append(\"../gaia_tools/\")\n",
    "import data_analysis\n",
    "import transformation_constants\n",
    "import covariance_generation\n",
    "from import_functions import import_data"
   ]
  },
  {
   "cell_type": "code",
   "execution_count": null,
   "metadata": {},
   "outputs": [],
   "source": [
    "path = \"/hdfs/local/sven/gaia_tools_data/gaia_rv_data_bayes.csv\"\n",
    "data_icrs = import_data(path = path, debug = False)"
   ]
  },
  {
   "cell_type": "code",
   "execution_count": null,
   "metadata": {},
   "outputs": [],
   "source": [
    "# Transform coordinates\n",
    "galcen_data = data_analysis.get_transformed_data(data_icrs,\n",
    "                                        include_cylindrical = True,\n",
    "                                        debug = True,\n",
    "                                        is_bayes = True, \n",
    "                                        is_source_included = True)\n",
    "\n",
    "# Generate covariance information\n",
    "cov_df = covariance_generation.generate_covmatrices(df = data_icrs, \n",
    "                                        df_crt = galcen_data, \n",
    "                                        transform_to_galcen = True, \n",
    "                                        transform_to_cylindrical = True,\n",
    "                                        is_bayes = True,\n",
    "                                        debug=True)\n",
    "\n",
    "galcen_data['cov_mat'] = cov_df['cov_mat']\n",
    "\n",
    "galcen_data = galcen_data[(galcen_data.r < 12000) & (galcen_data.r > 5000) ]\n",
    "galcen_data.reset_index(inplace=True, drop=True)"
   ]
  },
  {
   "cell_type": "code",
   "execution_count": null,
   "metadata": {},
   "outputs": [],
   "source": [
    "min_val = np.min(galcen_data.r)\n",
    "max_val = np.max(galcen_data.r)\n",
    "\n",
    "# Default bins in range: -10 - 10 [kpc]\n",
    "bin_collection = data_analysis.get_collapsed_bins(data = galcen_data,\n",
    "                                                theta = (0, 0),\n",
    "                                                BL_r_min = min_val - 1, \n",
    "                                                BL_r_max = max_val + 1, \n",
    "                                                BL_z_min = -1200, \n",
    "                                                BL_z_max = 1200, \n",
    "                                                N_bins = (10, 4),\n",
    "                                                r_drift = False, \n",
    "                                                debug = True)"
   ]
  },
  {
   "cell_type": "code",
   "execution_count": null,
   "metadata": {},
   "outputs": [],
   "source": [
    "bin_collection.GetMLEParameters()"
   ]
  },
  {
   "cell_type": "code",
   "execution_count": null,
   "metadata": {},
   "outputs": [],
   "source": [
    "test_bin = bin_collection.bins[1]\n",
    "print(test_bin.z_boundaries)\n",
    "print(test_bin.data.columns)"
   ]
  },
  {
   "cell_type": "code",
   "execution_count": null,
   "metadata": {},
   "outputs": [],
   "source": [
    "def plot_velocity_distribution(bins, is_range=False, plot_MU=False):\n",
    "\n",
    "    if(len(bins) % np.sqrt(len(bins)) == 0):\n",
    "        figs_x = round(np.sqrt(len(bins)))\n",
    "        figs_y = figs_x\n",
    "    else:\n",
    "        figs_x = round(np.sqrt(len(bins)))\n",
    "        figs_y = figs_x+1\n",
    "\n",
    "    if(len(bins) > 5):\n",
    "        figsize = 15\n",
    "    else:\n",
    "        figsize = 10\n",
    "\n",
    "    fig, axs = plt.subplots(figs_y, figs_x, figsize = (figsize,figsize))\n",
    "\n",
    "    for i, ax in enumerate(axs.flat):\n",
    "\n",
    "        if(i < len(bins)):\n",
    "\n",
    "            if(np.abs(np.min(bins[i].data.v_phi) - np.max(bins[i].data.v_phi)) > 500):\n",
    "                n_bins = 80\n",
    "            else:\n",
    "                n_bins = 40\n",
    "\n",
    "            z_range = bins[i].z_boundaries\n",
    "            r_range = bins[i].r_boundaries\n",
    "\n",
    "            text_string = \"$z \\in [{:.1f}, {:.1f}]$\\n$r \\in [{:.1f}, {:.1f}]$\".format(z_range[0], z_range[1], \n",
    "                                                                                    r_range[0], r_range[1])\n",
    "            ax.text(0.75, 0.8,text_string, horizontalalignment='center',\n",
    "                                            verticalalignment='center',\n",
    "                                            transform = ax.transAxes, fontdict={'fontsize': 12})\n",
    "\n",
    "            if(is_range):\n",
    "                mean = np.mean(bins[i].data.v_phi)\n",
    "                median = np.median(bins[i].data.v_phi)\n",
    "                if plot_MU: MLE_MU = bins[i].MLE_mu\n",
    "\n",
    "                ax.hist(bins[i].data.v_phi, \n",
    "                        bins=n_bins, \n",
    "                        range = (mean-150, mean+150), \n",
    "                        edgecolor='black',\n",
    "                        density = True)\n",
    "\n",
    "                ax.axvline(x=mean, ls=\"--\", label=\"Mean\", color='r')\n",
    "                ax.axvline(x=median, ls=\"--\", label=\"Median\", color='orange')\n",
    "                if plot_MU: ax.axvline(x=bins[i].MLE_mu, ls=\"--\", label=\"MLE\", color='white')\n",
    "                ax.legend(loc=\"lower left\")\n",
    "\n",
    "            else:    \n",
    "                ax.hist(bins[i].data.v_phi, \n",
    "                        bins=n_bins, \n",
    "                        edgecolor='black')\n",
    "            \n",
    "            \n",
    "            ax.set_xlabel(\"$v_\\phi$ [km/s]\", fontdict={'fontsize': 15}, labelpad = 5)\n",
    "            \n",
    "            ax.set_ylabel(\"N\", fontdict={'fontsize': 15}, labelpad = 10, rotation=0)\n",
    "            #ax.ticklabel_format(axis=\"y\", style=\"sci\", scilimits=(3,3))\n",
    "            ax.yaxis.set_label_coords(-0.1, 1.0)\n",
    "\n",
    "            #ax.axvline(x=0, ls=\"--\", label=\"Max\", color='r')\n",
    "        \n",
    "        else:\n",
    "            fig.delaxes(ax)\n",
    "\n",
    "    plt.tight_layout()\n",
    "    #fig.suptitle(\"Velocity distribution in r-z bins\", fontsize=18)\n"
   ]
  },
  {
   "cell_type": "code",
   "execution_count": null,
   "metadata": {},
   "outputs": [],
   "source": [
    "plot_velocity_distribution(bin_collection.bins[0:4])"
   ]
  },
  {
   "cell_type": "markdown",
   "metadata": {},
   "source": [
    "### BinCollection of a thinner slice  \n",
    "  \n",
    "  $z \\in [-200, 200]$"
   ]
  },
  {
   "cell_type": "code",
   "execution_count": null,
   "metadata": {},
   "outputs": [],
   "source": [
    "min_val = np.min(galcen_data.r)\n",
    "max_val = np.max(galcen_data.r)\n",
    "\n",
    "# Default bins in range: -10 - 10 [kpc]\n",
    "bin_collection_thin = data_analysis.get_collapsed_bins(data = galcen_data,\n",
    "                                                theta = (0, 0),\n",
    "                                                BL_r_min = min_val - 1, \n",
    "                                                BL_r_max = max_val + 1, \n",
    "                                                BL_z_min = -200, \n",
    "                                                BL_z_max = 200, \n",
    "                                                N_bins = (10, 4),\n",
    "                                                r_drift = False, \n",
    "                                                debug = True)"
   ]
  },
  {
   "cell_type": "code",
   "execution_count": null,
   "metadata": {},
   "outputs": [],
   "source": [
    "bin_collection_thin.GetMLEParameters()"
   ]
  },
  {
   "cell_type": "code",
   "execution_count": null,
   "metadata": {},
   "outputs": [],
   "source": [
    "for i, j  in enumerate(range(8, 28, 4)):\n",
    "\n",
    "    plot_velocity_distribution(bin_collection_thin.bins[j:j+4], \n",
    "                                is_range=True,\n",
    "                                plot_MU=False)\n",
    "    plt.savefig(\"../out/bin_velocities/Bin_Velocities_{}.png\".format(i), dpi=300)"
   ]
  },
  {
   "cell_type": "markdown",
   "metadata": {},
   "source": [
    "--- \n",
    "--- "
   ]
  },
  {
   "cell_type": "markdown",
   "metadata": {},
   "source": [
    "# Variance distribution plots"
   ]
  },
  {
   "cell_type": "code",
   "execution_count": null,
   "metadata": {},
   "outputs": [],
   "source": [
    "def plot_variance_distribution(bins, parameter, is_range=False, plot_MU=False):\n",
    "\n",
    "    if(len(bins) % np.sqrt(len(bins)) == 0):\n",
    "        figs_x = round(np.sqrt(len(bins)))\n",
    "        figs_y = figs_x\n",
    "    else:\n",
    "        figs_x = round(np.sqrt(len(bins)))\n",
    "        figs_y = figs_x+1\n",
    "\n",
    "    if(len(bins) > 5):\n",
    "        figsize = 15\n",
    "    else:\n",
    "        figsize = 10\n",
    "\n",
    "    fig, axs = plt.subplots(figs_y, figs_x, figsize = (figsize,figsize))\n",
    "\n",
    "    for i, ax in enumerate(axs.flat):\n",
    "\n",
    "        if(i < len(bins)):\n",
    "\n",
    "            n_bins = 160\n",
    "\n",
    "            z_range = bins[i].z_boundaries\n",
    "            r_range = bins[i].r_boundaries\n",
    "\n",
    "            text_string = \"$z \\in [{:.1f}, {:.1f}]$\\n$r \\in [{:.1f}, {:.1f}]$\".format(z_range[0], z_range[1], \n",
    "                                                                                    r_range[0], r_range[1])\n",
    "            ax.text(0.75, 0.8,text_string, horizontalalignment='center',\n",
    "                                            verticalalignment='center',\n",
    "                                            transform = ax.transAxes, fontdict={'fontsize': 12})\n",
    "\n",
    "\n",
    "            var_array = bins[i].get_error_data(parameter)\n",
    "            var_array = var_array**2\n",
    "\n",
    "            mean = np.mean(var_array)\n",
    "            median = np.median(var_array)\n",
    "\n",
    "            ax.hist(var_array, \n",
    "                    bins=n_bins,\n",
    "                    #range = (0, 10*median), \n",
    "                    edgecolor='black',\n",
    "                    density = True)\n",
    "\n",
    "            ax.axvline(x=mean, ls=\"--\", label=\"Mean\", color='r')\n",
    "            ax.axvline(x=median, ls=\"--\", label=\"Median\", color='orange')\n",
    "            ax.legend(loc=\"lower right\")\n",
    "\n",
    "            ax.set_xlim(0, 0.1*np.max(var_array))\n",
    "\n",
    "            ax.set_yscale('log')\n",
    "            \n",
    "            sub_index = \"{\" + \"v_\\{}\".format(parameter[parameter.find('_')+1:]) + \"}\"\n",
    "            if(parameter == 'v_r'):\n",
    "                sub_index = \"{\" + \"v_r\" + \"}\"\n",
    "            \n",
    "            ax.set_xlabel('$\\sigma^2_{}$ [km/s]'.format(sub_index), fontdict={'fontsize': 15}, labelpad = 5)\n",
    "            \n",
    "            ax.set_ylabel(\"N\", fontdict={'fontsize': 15}, labelpad = 10, rotation=0)\n",
    "            #ax.ticklabel_format(axis=\"y\", style=\"sci\", scilimits=(3,3))\n",
    "            ax.yaxis.set_label_coords(-0.1, 1.0)\n",
    "        \n",
    "        else:\n",
    "            fig.delaxes(ax)\n",
    "\n",
    "    plt.tight_layout()\n"
   ]
  },
  {
   "cell_type": "code",
   "execution_count": null,
   "metadata": {},
   "outputs": [],
   "source": [
    "test_arr = bin_collection_thin.bins[4].get_error_data('v_phi')\n",
    "np.median((test_arr))"
   ]
  },
  {
   "cell_type": "code",
   "execution_count": null,
   "metadata": {},
   "outputs": [],
   "source": [
    "plot_variance_distribution(bin_collection_thin.bins[4:8], parameter='v_phi',\n",
    "                                plot_MU=False)"
   ]
  },
  {
   "cell_type": "code",
   "execution_count": null,
   "metadata": {},
   "outputs": [],
   "source": [
    "plot_variance_distribution(bin_collection_thin.bins[24:28], parameter='v_r',\n",
    "                                plot_MU=False)\n"
   ]
  },
  {
   "cell_type": "markdown",
   "metadata": {},
   "source": [
    "---"
   ]
  },
  {
   "cell_type": "code",
   "execution_count": null,
   "metadata": {},
   "outputs": [],
   "source": []
  }
 ],
 "metadata": {
  "interpreter": {
   "hash": "49a7e7b8cb9c8c49df4aa20270c97963c587815697f8fb9b088c19ad751a5862"
  },
  "kernelspec": {
   "display_name": "Python 3.6.8 ('dspn_env')",
   "language": "python",
   "name": "python3"
  },
  "language_info": {
   "codemirror_mode": {
    "name": "ipython",
    "version": 3
   },
   "file_extension": ".py",
   "mimetype": "text/x-python",
   "name": "python",
   "nbconvert_exporter": "python",
   "pygments_lexer": "ipython3",
   "version": "3.6.8"
  },
  "orig_nbformat": 4
 },
 "nbformat": 4,
 "nbformat_minor": 2
}
