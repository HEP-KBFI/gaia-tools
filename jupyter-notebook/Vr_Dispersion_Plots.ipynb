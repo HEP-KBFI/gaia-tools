{
 "cells": [
  {
   "cell_type": "markdown",
   "metadata": {},
   "source": [
    "# Notebook Regarding Discussion of $\\bar{V_R^2}$"
   ]
  },
  {
   "cell_type": "markdown",
   "metadata": {},
   "source": [
    "## Loading Data"
   ]
  },
  {
   "cell_type": "code",
   "execution_count": null,
   "metadata": {},
   "outputs": [],
   "source": [
    "\n",
    "import sys\n",
    "sys.path.append(\"../gaia_tools/\")\n",
    "sys.path.append(\"../scripts/\")\n",
    "import data_analysis\n",
    "import covariance_generation as cov\n",
    "from import_functions import *\n",
    "from data_plot import sample_distribution_galactic_coords, plot_radial_distribution, plot_distribution, display_polar_histogram, plot_variance_distribution, plot_velocity_distribution\n",
    "import numpy as np\n",
    "import emcee\n",
    "from functools import reduce\n",
    "import time, timeit\n",
    "import transformation_constants\n",
    "import datetime as dt\n",
    "import photometric_cut\n",
    "import os\n",
    "import pickle\n",
    "from pathlib import Path\n",
    "import argparse\n",
    "import random\n",
    "import matplotlib.pyplot as plt\n"
   ]
  },
  {
   "cell_type": "code",
   "execution_count": null,
   "metadata": {},
   "outputs": [],
   "source": [
    "galcen_data = import_baseline_sample()"
   ]
  },
  {
   "cell_type": "code",
   "execution_count": null,
   "metadata": {},
   "outputs": [],
   "source": [
    "# Generate bins\n",
    "bin_collection = data_analysis.get_collapsed_bins(data = galcen_data,\n",
    "                                                      theta = (0, 1),\n",
    "                                                      BL_r_min = min_r - 1,\n",
    "                                                      BL_r_max = max_r + 1,\n",
    "                                                      BL_z_min = -200,\n",
    "                                                      BL_z_max = 200,\n",
    "                                                      N_bins = (50, 1),\n",
    "                                                      r_drift = False,\n",
    "                                                      debug = False)"
   ]
  },
  {
   "cell_type": "code",
   "execution_count": null,
   "metadata": {},
   "outputs": [],
   "source": [
    "bin_mids = []\n",
    "for i, bin in enumerate(bin_collection.bins):\n",
    "    bin_mids.append(np.median(bin.r_boundaries))"
   ]
  },
  {
   "cell_type": "markdown",
   "metadata": {},
   "source": [
    "## XX Component Check"
   ]
  },
  {
   "cell_type": "code",
   "execution_count": null,
   "metadata": {},
   "outputs": [],
   "source": [
    "new_xx = []\n",
    "for i, bin in enumerate(bin_collection.bins):\n",
    "    nom = np.var(bin.data.v_phi)\n",
    "    denom = np.mean(bin.data.v_r)**2 + np.var(bin.data.v_r)\n",
    "    new_xx.append(nom/denom)\n",
    "\n",
    "plt.plot(np.array(bin_mids)/1000, new_xx)\n",
    "plt.xlabel(r'$r$ [kpc]', fontdict={'fontsize' : 16})\n",
    "plt.ylabel(r'$X^2$',  fontdict={'fontsize' : 16})\n",
    "plt.xticks(np.linspace(5,12,6))"
   ]
  },
  {
   "cell_type": "markdown",
   "metadata": {},
   "source": [
    "## Checking components in $\\overline{v^2_R} = \\overline{v_R}^2 + \\sigma^2_R$"
   ]
  },
  {
   "cell_type": "code",
   "execution_count": null,
   "metadata": {},
   "outputs": [],
   "source": [
    "# Compute the variance and mean of v_r in bins\n",
    "\n",
    "velocity_var = []\n",
    "for i, bin in enumerate(bin_collection.bins):\n",
    "    var_i = np.var(bin.data['v_r'])\n",
    "    velocity_var.append(var_i)\n",
    "velocity_var = np.array(velocity_var)\n",
    "\n",
    "mean_vel = []\n",
    "for i, bin in enumerate(bin_collection.bins):\n",
    "    mean_vel.append(np.mean(bin.data.v_r))\n",
    "mean_vel = np.array(mean_vel)"
   ]
  },
  {
   "cell_type": "markdown",
   "metadata": {},
   "source": [
    "### Checking $\\sigma_R^2$ component"
   ]
  },
  {
   "cell_type": "code",
   "execution_count": null,
   "metadata": {},
   "outputs": [],
   "source": [
    "plt.plot(np.array(bin_mids)/1000, np.sqrt(velocity_var))\n",
    "plt.xlabel(r'$r$ [kpc]', fontdict={'fontsize' : 16})\n",
    "plt.ylabel(r'$\\sqrt{\\sigma_r^2}$',  fontdict={'fontsize' : 16})\n",
    "plt.xticks(np.linspace(5,12,6))"
   ]
  },
  {
   "cell_type": "code",
   "execution_count": null,
   "metadata": {},
   "outputs": [],
   "source": [
    "plt.plot(np.array(bin_mids)/1000, velocity_var)\n",
    "plt.xlabel(r'$r$ [kpc]', fontdict={'fontsize' : 16})\n",
    "plt.ylabel(r'$\\sigma_r^2$',  fontdict={'fontsize' : 16})\n",
    "plt.xticks(np.linspace(5,12,6))"
   ]
  },
  {
   "cell_type": "markdown",
   "metadata": {},
   "source": [
    "### Checking $\\bar{v_R}^2$ component"
   ]
  },
  {
   "cell_type": "code",
   "execution_count": null,
   "metadata": {},
   "outputs": [],
   "source": [
    "mean_sqrared = mean_vel**2\n",
    "\n",
    "plt.scatter(np.array(bin_mids)/1000, mean_sqrared, s=10, color='black', label=r'$\\bar{v_r}^2$')\n",
    "plt.scatter(np.array(bin_mids)/1000, velocity_var, s=10, color='red', label=r'$\\sigma^2_r$')\n",
    "\n",
    "overall_mean = np.mean(mean_sqrared[~np.isnan(mean_sqrared)])\n",
    "\n",
    "plt.hlines(overall_mean, \n",
    "                    bin_mids[0]/1e3, bin_mids[-1]/1e3, \n",
    "                    linestyles='--', \n",
    "                    label=\"Mean \" + r\"$\\overline{v_r}^2$:\" + \"{}\".format(np.round(overall_mean)))\n",
    "plt.xlabel(r'$r$ [kpc]', fontdict={'fontsize' : 16})\n",
    "plt.ylabel(r'$\\overline{v_r}^2$',  fontdict={'fontsize' : 16})\n",
    "plt.xticks(np.linspace(5,12,6))\n",
    "plt.legend()\n"
   ]
  },
  {
   "cell_type": "code",
   "execution_count": null,
   "metadata": {},
   "outputs": [],
   "source": [
    "plt.scatter(np.array(bin_mids)/1000, mean_sqrared, s=4, color='black')\n",
    "\n",
    "overall_mean = np.mean(mean_sqrared[~np.isnan(mean_sqrared)])\n",
    "\n",
    "plt.hlines(overall_mean, \n",
    "                    bin_mids[0]/1e3, bin_mids[-1]/1e3, \n",
    "                    linestyles='--', \n",
    "                    label=\"Mean: {}\".format(np.round(overall_mean)))\n",
    "plt.xlabel(r'$r$ [kpc]', fontdict={'fontsize' : 16})\n",
    "plt.ylabel(r'$\\overline{v_r}^2$ [km/s]',  fontdict={'fontsize' : 16})\n",
    "plt.xticks(np.linspace(5,12,6))\n",
    "plt.legend()\n",
    "overall_mean"
   ]
  },
  {
   "cell_type": "code",
   "execution_count": null,
   "metadata": {},
   "outputs": [],
   "source": [
    "plt.scatter(np.array(bin_mids)/1000, mean_vel, s=4, color='black')\n",
    "\n",
    "overall_mean = np.mean(mean_vel[~np.isnan(mean_vel)])\n",
    "\n",
    "plt.hlines(overall_mean, \n",
    "                    bin_mids[0]/1e3, bin_mids[-1]/1e3, \n",
    "                    linestyles='--', \n",
    "                    label=\"Mean: {}\".format(np.round(overall_mean,2)))\n",
    "plt.xlabel(r'$r$ [kpc]', fontdict={'fontsize' : 16})\n",
    "plt.ylabel(r'$\\overline{v_r}$ [km/s]',  fontdict={'fontsize' : 16})\n",
    "plt.xticks(np.linspace(5,12,6))\n",
    "plt.legend()\n"
   ]
  },
  {
   "cell_type": "markdown",
   "metadata": {},
   "source": [
    "### Checking $\\overline{v_R}^2 + \\sigma^2_R$"
   ]
  },
  {
   "cell_type": "code",
   "execution_count": null,
   "metadata": {},
   "outputs": [],
   "source": [
    "mean_sqrared = mean_vel**2\n",
    "\n",
    "plt.scatter(np.array(bin_mids)/1000, mean_sqrared+velocity_var, s=10, color='black', label=r'$\\overline{v_R}^2 + \\sigma^2_R$')\n",
    "plt.scatter(np.array(bin_mids)/1000, velocity_var, s=10, color='red', label=r'$\\sigma^2_r$')\n",
    "\n",
    "#overall_mean = np.mean(mean_sqrared[~np.isnan(mean_sqrared)])\n",
    "\n",
    "plt.xlabel(r'$r$ [kpc]', fontdict={'fontsize' : 16})\n",
    "plt.ylabel(r'$\\overline{v_R}^2 + \\sigma^2_R$',  fontdict={'fontsize' : 16})\n",
    "plt.xticks(np.linspace(5,12,6))\n",
    "plt.legend()\n"
   ]
  },
  {
   "cell_type": "markdown",
   "metadata": {},
   "source": [
    "## Astropy Sanity Check"
   ]
  },
  {
   "cell_type": "code",
   "execution_count": null,
   "metadata": {},
   "outputs": [],
   "source": [
    "import astropy.coordinates as coord\n",
    "import astropy.units as u\n",
    "\n",
    "icrs_star = icrs_data.iloc[0]\n",
    "\n",
    "c1 = coord.SkyCoord(ra=icrs_star.ra*u.degree, \n",
    "                    dec=icrs_star.dec*u.degree,\n",
    "                    distance=icrs_star.r_est*u.pc,\n",
    "                    pm_ra_cosdec=icrs_star.pmra*u.mas/u.yr,\n",
    "                    pm_dec=icrs_star.pmdec*u.mas/u.yr,\n",
    "                    radial_velocity=icrs_star.radial_velocity*u.km/u.s,\n",
    "                    frame='icrs')"
   ]
  },
  {
   "cell_type": "code",
   "execution_count": null,
   "metadata": {},
   "outputs": [],
   "source": [
    "v_sun = [-11.1, 232.24, 7.25]* (u.km / u.s)\n",
    "\n",
    "gc_frame = coord.Galactocentric(galcen_distance=8.178*u.kpc,\n",
    "    galcen_v_sun=v_sun,\n",
    "    z_sun=17*u.pc)\n",
    "\n",
    "gc1 = c1.transform_to(gc_frame)\n",
    "gc1"
   ]
  },
  {
   "cell_type": "code",
   "execution_count": null,
   "metadata": {},
   "outputs": [],
   "source": [
    "coord.Galactocentric()"
   ]
  },
  {
   "cell_type": "code",
   "execution_count": null,
   "metadata": {},
   "outputs": [],
   "source": [
    "print(galcen_data.iloc[0])"
   ]
  },
  {
   "cell_type": "code",
   "execution_count": null,
   "metadata": {},
   "outputs": [],
   "source": [
    "def cov(x, y):\n",
    "    x_mean, y_mean = np.mean(x), np.mean(y)\n",
    "    return np.sum((x-x_mean)*(y-y_mean))/(len(x) - 1)\n",
    "\n",
    "def cov_mat(bin):\n",
    "    return np.array([[cov(bin.data.v_r, bin.data.v_r), cov(bin.data.v_r, bin.data.v_phi), cov(bin.data.v_r, bin.data.v_z)],\n",
    "                    [cov(bin.data.v_r, bin.data.v_phi), cov(bin.data.v_phi, bin.data.v_phi), cov(bin.data.v_phi, bin.data.v_z)],\n",
    "                    [cov(bin.data.v_r, bin.data.v_z), cov(bin.data.v_phi, bin.data.v_z), cov(bin.data.v_z, bin.data.v_z)]])\n",
    "\n",
    "def cov_mat(X):\n",
    "    return np.array([[cov(X[0], X[0]), cov(X[0], X[1]), cov(X[0], X[2])],\n",
    "                    [cov(X[0], X[1]), cov(X[1], X[1]), cov(X[1], X[2])],\n",
    "                    [cov(X[0], X[2]), cov(X[1], X[2]), cov(X[2], X[2])]])"
   ]
  },
  {
   "cell_type": "markdown",
   "metadata": {},
   "source": [
    "### Compute vertex deviation"
   ]
  },
  {
   "cell_type": "code",
   "execution_count": null,
   "metadata": {},
   "outputs": [],
   "source": [
    "def compute_vertex_deviation(velocity_ellipsoid):\n",
    "\n",
    "    vel_ell_comps = velocity_ellipsoid[0,1]/(velocity_ellipsoid[0,0] - velocity_ellipsoid[1,1])\n",
    "    vertex_dev = np.arctan(2 * (vel_ell_comps))/2 \n",
    "\n",
    "    # Returns in radians\n",
    "    return vertex_dev"
   ]
  },
  {
   "cell_type": "code",
   "execution_count": null,
   "metadata": {},
   "outputs": [],
   "source": [
    "velocity_ellipsoids = []\n",
    "vertex_devs = []\n",
    "for i, bin in enumerate(bin_collection.bins):\n",
    "    \n",
    "    vel_data = [bin.data.v_r, bin.data.v_phi, bin.data.v_z]\n",
    "    vel_data = np.array(vel_data)\n",
    "    print(vel_data.shape)\n",
    "    #velocity_ellipsoids.append(cov_mat(bin))\n",
    "    velocity_ellipsoids.append(cov_mat(vel_data))\n",
    "\n",
    "\n",
    "    vertex_dev = compute_vertex_deviation(velocity_ellipsoids[i])\n",
    "    vertex_devs.append(vertex_dev)\n",
    "vertex_devs"
   ]
  },
  {
   "cell_type": "code",
   "execution_count": null,
   "metadata": {},
   "outputs": [],
   "source": [
    "def plot_vertex_deviations(bin_collection):\n",
    "\n",
    "    velocity_ellipsoids = []\n",
    "    vertex_devs = []\n",
    "    for i, bin in enumerate(bin_collection.bins):\n",
    "    \n",
    "        vel_data = [bin.data.v_r, bin.data.v_phi, bin.data.v_z]\n",
    "        vel_data = np.array(vel_data)\n",
    "        print(vel_data.shape)\n",
    "        #velocity_ellipsoids.append(cov_mat(bin))\n",
    "        velocity_ellipsoids.append(cov_mat(vel_data))\n",
    "\n",
    "\n",
    "        vertex_dev = compute_vertex_deviation(velocity_ellipsoids[i])\n",
    "        vertex_devs.append(vertex_dev)\n",
    "\n",
    "    fontdict = {'fontsize' : 15}\n",
    "\n",
    "    fig, axs = plt.subplots(1,2,figsize = (14, 7))\n",
    "\n",
    "    axs[0].plot(np.array(bin_mids)/1000, np.array(velocity_ellipsoids)[:,0,1])\n",
    "    # axs[0].vlines(bin_collection.bin_boundaries[0][0]/1000, \n",
    "    #             np.min(np.array(velocity_ellipsoids)[:,0,1]), \n",
    "    #             np.max(np.array(velocity_ellipsoids)[:,0,1]),\n",
    "    #             linestyles='--', color='gray')\n",
    "\n",
    "    axs[0].set_ylabel(r'$\\sigma_{R\\phi}^2$', fontdict=fontdict, labelpad=0)\n",
    "    axs[0].set_xlabel(r'$R$ [kpc]', fontdict=fontdict, labelpad=0)\n",
    "    axs[0].tick_params(axis='both', which='major', labelsize=15)\n",
    "    axs[0].grid()\n",
    "\n",
    "    vertex_devs = []\n",
    "    for i, bin in enumerate(bin_collection.bins):\n",
    "        vertex_dev = compute_vertex_deviation(velocity_ellipsoids[i])\n",
    "        vertex_devs.append(vertex_dev)\n",
    "\n",
    "    axs[1].plot(np.array(bin_mids)/1000, vertex_devs)\n",
    "    # axs[1].vlines(bin_collection.bin_boundaries[0][0]/1000, \n",
    "    #             np.min(vertex_devs), \n",
    "    #             np.max(vertex_devs),\n",
    "    #             linestyles='--', color='gray')\n",
    "    #axs[1].set_ylim(-10,8.5)\n",
    "\n",
    "    axs[1].set_ylabel('Vertex Deviation [rad]', fontdict=fontdict, labelpad=-5)\n",
    "    axs[1].set_xlabel(r'$R$ [kpc]', fontdict=fontdict, labelpad=0)\n",
    "    axs[1].tick_params(axis='both', which='major', labelsize=15)\n",
    "    axs[1].grid()\n",
    "\n",
    "plot_vertex_deviations(bin_collection)"
   ]
  },
  {
   "cell_type": "code",
   "execution_count": null,
   "metadata": {},
   "outputs": [],
   "source": [
    "def plot_ellipsoid_components(bin_collection):\n",
    "\n",
    "    velocity_ellipsoids = []\n",
    "    vertex_devs = []\n",
    "    for i, bin in enumerate(bin_collection.bins):\n",
    "    \n",
    "        vel_data = [bin.data.v_r, bin.data.v_phi, bin.data.v_z]\n",
    "        vel_data = np.array(vel_data)\n",
    "        #velocity_ellipsoids.append(cov_mat(bin))\n",
    "        velocity_ellipsoids.append(cov_mat(vel_data))\n",
    "\n",
    "    fontdict = {'fontsize' : 15}\n",
    "\n",
    "    fig, axs = plt.subplots(1,2,figsize = (14, 7))\n",
    "\n",
    "    axs[0].plot(np.array(bin_mids)/1000, np.array(velocity_ellipsoids)[:,0,2])\n",
    "    # axs[0].vlines(bin_collection.bin_boundaries[0][0]/1000, \n",
    "    #             np.min(np.array(velocity_ellipsoids)[:,0,2]), \n",
    "    #             np.max(np.array(velocity_ellipsoids)[:,0,2]),\n",
    "    #             linestyles='--', color='gray')\n",
    "\n",
    "    axs[0].set_ylabel(r'$\\sigma_{Rz}^2$', fontdict=fontdict, labelpad=0)\n",
    "    axs[0].set_xlabel(r'$R$ [kpc]', fontdict=fontdict, labelpad=0)\n",
    "    axs[0].tick_params(axis='both', which='major', labelsize=15)\n",
    "    axs[0].grid()\n",
    "\n",
    "\n",
    "    axs[1].plot(np.array(bin_mids)/1000, np.array(velocity_ellipsoids)[:,2,1])\n",
    "    # axs[1].vlines(bin_collection.bin_boundaries[0][0]/1000, \n",
    "    #             np.min(np.array(velocity_ellipsoids)[:,2,1]), \n",
    "    #             np.max(np.array(velocity_ellipsoids)[:,2,1]),\n",
    "    #             linestyles='--', color='gray')\n",
    "\n",
    "\n",
    "    axs[1].set_ylabel(r'$\\sigma_{\\phi z}^2$', fontdict=fontdict, labelpad=-5)\n",
    "    axs[1].set_xlabel(r'$R$ [kpc]', fontdict=fontdict, labelpad=0)\n",
    "    axs[1].tick_params(axis='both', which='major', labelsize=15)\n",
    "    axs[1].grid()\n",
    "\n",
    "plot_ellipsoid_components(bin_collection)"
   ]
  }
 ],
 "metadata": {
  "kernelspec": {
   "display_name": "Python 3.9.12 ('.gaia-project-env')",
   "language": "python",
   "name": "python3"
  },
  "language_info": {
   "codemirror_mode": {
    "name": "ipython",
    "version": 3
   },
   "file_extension": ".py",
   "mimetype": "text/x-python",
   "name": "python",
   "nbconvert_exporter": "python",
   "pygments_lexer": "ipython3",
   "version": "3.9.12"
  },
  "orig_nbformat": 4,
  "vscode": {
   "interpreter": {
    "hash": "d8b682a76a9d2be70a33d5d7adc5516e883f06df882d840d60e537feb5053e29"
   }
  }
 },
 "nbformat": 4,
 "nbformat_minor": 2
}
