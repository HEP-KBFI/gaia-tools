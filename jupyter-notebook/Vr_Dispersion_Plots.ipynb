{
 "cells": [
  {
   "cell_type": "markdown",
   "metadata": {},
   "source": [
    "# Notebook Regarding Discussion of $\\bar{V_R^2}$"
   ]
  },
  {
   "cell_type": "markdown",
   "metadata": {},
   "source": [
    "## Loading Data"
   ]
  },
  {
   "cell_type": "code",
   "execution_count": null,
   "metadata": {},
   "outputs": [],
   "source": [
    "\n",
    "import sys\n",
    "sys.path.append(\"../gaia_tools/\")\n",
    "sys.path.append(\"../scripts/\")\n",
    "import data_analysis\n",
    "import covariance_generation as cov\n",
    "from import_functions import *\n",
    "from data_plot import sample_distribution_galactic_coords, plot_radial_distribution, plot_distribution, display_polar_histogram, plot_variance_distribution, plot_velocity_distribution\n",
    "import numpy as np\n",
    "import emcee\n",
    "from functools import reduce\n",
    "import time, timeit\n",
    "import transformation_constants\n",
    "import datetime as dt\n",
    "import photometric_cut\n",
    "import os\n",
    "import pickle\n",
    "from pathlib import Path\n",
    "import argparse\n",
    "import random\n",
    "import matplotlib.pyplot as plt\n"
   ]
  },
  {
   "cell_type": "code",
   "execution_count": null,
   "metadata": {},
   "outputs": [],
   "source": [
    "galcen_data = import_baseline_sample()"
   ]
  },
  {
   "cell_type": "code",
   "execution_count": null,
   "metadata": {},
   "outputs": [],
   "source": [
    "# Generate bins\n",
    "bin_collection = data_analysis.get_collapsed_bins(data = galcen_data,\n",
    "                                                      theta = (0, 1),\n",
    "                                                      BL_r_min = min_r - 1,\n",
    "                                                      BL_r_max = max_r + 1,\n",
    "                                                      BL_z_min = -200,\n",
    "                                                      BL_z_max = 200,\n",
    "                                                      N_bins = (50, 1),\n",
    "                                                      r_drift = False,\n",
    "                                                      debug = False)"
   ]
  },
  {
   "cell_type": "code",
   "execution_count": null,
   "metadata": {},
   "outputs": [],
   "source": [
    "bin_mids = []\n",
    "for i, bin in enumerate(bin_collection.bins):\n",
    "    bin_mids.append(np.median(bin.r_boundaries))"
   ]
  },
  {
   "cell_type": "markdown",
   "metadata": {},
   "source": [
    "## XX Component Check"
   ]
  },
  {
   "cell_type": "code",
   "execution_count": null,
   "metadata": {},
   "outputs": [],
   "source": [
    "new_xx = []\n",
    "for i, bin in enumerate(bin_collection.bins):\n",
    "    nom = np.var(bin.data.v_phi)\n",
    "    denom = np.mean(bin.data.v_r)**2 + np.var(bin.data.v_r)\n",
    "    new_xx.append(nom/denom)\n",
    "\n",
    "plt.plot(np.array(bin_mids)/1000, new_xx)\n",
    "plt.xlabel(r'$r$ [kpc]', fontdict={'fontsize' : 16})\n",
    "plt.ylabel(r'$X^2$',  fontdict={'fontsize' : 16})\n",
    "plt.xticks(np.linspace(5,12,6))"
   ]
  },
  {
   "cell_type": "markdown",
   "metadata": {},
   "source": [
    "## Checking components in $\\overline{v^2_R} = \\overline{v_R}^2 + \\sigma^2_R$"
   ]
  },
  {
   "cell_type": "code",
   "execution_count": null,
   "metadata": {},
   "outputs": [],
   "source": [
    "# Compute the variance and mean of v_r in bins\n",
    "\n",
    "velocity_var = []\n",
    "for i, bin in enumerate(bin_collection.bins):\n",
    "    var_i = np.var(bin.data['v_r'])\n",
    "    velocity_var.append(var_i)\n",
    "velocity_var = np.array(velocity_var)\n",
    "\n",
    "mean_vel = []\n",
    "for i, bin in enumerate(bin_collection.bins):\n",
    "    mean_vel.append(np.mean(bin.data.v_r))\n",
    "mean_vel = np.array(mean_vel)"
   ]
  },
  {
   "cell_type": "markdown",
   "metadata": {},
   "source": [
    "### Checking $\\sigma_R^2$ component"
   ]
  },
  {
   "cell_type": "code",
   "execution_count": null,
   "metadata": {},
   "outputs": [],
   "source": [
    "plt.plot(np.array(bin_mids)/1000, np.sqrt(velocity_var))\n",
    "plt.xlabel(r'$r$ [kpc]', fontdict={'fontsize' : 16})\n",
    "plt.ylabel(r'$\\sqrt{\\sigma_r^2}$',  fontdict={'fontsize' : 16})\n",
    "plt.xticks(np.linspace(5,12,6))"
   ]
  },
  {
   "cell_type": "code",
   "execution_count": null,
   "metadata": {},
   "outputs": [],
   "source": [
    "plt.plot(np.array(bin_mids)/1000, velocity_var)\n",
    "plt.xlabel(r'$r$ [kpc]', fontdict={'fontsize' : 16})\n",
    "plt.ylabel(r'$\\sigma_r^2$',  fontdict={'fontsize' : 16})\n",
    "plt.xticks(np.linspace(5,12,6))"
   ]
  },
  {
   "cell_type": "markdown",
   "metadata": {},
   "source": [
    "### Checking $\\bar{v_R}^2$ component"
   ]
  },
  {
   "cell_type": "code",
   "execution_count": null,
   "metadata": {},
   "outputs": [],
   "source": [
    "mean_sqrared = mean_vel**2\n",
    "\n",
    "plt.scatter(np.array(bin_mids)/1000, mean_sqrared, s=10, color='black', label=r'$\\bar{v_r}^2$')\n",
    "plt.scatter(np.array(bin_mids)/1000, velocity_var, s=10, color='red', label=r'$\\sigma^2_r$')\n",
    "\n",
    "overall_mean = np.mean(mean_sqrared[~np.isnan(mean_sqrared)])\n",
    "\n",
    "plt.hlines(overall_mean, \n",
    "                    bin_mids[0]/1e3, bin_mids[-1]/1e3, \n",
    "                    linestyles='--', \n",
    "                    label=\"Mean \" + r\"$\\overline{v_r}^2$:\" + \"{}\".format(np.round(overall_mean)))\n",
    "plt.xlabel(r'$r$ [kpc]', fontdict={'fontsize' : 16})\n",
    "plt.ylabel(r'$\\overline{v_r}^2$',  fontdict={'fontsize' : 16})\n",
    "plt.xticks(np.linspace(5,12,6))\n",
    "plt.legend()\n"
   ]
  },
  {
   "cell_type": "code",
   "execution_count": null,
   "metadata": {},
   "outputs": [],
   "source": [
    "plt.scatter(np.array(bin_mids)/1000, mean_sqrared, s=4, color='black')\n",
    "\n",
    "overall_mean = np.mean(mean_sqrared[~np.isnan(mean_sqrared)])\n",
    "\n",
    "plt.hlines(overall_mean, \n",
    "                    bin_mids[0]/1e3, bin_mids[-1]/1e3, \n",
    "                    linestyles='--', \n",
    "                    label=\"Mean: {}\".format(np.round(overall_mean)))\n",
    "plt.xlabel(r'$r$ [kpc]', fontdict={'fontsize' : 16})\n",
    "plt.ylabel(r'$\\overline{v_r}^2$ [km/s]',  fontdict={'fontsize' : 16})\n",
    "plt.xticks(np.linspace(5,12,6))\n",
    "plt.legend()\n",
    "overall_mean"
   ]
  },
  {
   "cell_type": "code",
   "execution_count": null,
   "metadata": {},
   "outputs": [],
   "source": [
    "plt.scatter(np.array(bin_mids)/1000, mean_vel, s=4, color='black')\n",
    "\n",
    "overall_mean = np.mean(mean_vel[~np.isnan(mean_vel)])\n",
    "\n",
    "plt.hlines(overall_mean, \n",
    "                    bin_mids[0]/1e3, bin_mids[-1]/1e3, \n",
    "                    linestyles='--', \n",
    "                    label=\"Mean: {}\".format(np.round(overall_mean,2)))\n",
    "plt.xlabel(r'$r$ [kpc]', fontdict={'fontsize' : 16})\n",
    "plt.ylabel(r'$\\overline{v_r}$ [km/s]',  fontdict={'fontsize' : 16})\n",
    "plt.xticks(np.linspace(5,12,6))\n",
    "plt.legend()\n"
   ]
  },
  {
   "cell_type": "markdown",
   "metadata": {},
   "source": [
    "### Checking $\\overline{v_R}^2 + \\sigma^2_R$"
   ]
  },
  {
   "cell_type": "code",
   "execution_count": null,
   "metadata": {},
   "outputs": [],
   "source": [
    "mean_sqrared = mean_vel**2\n",
    "\n",
    "plt.scatter(np.array(bin_mids)/1000, mean_sqrared+velocity_var, s=10, color='black', label=r'$\\overline{v_R}^2 + \\sigma^2_R$')\n",
    "plt.scatter(np.array(bin_mids)/1000, velocity_var, s=10, color='red', label=r'$\\sigma^2_r$')\n",
    "\n",
    "#overall_mean = np.mean(mean_sqrared[~np.isnan(mean_sqrared)])\n",
    "\n",
    "plt.xlabel(r'$r$ [kpc]', fontdict={'fontsize' : 16})\n",
    "plt.ylabel(r'$\\overline{v_R}^2 + \\sigma^2_R$',  fontdict={'fontsize' : 16})\n",
    "plt.xticks(np.linspace(5,12,6))\n",
    "plt.legend()\n"
   ]
  },
  {
   "cell_type": "markdown",
   "metadata": {},
   "source": [
    "## Astropy Sanity Check"
   ]
  },
  {
   "cell_type": "code",
   "execution_count": null,
   "metadata": {},
   "outputs": [],
   "source": [
    "import astropy.coordinates as coord\n",
    "import astropy.units as u\n",
    "\n",
    "icrs_star = icrs_data.iloc[0]\n",
    "\n",
    "c1 = coord.SkyCoord(ra=icrs_star.ra*u.degree, \n",
    "                    dec=icrs_star.dec*u.degree,\n",
    "                    distance=icrs_star.r_est*u.pc,\n",
    "                    pm_ra_cosdec=icrs_star.pmra*u.mas/u.yr,\n",
    "                    pm_dec=icrs_star.pmdec*u.mas/u.yr,\n",
    "                    radial_velocity=icrs_star.radial_velocity*u.km/u.s,\n",
    "                    frame='icrs')"
   ]
  },
  {
   "cell_type": "code",
   "execution_count": null,
   "metadata": {},
   "outputs": [],
   "source": [
    "v_sun = [-11.1, 232.24, 7.25]* (u.km / u.s)\n",
    "\n",
    "gc_frame = coord.Galactocentric(galcen_distance=8.178*u.kpc,\n",
    "    galcen_v_sun=v_sun,\n",
    "    z_sun=17*u.pc)\n",
    "\n",
    "gc1 = c1.transform_to(gc_frame)\n",
    "gc1"
   ]
  },
  {
   "cell_type": "code",
   "execution_count": null,
   "metadata": {},
   "outputs": [],
   "source": [
    "coord.Galactocentric()"
   ]
  },
  {
   "cell_type": "code",
   "execution_count": null,
   "metadata": {},
   "outputs": [],
   "source": [
    "print(galcen_data.iloc[0])"
   ]
  },
  {
   "cell_type": "markdown",
   "metadata": {},
   "source": [
    "----"
   ]
  }
 ],
 "metadata": {
  "kernelspec": {
   "display_name": "Python 3.9.12 ('.gaia-project-env')",
   "language": "python",
   "name": "python3"
  },
  "language_info": {
   "codemirror_mode": {
    "name": "ipython",
    "version": 3
   },
   "file_extension": ".py",
   "mimetype": "text/x-python",
   "name": "python",
   "nbconvert_exporter": "python",
   "pygments_lexer": "ipython3",
   "version": "3.9.12"
  },
  "orig_nbformat": 4,
  "vscode": {
   "interpreter": {
    "hash": "d8b682a76a9d2be70a33d5d7adc5516e883f06df882d840d60e537feb5053e29"
   }
  }
 },
 "nbformat": 4,
 "nbformat_minor": 2
}
