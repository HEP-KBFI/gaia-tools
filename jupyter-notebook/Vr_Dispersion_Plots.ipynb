{
 "cells": [
  {
   "cell_type": "markdown",
   "metadata": {},
   "source": [
    "# Notebook Regarding Discussion of $\\bar{V_R^2}$"
   ]
  },
  {
   "cell_type": "code",
   "execution_count": null,
   "metadata": {},
   "outputs": [],
   "source": [
    "\n",
    "import sys\n",
    "sys.path.append(\"../gaia_tools/\")\n",
    "sys.path.append(\"../scripts/\")\n",
    "import data_analysis\n",
    "import covariance_generation as cov\n",
    "from import_functions import import_data\n",
    "from data_plot import sample_distribution_galactic_coords, plot_radial_distribution, plot_distribution, display_polar_histogram, plot_variance_distribution, plot_velocity_distribution\n",
    "import numpy as np\n",
    "import emcee\n",
    "from functools import reduce\n",
    "import time, timeit\n",
    "import transformation_constants\n",
    "import datetime as dt\n",
    "import photometric_cut\n",
    "import os\n",
    "import pickle\n",
    "from pathlib import Path\n",
    "import argparse\n",
    "import random\n",
    "import matplotlib.pyplot as plt\n"
   ]
  },
  {
   "cell_type": "code",
   "execution_count": null,
   "metadata": {},
   "outputs": [],
   "source": [
    "\n",
    "# Create outpath for current run\n",
    "run_out_path = \"/home/svenpoder/repos/gaia-tools/jupyter-notebook\"\n",
    "\n",
    "print(\"Photometric cut..\")\n",
    "sample_IDs = photometric_cut.get_sample_IDs(run_out_path, 0.3, False)\n",
    "\n",
    "# The path containing the initial ICRS data with Bayesian distance estimates.\n",
    "my_path = \"/home/svenpoder/Gaia_2MASS Data_DR2/gaia_rv_data_bayes.csv\"\n",
    "\n",
    "# Import ICRS data\n",
    "icrs_data = import_data(path = my_path, is_bayes = True, debug = True)\n",
    "icrs_data = icrs_data.merge(sample_IDs, on='source_id', suffixes=(\"\", \"_y\"))\n",
    "icrs_data.reset_index(inplace=True, drop=True)\n",
    "\n",
    "print(\"Size of sample after diagonal cut in ROI {}\".format(icrs_data.shape))\n",
    "\n",
    "## TRANSFORMATION CONSTANTS\n",
    "v_sun = transformation_constants.V_SUN\n",
    "z_0 = transformation_constants.Z_0\n",
    "r_0 = transformation_constants.R_0\n",
    "\n",
    "galcen_data = data_analysis.get_transformed_data(icrs_data,\n",
    "                                       include_cylindrical = True,\n",
    "                                       z_0 = z_0,\n",
    "                                       r_0 = r_0,\n",
    "                                       v_sun = v_sun,\n",
    "                                       debug = True,\n",
    "                                       is_bayes = True,\n",
    "                                       is_source_included = True)\n",
    "\n",
    "galactocentric_cov = cov.generate_galactocentric_covmat(icrs_data, True)\n",
    "cyl_cov = cov.transform_cov_cylindirical(galcen_data, galactocentric_cov)\n",
    "galcen_data = galcen_data.merge(cyl_cov, on='source_id')\n",
    "\n",
    "\n",
    "# Final data selection\n",
    "galcen_data = galcen_data[(galcen_data.r < 12000) & (galcen_data.r > 5000)]\n",
    "galcen_data = galcen_data[(galcen_data.z < 200) & (galcen_data.z > -200)]\n",
    "galcen_data.reset_index(inplace=True, drop=True)\n",
    "print(\"Final size of sample {}\".format(galcen_data.shape))\n",
    "\n",
    "icrs_data = icrs_data.merge(galcen_data, on='source_id')[icrs_data.columns]\n",
    "\n",
    "min_r = np.min(galcen_data.r)\n",
    "max_r = np.max(galcen_data.r)\n"
   ]
  },
  {
   "cell_type": "code",
   "execution_count": null,
   "metadata": {},
   "outputs": [],
   "source": [
    "# Plots the velocity and velocity variance distribution of first 4 bins. \n",
    "plot_velocity_distribution(bin_collection.bins[0:4], run_out_path, True)\n",
    "plot_variance_distribution(bin_collection.bins[0:4], 'v_phi', run_out_path)"
   ]
  },
  {
   "cell_type": "code",
   "execution_count": null,
   "metadata": {},
   "outputs": [],
   "source": [
    "# Generate bins\n",
    "bin_collection = data_analysis.get_collapsed_bins(data = galcen_data,\n",
    "                                                      theta = (0, 1),\n",
    "                                                      BL_r_min = min_r - 1,\n",
    "                                                      BL_r_max = max_r + 1,\n",
    "                                                      BL_z_min = -200,\n",
    "                                                      BL_z_max = 200,\n",
    "                                                      N_bins = (10, 1),\n",
    "                                                      r_drift = False,\n",
    "                                                      debug = False)"
   ]
  },
  {
   "cell_type": "code",
   "execution_count": null,
   "metadata": {},
   "outputs": [],
   "source": [
    "new_xx = []\n",
    "for i, bin in enumerate(bin_collection.bins):\n",
    "    nom = np.var(bin.data.v_phi)\n",
    "    denom = np.mean(bin.data.v_r)**2 + np.var(bin.data.v_r)\n",
    "    new_xx.append(nom/denom)\n",
    "    print(nom/denom)\n",
    "\n",
    "plt.plot(np.array(bin_mids)/1000, new_xx)\n",
    "plt.xlabel(r'$r$ [kpc]', fontdict={'fontsize' : 16})\n",
    "plt.ylabel(r'$X^2$',  fontdict={'fontsize' : 16})\n",
    "plt.xticks(np.linspace(5,12,6))"
   ]
  },
  {
   "cell_type": "code",
   "execution_count": null,
   "metadata": {},
   "outputs": [],
   "source": [
    "velocity_var = []\n",
    "bin_mids = []\n",
    "xx_list = []\n",
    "for i, bin in enumerate(bin_collection.bins):\n",
    "\n",
    "    var_i = np.var(bin.data['v_r'])\n",
    "    velocity_var.append(var_i)\n",
    "    bin_mids.append(np.median(bin.r_boundaries))\n",
    "    xx_list.append(np.var(bin.data.v_phi)/np.var(bin.data.v_r))\n"
   ]
  },
  {
   "cell_type": "code",
   "execution_count": null,
   "metadata": {},
   "outputs": [],
   "source": [
    "for i, bin in enumerate(bin_collection.bins):\n",
    "    bin.med_sig_vphi = np.median(bin.data.sig_vphi)\n",
    "    bin.A_parameter = bin.compute_A_parameter(debug=True)\n",
    "    xx = np.var(bin.data.v_phi)/np.var(bin.data.v_r)\n",
    "\n",
    "    rot_vel_var = np.var(bin.data.v_phi)\n",
    "    rad_vel_var = np.var(bin.data.v_r)\n",
    "    XX = rot_vel_var/rad_vel_var\n",
    "\n",
    "    print(\"XX: {}\".format(xx))\n",
    "for bin in bin_collection.bins:\n",
    "    bin.get_likelihood_w_asymmetry(-250, True)"
   ]
  },
  {
   "cell_type": "code",
   "execution_count": null,
   "metadata": {},
   "outputs": [],
   "source": [
    "import matplotlib.pyplot as plt\n",
    "plt.plot(np.array(bin_mids)/1000, np.sqrt(velocity_var))\n",
    "plt.xlabel(r'$r$ [kpc]', fontdict={'fontsize' : 16})\n",
    "plt.ylabel(r'$\\sqrt{\\sigma_r^2}$',  fontdict={'fontsize' : 16})\n",
    "plt.xticks(np.linspace(5,12,6))"
   ]
  },
  {
   "cell_type": "code",
   "execution_count": null,
   "metadata": {},
   "outputs": [],
   "source": [
    "from cProfile import label\n",
    "from turtle import color\n",
    "\n",
    "\n",
    "mean_vel = []\n",
    "bin_mids = []\n",
    "\n",
    "for i, bin in enumerate(bin_collection.bins):\n",
    "    bin_mids.append(np.median(bin.r_boundaries))\n",
    "    mean_vel.append(np.mean(bin.data.v_r))\n",
    "    #print(np.mean(bin.data.v_r))\n",
    "\n",
    "mean_vel = np.array(mean_vel)\n",
    "\n",
    "plt.scatter(np.array(bin_mids)/1000, mean_vel**2, s=10, color='black', label=r'$\\bar{v_r}^2$')\n",
    "plt.scatter(np.array(bin_mids)/1000, velocity_var, s=10, color='red', label=r'$\\sigma^2_r$')\n",
    "\n",
    "overall_mean = np.mean(mean_vel[~np.isnan(mean_vel)]**2)\n",
    "\n",
    "plt.hlines(overall_mean, \n",
    "                    bin_mids[0]/1e3, bin_mids[-1]/1e3, \n",
    "                    linestyles='--', \n",
    "                    label=\"Mean \" + r\"$\\bar{v_r}^2$:\" + \"{}\".format(overall_mean))\n",
    "plt.xlabel(r'$r$ [kpc]', fontdict={'fontsize' : 16})\n",
    "plt.ylabel(r'$\\bar{v_r}^2$',  fontdict={'fontsize' : 16})\n",
    "plt.xticks(np.linspace(5,12,6))\n",
    "plt.legend()\n",
    "\n"
   ]
  },
  {
   "cell_type": "code",
   "execution_count": null,
   "metadata": {},
   "outputs": [],
   "source": [
    "mean_vel = []\n",
    "bin_mids = []\n",
    "\n",
    "for i, bin in enumerate(bin_collection.bins):\n",
    "    bin_mids.append(np.median(bin.r_boundaries))\n",
    "    mean_vel.append(np.mean(bin.data.v_r))\n",
    "    #print(np.mean(bin.data.v_r))\n",
    "\n",
    "mean_vel = np.array(mean_vel)\n",
    "\n",
    "plt.scatter(np.array(bin_mids)/1000, mean_vel, s=0.5, color='black')\n",
    "\n",
    "overall_mean = np.mean(mean_vel[~np.isnan(mean_vel)])\n",
    "\n",
    "plt.hlines(overall_mean, \n",
    "                    bin_mids[0]/1e3, bin_mids[-1]/1e3, \n",
    "                    linestyles='--', \n",
    "                    label=\"Mean: {}\".format(overall_mean))\n",
    "plt.xlabel(r'$r$ [kpc]', fontdict={'fontsize' : 16})\n",
    "plt.ylabel(r'$\\bar{v_r}$ [km/s]',  fontdict={'fontsize' : 16})\n",
    "plt.xticks(np.linspace(5,12,6))\n",
    "plt.legend()\n",
    "# plt.xlim(6, 11)\n",
    "# plt.ylim(0,100)\n"
   ]
  },
  {
   "cell_type": "code",
   "execution_count": null,
   "metadata": {},
   "outputs": [],
   "source": [
    "for bin in bin_collection.bins:\n",
    "    print(bin.data.shape)"
   ]
  },
  {
   "cell_type": "markdown",
   "metadata": {},
   "source": [
    "## Astropy Sanity Check"
   ]
  },
  {
   "cell_type": "code",
   "execution_count": null,
   "metadata": {},
   "outputs": [],
   "source": [
    "import astropy.coordinates as coord\n",
    "import astropy.units as u\n",
    "\n",
    "icrs_star = icrs_data.iloc[0]\n",
    "\n",
    "c1 = coord.SkyCoord(ra=icrs_star.ra*u.degree, \n",
    "                    dec=icrs_star.dec*u.degree,\n",
    "                    distance=icrs_star.r_est*u.pc,\n",
    "                    pm_ra_cosdec=icrs_star.pmra*u.mas/u.yr,\n",
    "                    pm_dec=icrs_star.pmdec*u.mas/u.yr,\n",
    "                    radial_velocity=icrs_star.radial_velocity*u.km/u.s,\n",
    "                    frame='icrs')"
   ]
  },
  {
   "cell_type": "code",
   "execution_count": null,
   "metadata": {},
   "outputs": [],
   "source": [
    "v_sun = [-11.1, 232.24, 7.25]* (u.km / u.s)\n",
    "\n",
    "gc_frame = coord.Galactocentric(galcen_distance=8.178*u.kpc,\n",
    "    galcen_v_sun=v_sun,\n",
    "    z_sun=17*u.pc)\n",
    "\n",
    "gc1 = c1.transform_to(gc_frame)\n",
    "gc1"
   ]
  },
  {
   "cell_type": "code",
   "execution_count": null,
   "metadata": {},
   "outputs": [],
   "source": [
    "coord.Galactocentric()"
   ]
  },
  {
   "cell_type": "code",
   "execution_count": null,
   "metadata": {},
   "outputs": [],
   "source": [
    "print(galcen_data.iloc[0])"
   ]
  },
  {
   "cell_type": "markdown",
   "metadata": {},
   "source": [
    "## Velocity Ellipsoid"
   ]
  },
  {
   "cell_type": "code",
   "execution_count": null,
   "metadata": {},
   "outputs": [],
   "source": [
    "def cov(x, y):\n",
    "    x_mean, y_mean = np.mean(x), np.mean(y)\n",
    "    return np.sum((x-x_mean)*(y-y_mean))/(len(x) - 1)\n",
    "\n",
    "def cov_mat(bin):\n",
    "    return np.array([[cov(bin.data.v_r, bin.data.v_r), cov(bin.data.v_r, bin.data.v_phi), cov(bin.data.v_r, bin.data.v_z)],\n",
    "                    [cov(bin.data.v_r, bin.data.v_phi), cov(bin.data.v_phi, bin.data.v_phi), cov(bin.data.v_phi, bin.data.v_z)],\n",
    "                    [cov(bin.data.v_r, bin.data.v_z), cov(bin.data.v_phi, bin.data.v_z), cov(bin.data.v_z, bin.data.v_z)]])"
   ]
  },
  {
   "cell_type": "markdown",
   "metadata": {},
   "source": [
    "### Compute vertex deviation"
   ]
  },
  {
   "cell_type": "code",
   "execution_count": null,
   "metadata": {},
   "outputs": [],
   "source": [
    "def compute_vertex_deviation(velocity_ellipsoid):\n",
    "\n",
    "    vel_ell_comps = velocity_ellipsoid[0,1]/(velocity_ellipsoid[0,0] - velocity_ellipsoid[1,1])\n",
    "    vertex_dev = np.arctan(2 * (vel_ell_comps))/2 \n",
    "\n",
    "    # Returns in radians\n",
    "    return vertex_dev"
   ]
  },
  {
   "cell_type": "code",
   "execution_count": null,
   "metadata": {},
   "outputs": [],
   "source": [
    "velocity_ellipsoids = []\n",
    "vertex_devs = []\n",
    "for i, bin in enumerate(bin_collection.bins):\n",
    "    velocity_ellipsoids.append(cov_mat(bin))\n",
    "    vertex_dev = compute_vertex_deviation(velocity_ellipsoids[i])\n",
    "    vertex_devs.append(vertex_dev)"
   ]
  },
  {
   "cell_type": "code",
   "execution_count": null,
   "metadata": {},
   "outputs": [],
   "source": [
    "np.degrees(np.mean(vertex_devs))"
   ]
  },
  {
   "cell_type": "code",
   "execution_count": null,
   "metadata": {},
   "outputs": [],
   "source": [
    "def plot_vertex_deviations(bin_collection):\n",
    "\n",
    "    velocity_ellipsoids = []\n",
    "    vertex_devs = []\n",
    "    for i, bin in enumerate(bin_collection.bins):\n",
    "        velocity_ellipsoids.append(cov_mat(bin))\n",
    "        vertex_dev = compute_vertex_deviation(velocity_ellipsoids[i])\n",
    "        vertex_devs.append(vertex_dev)\n",
    "\n",
    "    fontdict = {'fontsize' : 15}\n",
    "\n",
    "    fig, axs = plt.subplots(1,2,figsize = (14, 7))\n",
    "\n",
    "    axs[0].plot(np.array(bin_mids)/1000, np.array(velocity_ellipsoids)[:,0,1])\n",
    "    axs[0].vlines(bin_collection.bin_boundaries[0][0]/1000, \n",
    "                np.min(np.array(velocity_ellipsoids)[:,0,1]), \n",
    "                np.max(np.array(velocity_ellipsoids)[:,0,1]),\n",
    "                linestyles='--', color='gray')\n",
    "\n",
    "    axs[0].set_ylabel(r'$\\sigma_{R\\phi}^2$', fontdict=fontdict, labelpad=0)\n",
    "    axs[0].set_xlabel(r'$R$ [kpc]', fontdict=fontdict, labelpad=0)\n",
    "    axs[0].tick_params(axis='both', which='major', labelsize=15)\n",
    "\n",
    "    vertex_devs = []\n",
    "    for i, bin in enumerate(bin_collection.bins):\n",
    "        vertex_dev = compute_vertex_deviation(velocity_ellipsoids[i])\n",
    "        vertex_devs.append(vertex_dev)\n",
    "\n",
    "    axs[1].plot(np.array(bin_mids)/1000, np.degrees(vertex_devs))\n",
    "    axs[1].vlines(bin_collection.bin_boundaries[0][0]/1000, \n",
    "                np.min(np.degrees(vertex_devs)), \n",
    "                np.max(np.degrees(vertex_devs)),\n",
    "                linestyles='--', color='gray')\n",
    "    axs[1].set_ylim(-10,8.5)\n",
    "\n",
    "    axs[1].set_ylabel('Vertex Deviation', fontdict=fontdict, labelpad=-5)\n",
    "    axs[1].set_xlabel(r'$R$ [kpc]', fontdict=fontdict, labelpad=0)\n",
    "    axs[1].tick_params(axis='both', which='major', labelsize=15)\n",
    "\n",
    "plot_vertex_deviations(bin_collection)"
   ]
  },
  {
   "cell_type": "code",
   "execution_count": null,
   "metadata": {},
   "outputs": [],
   "source": []
  }
 ],
 "metadata": {
  "kernelspec": {
   "display_name": "Python 3.9.12 ('.gaia-project-env')",
   "language": "python",
   "name": "python3"
  },
  "language_info": {
   "codemirror_mode": {
    "name": "ipython",
    "version": 3
   },
   "file_extension": ".py",
   "mimetype": "text/x-python",
   "name": "python",
   "nbconvert_exporter": "python",
   "pygments_lexer": "ipython3",
   "version": "3.9.12"
  },
  "orig_nbformat": 4,
  "vscode": {
   "interpreter": {
    "hash": "d8b682a76a9d2be70a33d5d7adc5516e883f06df882d840d60e537feb5053e29"
   }
  }
 },
 "nbformat": 4,
 "nbformat_minor": 2
}
