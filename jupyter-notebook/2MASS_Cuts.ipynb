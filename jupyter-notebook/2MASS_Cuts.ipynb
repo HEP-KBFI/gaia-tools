{
 "cells": [
  {
   "cell_type": "code",
   "execution_count": null,
   "metadata": {},
   "outputs": [],
   "source": [
    "from astroquery.gaia import Gaia\n",
    "import warnings\n",
    "\n",
    "# Comment this out if you want to see warnings\n",
    "warnings.filterwarnings('ignore')\n",
    "import astropy\n",
    "import requests\n",
    "import pyvo as vo\n",
    "import numpy as np\n",
    "from io import StringIO\n",
    "import matplotlib.pyplot as plt\n",
    "import matplotlib as mpl\n",
    "import pandas as pd\n",
    "import glob\n",
    "import os\n",
    "import requests\n",
    "import sys\n",
    "sys.path.append(\"../gaia_tools/\")\n",
    "import data_analysis\n",
    "import covariance_generation as cov\n",
    "from import_functions import import_data"
   ]
  },
  {
   "cell_type": "code",
   "execution_count": null,
   "metadata": {},
   "outputs": [],
   "source": [
    "# Original sample\n",
    "gaia_path = \"/hdfs/local/sven/gaia_tools_data/gaia_rv_data_bayes.csv\"\n",
    "icrs_data = import_data(path = gaia_path, is_bayes = True, debug = False)"
   ]
  },
  {
   "cell_type": "code",
   "execution_count": null,
   "metadata": {},
   "outputs": [],
   "source": [
    "tmass_data_path = '/hdfs/local/sven/gaia_tools_data/crossmatched_tmass_data/crossmatched_tmass_data.csv'\n",
    "crossmatched_tmass_data = pd.read_csv(tmass_data_path)"
   ]
  },
  {
   "cell_type": "code",
   "execution_count": null,
   "metadata": {},
   "outputs": [],
   "source": [
    "merged_data = icrs_data.merge(crossmatched_tmass_data, on='source_id', suffixes=('_gaia', '_tmass'))"
   ]
  },
  {
   "cell_type": "code",
   "execution_count": null,
   "metadata": {},
   "outputs": [],
   "source": [
    "print(crossmatched_tmass_data.columns)\n",
    "print(crossmatched_tmass_data.shape)"
   ]
  },
  {
   "cell_type": "markdown",
   "metadata": {},
   "source": [
    "### Color range cut"
   ]
  },
  {
   "cell_type": "code",
   "execution_count": null,
   "metadata": {},
   "outputs": [],
   "source": [
    "crossmatched_tmass_data[((crossmatched_tmass_data.j_m - crossmatched_tmass_data.k_m) > 0.5) & ((crossmatched_tmass_data.j_m - crossmatched_tmass_data.k_m) < 1.1)]"
   ]
  },
  {
   "cell_type": "markdown",
   "metadata": {},
   "source": [
    "### Uncertainty cut"
   ]
  },
  {
   "cell_type": "code",
   "execution_count": null,
   "metadata": {},
   "outputs": [],
   "source": [
    "crossmatched_tmass_data[(crossmatched_tmass_data.j_msigcom) < 0.1]\n",
    "crossmatched_tmass_data[(crossmatched_tmass_data.h_msigcom) < 0.1]\n",
    "crossmatched_tmass_data[(crossmatched_tmass_data.k_msigcom) < 0.1]"
   ]
  },
  {
   "cell_type": "markdown",
   "metadata": {},
   "source": [
    "### Photometric quality flag cut"
   ]
  },
  {
   "cell_type": "code",
   "execution_count": null,
   "metadata": {},
   "outputs": [],
   "source": [
    "import re\n",
    "def is_allowed_flg(string):\n",
    "\n",
    "    charRe = re.compile(r'[^A-B]')\n",
    "    string = charRe.search(string)\n",
    "    return not bool(string)\n",
    "\n",
    "#crossmatched_tmass_data.apply(lambda row : is_allowed_flg(row.ph_qual), axis=1)\n"
   ]
  },
  {
   "cell_type": "code",
   "execution_count": null,
   "metadata": {},
   "outputs": [],
   "source": [
    "sliced_tmass_data = crossmatched_tmass_data[((crossmatched_tmass_data.j_m - crossmatched_tmass_data.k_m) > 0.5) & ((crossmatched_tmass_data.j_m - crossmatched_tmass_data.k_m) < 1.1)]\n",
    "\n",
    "sliced_tmass_data = sliced_tmass_data[((sliced_tmass_data.j_msigcom) < 0.1) & ((sliced_tmass_data.h_msigcom) < 0.1) & ((sliced_tmass_data.k_msigcom) < 0.1)]\n",
    "\n",
    "sliced_tmass_data =  sliced_tmass_data[sliced_tmass_data.apply(lambda row : is_allowed_flg(row.ph_qual), axis=1) == True]"
   ]
  },
  {
   "cell_type": "code",
   "execution_count": null,
   "metadata": {},
   "outputs": [],
   "source": [
    "sliced_tmass_data.reset_index(inplace=True, drop=True)\n",
    "sliced_tmass_data"
   ]
  },
  {
   "cell_type": "code",
   "execution_count": null,
   "metadata": {},
   "outputs": [],
   "source": [
    "import numpy as np\n",
    "import matplotlib.pyplot as plt\n",
    "\n",
    "\n",
    "def scatter_hist(x, y, ax, ax_histx, ax_histy):\n",
    "    # no labels\n",
    "    ax_histx.tick_params(axis=\"x\", labelbottom=False)\n",
    "    ax_histy.tick_params(axis=\"y\", labelleft=False)\n",
    "\n",
    "    # the scatter plot:\n",
    "    ax.scatter(x, y, alpha=0.1, s=0.5)\n",
    "    ax.set_xlim(0.4, 1.4)\n",
    "    ax.set_ylim(5, 14)\n",
    "\n",
    "    ax.set_xlabel(r'$J - K_s$ [mag]', fontdict={'fontsize' : 14})\n",
    "    ax.set_ylabel(r'$H$ [mag]',  fontdict={'fontsize' : 14})\n",
    "\n",
    "    ax.vlines([0.5, 1.1], 5, 14, linestyles='dashed', alpha=0.5)\n",
    "\n",
    "    # now determine nice limits by hand:\n",
    "    binwidth = 0.25\n",
    "    xymax = max(np.max(np.abs(x)), np.max(np.abs(y)))\n",
    "    lim = (int(xymax/binwidth) + 1) * binwidth\n",
    "\n",
    "    bins = np.arange(-lim, lim + binwidth, binwidth)\n",
    "    bins = 20\n",
    "    ax_histx.hist(x, bins=bins, histtype='step', linewidth = 2)\n",
    "    ax_histy.hist(y, bins=bins, histtype='step', linewidth = 2, orientation='horizontal')\n",
    "\n",
    "    ax_histx.set_yticks([])\n",
    "    ax_histy.set_xticks([])\n"
   ]
  },
  {
   "cell_type": "code",
   "execution_count": null,
   "metadata": {},
   "outputs": [],
   "source": [
    "x_values = sliced_tmass_data.j_m - sliced_tmass_data.k_m\n",
    "y_values = sliced_tmass_data.h_m\n",
    "\n",
    "# definitions for the axes\n",
    "left, width = 0.1, 0.65\n",
    "bottom, height = 0.1, 0.65\n",
    "spacing = 0.005\n",
    "\n",
    "rect_scatter = [left, bottom, width, height]\n",
    "rect_histx = [left, bottom + height + spacing, width, 0.2]\n",
    "rect_histy = [left + width + spacing, bottom, 0.2, height]\n",
    "\n",
    "# start with a square Figure\n",
    "fig = plt.figure(figsize=(8, 8))\n",
    "\n",
    "ax = fig.add_axes(rect_scatter)\n",
    "ax_histx = fig.add_axes(rect_histx, sharex=ax)\n",
    "ax_histy = fig.add_axes(rect_histy, sharey=ax)\n",
    "\n",
    "# use the previously defined function\n",
    "scatter_hist(x_values[:: 10],y_values[:: 10], ax, ax_histx, ax_histy)\n",
    "\n",
    "#plt.show()\n",
    "\n",
    "fig_name = 'gaia_data_bovy_cuts'\n",
    "#plt.savefig('/home/sven/repos/gaia-tools/out/crossmatch_sanity_checks/' + fig_name +'.png', dpi=300)"
   ]
  },
  {
   "cell_type": "markdown",
   "metadata": {},
   "source": [
    "---"
   ]
  }
 ],
 "metadata": {
  "interpreter": {
   "hash": "af1399650a6de459a9a764ca6f3d56f5c10db3565673a08cfbc83104c38a1a89"
  },
  "kernelspec": {
   "display_name": "Python 3.6.8 ('dspn_env')",
   "language": "python",
   "name": "python3"
  },
  "language_info": {
   "codemirror_mode": {
    "name": "ipython",
    "version": 3
   },
   "file_extension": ".py",
   "mimetype": "text/x-python",
   "name": "python",
   "nbconvert_exporter": "python",
   "pygments_lexer": "ipython3",
   "version": "3.6.8"
  },
  "orig_nbformat": 4
 },
 "nbformat": 4,
 "nbformat_minor": 2
}
