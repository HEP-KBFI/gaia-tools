{
 "cells": [
  {
   "cell_type": "code",
   "execution_count": null,
   "metadata": {},
   "outputs": [],
   "source": [
    "import numpy as np\n",
    "import cupy as cp\n",
    "from cupyx.profiler import benchmark"
   ]
  },
  {
   "attachments": {},
   "cell_type": "markdown",
   "metadata": {},
   "source": [
    "# CuPy Basic Examples"
   ]
  },
  {
   "attachments": {},
   "cell_type": "markdown",
   "metadata": {},
   "source": [
    "## Example 1: Creating Arrays"
   ]
  },
  {
   "cell_type": "code",
   "execution_count": null,
   "metadata": {},
   "outputs": [],
   "source": [
    "# Creates an array of size (100x1000x1000) on the CPU using NumPy\n",
    "def create_array_CPU():\n",
    "    x_cpu = np.ones((100,1000,1000))\n",
    "    return x_cpu\n",
    "\n",
    "# Creates an array of size (100x1000x1000) on the GPU using CuPy\n",
    "def create_array_GPU():\n",
    "    x_gpu = cp.ones((100,1000,1000))\n",
    "\n",
    "    # Ensures code finishes executing on GPU before moving to next line\n",
    "    cp.cuda.Stream.null.synchronize()\n",
    "    return x_gpu"
   ]
  },
  {
   "cell_type": "code",
   "execution_count": null,
   "metadata": {},
   "outputs": [],
   "source": [
    "x_cpu = create_array_CPU()\n",
    "print(type(x_cpu))"
   ]
  },
  {
   "cell_type": "code",
   "execution_count": null,
   "metadata": {},
   "outputs": [],
   "source": [
    "x_gpu = create_array_GPU()\n",
    "print(type(x_gpu))"
   ]
  },
  {
   "cell_type": "code",
   "execution_count": null,
   "metadata": {},
   "outputs": [],
   "source": [
    "%timeit create_array_CPU()\n",
    "%timeit create_array_GPU()"
   ]
  },
  {
   "attachments": {},
   "cell_type": "markdown",
   "metadata": {},
   "source": [
    "## Example 2: Data Transfer"
   ]
  },
  {
   "attachments": {},
   "cell_type": "markdown",
   "metadata": {},
   "source": [
    "### Moving arrays to device"
   ]
  },
  {
   "cell_type": "code",
   "execution_count": null,
   "metadata": {},
   "outputs": [],
   "source": [
    "x_cpu = create_array_CPU()\n",
    "print(type(x_cpu))\n",
    "print(x_cpu[0])"
   ]
  },
  {
   "cell_type": "code",
   "execution_count": null,
   "metadata": {},
   "outputs": [],
   "source": [
    "x_gpu = cp.asarray(x_cpu) \n",
    "print(type(x_gpu))\n",
    "x_gpu *=2\n",
    "print(x_gpu[0])"
   ]
  },
  {
   "attachments": {},
   "cell_type": "markdown",
   "metadata": {},
   "source": [
    "### Moving arrays from device back to host"
   ]
  },
  {
   "cell_type": "code",
   "execution_count": null,
   "metadata": {},
   "outputs": [],
   "source": [
    "x_cpu = cp.asnumpy(x_gpu)  # move the array to the host.\n",
    "print(x_cpu[0])\n",
    "print(type(x_cpu))"
   ]
  },
  {
   "attachments": {},
   "cell_type": "markdown",
   "metadata": {},
   "source": [
    "or"
   ]
  },
  {
   "cell_type": "code",
   "execution_count": null,
   "metadata": {},
   "outputs": [],
   "source": [
    "x_cpu = x_gpu.get()  # move the array to the host.\n",
    "print(x_cpu[0])\n",
    "print(type(x_cpu))"
   ]
  },
  {
   "attachments": {},
   "cell_type": "markdown",
   "metadata": {},
   "source": [
    "## Example 3: Matrix Operations"
   ]
  },
  {
   "cell_type": "code",
   "execution_count": null,
   "metadata": {},
   "outputs": [],
   "source": [
    "# Create a large random matrix\n",
    "size = 1000\n",
    "matrix = np.random.rand(size, size)\n",
    "\n",
    "# CPU version\n",
    "def cpu_matrix_ops(matrix):\n",
    "    for i in range(size):\n",
    "        for j in range(size):\n",
    "            # Perform some computation on each element of the matrix\n",
    "            matrix[i][j] = np.sin(matrix[i][j]) + np.cos(matrix[i][j])\n",
    "\n",
    "\n",
    "# CPU version without loop\n",
    "def cpu_matrix_ops_noloop(matrix):\n",
    "    matrix = np.sin(matrix) + np.cos(matrix)\n",
    "\n",
    "# GPU version\n",
    "def gpu_matrix_ops(matrix):\n",
    "\n",
    "    # Convert matrix to a CuPy array\n",
    "    matrix = cp.asarray(matrix)\n",
    "\n",
    "    # Perform matrix operations in parallel on the GPU\n",
    "    matrix = cp.sin(matrix) + cp.cos(matrix)\n",
    "\n",
    "    # Convert matrix back to a NumPy array\n",
    "    #matrix = cp.asnumpy(matrix)\n",
    "\n",
    "# Compare performance of CPU and GPU versions\n",
    "%timeit cpu_matrix_ops(matrix)              # CPU version\n",
    "%timeit cpu_matrix_ops_noloop(matrix)         # CPU version\n",
    "%timeit gpu_matrix_ops(matrix)                # GPU version"
   ]
  },
  {
   "cell_type": "code",
   "execution_count": null,
   "metadata": {},
   "outputs": [],
   "source": [
    "# GPU unoptimized version\n",
    "def gpu_matrix_ops_unoptimized(matrix):\n",
    "\n",
    "    matrix = cp.asarray(matrix)\n",
    "\n",
    "    for i in range(size):\n",
    "        for j in range(size):\n",
    "            # Perform some computation on each element of the matrix\n",
    "            matrix[i][j] = cp.sin(matrix[i][j]) + cp.cos(matrix[i][j])"
   ]
  },
  {
   "cell_type": "code",
   "execution_count": null,
   "metadata": {},
   "outputs": [],
   "source": [
    "cpu_matrix_ops(matrix)"
   ]
  },
  {
   "cell_type": "code",
   "execution_count": null,
   "metadata": {},
   "outputs": [],
   "source": [
    "gpu_matrix_ops_unoptimized(matrix)"
   ]
  },
  {
   "attachments": {},
   "cell_type": "markdown",
   "metadata": {},
   "source": [
    "### Adding data transfer to the mix"
   ]
  },
  {
   "cell_type": "code",
   "execution_count": null,
   "metadata": {},
   "outputs": [],
   "source": [
    "# GPU version\n",
    "def gpu_matrix_ops(matrix):\n",
    "\n",
    "    # Convert matrix to a CuPy array\n",
    "    matrix = cp.asarray(matrix)\n",
    "\n",
    "    # Perform matrix operations in parallel on the GPU\n",
    "    matrix = cp.sin(matrix) + cp.cos(matrix)\n",
    "\n",
    "    # Convert matrix back to a NumPy array\n",
    "    matrix = cp.asnumpy(matrix)"
   ]
  },
  {
   "cell_type": "code",
   "execution_count": null,
   "metadata": {},
   "outputs": [],
   "source": [
    "%timeit gpu_matrix_ops(matrix) "
   ]
  },
  {
   "attachments": {},
   "cell_type": "markdown",
   "metadata": {},
   "source": [
    "# Gaia Data Examples"
   ]
  },
  {
   "cell_type": "code",
   "execution_count": null,
   "metadata": {},
   "outputs": [],
   "source": [
    "import cupy as cp\n",
    "import numpy as np\n",
    "DeviceContext = cp.cuda.Device\n",
    "dtype = cp.float32\n",
    "from numba import config\n",
    "config.DISABLE_JIT = True\n",
    "\n",
    "\n",
    "import pandas as pd\n",
    "import sys\n",
    "sys.path.append(\"../gaia_tools/\")\n",
    "import transformation_constants\n",
    "import transformation_functions"
   ]
  },
  {
   "cell_type": "code",
   "execution_count": null,
   "metadata": {},
   "outputs": [],
   "source": [
    "print('Grabbing needed columns')\n",
    "trans_needed_columns = ['source_id', 'ra', 'dec', 'r_est', 'pmra', 'pmdec', 'radial_velocity']\n",
    "\n",
    "print('Importing DR3')\n",
    "path = '/home/svenpoder/DATA/Gaia_DR3/Poder_vc_DR3_input.csv'\n",
    "gaia_dr3 = pd.read_csv(path)\n",
    "icrs_data = gaia_dr3[trans_needed_columns]"
   ]
  },
  {
   "cell_type": "code",
   "execution_count": null,
   "metadata": {},
   "outputs": [],
   "source": [
    "print(icrs_data.shape)\n",
    "print(icrs_data.columns)"
   ]
  },
  {
   "cell_type": "code",
   "execution_count": null,
   "metadata": {},
   "outputs": [],
   "source": [
    "# Declaring parameters related to the Sun's position and velocity\n",
    "\n",
    "v_sun = transformation_constants.V_SUN\n",
    "\n",
    "r_0 = 8277.0\n",
    "z_0 = 25.0\n",
    "\n",
    "v_sun[0][0] = 11.1\n",
    "v_sun[1][0] = 251.5*(r_0/8277)\n",
    "v_sun[2][0] = 8.59*(r_0/8277)"
   ]
  },
  {
   "cell_type": "code",
   "execution_count": null,
   "metadata": {},
   "outputs": [],
   "source": [
    "def get_galactocentric_data_CPU(icrs_data, z_0, r_0, v_sun):\n",
    "\n",
    "    galcen_data = transformation_functions.get_transformed_data(icrs_data,\n",
    "                                        include_cylindrical = True,\n",
    "                                        z_0 = z_0,\n",
    "                                        r_0 = r_0,\n",
    "                                        v_sun = v_sun,\n",
    "                                        is_bayes = True,\n",
    "                                        NUMPY_LIB = np,\n",
    "                                        dtype = dtype)\n",
    "    return galcen_data"
   ]
  },
  {
   "cell_type": "code",
   "execution_count": null,
   "metadata": {},
   "outputs": [],
   "source": [
    "%timeit get_galactocentric_data_CPU(icrs_data, z_0, r_0, v_sun)"
   ]
  },
  {
   "attachments": {},
   "cell_type": "markdown",
   "metadata": {},
   "source": [
    "## Coordinate transformation on GPU"
   ]
  },
  {
   "cell_type": "code",
   "execution_count": null,
   "metadata": {},
   "outputs": [],
   "source": [
    "# Transfer the data from host to device!\n",
    "icrs_data_gpu = cp.asarray(icrs_data, dtype=dtype)"
   ]
  },
  {
   "cell_type": "code",
   "execution_count": null,
   "metadata": {},
   "outputs": [],
   "source": [
    "def get_galactocentric_data_GPU(icrs_data, z_0, r_0, v_sun):\n",
    "\n",
    "    galcen_data = transformation_functions.get_transformed_data(icrs_data,\n",
    "                                            include_cylindrical = True,\n",
    "                                            z_0 = z_0,\n",
    "                                            r_0 = r_0,\n",
    "                                            v_sun = v_sun,\n",
    "                                            is_bayes = True,\n",
    "                                            NUMPY_LIB = cp,\n",
    "                                            dtype = dtype)\n",
    "    return galcen_data"
   ]
  },
  {
   "cell_type": "code",
   "execution_count": null,
   "metadata": {},
   "outputs": [],
   "source": [
    "%timeit get_galactocentric_data_GPU(icrs_data_gpu, z_0, r_0, v_sun)"
   ]
  },
  {
   "attachments": {},
   "cell_type": "markdown",
   "metadata": {},
   "source": [
    "## Covariance propagation on CPU"
   ]
  },
  {
   "cell_type": "code",
   "execution_count": null,
   "metadata": {},
   "outputs": [],
   "source": [
    "import covariance_generation as cov"
   ]
  },
  {
   "cell_type": "code",
   "execution_count": null,
   "metadata": {},
   "outputs": [],
   "source": [
    "C_icrs = cov.generate_covmat(gaia_dr3)"
   ]
  },
  {
   "cell_type": "code",
   "execution_count": null,
   "metadata": {},
   "outputs": [],
   "source": [
    "C_icrs.shape"
   ]
  },
  {
   "cell_type": "code",
   "execution_count": null,
   "metadata": {},
   "outputs": [],
   "source": [
    "galcen_data_cpu = get_galactocentric_data_CPU(icrs_data, z_0, r_0, v_sun)"
   ]
  },
  {
   "cell_type": "code",
   "execution_count": null,
   "metadata": {},
   "outputs": [],
   "source": [
    "def get_galactocentric_cov_matrix_CPU(C_icrs, icrs_data, galcen_data, z_0, r_0):\n",
    "\n",
    "\n",
    "    # [\"ra\", \"dec\",\"r_est\",\"pmra\",\"pmdec\",\"radial_velocity\"] -> [:,1::]\n",
    "    galactocentric_cov = cov.transform_cov_matrix(C = C_icrs, \n",
    "                                        df = icrs_data.to_numpy()[:,1::],\n",
    "                                        coordinate_system = 'Cartesian',\n",
    "                                        z_0 = z_0,\n",
    "                                        r_0 = r_0,\n",
    "                                        is_bayes = True,\n",
    "                                        NUMPY_LIB = np,\n",
    "                                        dtype = dtype)\n",
    "\n",
    "    # [\"x\", \"y\",\"r\",\"phi\",\"v_r\",\"v_phi\"] -> [0,1,6,7,8,9]\n",
    "    cyl_cov_gpu = cov.transform_cov_matrix(C = galactocentric_cov, \n",
    "                                        df = galcen_data[:,[0,1,6,7,8,9]],\n",
    "                                        coordinate_system = 'Cylindrical',\n",
    "                                        z_0 = z_0,\n",
    "                                        r_0 = r_0,\n",
    "                                        is_bayes = False,\n",
    "                                        NUMPY_LIB = np,\n",
    "                                        dtype = dtype)"
   ]
  },
  {
   "cell_type": "code",
   "execution_count": null,
   "metadata": {},
   "outputs": [],
   "source": [
    "%timeit get_galactocentric_cov_matrix_CPU(C_icrs, icrs_data, galcen_data_cpu, z_0, r_0)"
   ]
  },
  {
   "attachments": {},
   "cell_type": "markdown",
   "metadata": {},
   "source": [
    "## Covariance Propagation on GPU"
   ]
  },
  {
   "cell_type": "code",
   "execution_count": null,
   "metadata": {},
   "outputs": [],
   "source": [
    "C_icrs_gpu = cp.asarray(C_icrs, dtype=cp.float32)"
   ]
  },
  {
   "cell_type": "code",
   "execution_count": null,
   "metadata": {},
   "outputs": [],
   "source": [
    "galcen_data_gpu = get_galactocentric_data_GPU(icrs_data_gpu, z_0, r_0, v_sun)"
   ]
  },
  {
   "cell_type": "code",
   "execution_count": null,
   "metadata": {},
   "outputs": [],
   "source": [
    "def get_galactocentric_cov_matrix_GPU(C_icrs, icrs_data, galcen_data, z_0, r_0):\n",
    "\n",
    "\n",
    "    # [\"ra\", \"dec\",\"r_est\",\"pmra\",\"pmdec\",\"radial_velocity\"] -> [:,1::]\n",
    "    galactocentric_cov = cov.transform_cov_matrix(C = C_icrs, \n",
    "                                        df = icrs_data[:,1::],\n",
    "                                        coordinate_system = 'Cartesian',\n",
    "                                        z_0 = z_0,\n",
    "                                        r_0 = r_0,\n",
    "                                        is_bayes = True,\n",
    "                                        NUMPY_LIB = cp,\n",
    "                                        dtype = dtype)\n",
    "\n",
    "    # [\"x\", \"y\",\"r\",\"phi\",\"v_r\",\"v_phi\"] -> [0,1,6,7,8,9]\n",
    "    cyl_cov_gpu = cov.transform_cov_matrix(C = galactocentric_cov, \n",
    "                                        df = galcen_data[:,[0,1,6,7,8,9]],\n",
    "                                        coordinate_system = 'Cylindrical',\n",
    "                                        z_0 = z_0,\n",
    "                                        r_0 = r_0,\n",
    "                                        is_bayes = False,\n",
    "                                        NUMPY_LIB = cp,\n",
    "                                        dtype = dtype)"
   ]
  },
  {
   "cell_type": "code",
   "execution_count": null,
   "metadata": {},
   "outputs": [],
   "source": [
    "%timeit get_galactocentric_cov_matrix_GPU(C_icrs_gpu, icrs_data_gpu, galcen_data_gpu, z_0, r_0)"
   ]
  }
 ],
 "metadata": {
  "kernelspec": {
   "display_name": ".gaia-project-env",
   "language": "python",
   "name": "python3"
  },
  "language_info": {
   "codemirror_mode": {
    "name": "ipython",
    "version": 3
   },
   "file_extension": ".py",
   "mimetype": "text/x-python",
   "name": "python",
   "nbconvert_exporter": "python",
   "pygments_lexer": "ipython3",
   "version": "3.9.12"
  },
  "orig_nbformat": 4,
  "vscode": {
   "interpreter": {
    "hash": "9664bd7e647e04d1f05a974ef63424cfbcb43577b30ab287f55d31a5457144e6"
   }
  }
 },
 "nbformat": 4,
 "nbformat_minor": 2
}
