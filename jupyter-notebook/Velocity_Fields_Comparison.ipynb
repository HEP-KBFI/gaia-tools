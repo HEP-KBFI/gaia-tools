{
 "cells": [
  {
   "cell_type": "markdown",
   "metadata": {},
   "source": [
    "### Compare velocity field in case of naive and Bayes estimated distances   \n",
    "If a particular bin doesn't have data, then the plot isn't displayed nicely.  \n",
    "Used x limits of: -10 - 0 [kpc]"
   ]
  },
  {
   "cell_type": "code",
   "execution_count": null,
   "metadata": {},
   "outputs": [],
   "source": [
    "from matplotlib.ticker import FormatStrFormatter\n",
    "from matplotlib.ticker import StrMethodFormatter\n",
    "import matplotlib.pyplot as plt\n",
    "import matplotlib as mpl\n",
    "import matplotlib.cm as cm\n",
    "import numpy as np\n",
    "import mpl_scatter_density\n",
    "import astropy\n",
    "import pandas as pd\n",
    "import sys\n",
    "\n",
    "sys.path.append(\"../gaia_tools/\")\n",
    "import data_analysis\n",
    "import transformation_constants\n",
    "import covariance_generation\n",
    "from import_functions import import_data"
   ]
  },
  {
   "cell_type": "code",
   "execution_count": null,
   "metadata": {},
   "outputs": [],
   "source": [
    "path = \"/hdfs/local/sven/gaia_tools_data/gaia_rv_data_bayes.csv\"\n",
    "data_icrs = import_data(path = path, debug = False)"
   ]
  },
  {
   "cell_type": "code",
   "execution_count": null,
   "metadata": {},
   "outputs": [],
   "source": [
    "def Velocity_Field_Imshow(bin_collection, \n",
    "                          title_string = \"\",\n",
    "                          radii = [0],\n",
    "                          display_arrows = False, \n",
    "                          plot_circles=False,\n",
    "                          save = False):\n",
    "\n",
    "    # Gets the mean of the velocity component inside bins\n",
    "    H = bin_collection.CalculateValues('v_x')\n",
    "    H2 = bin_collection.CalculateValues('v_y')\n",
    "\n",
    "    # Gives the hypotenuse of vectors\n",
    "    M = np.hypot(H.T, H2.T)\n",
    "\n",
    "    # Gets the vector coordinates\n",
    "    VEC_XX, VEC_YY = data_analysis.generate_vector_mesh(bin_collection.bin_boundaries[0], \n",
    "                                                        bin_collection.bin_boundaries[1])\n",
    "\n",
    "    BIN_X_EDGES = bin_collection.bin_boundaries[0][0]\n",
    "    BIN_Y_EDGES = bin_collection.bin_boundaries[1].T[0]\n",
    "\n",
    "    extent = [BIN_X_EDGES[0], BIN_X_EDGES[-1], BIN_Y_EDGES[0], BIN_Y_EDGES[-1]]\n",
    "\n",
    "    fig, ax = plt.subplots(figsize = (10,10))\n",
    "    ax.set_xlabel(r'$x$ [{0:latex_inline}]'.format(astropy.units.core.Unit('pc')), fontdict={'fontsize': 15}, labelpad = 5)\n",
    "    ax.set_ylabel(r'$y$ [{0:latex_inline}]'.format(astropy.units.core.Unit('pc')), fontdict={'fontsize': 15}, labelpad = 5)\n",
    "\n",
    "    c = plt.imshow(M, extent = extent, interpolation = 'None', cmap='jet')\n",
    "\n",
    "    if(display_arrows):\n",
    "        # The quiver plot with normalised vector lengths\n",
    "        q = ax.quiver(VEC_XX, VEC_YY, H.T, H2.T, M, cmap=plt.cm.magma_r)\n",
    "\n",
    "    # Plot Galaxy center and Sun position\n",
    "    ax.plot(0, 0, \"x\", markersize=20, color='red')\n",
    "    ax.plot(-8178, 0, \"*\", markersize=20, color='red')\n",
    "\n",
    "    cbar = plt.colorbar(c, ax=ax, pad = 0.05)\n",
    "    cbar.set_label(label ='Velocity in bin [km/s]', labelpad= 30, size = 15)\n",
    "\n",
    "    XX = bin_collection.bin_boundaries[0]\n",
    "    YY = bin_collection.bin_boundaries[1]\n",
    "\n",
    "    plt.xticks(XX[0], rotation=45)\n",
    "    plt.yticks(YY.T[0])\n",
    "    plt.ticklabel_format(axis=\"x\", style=\"sci\", scilimits=(3,3))\n",
    "    plt.ticklabel_format(axis=\"y\", style=\"sci\", scilimits=(3,3))\n",
    "    plt.title(title_string, pad = 30, fontdict={'fontsize': 20})\n",
    "\n",
    "    # Plot concentric circles\n",
    "    if(plot_circles):\n",
    "        angle = np.linspace( 0 , 2 * np.pi , 150 ) \n",
    "\n",
    "        for i, radius in enumerate(radii):\n",
    "\n",
    "            radius = radii[i]\n",
    "            x = radius * np.cos( angle )\n",
    "            y = radius * np.sin( angle )\n",
    "\n",
    "            if(XX[0][-1] < YY.T[0][-1]):\n",
    "                idx_x = np.where(x < XX[0][-1])[0][:]\n",
    "                x = x[idx_x]\n",
    "                y = y[idx_x]\n",
    "\n",
    "            else:\n",
    "                idx_y = np.where(y < YY.T[0][-1])[0][:]\n",
    "                x = x[idx_y]\n",
    "                y = y[idx_y]\n",
    "\n",
    "            ax.plot(x, y , label='{0} pc'.format(radius)) \n",
    "\n",
    "    plt.legend(loc='upper left')\n",
    "    plt.grid()\n",
    "\n",
    "    current_cmap = mpl.cm.get_cmap('jet')\n",
    "    current_cmap.set_bad(color='grey')\n",
    "    \n",
    "    if(save):\n",
    "        plt.savefig(title_string +'.png', dpi=300, format='png')\n"
   ]
  },
  {
   "cell_type": "code",
   "execution_count": null,
   "metadata": {},
   "outputs": [],
   "source": [
    "# Transform coordinates\n",
    "galcen_data = data_analysis.get_transformed_data(data_icrs, \n",
    "                                       include_cylindrical = True,\n",
    "                                       debug = True,\n",
    "                                       is_bayes = True, \n",
    "                                       is_source_included = True)\n",
    "\n",
    "# Generate covariance information\n",
    "cov_df = covariance_generation.generate_covmatrices(df = data_icrs, \n",
    "                                        df_crt = galcen_data, \n",
    "                                        transform_to_galcen = True, \n",
    "                                        transform_to_cylindrical = True,\n",
    "                                        is_bayes = True,\n",
    "                                        debug=True)\n",
    "\n",
    "galcen_data['cov_mat'] = cov_df['cov_mat']\n",
    "\n",
    "# Default bins in range: -10 - 10 [kpc]\n",
    "bin_collection = data_analysis.bin_data(galcen_data,\n",
    "                                        BL_x = (-10000, 0),\n",
    "                                        BL_z = (-1000, 1000),\n",
    "                                        debug = True)"
   ]
  },
  {
   "cell_type": "code",
   "execution_count": null,
   "metadata": {},
   "outputs": [],
   "source": [
    "Velocity_Field_Imshow(bin_collection,\n",
    "                        title_string=\"Baseline Velocity Field\\n$R_0 = {}$ pc\\nBayes Est.\".format(transformation_constants.R_0),\n",
    "                        radii=[5000, 8000],\n",
    "                        display_arrows=True, \n",
    "                        plot_circles=True, \n",
    "                        save=False)"
   ]
  },
  {
   "cell_type": "markdown",
   "metadata": {},
   "source": [
    "### Using naive distance estimation with parallax"
   ]
  },
  {
   "cell_type": "code",
   "execution_count": null,
   "metadata": {},
   "outputs": [],
   "source": [
    "# Transform coordinates\n",
    "galcen_data = data_analysis.get_transformed_data(data_icrs,\n",
    "                                        include_cylindrical = True,\n",
    "                                        debug = True,\n",
    "                                        is_bayes = False, \n",
    "                                        is_source_included = True)\n",
    "\n",
    "# Generate covariance information\n",
    "cov_df = covariance_generation.generate_covmatrices(df = data_icrs, \n",
    "                                        df_crt = galcen_data, \n",
    "                                        transform_to_galcen = True, \n",
    "                                        transform_to_cylindrical = True,\n",
    "                                        is_bayes = False,\n",
    "                                        debug=True)\n",
    "\n",
    "galcen_data['cov_mat'] = cov_df['cov_mat']\n",
    "\n",
    "# Default bins in range: -10 - 10 [kpc]\n",
    "bin_collection = data_analysis.bin_data(galcen_data,\n",
    "                                        BL_x = (-10000, 0),\n",
    "                                        BL_z = (-1000, 1000),\n",
    "                                        debug = True)"
   ]
  },
  {
   "cell_type": "code",
   "execution_count": null,
   "metadata": {},
   "outputs": [],
   "source": [
    "Velocity_Field_Imshow(bin_collection,\n",
    "                        title_string=\"Baseline Velocity Field\\n$R_0 = {}$ pc\\nNon-Bayes Est.\".format(transformation_constants.R_0),\n",
    "                        radii=[5000, 8000],\n",
    "                        display_arrows=True, \n",
    "                        plot_circles=True, \n",
    "                        save=False)"
   ]
  },
  {
   "cell_type": "markdown",
   "metadata": {},
   "source": [
    "---"
   ]
  }
 ],
 "metadata": {
  "interpreter": {
   "hash": "49a7e7b8cb9c8c49df4aa20270c97963c587815697f8fb9b088c19ad751a5862"
  },
  "kernelspec": {
   "display_name": "Python 3.6.8 ('dspn_env')",
   "language": "python",
   "name": "python3"
  },
  "language_info": {
   "codemirror_mode": {
    "name": "ipython",
    "version": 3
   },
   "file_extension": ".py",
   "mimetype": "text/x-python",
   "name": "python",
   "nbconvert_exporter": "python",
   "pygments_lexer": "ipython3",
   "version": "3.6.8"
  },
  "orig_nbformat": 4
 },
 "nbformat": 4,
 "nbformat_minor": 2
}
