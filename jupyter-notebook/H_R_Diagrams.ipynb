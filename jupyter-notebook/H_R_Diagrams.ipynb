{
 "cells": [
  {
   "cell_type": "markdown",
   "metadata": {},
   "source": [
    "# H-R Diagram Notebook"
   ]
  },
  {
   "cell_type": "code",
   "execution_count": null,
   "metadata": {},
   "outputs": [],
   "source": [
    "import matplotlib.pyplot as plt\n",
    "from matplotlib import colors\n",
    "import pandas as pd\n",
    "import sys\n",
    "sys.path.append(\"../gaia_tools/\")\n",
    "import data_analysis\n",
    "import transformation_constants\n",
    "import covariance_generation\n",
    "from import_functions import import_data\n",
    "import numpy as np"
   ]
  },
  {
   "cell_type": "code",
   "execution_count": null,
   "metadata": {},
   "outputs": [],
   "source": [
    "path = \"/hdfs/local/sven/gaia_tools_data/gaia_rv_data_bayes.csv\"\n",
    "data_icrs = import_data(path = path, debug = False)\n",
    "\n",
    "path_phot = \"/scratch/sven/gaia_downloads/photometry_with_rv.csv\"\n",
    "data_phot = import_data(path = path_phot, debug = False)"
   ]
  },
  {
   "cell_type": "code",
   "execution_count": null,
   "metadata": {},
   "outputs": [],
   "source": [
    "# Concatenate data on 'source_id'\n",
    "merged_df = data_icrs.merge(data_phot, on='source_id')"
   ]
  },
  {
   "cell_type": "code",
   "execution_count": null,
   "metadata": {},
   "outputs": [],
   "source": [
    "plt.rc('text', usetex=False)\n",
    "\n",
    "fig, ax = plt.subplots(figsize=(9, 9))\n",
    "\n",
    "range = [[0,5], [-10, 15]]\n",
    "\n",
    "Mg = merged_df.phot_g_mean_mag - 5*np.log10(merged_df.r_est) + 5\n",
    "\n",
    "# only show 2D-histogram for bins with more than 10 stars in them\n",
    "h = ax.hist2d(merged_df.bp_rp, Mg, range=range, bins=500, cmin=10, norm=colors.PowerNorm(0.5), zorder=0.5)\n",
    "# fill the rest with scatter (set rasterized=True if saving as vector graphics)\n",
    "ax.scatter(merged_df.bp_rp, Mg, alpha=0.05, s=1, color='k', zorder=0)\n",
    "\n",
    "ax.invert_yaxis()\n",
    "cb = fig.colorbar(h[3], ax=ax, pad=0.02)\n",
    "ax.set_xlabel('$G_{BP} - G_{RP}$', fontdict={'size' : 14})\n",
    "ax.set_ylabel('$M_G$', fontdict={'size' : 14})\n",
    "cb.set_label(\"$\\mathrm{Stellar~density}$\")\n",
    "plt.show()"
   ]
  },
  {
   "cell_type": "markdown",
   "metadata": {},
   "source": [
    "---"
   ]
  }
 ],
 "metadata": {
  "kernelspec": {
   "display_name": "Python 3.6.8 ('dspn_env')",
   "language": "python",
   "name": "python3"
  },
  "language_info": {
   "codemirror_mode": {
    "name": "ipython",
    "version": 3
   },
   "file_extension": ".py",
   "mimetype": "text/x-python",
   "name": "python",
   "nbconvert_exporter": "python",
   "pygments_lexer": "ipython3",
   "version": "3.6.8"
  },
  "orig_nbformat": 4,
  "vscode": {
   "interpreter": {
    "hash": "af1399650a6de459a9a764ca6f3d56f5c10db3565673a08cfbc83104c38a1a89"
   }
  }
 },
 "nbformat": 4,
 "nbformat_minor": 2
}
