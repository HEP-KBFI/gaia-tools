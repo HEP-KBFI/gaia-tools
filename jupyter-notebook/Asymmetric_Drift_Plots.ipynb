{
 "cells": [
  {
   "cell_type": "code",
   "execution_count": 5,
   "metadata": {},
   "outputs": [],
   "source": [
    "import sys\n",
    "sys.path.append(\"../gaia_tools/\")\n",
    "sys.path.append(\"../scripts/\")\n",
    "from covariance_generation import generate_galactocentric_covmat, transform_cov_cylindirical\n",
    "import covariance_generation\n",
    "from mcmc_plots import *\n",
    "import data_analysis\n",
    "import transformation_constants\n",
    "from velocity_curve_plots import load_bin_settings\n",
    "import helper_functions as helpfunc\n",
    "import numpy as np\n",
    "import emcee\n",
    "import matplotlib.pyplot as plt\n",
    "import matplotlib.ticker as ticker\n",
    "import pickle\n",
    "from pylab import *\n",
    "from scipy.optimize import curve_fit\n",
    "from cProfile import label\n",
    "import pandas as pd\n",
    "import pickle\n"
   ]
  },
  {
   "cell_type": "code",
   "execution_count": 2,
   "metadata": {},
   "outputs": [],
   "source": [
    "def load_galactic_parameters():\n",
    "   \n",
    "   # Initial Galactocentric distance\n",
    "   r_0 = 8277\n",
    "\n",
    "   # Initial height over Galactic plane\n",
    "   z_0 = 25\n",
    "\n",
    "   # Initial solar vector\n",
    "   v_sun = transformation_constants.V_SUN\n",
    "   v_sun[0][0] = 11.1\n",
    "   v_sun[1][0] = 251.5\n",
    "   v_sun[2][0] = 8.59\n",
    "   \n",
    "   return r_0, z_0, v_sun\n",
    "\n",
    "def apply_initial_cut(icrs_data, run_out_path):\n",
    "\n",
    "   r_0, z_0, v_sun = load_galactic_parameters()\n",
    "\n",
    "   galcen_data = data_analysis.get_transformed_data(icrs_data,\n",
    "                                          include_cylindrical = True,\n",
    "                                          z_0 = z_0,\n",
    "                                          r_0 = r_0,\n",
    "                                          v_sun = v_sun,\n",
    "                                          debug = True,\n",
    "                                          is_bayes = True,\n",
    "                                          is_source_included = True)\n",
    "\n",
    "   C_icrs = covariance_generation.generate_covmat(icrs_data, is_parallax=True)\n",
    "\n",
    "\n",
    "   data_array_ICRS =  icrs_data[[\"ra\", \"dec\",\"r_est\",\"pmra\",\"pmdec\",\"radial_velocity\"]].to_numpy()\n",
    "   galactocentric_cov = covariance_generation.transform_cov_matrix(C = C_icrs, \n",
    "                                        df = data_array_ICRS,\n",
    "                                        coordinate_system = 'Cartesian',\n",
    "                                        z_0 = z_0,\n",
    "                                        r_0 = r_0,\n",
    "                                        is_bayes = True)\n",
    "\n",
    "   data_array_crt = galcen_data[[\"x\", \"y\",\"r\",\"phi\",\"v_r\",\"v_phi\"]].to_numpy()\n",
    "   cyl_cov = transform_cov_cylindirical(data_array_crt, \n",
    "                                                C = galactocentric_cov,\n",
    "                                                Z_0 = z_0,\n",
    "                                                R_0 = r_0)\n",
    "   galcen_data = galcen_data.merge(cyl_cov, on='source_id')\n",
    "\n",
    "   # Final data cut\n",
    "   galcen_data = galcen_data[(galcen_data.r < 15000) & (galcen_data.r > 5000)]\n",
    "   galcen_data = galcen_data[(galcen_data.z < 200) & (galcen_data.z > -200)]\n",
    "\n",
    "   # Remove halo stars (condition taken from 1806.06038)                        \n",
    "   v_dif = np.linalg.norm(np.array([galcen_data.v_x, galcen_data.v_y, galcen_data.v_z])-v_sun,\n",
    "                        axis=0)                                               \n",
    "   galcen_data['v_dif'] = v_dif                                                 \n",
    "   galcen_data = galcen_data[galcen_data.v_dif<210.]\n",
    "\n",
    "   galcen_data.reset_index(inplace=True, drop=True)\n",
    "   \n",
    "   return galcen_data"
   ]
  },
  {
   "cell_type": "code",
   "execution_count": 5,
   "metadata": {},
   "outputs": [
    {
     "name": "stdout",
     "output_type": "stream",
     "text": [
      "Importing necessary column names...\n",
      "Importing DR3...\n",
      "Initial size of sample: (6586329, 24)\n"
     ]
    }
   ],
   "source": [
    "# print('Importing necessary column names...')\n",
    "# icrs_data_columns = pd.read_csv(\"/local/sven/gaia_tools_data/gaia_rv_data_bayes.csv\", nrows = 10).columns\n",
    "\n",
    "\n",
    "# print('Importing DR3...')\n",
    "# dr3_path = '/local/mariacst/2022_v0_project/data/GaiaDR3_RV_RGB_fidelity.csv'\n",
    "# gaia_dr3 = pd.read_csv(dr3_path)\n",
    "# icrs_data = gaia_dr3[icrs_data_columns]\n",
    "# print(\"Initial size of sample: {}\".format(icrs_data.shape))"
   ]
  },
  {
   "cell_type": "code",
   "execution_count": 3,
   "metadata": {},
   "outputs": [
    {
     "name": "stdout",
     "output_type": "stream",
     "text": [
      "Importing DR3...\n",
      "Index(['Unnamed: 0', 'source_id', 'ra', 'dec', 'rgeo', 'b_rgeo', 'B_rgeo',\n",
      "       'r_est', 'b_rpgeo', 'B_rpgeo', 'ra_error', 'dec_error', 'parallax',\n",
      "       'parallax_error', 'PM', 'pmra', 'pmra_error', 'pmdec', 'pmdec_error',\n",
      "       'radial_velocity', 'radial_velocity_error', 'ra_dec_corr',\n",
      "       'ra_pmdec_corr', 'ra_parallax_corr', 'ra_pmra_corr', 'dec_pmra_corr',\n",
      "       'dec_pmdec_corr', 'dec_parallax_corr', 'parallax_pmdec_corr',\n",
      "       'parallax_pmra_corr', 'pmra_pmdec_corr', 'r_est_error'],\n",
      "      dtype='object')\n"
     ]
    }
   ],
   "source": [
    "print('Importing DR3...')\n",
    "dr3_path = '/local/mariacst/2022_v0_project/data/GaiaDR3_RV_RGB_fidelity.csv'\n",
    "gaia_dr3 = pd.read_csv(dr3_path)\n",
    "\n",
    "r_est_error = (gaia_dr3.B_rpgeo - gaia_dr3.b_rpgeo)/2\n",
    "gaia_dr3['r_est_error'] = r_est_error\n",
    "\n",
    "columns_to_drop = ['Vbroad', 'GRVSmag', 'Gal', 'Teff', 'logg',\n",
    "    '[Fe/H]', 'Dist', 'A0', 'RAJ2000', 'DEJ2000', 'e_RAJ2000', 'e_DEJ2000',\n",
    "    'RADEcorJ2000', 'B_Teff', 'b_Teff', 'b_logg', 'B_logg', 'b_Dist',\n",
    "    'B_Dist', 'b_AG', 'B_AG', 'b_A0', 'B_A0', 'Gmag', 'BPmag', 'RPmag', 'BP-RP']\n",
    "gaia_dr3 = gaia_dr3.drop(columns=columns_to_drop)\n",
    "print(gaia_dr3.columns)\n",
    "icrs_data = gaia_dr3"
   ]
  },
  {
   "cell_type": "code",
   "execution_count": 6,
   "metadata": {},
   "outputs": [
    {
     "name": "stdout",
     "output_type": "stream",
     "text": [
      "Starting galactocentric transformation loop over all data points.. \n",
      "Time elapsed for data coordinate transformation: 7.512831021100283 sec\n"
     ]
    }
   ],
   "source": [
    "r_0, z_0, v_sun = load_galactic_parameters()\n",
    "\n",
    "galcen_data = data_analysis.get_transformed_data(icrs_data,\n",
    "                                        include_cylindrical = True,\n",
    "                                        z_0 = z_0,\n",
    "                                        r_0 = r_0,\n",
    "                                        v_sun = v_sun,\n",
    "                                        debug = True,\n",
    "                                        is_bayes = True,\n",
    "                                        is_source_included = True)\n",
    "\n",
    "C_icrs = covariance_generation.generate_covmat(icrs_data)\n",
    "\n",
    "\n",
    "data_array_ICRS =  icrs_data[[\"ra\", \"dec\",\"r_est\",\"pmra\",\"pmdec\",\"radial_velocity\"]].to_numpy()\n",
    "galactocentric_cov = covariance_generation.transform_cov_matrix(C = C_icrs, \n",
    "                                    df = data_array_ICRS,\n",
    "                                    coordinate_system = 'Cartesian',\n",
    "                                    z_0 = z_0,\n",
    "                                    r_0 = r_0,\n",
    "                                    is_bayes = True)\n"
   ]
  },
  {
   "cell_type": "code",
   "execution_count": 7,
   "metadata": {},
   "outputs": [],
   "source": [
    "cyl_cov = covariance_generation.transform_cov_cylindirical(\n",
    "                                galcen_data, \n",
    "                                galactocentric_cov,\n",
    "                                Z_0 = transformation_constants.Z_0,\n",
    "                                R_0 = transformation_constants.R_0)"
   ]
  },
  {
   "cell_type": "code",
   "execution_count": 8,
   "metadata": {},
   "outputs": [],
   "source": [
    "galcen_data = galcen_data.merge(cyl_cov, on='source_id')\n",
    "\n",
    "# Final data cut\n",
    "galcen_data = galcen_data[(galcen_data.r < 15000) & (galcen_data.r > 5000)]\n",
    "galcen_data = galcen_data[(galcen_data.z < 200) & (galcen_data.z > -200)]\n",
    "\n",
    "# Remove halo stars (condition taken from 1806.06038)                        \n",
    "v_dif = np.linalg.norm(np.array([galcen_data.v_x, galcen_data.v_y, galcen_data.v_z])-v_sun,\n",
    "                    axis=0)                                               \n",
    "galcen_data['v_dif'] = v_dif                                                 \n",
    "galcen_data = galcen_data[galcen_data.v_dif<210.]\n",
    "\n",
    "galcen_data.reset_index(inplace=True, drop=True)"
   ]
  },
  {
   "cell_type": "code",
   "execution_count": 9,
   "metadata": {},
   "outputs": [
    {
     "data": {
      "text/plain": [
       "(1679257, 14)"
      ]
     },
     "execution_count": 9,
     "metadata": {},
     "output_type": "execute_result"
    }
   ],
   "source": [
    "galcen_data.shape"
   ]
  },
  {
   "cell_type": "code",
   "execution_count": 10,
   "metadata": {},
   "outputs": [
    {
     "name": "stdout",
     "output_type": "stream",
     "text": [
      "1. bin_centers_r= [ 5500.  6500.  7500.  8500.  9500. 10500. 11500. 12500. 13500. 14500.]\n",
      "2. bin_centers_z= [0. 0. 0. 0. 0. 0. 0. 0. 0. 0.]\n",
      "3. bin_edges= (array([[ 5000.,  6000.,  7000.,  8000.,  9000., 10000., 11000., 12000.,\n",
      "        13000., 14000., 15000.],\n",
      "       [ 5000.,  6000.,  7000.,  8000.,  9000., 10000., 11000., 12000.,\n",
      "        13000., 14000., 15000.]]), array([[-200., -200., -200., -200., -200., -200., -200., -200., -200.,\n",
      "        -200., -200.],\n",
      "       [ 200.,  200.,  200.,  200.,  200.,  200.,  200.,  200.,  200.,\n",
      "         200.,  200.]]))\n",
      "4. nbins= 10\n",
      "5. V_sun= [[ 11.1 ]\n",
      " [251.5 ]\n",
      " [  8.59]]\n",
      "6. R_0= 8277\n",
      "7. Z_0= 25\n",
      "8. final_sample_size= (1679257, 15)\n",
      "9. disk_scale= 3000.0\n",
      "10. vlos_dispersion_scale= 21000.0\n",
      "11. A_r_info= [(5500.0, 15477828.352779053), (6500.0, 14888999.096845886), (7500.0, 15929148.977418602), (8500.0, 16565445.726879548), (9500.0, 17377168.510338657), (10500.0, 18096276.587770145), (11500.0, 16673771.212839426), (12500.0, 15836050.495158598), (13500.0, 18026675.81636838), (14500.0, 20734755.560238235)]\n",
      "1. bin_centers_r= [ 5500.  6500.  7500.  8500.  9500. 10500. 11500. 12500. 13500. 14500.]\n",
      "2. bin_centers_z= [0. 0. 0. 0. 0. 0. 0. 0. 0. 0.]\n",
      "3. bin_edges= (array([[ 5000.,  6000.,  7000.,  8000.,  9000., 10000., 11000., 12000.,\n",
      "        13000., 14000., 15000.],\n",
      "       [ 5000.,  6000.,  7000.,  8000.,  9000., 10000., 11000., 12000.,\n",
      "        13000., 14000., 15000.]]), array([[-200., -200., -200., -200., -200., -200., -200., -200., -200.,\n",
      "        -200., -200.],\n",
      "       [ 200.,  200.,  200.,  200.,  200.,  200.,  200.,  200.,  200.,\n",
      "         200.,  200.]]))\n",
      "4. nbins= 10\n",
      "5. V_sun= [[ 11.1 ]\n",
      " [251.5 ]\n",
      " [  8.59]]\n",
      "6. R_0= 8277\n",
      "7. Z_0= 25\n",
      "8. final_sample_size= (1679257, 15)\n",
      "9. disk_scale= 3000.0\n",
      "10. vlos_dispersion_scale= 21000.0\n",
      "11. A_r_info= [(5500.0, 15477828.352779053), (6500.0, 14888999.096845886), (7500.0, 15929148.977418602), (8500.0, 16565445.726879548), (9500.0, 17377168.510338657), (10500.0, 18096276.587770145), (11500.0, 16673771.212839426), (12500.0, 15836050.495158598), (13500.0, 18026675.81636838), (14500.0, 20734755.560238235)]\n"
     ]
    }
   ],
   "source": [
    "# Fitting R0, New Binning, 100% Data - GPU -- OLD RESULT\n",
    "# path1 = '/home/sven/repos/gaia-tools/out/mcmc_runs/2023-01-09-21-42-37_48_full_run'\n",
    "\n",
    "# 100% Data - GPU -- NEW RESULT\n",
    "path1 = '/home/sven/repos/gaia-tools/out/mcmc_runs/2023-02-17-12-19-47_48_full_run_mean_no_halo_stars'\n",
    "\n",
    "paths=[path1]\n",
    "labels =[]\n",
    "\n",
    "samplers=[]\n",
    "for folder_path in paths:\\\n",
    "    samplers.append(folder_path+'/sampler_' + folder_path.split('/')[-1].split('_')[0] + '.h5')\n",
    "\n",
    "# Load run settings and print\n",
    "bin_setup = load_bin_settings(path1, True)\n",
    "bin_centers_r = bin_setup['bin_centers_r']\n",
    "bin_centers_z = bin_setup['bin_centers_z']\n",
    "\n",
    "\n",
    "\n",
    "# Load run settings and print\n",
    "bin_setup = load_bin_settings(path1, True)\n",
    "bin_centers_r = bin_setup['bin_centers_r']\n",
    "bin_centers_z = bin_setup['bin_centers_z']\n"
   ]
  },
  {
   "cell_type": "code",
   "execution_count": 11,
   "metadata": {},
   "outputs": [],
   "source": [
    "# Gets V_c mean values and errors\n",
    "burnin = 2000\n",
    "path = samplers[0]\n",
    "reader = emcee.backends.HDFBackend(path, read_only=True)\n",
    "samples_data = reader.get_chain(discard=burnin)\n",
    "flatchain = reader.get_chain(flat=True, discard = burnin)\n",
    "\n",
    "bin_velocities = []\n",
    "ndim = samples_data.shape[2]\n",
    "\n",
    "for i in range(ndim):\n",
    "    mcmc = np.percentile(flatchain[:, i], [16, 50, 84])\n",
    "    q = np.diff(mcmc)\n",
    "    v_mean, v_sub, v_sup = mcmc[1], q[0], q[1] \n",
    "    bin_velocities.append((v_mean, v_sub, v_sup))\n",
    "velocity_array = np.array(bin_velocities)"
   ]
  },
  {
   "cell_type": "code",
   "execution_count": 12,
   "metadata": {},
   "outputs": [],
   "source": [
    "r_min = 5000/8277\n",
    "r_max = 15000/8277\n",
    "\n",
    "# Generate bins\n",
    "bin_collection = data_analysis.get_collapsed_bins(data = galcen_data,\n",
    "                                                        theta = 8277,\n",
    "                                                        BL_r_min = r_min,\n",
    "                                                        BL_r_max = r_max,\n",
    "                                                        BL_z_min = -200,\n",
    "                                                        BL_z_max = 200,\n",
    "                                                        N_bins = (10, 1),\n",
    "                                                        r_drift = True,\n",
    "                                                        debug = False)\n"
   ]
  },
  {
   "cell_type": "code",
   "execution_count": 13,
   "metadata": {},
   "outputs": [],
   "source": [
    "plain_mean_velocities = []\n",
    "weighted_mean_velocities = []\n",
    "weighted_var_velocities = []\n",
    "\n",
    "# Bootstrap errors\n",
    "for i, bin in enumerate(bin_collection.bins):\n",
    "\n",
    "    bin.bootstrapped_error = helpfunc.bootstrap_weighted_error(bin.data.v_phi.to_numpy(), bin.data.sig_vphi.to_numpy())\n",
    "\n",
    "    bin_vphi = bin.data.v_phi.to_numpy()\n",
    "    bin_sig_vphi = bin.data.sig_vphi.to_numpy()\n",
    "\n",
    "    weights = 1/bin_sig_vphi\n",
    "    \n",
    "    # Weighted mean\n",
    "    weighted_mean = np.average(bin_vphi, weights=weights)\n",
    "\n",
    "    weighted_mean_velocities.append(weighted_mean)\n",
    "    weighted_var_velocities.append(bin.bootstrapped_error)\n",
    "    plain_mean_velocities.append(np.mean(bin.data.v_phi.to_numpy()))\n"
   ]
  },
  {
   "cell_type": "code",
   "execution_count": null,
   "metadata": {},
   "outputs": [],
   "source": [
    "# Not Needed - OBSOLETE\n",
    "\n",
    "A_array = []\n",
    "for i, bin in enumerate(bin_collection.bins):\n",
    "    bin.A_parameter = bin.compute_A_parameter(h_r = 3000, \n",
    "                                            h_sig = 21000, \n",
    "                                            debug=False)\n",
    "    print(bin.r_boundaries)\n",
    "    print(bin.A_parameter)\n",
    "    A_array.append(bin.A_parameter)\n",
    "\n",
    "\n"
   ]
  },
  {
   "cell_type": "code",
   "execution_count": 21,
   "metadata": {},
   "outputs": [
    {
     "name": "stdout",
     "output_type": "stream",
     "text": [
      "vc_error: 4.1735100781562835\n",
      "vphi_error: 0.3591546954535026\n",
      "0.0691604016724854\n",
      "vc_error: 4.305315469665501\n",
      "vphi_error: 0.31843674576260395\n",
      "0.06322330889672627\n",
      "vc_error: 4.369257537075171\n",
      "vphi_error: 0.40253341726855163\n",
      "0.0675296827440209\n",
      "vc_error: 4.366526564713567\n",
      "vphi_error: 0.4615921682743534\n",
      "0.07053666795063801\n",
      "vc_error: 4.398296194863818\n",
      "vphi_error: 0.3347122773828321\n",
      "0.07640810995222592\n",
      "vc_error: 4.194607912990591\n",
      "vphi_error: 0.3448961850171731\n",
      "0.07698631619804724\n",
      "vc_error: 4.298913417338753\n",
      "vphi_error: 0.3842972340184024\n",
      "0.07634865271119608\n",
      "vc_error: 4.128333378666184\n",
      "vphi_error: 0.48595432840255026\n",
      "0.07279147355870431\n",
      "vc_error: 3.9910157359184666\n",
      "vphi_error: 0.6148868282239125\n",
      "0.08812560250899364\n",
      "vc_error: 3.910312257516466\n",
      "vphi_error: 1.0875013690492918\n",
      "0.10896360547416137\n"
     ]
    },
    {
     "data": {
      "text/plain": [
       "array([0.0691604 , 0.06322331, 0.06752968, 0.07053667, 0.07640811,\n",
       "       0.07698632, 0.07634865, 0.07279147, 0.0881256 , 0.10896361])"
      ]
     },
     "execution_count": 21,
     "metadata": {},
     "output_type": "execute_result"
    }
   ],
   "source": [
    "# Compute va error #1 - OBSOLETE\n",
    "r, A = zip(*bin_setup['A_r_info'])\n",
    "A = np.array(A_array)\n",
    "\n",
    "va_error_array = []\n",
    "\n",
    "for i,bin in enumerate(bin_collection.bins):\n",
    "    v_c = velocity_array[:,0][0:-2][i]\n",
    "    v_phi = weighted_mean_velocities[i]\n",
    "    A_i = 2*A[i]\n",
    "\n",
    "    # add the sub and sup and divide by 2\n",
    "    vc_error = ((velocity_array[:,1][0:-2][i] + velocity_array[:,2][0:-2][i])/2)\n",
    "    vphi_error = weighted_var_velocities[i]\n",
    "    print(\"vc_error: {}\".format(vc_error))\n",
    "    print(\"vphi_error: {}\".format(np.sqrt(vphi_error)))\n",
    "\n",
    "    add_1 = -A_i*(v_c + v_phi)**(-2)*vc_error\n",
    "    add_2 = -A_i*(v_c + v_phi)**(-2)*np.sqrt(vphi_error)\n",
    "\n",
    "    va_error = np.sqrt(add_1**2 + add_2**2)\n",
    "    print(va_error)\n",
    "\n",
    "    va_error_array.append(va_error)\n",
    "\n",
    "va_error_array = np.array(va_error_array)\n",
    "va_error_array"
   ]
  },
  {
   "cell_type": "code",
   "execution_count": 18,
   "metadata": {},
   "outputs": [
    {
     "name": "stdout",
     "output_type": "stream",
     "text": [
      "vc_error: 6.329149505968132\n",
      "vphi_error: 0.2759614598531979\n",
      "6.329607650667654\n",
      "vc_error: 6.712664000693707\n",
      "vphi_error: 0.23101064857825093\n",
      "6.712876127830805\n",
      "vc_error: 6.653806743966356\n",
      "vphi_error: 0.3023382769955165\n",
      "6.6544345881382245\n",
      "vc_error: 6.744914132987162\n",
      "vphi_error: 0.36356048587068496\n",
      "6.746209099659151\n",
      "vc_error: 6.654170783805029\n",
      "vphi_error: 0.35286384644071056\n",
      "6.655335624958954\n",
      "vc_error: 6.5095023099976\n",
      "vphi_error: 0.3734676097606554\n",
      "6.510996425420721\n",
      "vc_error: 6.651642665674814\n",
      "vphi_error: 0.44130466438817756\n",
      "6.654493041477943\n",
      "vc_error: 6.34659428378518\n",
      "vphi_error: 0.564009271676717\n",
      "6.354561410666975\n",
      "vc_error: 6.309861620371734\n",
      "vphi_error: 0.8350357996697472\n",
      "6.3482721855671445\n",
      "vc_error: 5.91121487166869\n",
      "vphi_error: 1.1108490015918182\n",
      "6.0386406983651755\n"
     ]
    },
    {
     "data": {
      "text/plain": [
       "array([6.32960765, 6.71287613, 6.65443459, 6.7462091 , 6.65533562,\n",
       "       6.51099643, 6.65449304, 6.35456141, 6.34827219, 6.0386407 ])"
      ]
     },
     "execution_count": 18,
     "metadata": {},
     "output_type": "execute_result"
    }
   ],
   "source": [
    "# Compute va error #2 - NEW\n",
    "\n",
    "va_error_array = []\n",
    "\n",
    "for i,bin in enumerate(bin_collection.bins):\n",
    "    v_c = velocity_array[:,0][0:-2][i]\n",
    "    # v_phi = weighted_mean_velocities[i]\n",
    "\n",
    "    v_phi = plain_mean_velocities[i]\n",
    "\n",
    "    # add the sub and sup and divide by 2\n",
    "    vc_error = ((velocity_array[:,1][0:-2][i] + velocity_array[:,2][0:-2][i])/2)\n",
    "    vphi_error = weighted_var_velocities[i]\n",
    "    print(\"vc_error: {}\".format(vc_error))\n",
    "    print(\"vphi_error: {}\".format(np.sqrt(vphi_error)))\n",
    "\n",
    "    va_error = np.sqrt(vc_error**2 + vphi_error**2)\n",
    "    print(va_error)\n",
    "\n",
    "    va_error_array.append(va_error)\n",
    "\n",
    "va_error_array = np.array(va_error_array)\n",
    "va_error_array"
   ]
  },
  {
   "cell_type": "code",
   "execution_count": 24,
   "metadata": {},
   "outputs": [
    {
     "data": {
      "text/plain": [
       "numpy.ndarray"
      ]
     },
     "execution_count": 24,
     "metadata": {},
     "output_type": "execute_result"
    }
   ],
   "source": [
    "type(velocity_array)"
   ]
  },
  {
   "cell_type": "code",
   "execution_count": 35,
   "metadata": {},
   "outputs": [
    {
     "data": {
      "image/png": "[encoded data removed]",
      "text/plain": [
       "<Figure size 864x432 with 1 Axes>"
      ]
     },
     "metadata": {
      "needs_background": "light"
     },
     "output_type": "display_data"
    }
   ],
   "source": [
    "r, A = zip(*bin_setup['A_r_info'])\n",
    "\n",
    "fig, ax = plt.subplots(figsize=(12, 6))\n",
    "\n",
    "x = r\n",
    "y = velocity_array[:,0][0:-3] - np.array(plain_mean_velocities)\n",
    "\n",
    "ax.scatter(x, -y, color='black')\n",
    "\n",
    "plt.errorbar(x, -y, \n",
    "                    yerr=va_error_array, color='black')\n",
    "\n",
    "# plt.errorbar(x_values, -y_values,\n",
    "#                     yerr= y_error,\n",
    "#                     fmt='o', c=colors[i_path], label=labels[i_path])\n",
    "\n",
    "def numfmt(x, pos):\n",
    "            s = '{:.1f}'.format(x / 1000.0)\n",
    "            return s\n",
    "fmt = ticker.FuncFormatter(numfmt)\n",
    "ax.xaxis.set_major_formatter(fmt)\n",
    "\n",
    "bin_edges_r = bin_setup['bin_edges'][0][0]\n",
    "bin_edges_z = bin_setup['bin_edges'][1].T[0]\n",
    "\n",
    "ax.vlines(bin_edges_r, np.min(-(y + va_error_array)) - 0.5, np.max(-(y - va_error_array)) + 0.5, linestyles='dashed', alpha=0.5, colors='grey')\n",
    "ax.set_xticks(bin_edges_r)\n",
    "\n",
    "h_lines  = np.linspace(-2.5, 12.5, 7)\n",
    "ax.hlines(h_lines, 4500, 15500, linestyles='dashed', alpha=0.5, colors='grey')\n",
    "\n",
    "fontdict = {'fontsize' : 16}\n",
    "\n",
    "ax.set_xlabel(r'$R$ [kpc]', fontdict= fontdict)\n",
    "ax.set_ylabel(r'$v_a$ [km/s]', fontdict= fontdict)\n",
    "\n",
    "plt.xticks(fontsize=14, rotation=0)\n",
    "plt.yticks(fontsize=14, rotation=0)\n",
    "#plt.title('Asymmetric Drift Velocity', fontsize=18, pad=12)\n",
    "\n",
    "plt.savefig('Asm_Drift_Feb.pdf', dpi = 300, bbox_inches='tight')"
   ]
  },
  {
   "cell_type": "code",
   "execution_count": 36,
   "metadata": {},
   "outputs": [
    {
     "data": {
      "text/plain": [
       "array([4.1, 3.5, 3.9, 4.2, 4.7, 5.3, 4.8, 4.8, 6.1, 7.8])"
      ]
     },
     "execution_count": 36,
     "metadata": {},
     "output_type": "execute_result"
    }
   ],
   "source": [
    "np.round(-y,1)"
   ]
  },
  {
   "cell_type": "code",
   "execution_count": 38,
   "metadata": {},
   "outputs": [
    {
     "data": {
      "text/plain": [
       "array([6.3, 6.7, 6.7, 6.7, 6.7, 6.5, 6.7, 6.4, 6.3, 6. ])"
      ]
     },
     "execution_count": 38,
     "metadata": {},
     "output_type": "execute_result"
    }
   ],
   "source": [
    "np.round(va_error_array, 1)"
   ]
  },
  {
   "cell_type": "code",
   "execution_count": 15,
   "metadata": {},
   "outputs": [],
   "source": [
    "weighted_mean_velocities = np.array(weighted_mean_velocities)\n",
    "weighted_var_velocities = np.array(weighted_var_velocities)\n",
    "r_array = np.array(r)"
   ]
  },
  {
   "cell_type": "code",
   "execution_count": 29,
   "metadata": {},
   "outputs": [
    {
     "data": {
      "text/plain": [
       "array([[ 5.50000000e+03, -2.23259169e+02,  1.31411919e-01],\n",
       "       [ 6.50000000e+03, -2.29734737e+02,  9.81012801e-02],\n",
       "       [ 7.50000000e+03, -2.32395857e+02,  1.58081018e-01],\n",
       "       [ 8.50000000e+03, -2.31243153e+02,  2.16960449e-01],\n",
       "       [ 9.50000000e+03, -2.26940680e+02,  1.17224601e-01],\n",
       "       [ 1.05000000e+04, -2.25512332e+02,  1.10818350e-01],\n",
       "       [ 1.15000000e+04, -2.23679947e+02,  1.53632658e-01],\n",
       "       [ 1.25000000e+04, -2.23182236e+02,  2.37071268e-01],\n",
       "       [ 1.35000000e+04, -2.18682221e+02,  3.84685506e-01],\n",
       "       [ 1.45000000e+04, -2.12719768e+02,  1.17155029e+00]])"
      ]
     },
     "execution_count": 29,
     "metadata": {},
     "output_type": "execute_result"
    }
   ],
   "source": [
    "data_array = np.vstack((r_array, weighted_mean_velocities, weighted_var_velocities))\n",
    "data_array.T"
   ]
  },
  {
   "cell_type": "code",
   "execution_count": 31,
   "metadata": {},
   "outputs": [
    {
     "data": {
      "text/html": [
       "<div>\n",
       "<style scoped>\n",
       "    .dataframe tbody tr th:only-of-type {\n",
       "        vertical-align: middle;\n",
       "    }\n",
       "\n",
       "    .dataframe tbody tr th {\n",
       "        vertical-align: top;\n",
       "    }\n",
       "\n",
       "    .dataframe thead th {\n",
       "        text-align: right;\n",
       "    }\n",
       "</style>\n",
       "<table border=\"1\" class=\"dataframe\">\n",
       "  <thead>\n",
       "    <tr style=\"text-align: right;\">\n",
       "      <th></th>\n",
       "      <th>r</th>\n",
       "      <th>v_phi_wght_mean</th>\n",
       "      <th>boot_error</th>\n",
       "    </tr>\n",
       "  </thead>\n",
       "  <tbody>\n",
       "    <tr>\n",
       "      <th>0</th>\n",
       "      <td>5500.0</td>\n",
       "      <td>-223.259169</td>\n",
       "      <td>0.131412</td>\n",
       "    </tr>\n",
       "    <tr>\n",
       "      <th>1</th>\n",
       "      <td>6500.0</td>\n",
       "      <td>-229.734737</td>\n",
       "      <td>0.098101</td>\n",
       "    </tr>\n",
       "    <tr>\n",
       "      <th>2</th>\n",
       "      <td>7500.0</td>\n",
       "      <td>-232.395857</td>\n",
       "      <td>0.158081</td>\n",
       "    </tr>\n",
       "    <tr>\n",
       "      <th>3</th>\n",
       "      <td>8500.0</td>\n",
       "      <td>-231.243153</td>\n",
       "      <td>0.216960</td>\n",
       "    </tr>\n",
       "    <tr>\n",
       "      <th>4</th>\n",
       "      <td>9500.0</td>\n",
       "      <td>-226.940680</td>\n",
       "      <td>0.117225</td>\n",
       "    </tr>\n",
       "    <tr>\n",
       "      <th>5</th>\n",
       "      <td>10500.0</td>\n",
       "      <td>-225.512332</td>\n",
       "      <td>0.110818</td>\n",
       "    </tr>\n",
       "    <tr>\n",
       "      <th>6</th>\n",
       "      <td>11500.0</td>\n",
       "      <td>-223.679947</td>\n",
       "      <td>0.153633</td>\n",
       "    </tr>\n",
       "    <tr>\n",
       "      <th>7</th>\n",
       "      <td>12500.0</td>\n",
       "      <td>-223.182236</td>\n",
       "      <td>0.237071</td>\n",
       "    </tr>\n",
       "    <tr>\n",
       "      <th>8</th>\n",
       "      <td>13500.0</td>\n",
       "      <td>-218.682221</td>\n",
       "      <td>0.384686</td>\n",
       "    </tr>\n",
       "    <tr>\n",
       "      <th>9</th>\n",
       "      <td>14500.0</td>\n",
       "      <td>-212.719768</td>\n",
       "      <td>1.171550</td>\n",
       "    </tr>\n",
       "  </tbody>\n",
       "</table>\n",
       "</div>"
      ],
      "text/plain": [
       "         r  v_phi_wght_mean  boot_error\n",
       "0   5500.0      -223.259169    0.131412\n",
       "1   6500.0      -229.734737    0.098101\n",
       "2   7500.0      -232.395857    0.158081\n",
       "3   8500.0      -231.243153    0.216960\n",
       "4   9500.0      -226.940680    0.117225\n",
       "5  10500.0      -225.512332    0.110818\n",
       "6  11500.0      -223.679947    0.153633\n",
       "7  12500.0      -223.182236    0.237071\n",
       "8  13500.0      -218.682221    0.384686\n",
       "9  14500.0      -212.719768    1.171550"
      ]
     },
     "execution_count": 31,
     "metadata": {},
     "output_type": "execute_result"
    }
   ],
   "source": [
    "\n",
    "        \n",
    "\n",
    "df = pd.DataFrame(data_array.T, columns = ['r','v_phi_wght_mean','boot_error'])\n",
    "df.to_csv('full_run_rot_vel.csv', index=False)\n",
    "df\n",
    "\n"
   ]
  },
  {
   "attachments": {},
   "cell_type": "markdown",
   "metadata": {},
   "source": [
    "# Linear Regression of Velocity Curve"
   ]
  },
  {
   "cell_type": "code",
   "execution_count": 48,
   "metadata": {},
   "outputs": [
    {
     "data": {
      "text/plain": [
       "LinregressResult(slope=-0.00100901719994993, intercept=237.5903532113815, rvalue=-0.7616599433794491, pvalue=0.010467310340517112, stderr=0.0003034953340453137)"
      ]
     },
     "execution_count": 48,
     "metadata": {},
     "output_type": "execute_result"
    }
   ],
   "source": [
    "from scipy.stats import linregress\n",
    "linear_reg_result = linregress(np.array(r), np.abs(velocity_array[0:-3][:,0]))\n",
    "linear_reg_result"
   ]
  },
  {
   "cell_type": "code",
   "execution_count": 51,
   "metadata": {},
   "outputs": [
    {
     "data": {
      "text/plain": [
       "229.23871784739595"
      ]
     },
     "execution_count": 51,
     "metadata": {},
     "output_type": "execute_result"
    }
   ],
   "source": [
    "linear_reg_result[0]*8277 + linear_reg_result[1]"
   ]
  },
  {
   "cell_type": "code",
   "execution_count": 50,
   "metadata": {},
   "outputs": [
    {
     "data": {
      "text/plain": [
       "[<matplotlib.lines.Line2D at 0x7f3c326f0978>]"
      ]
     },
     "execution_count": 50,
     "metadata": {},
     "output_type": "execute_result"
    },
    {
     "data": {
      "image/png": "[encoded data removed]",
      "text/plain": [
       "<Figure size 720x432 with 1 Axes>"
      ]
     },
     "metadata": {
      "needs_background": "light"
     },
     "output_type": "display_data"
    }
   ],
   "source": [
    "fig, ax = plt.subplots(figsize=(10, 6))\n",
    "plt.plot(r, np.abs(velocity_array[0:-3][:,0]))\n",
    "\n",
    "x_r_range = np.linspace(5500, 15000, 10)\n",
    "y_lin_reg = linear_reg_result[0]*x_r_range + linear_reg_result[1]\n",
    "x_r_range\n",
    "plt.plot(x_r_range, y_lin_reg)"
   ]
  }
 ],
 "metadata": {
  "kernelspec": {
   "display_name": "dspn_env",
   "language": "python",
   "name": "python3"
  },
  "language_info": {
   "codemirror_mode": {
    "name": "ipython",
    "version": 3
   },
   "file_extension": ".py",
   "mimetype": "text/x-python",
   "name": "python",
   "nbconvert_exporter": "python",
   "pygments_lexer": "ipython3",
   "version": "3.6.8"
  },
  "orig_nbformat": 4,
  "vscode": {
   "interpreter": {
    "hash": "af1399650a6de459a9a764ca6f3d56f5c10db3565673a08cfbc83104c38a1a89"
   }
  }
 },
 "nbformat": 4,
 "nbformat_minor": 2
}
