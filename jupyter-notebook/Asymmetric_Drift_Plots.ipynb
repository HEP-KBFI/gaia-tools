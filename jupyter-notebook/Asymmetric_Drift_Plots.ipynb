{
 "cells": [
  {
   "cell_type": "code",
   "execution_count": 1,
   "metadata": {},
   "outputs": [],
   "source": [
    "import sys\n",
    "sys.path.append(\"../gaia_tools/\")\n",
    "sys.path.append(\"../scripts/\")\n",
    "from covariance_generation import generate_galactocentric_covmat, transform_cov_cylindirical\n",
    "from mcmc_plots import *\n",
    "import data_analysis\n",
    "import transformation_constants\n",
    "from velocity_curve_plots import load_bin_settings\n",
    "import helper_functions as helpfunc\n",
    "import numpy as np\n",
    "import emcee\n",
    "import matplotlib.pyplot as plt\n",
    "import matplotlib.ticker as ticker\n",
    "import pickle\n",
    "from pylab import *\n",
    "from scipy.optimize import curve_fit\n",
    "from cProfile import label\n",
    "import pandas as pd\n",
    "import pickle\n"
   ]
  },
  {
   "cell_type": "code",
   "execution_count": 3,
   "metadata": {},
   "outputs": [],
   "source": [
    "def load_galactic_parameters():\n",
    "   \n",
    "   # Initial Galactocentric distance\n",
    "   r_0 = 8277\n",
    "\n",
    "   # Initial height over Galactic plane\n",
    "   z_0 = 25\n",
    "\n",
    "   # Initial solar vector\n",
    "   v_sun = transformation_constants.V_SUN\n",
    "   v_sun[0][0] = 11.1\n",
    "   v_sun[1][0] = 251.5\n",
    "   v_sun[2][0] = 8.59\n",
    "   \n",
    "   return r_0, z_0, v_sun\n",
    "\n",
    "def apply_initial_cut(icrs_data, run_out_path):\n",
    "\n",
    "   r_0, z_0, v_sun = load_galactic_parameters()\n",
    "\n",
    "   galcen_data = data_analysis.get_transformed_data(icrs_data,\n",
    "                                          include_cylindrical = True,\n",
    "                                          z_0 = z_0,\n",
    "                                          r_0 = r_0,\n",
    "                                          v_sun = v_sun,\n",
    "                                          debug = True,\n",
    "                                          is_bayes = True,\n",
    "                                          is_source_included = True)\n",
    "\n",
    "   C_icrs = covariance_generation.generate_covmat(icrs_data, is_parallax=True)\n",
    "\n",
    "\n",
    "   data_array_ICRS =  icrs_data[[\"ra\", \"dec\",\"r_est\",\"pmra\",\"pmdec\",\"radial_velocity\"]].to_numpy()\n",
    "   galactocentric_cov = covariance_generation.transform_cov_matrix(C = C_icrs, \n",
    "                                        df = data_array_ICRS,\n",
    "                                        coordinate_system = 'Cartesian',\n",
    "                                        z_0 = z_0,\n",
    "                                        r_0 = r_0,\n",
    "                                        is_bayes = True)\n",
    "\n",
    "   data_array_crt = galcen_data[[\"x\", \"y\",\"r\",\"phi\",\"v_r\",\"v_phi\"]].to_numpy()\n",
    "   cyl_cov = transform_cov_cylindirical(data_array_crt, \n",
    "                                                C = galactocentric_cov,\n",
    "                                                Z_0 = z_0,\n",
    "                                                R_0 = r_0)\n",
    "   galcen_data = galcen_data.merge(cyl_cov, on='source_id')\n",
    "\n",
    "   # Final data cut\n",
    "   galcen_data = galcen_data[(galcen_data.r < 15000) & (galcen_data.r > 5000)]\n",
    "   galcen_data = galcen_data[(galcen_data.z < 200) & (galcen_data.z > -200)]\n",
    "   galcen_data.reset_index(inplace=True, drop=True)\n",
    "   \n",
    "   return galcen_data"
   ]
  },
  {
   "cell_type": "code",
   "execution_count": 5,
   "metadata": {},
   "outputs": [
    {
     "name": "stdout",
     "output_type": "stream",
     "text": [
      "Importing necessary column names...\n",
      "Importing DR3...\n",
      "Initial size of sample: (6586329, 24)\n"
     ]
    }
   ],
   "source": [
    "print('Importing necessary column names...')\n",
    "icrs_data_columns = pd.read_csv(\"/local/sven/gaia_tools_data/gaia_rv_data_bayes.csv\", nrows = 10).columns\n",
    "\n",
    "\n",
    "print('Importing DR3...')\n",
    "dr3_path = '/local/mariacst/2022_v0_project/data/GaiaDR3_RV_RGB_fidelity.csv'\n",
    "gaia_dr3 = pd.read_csv(dr3_path)\n",
    "icrs_data = gaia_dr3[icrs_data_columns]\n",
    "print(\"Initial size of sample: {}\".format(icrs_data.shape))"
   ]
  },
  {
   "cell_type": "code",
   "execution_count": 6,
   "metadata": {},
   "outputs": [
    {
     "name": "stdout",
     "output_type": "stream",
     "text": [
      "Starting galactocentric transformation loop over all data points.. \n",
      "Time elapsed for data coordinate transformation: 8.822393856942654 sec\n"
     ]
    }
   ],
   "source": [
    "r_0, z_0, v_sun = load_galactic_parameters()\n",
    "\n",
    "galcen_data = data_analysis.get_transformed_data(icrs_data,\n",
    "                                        include_cylindrical = True,\n",
    "                                        z_0 = z_0,\n",
    "                                        r_0 = r_0,\n",
    "                                        v_sun = v_sun,\n",
    "                                        debug = True,\n",
    "                                        is_bayes = True,\n",
    "                                        is_source_included = True)\n",
    "\n",
    "C_icrs = covariance_generation.generate_covmat(icrs_data, is_parallax=True)\n",
    "\n",
    "\n",
    "data_array_ICRS =  icrs_data[[\"ra\", \"dec\",\"r_est\",\"pmra\",\"pmdec\",\"radial_velocity\"]].to_numpy()\n",
    "galactocentric_cov = covariance_generation.transform_cov_matrix(C = C_icrs, \n",
    "                                    df = data_array_ICRS,\n",
    "                                    coordinate_system = 'Cartesian',\n",
    "                                    z_0 = z_0,\n",
    "                                    r_0 = r_0,\n",
    "                                    is_bayes = True)\n"
   ]
  },
  {
   "cell_type": "code",
   "execution_count": 7,
   "metadata": {},
   "outputs": [],
   "source": [
    "cyl_cov = covariance_generation.transform_cov_cylindirical(\n",
    "                                galcen_data, \n",
    "                                galactocentric_cov,\n",
    "                                Z_0 = transformation_constants.Z_0,\n",
    "                                R_0 = transformation_constants.R_0)"
   ]
  },
  {
   "cell_type": "code",
   "execution_count": 8,
   "metadata": {},
   "outputs": [],
   "source": [
    "galcen_data = galcen_data.merge(cyl_cov, on='source_id')\n",
    "\n",
    "# Final data cut\n",
    "galcen_data = galcen_data[(galcen_data.r < 15000) & (galcen_data.r > 5000)]\n",
    "galcen_data = galcen_data[(galcen_data.z < 200) & (galcen_data.z > -200)]\n",
    "galcen_data.reset_index(inplace=True, drop=True)"
   ]
  },
  {
   "cell_type": "code",
   "execution_count": 10,
   "metadata": {},
   "outputs": [
    {
     "data": {
      "text/plain": [
       "(1694972, 13)"
      ]
     },
     "execution_count": 10,
     "metadata": {},
     "output_type": "execute_result"
    }
   ],
   "source": [
    "galcen_data.shape"
   ]
  },
  {
   "cell_type": "code",
   "execution_count": 11,
   "metadata": {},
   "outputs": [
    {
     "name": "stdout",
     "output_type": "stream",
     "text": [
      "1. bin_centers_r= [ 5500.  6500.  7500.  8500.  9500. 10500. 11500. 12500. 13500. 14500.]\n",
      "2. bin_centers_z= [0. 0. 0. 0. 0. 0. 0. 0. 0. 0.]\n",
      "3. bin_edges= (array([[ 5000.,  6000.,  7000.,  8000.,  9000., 10000., 11000., 12000.,\n",
      "        13000., 14000., 15000.],\n",
      "       [ 5000.,  6000.,  7000.,  8000.,  9000., 10000., 11000., 12000.,\n",
      "        13000., 14000., 15000.]]), array([[-200., -200., -200., -200., -200., -200., -200., -200., -200.,\n",
      "        -200., -200.],\n",
      "       [ 200.,  200.,  200.,  200.,  200.,  200.,  200.,  200.,  200.,\n",
      "         200.,  200.]]))\n",
      "4. nbins= 10\n",
      "5. V_sun= [[ 11.1 ]\n",
      " [251.5 ]\n",
      " [  8.59]]\n",
      "6. R_0= 8277\n",
      "7. Z_0= 25\n",
      "8. final_sample_size= (1694972, 14)\n",
      "9. disk_scale= 3000.0\n",
      "10. vlos_dispersion_scale= 21000.0\n",
      "11. A_r_info= [(5500.0, 16345131.071153244), (6500.0, 15324108.947150422), (7500.0, 16477548.613107478), (8500.0, 17032245.1478021), (9500.0, 17707337.81653618), (10500.0, 18367241.28037138), (11500.0, 16910304.40112109), (12500.0, 16233734.62908763), (13500.0, 19241182.27440762), (14500.0, 22009570.1048746)]\n"
     ]
    }
   ],
   "source": [
    "# Fitting R0, New Binning, 100% Data - GPU\n",
    "path1 = '/home/sven/repos/gaia-tools/out/mcmc_runs/2023-01-09-21-42-37_48_full_run'\n",
    "\n",
    "paths=[path1]\n",
    "labels =[]\n",
    "\n",
    "samplers=[]\n",
    "for folder_path in paths:\\\n",
    "    samplers.append(folder_path+'/sampler_' + folder_path.split('/')[-1].split('_')[0] + '.h5')\n",
    "\n",
    "# Load run settings and print\n",
    "bin_setup = load_bin_settings(path1, True)\n",
    "bin_centers_r = bin_setup['bin_centers_r']\n",
    "bin_centers_z = bin_setup['bin_centers_z']"
   ]
  },
  {
   "cell_type": "code",
   "execution_count": 12,
   "metadata": {},
   "outputs": [],
   "source": [
    "# Gets V_c mean values and errors\n",
    "burnin = 3000\n",
    "path = samplers[0]\n",
    "reader = emcee.backends.HDFBackend(path, read_only=True)\n",
    "samples_data = reader.get_chain(discard=burnin)\n",
    "flatchain = reader.get_chain(flat=True, discard = burnin)\n",
    "\n",
    "bin_velocities = []\n",
    "ndim = samples_data.shape[2]\n",
    "\n",
    "for i in range(ndim):\n",
    "    mcmc = np.percentile(flatchain[:, i], [16, 50, 84])\n",
    "    q = np.diff(mcmc)\n",
    "    v_mean, v_sub, v_sup = mcmc[1], q[0], q[1] \n",
    "    bin_velocities.append((v_mean, v_sub, v_sup))\n",
    "velocity_array = np.array(bin_velocities)"
   ]
  },
  {
   "cell_type": "code",
   "execution_count": 13,
   "metadata": {},
   "outputs": [],
   "source": [
    "r_min = 5000/8277\n",
    "r_max = 15000/8277\n",
    "\n",
    "# Generate bins\n",
    "bin_collection = data_analysis.get_collapsed_bins(data = galcen_data,\n",
    "                                                        theta = 8277,\n",
    "                                                        BL_r_min = r_min,\n",
    "                                                        BL_r_max = r_max,\n",
    "                                                        BL_z_min = -200,\n",
    "                                                        BL_z_max = 200,\n",
    "                                                        N_bins = (10, 1),\n",
    "                                                        r_drift = True,\n",
    "                                                        debug = False)\n"
   ]
  },
  {
   "cell_type": "code",
   "execution_count": 14,
   "metadata": {},
   "outputs": [],
   "source": [
    "weighted_mean_velocities = []\n",
    "weighted_var_velocities = []\n",
    "\n",
    "# Bootstrap errors\n",
    "for i, bin in enumerate(bin_collection.bins):\n",
    "\n",
    "    bin.bootstrapped_error = helpfunc.bootstrap_weighted_error(bin.data.v_phi.to_numpy(), bin.data.sig_vphi.to_numpy())\n",
    "\n",
    "    bin_vphi = bin.data.v_phi.to_numpy()\n",
    "    bin_sig_vphi = bin.data.sig_vphi.to_numpy()\n",
    "\n",
    "    weights = 1/bin_sig_vphi\n",
    "    \n",
    "    # Weighted mean\n",
    "    weighted_mean = np.average(bin_vphi, weights=weights)\n",
    "\n",
    "    weighted_mean_velocities.append(weighted_mean)\n",
    "    weighted_var_velocities.append(bin.bootstrapped_error)\n"
   ]
  },
  {
   "cell_type": "code",
   "execution_count": null,
   "metadata": {},
   "outputs": [],
   "source": [
    "# Note Needed - OBSOLETE\n",
    "\n",
    "A_array = []\n",
    "for i, bin in enumerate(bin_collection.bins):\n",
    "    bin.A_parameter = bin.compute_A_parameter(h_r = 3000, \n",
    "                                            h_sig = 21000, \n",
    "                                            debug=False)\n",
    "    print(bin.r_boundaries)\n",
    "    print(bin.A_parameter)\n",
    "    A_array.append(bin.A_parameter)\n",
    "\n",
    "\n"
   ]
  },
  {
   "cell_type": "code",
   "execution_count": 21,
   "metadata": {},
   "outputs": [
    {
     "name": "stdout",
     "output_type": "stream",
     "text": [
      "vc_error: 4.1735100781562835\n",
      "vphi_error: 0.3591546954535026\n",
      "0.0691604016724854\n",
      "vc_error: 4.305315469665501\n",
      "vphi_error: 0.31843674576260395\n",
      "0.06322330889672627\n",
      "vc_error: 4.369257537075171\n",
      "vphi_error: 0.40253341726855163\n",
      "0.0675296827440209\n",
      "vc_error: 4.366526564713567\n",
      "vphi_error: 0.4615921682743534\n",
      "0.07053666795063801\n",
      "vc_error: 4.398296194863818\n",
      "vphi_error: 0.3347122773828321\n",
      "0.07640810995222592\n",
      "vc_error: 4.194607912990591\n",
      "vphi_error: 0.3448961850171731\n",
      "0.07698631619804724\n",
      "vc_error: 4.298913417338753\n",
      "vphi_error: 0.3842972340184024\n",
      "0.07634865271119608\n",
      "vc_error: 4.128333378666184\n",
      "vphi_error: 0.48595432840255026\n",
      "0.07279147355870431\n",
      "vc_error: 3.9910157359184666\n",
      "vphi_error: 0.6148868282239125\n",
      "0.08812560250899364\n",
      "vc_error: 3.910312257516466\n",
      "vphi_error: 1.0875013690492918\n",
      "0.10896360547416137\n"
     ]
    },
    {
     "data": {
      "text/plain": [
       "array([0.0691604 , 0.06322331, 0.06752968, 0.07053667, 0.07640811,\n",
       "       0.07698632, 0.07634865, 0.07279147, 0.0881256 , 0.10896361])"
      ]
     },
     "execution_count": 21,
     "metadata": {},
     "output_type": "execute_result"
    }
   ],
   "source": [
    "# Compute va error #1 - OBSOLETE\n",
    "r, A = zip(*bin_setup['A_r_info'])\n",
    "A = np.array(A_array)\n",
    "\n",
    "va_error_array = []\n",
    "\n",
    "for i,bin in enumerate(bin_collection.bins):\n",
    "    v_c = velocity_array[:,0][0:-2][i]\n",
    "    v_phi = weighted_mean_velocities[i]\n",
    "    A_i = 2*A[i]\n",
    "\n",
    "    # add the sub and sup and divide by 2\n",
    "    vc_error = ((velocity_array[:,1][0:-2][i] + velocity_array[:,2][0:-2][i])/2)\n",
    "    vphi_error = weighted_var_velocities[i]\n",
    "    print(\"vc_error: {}\".format(vc_error))\n",
    "    print(\"vphi_error: {}\".format(np.sqrt(vphi_error)))\n",
    "\n",
    "    add_1 = -A_i*(v_c + v_phi)**(-2)*vc_error\n",
    "    add_2 = -A_i*(v_c + v_phi)**(-2)*np.sqrt(vphi_error)\n",
    "\n",
    "    va_error = np.sqrt(add_1**2 + add_2**2)\n",
    "    print(va_error)\n",
    "\n",
    "    va_error_array.append(va_error)\n",
    "\n",
    "va_error_array = np.array(va_error_array)\n",
    "va_error_array"
   ]
  },
  {
   "cell_type": "code",
   "execution_count": 15,
   "metadata": {},
   "outputs": [
    {
     "name": "stdout",
     "output_type": "stream",
     "text": [
      "vc_error: 4.195186938361374\n",
      "vphi_error: 0.36019621602321966\n",
      "4.197192663717743\n",
      "vc_error: 4.320078265252704\n",
      "vphi_error: 0.30499326118681747\n",
      "4.321079622474906\n",
      "vc_error: 4.39239024838291\n",
      "vphi_error: 0.39983077677740586\n",
      "4.395298488206186\n",
      "vc_error: 4.382997242364695\n",
      "vphi_error: 0.4645147804520874\n",
      "4.388305280807688\n",
      "vc_error: 4.41992728262025\n",
      "vphi_error: 0.3451341784335394\n",
      "4.421532108505843\n",
      "vc_error: 4.204987324076001\n",
      "vphi_error: 0.3292793275162881\n",
      "4.206384950200522\n",
      "vc_error: 4.313579359471646\n",
      "vphi_error: 0.37641985013931206\n",
      "4.315905870845613\n",
      "vc_error: 4.15200402279811\n",
      "vphi_error: 0.48583174399837914\n",
      "4.158707580317204\n",
      "vc_error: 4.012571741020494\n",
      "vphi_error: 0.6414078831550093\n",
      "4.033606982313251\n",
      "vc_error: 3.955629362314383\n",
      "vphi_error: 1.099531898864939\n",
      "4.136255924373023\n"
     ]
    },
    {
     "data": {
      "text/plain": [
       "array([4.19719266, 4.32107962, 4.39529849, 4.38830528, 4.42153211,\n",
       "       4.20638495, 4.31590587, 4.15870758, 4.03360698, 4.13625592])"
      ]
     },
     "execution_count": 15,
     "metadata": {},
     "output_type": "execute_result"
    }
   ],
   "source": [
    "# Compute va error #2 - NEW\n",
    "\n",
    "va_error_array = []\n",
    "\n",
    "for i,bin in enumerate(bin_collection.bins):\n",
    "    v_c = velocity_array[:,0][0:-2][i]\n",
    "    v_phi = weighted_mean_velocities[i]\n",
    "\n",
    "    # add the sub and sup and divide by 2\n",
    "    vc_error = ((velocity_array[:,1][0:-2][i] + velocity_array[:,2][0:-2][i])/2)\n",
    "    vphi_error = weighted_var_velocities[i]\n",
    "    print(\"vc_error: {}\".format(vc_error))\n",
    "    print(\"vphi_error: {}\".format(np.sqrt(vphi_error)))\n",
    "\n",
    "    va_error = np.sqrt(vc_error**2 + vphi_error**2)\n",
    "    print(va_error)\n",
    "\n",
    "    va_error_array.append(va_error)\n",
    "\n",
    "va_error_array = np.array(va_error_array)\n",
    "va_error_array"
   ]
  },
  {
   "cell_type": "code",
   "execution_count": 22,
   "metadata": {},
   "outputs": [
    {
     "data": {
      "text/plain": [
       "(array([ 6.,  7.,  8.,  9., 10., 11., 12., 13.]),\n",
       " [Text(0, 0, ''),\n",
       "  Text(0, 0, ''),\n",
       "  Text(0, 0, ''),\n",
       "  Text(0, 0, ''),\n",
       "  Text(0, 0, ''),\n",
       "  Text(0, 0, ''),\n",
       "  Text(0, 0, ''),\n",
       "  Text(0, 0, '')])"
      ]
     },
     "execution_count": 22,
     "metadata": {},
     "output_type": "execute_result"
    },
    {
     "data": {
      "image/png": "[encoded data removed]",
      "text/plain": [
       "<Figure size 576x432 with 1 Axes>"
      ]
     },
     "metadata": {
      "needs_background": "light"
     },
     "output_type": "display_data"
    }
   ],
   "source": [
    "r, A = zip(*bin_setup['A_r_info'])\n",
    "\n",
    "fig, ax = plt.subplots(figsize=(8, 6))\n",
    "\n",
    "x = r\n",
    "y = -2*np.array(A_array)/(velocity_array[:,0][0:-3] + weighted_mean_velocities)\n",
    "\n",
    "ax.scatter(x, y)\n",
    "\n",
    "plt.errorbar(x, y, \n",
    "                    yerr=va_error_array)\n",
    "\n",
    "# plt.errorbar(x_values, -y_values,\n",
    "#                     yerr= y_error,\n",
    "#                     fmt='o', c=colors[i_path], label=labels[i_path])\n",
    "\n",
    "def numfmt(x, pos):\n",
    "            s = '{:.1f}'.format(x / 1000.0)\n",
    "            return s\n",
    "fmt = ticker.FuncFormatter(numfmt)\n",
    "ax.xaxis.set_major_formatter(fmt)\n",
    "\n",
    "bin_edges_r = bin_setup['bin_edges'][0][0]\n",
    "bin_edges_z = bin_setup['bin_edges'][1].T[0]\n",
    "\n",
    "ax.vlines(bin_edges_r, np.min(y) - 0.5, np.max(y) + 0.5, linestyles='dashed', alpha=0.5, colors='grey')\n",
    "ax.set_xticks(bin_edges_r)\n",
    "\n",
    "fontdict = {'fontsize' : 15}\n",
    "\n",
    "ax.set_xlabel('r [kpc]', fontdict= fontdict)\n",
    "ax.set_ylabel(r'$v_a$ [km/s]', fontdict= fontdict)\n",
    "\n",
    "plt.xticks(fontsize=14, rotation=0)\n",
    "plt.yticks(fontsize=14, rotation=0)\n",
    "#plt.title('Asymmetric Drift Velocity', fontsize=18, pad=12)"
   ]
  },
  {
   "cell_type": "code",
   "execution_count": 12,
   "metadata": {},
   "outputs": [
    {
     "data": {
      "text/plain": [
       "(array([ 0.,  2.,  4.,  6.,  8., 10., 12., 14., 16., 18.]),\n",
       " [Text(0, 0, ''),\n",
       "  Text(0, 0, ''),\n",
       "  Text(0, 0, ''),\n",
       "  Text(0, 0, ''),\n",
       "  Text(0, 0, ''),\n",
       "  Text(0, 0, ''),\n",
       "  Text(0, 0, ''),\n",
       "  Text(0, 0, ''),\n",
       "  Text(0, 0, ''),\n",
       "  Text(0, 0, '')])"
      ]
     },
     "execution_count": 12,
     "metadata": {},
     "output_type": "execute_result"
    },
    {
     "data": {
      "image/png": "[encoded data removed]",
      "text/plain": [
       "<Figure size 864x432 with 1 Axes>"
      ]
     },
     "metadata": {
      "needs_background": "light"
     },
     "output_type": "display_data"
    }
   ],
   "source": [
    "r, A = zip(*bin_setup['A_r_info'])\n",
    "\n",
    "fig, ax = plt.subplots(figsize=(12, 6))\n",
    "\n",
    "x = r\n",
    "y = velocity_array[:,0][0:-3] - weighted_mean_velocities\n",
    "\n",
    "ax.scatter(x, -y)\n",
    "\n",
    "plt.errorbar(x, -y, \n",
    "                    yerr=va_error_array)\n",
    "\n",
    "# plt.errorbar(x_values, -y_values,\n",
    "#                     yerr= y_error,\n",
    "#                     fmt='o', c=colors[i_path], label=labels[i_path])\n",
    "\n",
    "def numfmt(x, pos):\n",
    "            s = '{:.1f}'.format(x / 1000.0)\n",
    "            return s\n",
    "fmt = ticker.FuncFormatter(numfmt)\n",
    "ax.xaxis.set_major_formatter(fmt)\n",
    "\n",
    "bin_edges_r = bin_setup['bin_edges'][0][0]\n",
    "bin_edges_z = bin_setup['bin_edges'][1].T[0]\n",
    "\n",
    "\n",
    "\n",
    "ax.vlines(bin_edges_r, np.min(-(y + va_error_array)) - 0.5, np.max(-(y - va_error_array)) + 0.5, linestyles='dashed', alpha=0.5, colors='grey')\n",
    "ax.set_xticks(bin_edges_r)\n",
    "\n",
    "fontdict = {'fontsize' : 15}\n",
    "\n",
    "ax.set_xlabel('R [kpc]', fontdict= fontdict)\n",
    "ax.set_ylabel(r'$v_a$ [km/s]', fontdict= fontdict)\n",
    "\n",
    "plt.xticks(fontsize=14, rotation=0)\n",
    "plt.yticks(fontsize=14, rotation=0)\n",
    "#plt.title('Asymmetric Drift Velocity', fontsize=18, pad=12)\n",
    "\n",
    "#plt.savefig('Asm_Drift.png', dpi = 300, bbox_inches='tight')"
   ]
  },
  {
   "cell_type": "code",
   "execution_count": 16,
   "metadata": {},
   "outputs": [
    {
     "data": {
      "text/plain": [
       "(array([ 0.,  2.,  4.,  6.,  8., 10., 12., 14., 16., 18.]),\n",
       " [Text(0, 0, ''),\n",
       "  Text(0, 0, ''),\n",
       "  Text(0, 0, ''),\n",
       "  Text(0, 0, ''),\n",
       "  Text(0, 0, ''),\n",
       "  Text(0, 0, ''),\n",
       "  Text(0, 0, ''),\n",
       "  Text(0, 0, ''),\n",
       "  Text(0, 0, ''),\n",
       "  Text(0, 0, '')])"
      ]
     },
     "execution_count": 16,
     "metadata": {},
     "output_type": "execute_result"
    },
    {
     "data": {
      "image/png": "[encoded data removed]",
      "text/plain": [
       "<Figure size 864x432 with 1 Axes>"
      ]
     },
     "metadata": {
      "needs_background": "light"
     },
     "output_type": "display_data"
    }
   ],
   "source": [
    "r, A = zip(*bin_setup['A_r_info'])\n",
    "\n",
    "fig, ax = plt.subplots(figsize=(12, 6))\n",
    "\n",
    "x = r\n",
    "y = velocity_array[:,0][0:-3] - weighted_mean_velocities\n",
    "\n",
    "ax.scatter(x, -y)\n",
    "\n",
    "plt.errorbar(x, -y, \n",
    "                    yerr=va_error_array)\n",
    "\n",
    "# plt.errorbar(x_values, -y_values,\n",
    "#                     yerr= y_error,\n",
    "#                     fmt='o', c=colors[i_path], label=labels[i_path])\n",
    "\n",
    "def numfmt(x, pos):\n",
    "            s = '{:.1f}'.format(x / 1000.0)\n",
    "            return s\n",
    "fmt = ticker.FuncFormatter(numfmt)\n",
    "ax.xaxis.set_major_formatter(fmt)\n",
    "\n",
    "bin_edges_r = bin_setup['bin_edges'][0][0]\n",
    "bin_edges_z = bin_setup['bin_edges'][1].T[0]\n",
    "\n",
    "\n",
    "\n",
    "ax.vlines(bin_edges_r, np.min(-(y + va_error_array)) - 0.5, np.max(-(y - va_error_array)) + 0.5, linestyles='dashed', alpha=0.5, colors='grey')\n",
    "ax.set_xticks(bin_edges_r)\n",
    "\n",
    "fontdict = {'fontsize' : 15}\n",
    "\n",
    "ax.set_xlabel('R [kpc]', fontdict= fontdict)\n",
    "ax.set_ylabel(r'$v_a$ [km/s]', fontdict= fontdict)\n",
    "\n",
    "plt.xticks(fontsize=14, rotation=0)\n",
    "plt.yticks(fontsize=14, rotation=0)\n",
    "#plt.title('Asymmetric Drift Velocity', fontsize=18, pad=12)\n",
    "\n",
    "#plt.savefig('Asm_Drift.png', dpi = 300, bbox_inches='tight')"
   ]
  },
  {
   "cell_type": "code",
   "execution_count": 21,
   "metadata": {},
   "outputs": [
    {
     "data": {
      "text/plain": [
       "array([ 7.7,  7. ,  7.5,  7.8,  8.3,  8.6,  8.3,  8.2,  9.9, 11.9])"
      ]
     },
     "execution_count": 21,
     "metadata": {},
     "output_type": "execute_result"
    }
   ],
   "source": [
    "np.round(-y,1)"
   ]
  },
  {
   "cell_type": "code",
   "execution_count": 22,
   "metadata": {},
   "outputs": [
    {
     "data": {
      "text/plain": [
       "array([4.2, 4.3, 4.4, 4.4, 4.4, 4.2, 4.3, 4.2, 4. , 4.1])"
      ]
     },
     "execution_count": 22,
     "metadata": {},
     "output_type": "execute_result"
    }
   ],
   "source": [
    "np.round(va_error_array, 1)"
   ]
  },
  {
   "cell_type": "code",
   "execution_count": 15,
   "metadata": {},
   "outputs": [],
   "source": [
    "weighted_mean_velocities = np.array(weighted_mean_velocities)\n",
    "weighted_var_velocities = np.array(weighted_var_velocities)\n",
    "r_array = np.array(r)"
   ]
  },
  {
   "cell_type": "code",
   "execution_count": 29,
   "metadata": {},
   "outputs": [
    {
     "data": {
      "text/plain": [
       "array([[ 5.50000000e+03, -2.23259169e+02,  1.31411919e-01],\n",
       "       [ 6.50000000e+03, -2.29734737e+02,  9.81012801e-02],\n",
       "       [ 7.50000000e+03, -2.32395857e+02,  1.58081018e-01],\n",
       "       [ 8.50000000e+03, -2.31243153e+02,  2.16960449e-01],\n",
       "       [ 9.50000000e+03, -2.26940680e+02,  1.17224601e-01],\n",
       "       [ 1.05000000e+04, -2.25512332e+02,  1.10818350e-01],\n",
       "       [ 1.15000000e+04, -2.23679947e+02,  1.53632658e-01],\n",
       "       [ 1.25000000e+04, -2.23182236e+02,  2.37071268e-01],\n",
       "       [ 1.35000000e+04, -2.18682221e+02,  3.84685506e-01],\n",
       "       [ 1.45000000e+04, -2.12719768e+02,  1.17155029e+00]])"
      ]
     },
     "execution_count": 29,
     "metadata": {},
     "output_type": "execute_result"
    }
   ],
   "source": [
    "data_array = np.vstack((r_array, weighted_mean_velocities, weighted_var_velocities))\n",
    "data_array.T"
   ]
  },
  {
   "cell_type": "code",
   "execution_count": 31,
   "metadata": {},
   "outputs": [
    {
     "data": {
      "text/html": [
       "<div>\n",
       "<style scoped>\n",
       "    .dataframe tbody tr th:only-of-type {\n",
       "        vertical-align: middle;\n",
       "    }\n",
       "\n",
       "    .dataframe tbody tr th {\n",
       "        vertical-align: top;\n",
       "    }\n",
       "\n",
       "    .dataframe thead th {\n",
       "        text-align: right;\n",
       "    }\n",
       "</style>\n",
       "<table border=\"1\" class=\"dataframe\">\n",
       "  <thead>\n",
       "    <tr style=\"text-align: right;\">\n",
       "      <th></th>\n",
       "      <th>r</th>\n",
       "      <th>v_phi_wght_mean</th>\n",
       "      <th>boot_error</th>\n",
       "    </tr>\n",
       "  </thead>\n",
       "  <tbody>\n",
       "    <tr>\n",
       "      <th>0</th>\n",
       "      <td>5500.0</td>\n",
       "      <td>-223.259169</td>\n",
       "      <td>0.131412</td>\n",
       "    </tr>\n",
       "    <tr>\n",
       "      <th>1</th>\n",
       "      <td>6500.0</td>\n",
       "      <td>-229.734737</td>\n",
       "      <td>0.098101</td>\n",
       "    </tr>\n",
       "    <tr>\n",
       "      <th>2</th>\n",
       "      <td>7500.0</td>\n",
       "      <td>-232.395857</td>\n",
       "      <td>0.158081</td>\n",
       "    </tr>\n",
       "    <tr>\n",
       "      <th>3</th>\n",
       "      <td>8500.0</td>\n",
       "      <td>-231.243153</td>\n",
       "      <td>0.216960</td>\n",
       "    </tr>\n",
       "    <tr>\n",
       "      <th>4</th>\n",
       "      <td>9500.0</td>\n",
       "      <td>-226.940680</td>\n",
       "      <td>0.117225</td>\n",
       "    </tr>\n",
       "    <tr>\n",
       "      <th>5</th>\n",
       "      <td>10500.0</td>\n",
       "      <td>-225.512332</td>\n",
       "      <td>0.110818</td>\n",
       "    </tr>\n",
       "    <tr>\n",
       "      <th>6</th>\n",
       "      <td>11500.0</td>\n",
       "      <td>-223.679947</td>\n",
       "      <td>0.153633</td>\n",
       "    </tr>\n",
       "    <tr>\n",
       "      <th>7</th>\n",
       "      <td>12500.0</td>\n",
       "      <td>-223.182236</td>\n",
       "      <td>0.237071</td>\n",
       "    </tr>\n",
       "    <tr>\n",
       "      <th>8</th>\n",
       "      <td>13500.0</td>\n",
       "      <td>-218.682221</td>\n",
       "      <td>0.384686</td>\n",
       "    </tr>\n",
       "    <tr>\n",
       "      <th>9</th>\n",
       "      <td>14500.0</td>\n",
       "      <td>-212.719768</td>\n",
       "      <td>1.171550</td>\n",
       "    </tr>\n",
       "  </tbody>\n",
       "</table>\n",
       "</div>"
      ],
      "text/plain": [
       "         r  v_phi_wght_mean  boot_error\n",
       "0   5500.0      -223.259169    0.131412\n",
       "1   6500.0      -229.734737    0.098101\n",
       "2   7500.0      -232.395857    0.158081\n",
       "3   8500.0      -231.243153    0.216960\n",
       "4   9500.0      -226.940680    0.117225\n",
       "5  10500.0      -225.512332    0.110818\n",
       "6  11500.0      -223.679947    0.153633\n",
       "7  12500.0      -223.182236    0.237071\n",
       "8  13500.0      -218.682221    0.384686\n",
       "9  14500.0      -212.719768    1.171550"
      ]
     },
     "execution_count": 31,
     "metadata": {},
     "output_type": "execute_result"
    }
   ],
   "source": [
    "\n",
    "        \n",
    "\n",
    "df = pd.DataFrame(data_array.T, columns = ['r','v_phi_wght_mean','boot_error'])\n",
    "df.to_csv('full_run_rot_vel.csv', index=False)\n",
    "df\n",
    "\n"
   ]
  },
  {
   "attachments": {},
   "cell_type": "markdown",
   "metadata": {},
   "source": [
    "# Linear Regression of Velocity Curve"
   ]
  },
  {
   "cell_type": "code",
   "execution_count": 58,
   "metadata": {},
   "outputs": [
    {
     "data": {
      "text/plain": [
       "LinregressResult(slope=-1.0839689676875655, intercept=244.10231456946138, rvalue=-0.6960565801597061, pvalue=0.02536930124195945, stderr=0.39531550927817977)"
      ]
     },
     "execution_count": 58,
     "metadata": {},
     "output_type": "execute_result"
    }
   ],
   "source": [
    "from scipy.stats import linregress\n",
    "linear_reg_result = linregress(np.array(r)/1e3, np.abs(velocity_array[0:-3][:,0]))\n",
    "linear_reg_result"
   ]
  },
  {
   "cell_type": "code",
   "execution_count": 59,
   "metadata": {},
   "outputs": [
    {
     "data": {
      "text/plain": [
       "235.1303034239114"
      ]
     },
     "execution_count": 59,
     "metadata": {},
     "output_type": "execute_result"
    }
   ],
   "source": [
    "linear_reg_result[0]*8.277 + linear_reg_result[1]"
   ]
  },
  {
   "cell_type": "code",
   "execution_count": 56,
   "metadata": {},
   "outputs": [
    {
     "data": {
      "text/plain": [
       "[<matplotlib.lines.Line2D at 0x7fcf0f9a6898>]"
      ]
     },
     "execution_count": 56,
     "metadata": {},
     "output_type": "execute_result"
    },
    {
     "data": {
      "image/png": "[encoded data removed]",
      "text/plain": [
       "<Figure size 720x432 with 1 Axes>"
      ]
     },
     "metadata": {
      "needs_background": "light"
     },
     "output_type": "display_data"
    }
   ],
   "source": [
    "fig, ax = plt.subplots(figsize=(10, 6))\n",
    "plt.plot(r, np.abs(velocity_array[0:-3][:,0]))"
   ]
  }
 ],
 "metadata": {
  "kernelspec": {
   "display_name": "dspn_env",
   "language": "python",
   "name": "python3"
  },
  "language_info": {
   "codemirror_mode": {
    "name": "ipython",
    "version": 3
   },
   "file_extension": ".py",
   "mimetype": "text/x-python",
   "name": "python",
   "nbconvert_exporter": "python",
   "pygments_lexer": "ipython3",
   "version": "3.6.8"
  },
  "orig_nbformat": 4,
  "vscode": {
   "interpreter": {
    "hash": "49a7e7b8cb9c8c49df4aa20270c97963c587815697f8fb9b088c19ad751a5862"
   }
  }
 },
 "nbformat": 4,
 "nbformat_minor": 2
}
