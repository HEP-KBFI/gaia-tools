{
 "cells": [
  {
   "cell_type": "markdown",
   "metadata": {},
   "source": [
    "# Display MLE of Bin Intrinsic Variance\n",
    "\n",
    "Varying $R_0$ to observe how the MLE of the intrinsic variance in bins changes.  \n",
    "\n",
    "The plots included in this notebook were generated with the spectroscopic data where using default $R_0$, $z_0$, $U_\\odot$, $V_\\odot$, $W_\\odot$:\n",
    "   * 0 < r < 15 kpc\n",
    "   * -1 < z < 1 kpc"
   ]
  },
  {
   "cell_type": "code",
   "execution_count": null,
   "metadata": {},
   "outputs": [],
   "source": [
    "import matplotlib.pyplot as plt\n",
    "import numpy as np\n",
    "import sys\n",
    "\n",
    "sys.path.append(\"../gaia_tools/\")\n",
    "\n",
    "import data_analysis\n",
    "import transformation_constants\n",
    "import covariance_generation\n",
    "import data_plot\n",
    "from import_functions import import_data\n"
   ]
  },
  {
   "cell_type": "code",
   "execution_count": null,
   "metadata": {},
   "outputs": [],
   "source": [
    "# DATA IMPORT\n",
    "path = \"/hdfs/local/sven/gaia_tools_data/gaia_rv_data_bayes.csv\"\n",
    "data_icrs = import_data(path = path, debug = False)"
   ]
  },
  {
   "cell_type": "code",
   "execution_count": null,
   "metadata": {},
   "outputs": [],
   "source": [
    "# Return BinCollection with MLE estimates\n",
    "\n",
    "def get_test_coll(r = 8000, num_r_bin = 10, num_z_bin = 4):\n",
    "    \n",
    "    theta = (8000, transformation_constants.Z_0, transformation_constants.V_SUN[0][0],transformation_constants.V_SUN[1][0], transformation_constants.V_SUN[2][0])\n",
    "    v_sun = np.array([[theta[2]], \n",
    "                              [theta[3]], \n",
    "                              [theta[4]]])\n",
    "    \n",
    "    galcen_data = data_analysis.get_transformed_data(data_icrs, \n",
    "                                       include_cylindrical = True, \n",
    "                                       r_0 = r,\n",
    "                                       v_sun = v_sun,\n",
    "                                       debug = False,\n",
    "                                       is_bayes = True, \n",
    "                                       is_source_included = True)\n",
    "\n",
    "    cov_df = covariance_generation.generate_covmatrices(df = data_icrs, \n",
    "                                           df_crt = galcen_data, \n",
    "                                           transform_to_galcen = True, \n",
    "                                           transform_to_cylindrical = True,\n",
    "                                           z_0 = theta[1],\n",
    "                                           r_0 = r,\n",
    "                                           is_bayes = True,\n",
    "                                           debug=False)\n",
    "    \n",
    "    galcen_data['cov_mat'] = cov_df['cov_mat']\n",
    "\n",
    "\n",
    "    min_val = np.min(galcen_data.r)\n",
    "    max_val = np.max(galcen_data.r)\n",
    "    \n",
    "    min_val_z = np.min(galcen_data.z)\n",
    "    max_val_z = np.max(galcen_data.z)\n",
    "    \n",
    "    # 3\n",
    "    bin_collection = data_analysis.get_collapsed_bins(data = galcen_data, \n",
    "                                                                 theta = theta, \n",
    "                                                                 BL_r_min = min_val - 1, \n",
    "                                                                 BL_r_max = max_val + 1, \n",
    "                                                                 BL_z_min = -1200, \n",
    "                                                                 BL_z_max = 1200, \n",
    "                                                                 N_bins = (num_r_bin, num_z_bin),\n",
    "                                                                 r_drift = False, \n",
    "                                                                 debug = False)\n",
    "\n",
    "\n",
    "    bin_collection.GetMLEParameters()\n",
    "    \n",
    "    return bin_collection"
   ]
  },
  {
   "cell_type": "markdown",
   "metadata": {},
   "source": [
    "---\n",
    "## Change in summed MLE $\\sigma$\n",
    "\n",
    "This iterates over all the bins at a given $R_0$ and sums together their intrinsic variance.  \n",
    "The $\\sigma_{MLE}$ is not weighted by the amount of stars in the given bin, that is to say,  \n",
    "the summation below is done over the number of bins in r - z."
   ]
  },
  {
   "cell_type": "code",
   "execution_count": null,
   "metadata": {},
   "outputs": [],
   "source": [
    "def print_MLE_sigma_bins(r_min, r_max):\n",
    "\n",
    "    for r_0 in range(r_min, r_max+1, 2000):\n",
    "        bin_collection = get_test_coll(r_0)\n",
    "        err_sum =sum([bin.MLE_sigma for bin in bin_collection.bins if bin.MLE_sigma is not None])\n",
    "        print(r\"$R_0$ = {0} --> {1}\".format(r_0, err_sum))\n"
   ]
  },
  {
   "cell_type": "code",
   "execution_count": null,
   "metadata": {},
   "outputs": [],
   "source": [
    "print_MLE_sigma_bins(6000, 12000)"
   ]
  },
  {
   "cell_type": "markdown",
   "metadata": {},
   "source": [
    "---\n",
    "## Display Bins"
   ]
  },
  {
   "cell_type": "code",
   "execution_count": null,
   "metadata": {},
   "outputs": [],
   "source": [
    "# Define BinCollection object\n",
    "bin_collection = get_test_coll(r = transformation_constants.R_0)"
   ]
  },
  {
   "cell_type": "code",
   "execution_count": null,
   "metadata": {},
   "outputs": [],
   "source": [
    "# Plot the bins\n",
    "data_plot.plot_collapsed_bins(bin_collection, 'source_id', showBinValues = True, mode = 'count')"
   ]
  },
  {
   "cell_type": "code",
   "execution_count": null,
   "metadata": {},
   "outputs": [],
   "source": [
    "# Plot the bins\n",
    "data_plot.plot_collapsed_bins(bin_collection,\n",
    "                            'v_phi',\n",
    "                            showBinValues = True,\n",
    "                            mode = 'MLE_std')"
   ]
  },
  {
   "cell_type": "markdown",
   "metadata": {},
   "source": [
    "---"
   ]
  }
 ],
 "metadata": {
  "kernelspec": {
   "display_name": "Python 3",
   "language": "python",
   "name": "python3"
  },
  "language_info": {
   "codemirror_mode": {
    "name": "ipython",
    "version": 3
   },
   "file_extension": ".py",
   "mimetype": "text/x-python",
   "name": "python",
   "nbconvert_exporter": "python",
   "pygments_lexer": "ipython3",
   "version": "3.6.8"
  }
 },
 "nbformat": 4,
 "nbformat_minor": 4
}
