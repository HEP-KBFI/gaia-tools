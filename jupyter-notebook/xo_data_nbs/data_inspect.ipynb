{
 "cells": [
  {
   "cell_type": "code",
   "execution_count": 1,
   "metadata": {},
   "outputs": [],
   "source": [
    "from astropy.io import fits\n",
    "import pandas as pd\n",
    "import matplotlib.pyplot as plt"
   ]
  },
  {
   "cell_type": "code",
   "execution_count": 2,
   "metadata": {},
   "outputs": [],
   "source": [
    "\n",
    "\n",
    "data_path = '/local/sven/v0_project_archive/spec_plx_dr17_kin_output_new_solar6d_all_AP.fits'\n",
    "from astropy.table import Table\n",
    "dat = Table.read(data_path, format='fits')\n",
    "df = dat.to_pandas()"
   ]
  },
  {
   "cell_type": "code",
   "execution_count": 11,
   "metadata": {},
   "outputs": [
    {
     "name": "stdout",
     "output_type": "stream",
     "text": [
      "Etot\n",
      "JR\n",
      "Jphi\n",
      "Jz\n",
      "KE\n",
      "Lx\n",
      "Ly\n",
      "Lz\n",
      "PE\n",
      "U\n",
      "V\n",
      "W\n",
      "XGC\n",
      "YGC\n",
      "ZGC\n",
      "apo\n",
      "cov_UV\n",
      "cov_UW\n",
      "cov_VW\n",
      "cov_vphiz\n",
      "cov_vrphi\n",
      "cov_vrz\n",
      "e_Etot\n",
      "e_JR\n",
      "e_Jphi\n",
      "e_Jz\n",
      "e_KE\n",
      "e_Lx\n",
      "e_Ly\n",
      "e_Lz\n",
      "e_PE\n",
      "e_U\n",
      "e_V\n",
      "e_W\n",
      "e_XGC\n",
      "e_YGC\n",
      "e_ZGC\n",
      "e_apo\n",
      "e_ecc\n",
      "e_peri\n",
      "e_vphi\n",
      "e_vr\n",
      "e_vz\n",
      "e_zmax\n",
      "ecc\n",
      "f_v_forder\n",
      "peri\n",
      "source_id\n",
      "vphi\n",
      "vr\n",
      "vz\n",
      "zmax\n",
      "GAIAEDR3_SOURCE_ID_x\n",
      "APOGEE_ID\n",
      "spec_parallax\n",
      "spec_parallax_err\n",
      "ra_g3\n",
      "dec_g3\n",
      "l_g3\n",
      "b_g3\n",
      "pmra_pmdec_corr\n",
      "RGC\n",
      "phiGC\n",
      "e_RGC\n",
      "TELESCOPE\n",
      "FIELD\n",
      "ALT_ID\n",
      "RA\n",
      "DEC\n",
      "GLON\n",
      "GLAT\n",
      "J\n",
      "J_ERR\n",
      "H\n",
      "H_ERR\n",
      "K\n",
      "K_ERR\n",
      "AK_TARG\n",
      "AK_TARG_METHOD\n",
      "AK_WISE\n",
      "SFD_EBV\n",
      "APOGEE_TARGET1\n",
      "APOGEE_TARGET2\n",
      "APOGEE2_TARGET1\n",
      "APOGEE2_TARGET2\n",
      "APOGEE2_TARGET3\n",
      "APOGEE2_TARGET4\n",
      "TARGFLAGS\n",
      "SURVEY\n",
      "PROGRAMNAME\n",
      "NVISITS\n",
      "SNR\n",
      "SNREV\n",
      "STARFLAG\n",
      "STARFLAGS\n",
      "ANDFLAG\n",
      "ANDFLAGS\n",
      "VHELIO_AVG\n",
      "VSCATTER\n",
      "VERR\n",
      "RV_TEFF\n",
      "RV_LOGG\n",
      "RV_FEH\n",
      "RV_ALPHA\n",
      "RV_CARB\n",
      "RV_CHI2\n",
      "RV_CCFWHM\n",
      "RV_AUTOFWHM\n",
      "RV_FLAG\n",
      "N_COMPONENTS\n",
      "MEANFIB\n",
      "SIGFIB\n",
      "MIN_H\n",
      "MAX_H\n",
      "MIN_JK\n",
      "MAX_JK\n",
      "GAIAEDR3_SOURCE_ID_y\n",
      "GAIAEDR3_PARALLAX\n",
      "GAIAEDR3_PARALLAX_ERROR\n",
      "GAIAEDR3_PMRA\n",
      "GAIAEDR3_PMRA_ERROR\n",
      "GAIAEDR3_PMDEC\n",
      "GAIAEDR3_PMDEC_ERROR\n",
      "GAIAEDR3_PHOT_G_MEAN_MAG\n",
      "GAIAEDR3_PHOT_BP_MEAN_MAG\n",
      "GAIAEDR3_PHOT_RP_MEAN_MAG\n",
      "GAIAEDR3_DR2_RADIAL_VELOCITY\n",
      "GAIAEDR3_DR2_RADIAL_VELOCITY_ERROR\n",
      "GAIAEDR3_R_MED_GEO\n",
      "GAIAEDR3_R_LO_GEO\n",
      "GAIAEDR3_R_HI_GEO\n",
      "GAIAEDR3_R_MED_PHOTOGEO\n",
      "GAIAEDR3_R_LO_PHOTOGEO\n",
      "GAIAEDR3_R_HI_PHOTOGEO\n",
      "ASPCAP_GRID\n",
      "ASPCAP_CHI2\n",
      "ASPCAPFLAG\n",
      "ASPCAPFLAGS\n",
      "FRAC_BADPIX\n",
      "FRAC_LOWSNR\n",
      "FRAC_SIGSKY\n",
      "EXTRATARG\n",
      "MEMBERFLAG\n",
      "MEMBER\n",
      "TEFF\n",
      "TEFF_ERR\n",
      "LOGG\n",
      "LOGG_ERR\n",
      "M_H\n",
      "M_H_ERR\n",
      "ALPHA_M\n",
      "ALPHA_M_ERR\n",
      "VMICRO\n",
      "VMACRO\n",
      "VSINI\n",
      "TEFF_SPEC\n",
      "LOGG_SPEC\n",
      "C_FE\n",
      "C_FE_SPEC\n",
      "C_FE_ERR\n",
      "C_FE_FLAG\n",
      "CI_FE\n",
      "CI_FE_SPEC\n",
      "CI_FE_ERR\n",
      "CI_FE_FLAG\n",
      "N_FE\n",
      "N_FE_SPEC\n",
      "N_FE_ERR\n",
      "N_FE_FLAG\n",
      "O_FE\n",
      "O_FE_SPEC\n",
      "O_FE_ERR\n",
      "O_FE_FLAG\n",
      "NA_FE\n",
      "NA_FE_SPEC\n",
      "NA_FE_ERR\n",
      "NA_FE_FLAG\n",
      "MG_FE\n",
      "MG_FE_SPEC\n",
      "MG_FE_ERR\n",
      "MG_FE_FLAG\n",
      "AL_FE\n",
      "AL_FE_SPEC\n",
      "AL_FE_ERR\n",
      "AL_FE_FLAG\n",
      "SI_FE\n",
      "SI_FE_SPEC\n",
      "SI_FE_ERR\n",
      "SI_FE_FLAG\n",
      "P_FE\n",
      "P_FE_SPEC\n",
      "P_FE_ERR\n",
      "P_FE_FLAG\n",
      "S_FE\n",
      "S_FE_SPEC\n",
      "S_FE_ERR\n",
      "S_FE_FLAG\n",
      "K_FE\n",
      "K_FE_SPEC\n",
      "K_FE_ERR\n",
      "K_FE_FLAG\n",
      "CA_FE\n",
      "CA_FE_SPEC\n",
      "CA_FE_ERR\n",
      "CA_FE_FLAG\n",
      "TI_FE\n",
      "TI_FE_SPEC\n",
      "TI_FE_ERR\n",
      "TI_FE_FLAG\n",
      "TIII_FE\n",
      "TIII_FE_SPEC\n",
      "TIII_FE_ERR\n",
      "TIII_FE_FLAG\n",
      "V_FE\n",
      "V_FE_SPEC\n",
      "V_FE_ERR\n",
      "V_FE_FLAG\n",
      "CR_FE\n",
      "CR_FE_SPEC\n",
      "CR_FE_ERR\n",
      "CR_FE_FLAG\n",
      "MN_FE\n",
      "MN_FE_SPEC\n",
      "MN_FE_ERR\n",
      "MN_FE_FLAG\n",
      "FE_H\n",
      "FE_H_SPEC\n",
      "FE_H_ERR\n",
      "FE_H_FLAG\n",
      "CO_FE\n",
      "CO_FE_SPEC\n",
      "CO_FE_ERR\n",
      "CO_FE_FLAG\n",
      "NI_FE\n",
      "NI_FE_SPEC\n",
      "NI_FE_ERR\n",
      "NI_FE_FLAG\n",
      "CU_FE\n",
      "CU_FE_SPEC\n",
      "CU_FE_ERR\n",
      "CU_FE_FLAG\n",
      "CE_FE\n",
      "CE_FE_SPEC\n",
      "CE_FE_ERR\n",
      "CE_FE_FLAG\n"
     ]
    }
   ],
   "source": [
    "for col in df.columns:\n",
    "    print(col)"
   ]
  },
  {
   "cell_type": "code",
   "execution_count": 3,
   "metadata": {},
   "outputs": [
    {
     "data": {
      "text/plain": [
       "Index(['Unnamed: 0', 'source_id', 'ra', 'dec', 'rgeo', 'b_rgeo', 'B_rgeo',\n",
       "       'r_est', 'b_rpgeo', 'B_rpgeo', 'ra_error', 'dec_error', 'parallax',\n",
       "       'parallax_error', 'PM', 'pmra', 'pmra_error', 'pmdec', 'pmdec_error',\n",
       "       'Gmag', 'BPmag', 'RPmag', 'BP-RP', 'radial_velocity',\n",
       "       'radial_velocity_error', 'Vbroad', 'GRVSmag', 'Gal', 'Teff', 'logg',\n",
       "       '[Fe/H]', 'Dist', 'A0', 'RAJ2000', 'DEJ2000', 'e_RAJ2000', 'e_DEJ2000',\n",
       "       'RADEcorJ2000', 'ra_dec_corr', 'ra_pmdec_corr', 'ra_parallax_corr',\n",
       "       'ra_pmra_corr', 'B_Teff', 'b_Teff', 'b_logg', 'B_logg', 'b_Dist',\n",
       "       'B_Dist', 'b_AG', 'B_AG', 'b_A0', 'B_A0', 'dec_pmra_corr',\n",
       "       'dec_pmdec_corr', 'dec_parallax_corr', 'parallax_pmdec_corr',\n",
       "       'parallax_pmra_corr', 'pmra_pmdec_corr'],\n",
       "      dtype='object')"
      ]
     },
     "execution_count": 3,
     "metadata": {},
     "output_type": "execute_result"
    }
   ],
   "source": [
    "v0_data_path = '/local/sven/v0_project_archive/GaiaDR3_RV_RGB_fidelity.csv'\n",
    "v0_data = pd.read_csv(v0_data_path, nrows=100)\n",
    "v0_data.columns"
   ]
  },
  {
   "cell_type": "markdown",
   "metadata": {},
   "source": [
    "# Query Archive"
   ]
  },
  {
   "cell_type": "code",
   "execution_count": 5,
   "metadata": {},
   "outputs": [],
   "source": [
    "from astroquery.gaia import Gaia\n",
    "from astropy.table import Table"
   ]
  },
  {
   "cell_type": "code",
   "execution_count": 9,
   "metadata": {},
   "outputs": [
    {
     "data": {
      "text/plain": [
       "pandas.core.frame.DataFrame"
      ]
     },
     "execution_count": 9,
     "metadata": {},
     "output_type": "execute_result"
    }
   ],
   "source": [
    "type(df[['source_id']])"
   ]
  },
  {
   "cell_type": "code",
   "execution_count": 10,
   "metadata": {},
   "outputs": [],
   "source": [
    "up_table = Table.from_pandas(df[['source_id']])"
   ]
  },
  {
   "cell_type": "code",
   "execution_count": 25,
   "metadata": {},
   "outputs": [
    {
     "name": "stdout",
     "output_type": "stream",
     "text": [
      "INFO: Login to gaia TAP server [astroquery.gaia.core]\n",
      "OK\n",
      "INFO: Login to gaia data server [astroquery.gaia.core]\n",
      "OK\n",
      "Sending pytable.\n",
      "200 200\n",
      "[('Date', 'Wed, 03 Jan 2024 10:27:53 GMT'), ('Server', 'Apache/2.4.6 (CentOS) OpenSSL/1.0.2k-fips mod_jk/1.2.43'), ('Cache-Control', 'no-cache, no-store, max-age=0, must-revalidate'), ('Pragma', 'no-cache'), ('Expires', '0'), ('X-XSS-Protection', '1; mode=block'), ('X-Frame-Options', 'SAMEORIGIN'), ('X-Content-Type-Options', 'nosniff'), ('Transfer-Encoding', 'chunked'), ('Content-Type', 'text/plain;charset=ISO-8859-1')]\n",
      "Uploaded table 'ou_sample'.\n"
     ]
    }
   ],
   "source": [
    "Gaia.login()\n",
    "\n",
    "job = Gaia.upload_table(up_table, table_name='ou_sample', verbose=True)"
   ]
  },
  {
   "cell_type": "code",
   "execution_count": 36,
   "metadata": {},
   "outputs": [],
   "source": [
    "query_string = 'SELECT TOP 200000 gaia_source.source_id,gaia_source.ra,gaia_source.ra_error,gaia_source.dec,gaia_source.dec_error,gaia_source.parallax,gaia_source.parallax_error,gaia_source.pmra,gaia_source.pmra_error,gaia_source.pmdec,gaia_source.pmdec_error,gaia_source.ra_dec_corr,gaia_source.ra_parallax_corr,gaia_source.ra_pmra_corr,gaia_source.ra_pmdec_corr,gaia_source.dec_parallax_corr,gaia_source.dec_pmra_corr,gaia_source.dec_pmdec_corr,gaia_source.parallax_pmra_corr,gaia_source.parallax_pmdec_corr,gaia_source.pmra_pmdec_corr, gaia_source.ruwe,gaia_source.phot_g_mean_mag,gaia_source.phot_bp_mean_mag,gaia_source.phot_rp_mean_mag,gaia_source.radial_velocity,gaia_source.radial_velocity_error,gaia_source.phot_variable_flag FROM gaiadr3.gaia_source as gaia_source, user_spoder.ou_sample as s WHERE gaia_source.source_id = s.source_id'"
   ]
  },
  {
   "cell_type": "code",
   "execution_count": 37,
   "metadata": {},
   "outputs": [
    {
     "name": "stdout",
     "output_type": "stream",
     "text": [
      "INFO: Login to gaia TAP server [astroquery.gaia.core]\n",
      "OK\n",
      "INFO: Login to gaia data server [astroquery.gaia.core]\n",
      "OK\n",
      "Launched query: 'SELECT TOP 200000 gaia_source.source_id,gaia_source.ra,gaia_source.ra_error,gaia_source.dec,gaia_source.dec_error,gaia_source.parallax,gaia_source.parallax_error,gaia_source.pmra,gaia_source.pmra_error,gaia_source.pmdec,gaia_source.pmdec_error,gaia_source.ra_dec_corr,gaia_source.ra_parallax_corr,gaia_source.ra_pmra_corr,gaia_source.ra_pmdec_corr,gaia_source.dec_parallax_corr,gaia_source.dec_pmra_corr,gaia_source.dec_pmdec_corr,gaia_source.parallax_pmra_corr,gaia_source.parallax_pmdec_corr,gaia_source.pmra_pmdec_corr, gaia_source.ruwe,gaia_source.phot_g_mean_mag,gaia_source.phot_bp_mean_mag,gaia_source.phot_rp_mean_mag,gaia_source.radial_velocity,gaia_source.radial_velocity_error,gaia_source.phot_variable_flag FROM gaiadr3.gaia_source as gaia_source, user_spoder.ou_sample as s WHERE gaia_source.source_id = s.source_id'\n",
      "------>https\n",
      "host = gea.esac.esa.int:443\n",
      "context = /tap-server/tap/async\n",
      "Content-type = application/x-www-form-urlencoded\n",
      "303 303\n",
      "[('Date', 'Wed, 03 Jan 2024 11:02:03 GMT'), ('Server', 'Apache/2.4.6 (CentOS) OpenSSL/1.0.2k-fips mod_jk/1.2.43'), ('Cache-Control', 'no-cache, no-store, max-age=0, must-revalidate'), ('Pragma', 'no-cache'), ('Expires', '0'), ('X-XSS-Protection', '1; mode=block'), ('X-Frame-Options', 'SAMEORIGIN'), ('X-Content-Type-Options', 'nosniff'), ('Location', 'https://gea.esac.esa.int/tap-server/tap/async/1704279723230O'), ('Transfer-Encoding', 'chunked'), ('Content-Type', 'text/plain;charset=ISO-8859-1')]\n",
      "job 1704279723230O, at: https://gea.esac.esa.int/tap-server/tap/async/1704279723230O\n",
      "Retrieving async. results...\n",
      "Job 1704279723230O status: EXECUTING\n",
      "Job 1704279723230O status: EXECUTING\n",
      "Job 1704279723230O status: EXECUTING\n",
      "Job 1704279723230O status: EXECUTING\n",
      "Job 1704279723230O status: EXECUTING\n",
      "Job 1704279723230O status: EXECUTING\n",
      "Job 1704279723230O status: EXECUTING\n",
      "Job 1704279723230O status: EXECUTING\n",
      "Job 1704279723230O status: EXECUTING\n",
      "Job 1704279723230O status: EXECUTING\n",
      "Job 1704279723230O status: EXECUTING\n",
      "Job 1704279723230O status: EXECUTING\n",
      "Job 1704279723230O status: EXECUTING\n",
      "Job 1704279723230O status: EXECUTING\n",
      "Job 1704279723230O status: EXECUTING\n",
      "Job 1704279723230O status: EXECUTING\n",
      "Job 1704279723230O status: EXECUTING\n",
      "Job 1704279723230O status: EXECUTING\n",
      "Job 1704279723230O status: EXECUTING\n",
      "Job 1704279723230O status: EXECUTING\n",
      "Job 1704279723230O status: EXECUTING\n",
      "Job 1704279723230O status: EXECUTING\n",
      "Job 1704279723230O status: COMPLETED\n",
      "200 200\n",
      "[('Date', 'Wed, 03 Jan 2024 11:02:22 GMT'), ('Server', 'Apache/2.4.6 (CentOS) OpenSSL/1.0.2k-fips mod_jk/1.2.43'), ('Cache-Control', 'no-cache, no-store, max-age=0, must-revalidate'), ('Pragma', 'no-cache'), ('Expires', '0'), ('X-XSS-Protection', '1; mode=block'), ('X-Frame-Options', 'SAMEORIGIN'), ('X-Content-Type-Options', 'nosniff'), ('Content-Disposition', 'attachment;filename=\"gaia_ou_test-result.csv\"'), ('Transfer-Encoding', 'chunked'), ('Content-Type', 'text/csv')]\n",
      "Saving results to: /scratch/local/sven/gaia_ou_data.csv\n"
     ]
    }
   ],
   "source": [
    "Gaia.login()\n",
    "\n",
    "job_name = 'gaia_ou_test'\n",
    "outpath = '/scratch/local/sven/gaia_ou_data.csv'\n",
    "\n",
    "job = Gaia.launch_job_async(query_string,\n",
    "                            name=job_name,\n",
    "                            output_file=outpath,\n",
    "                            output_format='csv', \n",
    "                            dump_to_file=True, \n",
    "                            verbose=True)\n",
    "results = job.get_results()"
   ]
  },
  {
   "cell_type": "markdown",
   "metadata": {},
   "source": [
    "# Check data"
   ]
  },
  {
   "cell_type": "code",
   "execution_count": 193,
   "metadata": {},
   "outputs": [
    {
     "name": "stdout",
     "output_type": "stream",
     "text": [
      "(120309, 30)\n"
     ]
    }
   ],
   "source": [
    "path = '/scratch/local/sven/gaia_ou_data.csv'\n",
    "gaia_ou_data = pd.read_csv(path)\n",
    "\n",
    "\n",
    "gaia_ou_data['r_est'] = 1/df.spec_parallax*1e3\n",
    "gaia_ou_data['r_est_error'] = ((1/(df.spec_parallax-df.spec_parallax_err) - 1/(df.spec_parallax+df.spec_parallax_err))/2)*1e3 \n",
    "\n",
    "\n",
    "#gaia_ou_data = gaia_ou_data[gaia_ou_data.parallax/gaia_ou_data.parallax_error > 10]\n",
    "print(gaia_ou_data.shape)"
   ]
  },
  {
   "cell_type": "code",
   "execution_count": 159,
   "metadata": {},
   "outputs": [
    {
     "data": {
      "text/html": [
       "<div>\n",
       "<style scoped>\n",
       "    .dataframe tbody tr th:only-of-type {\n",
       "        vertical-align: middle;\n",
       "    }\n",
       "\n",
       "    .dataframe tbody tr th {\n",
       "        vertical-align: top;\n",
       "    }\n",
       "\n",
       "    .dataframe thead th {\n",
       "        text-align: right;\n",
       "    }\n",
       "</style>\n",
       "<table border=\"1\" class=\"dataframe\">\n",
       "  <thead>\n",
       "    <tr style=\"text-align: right;\">\n",
       "      <th></th>\n",
       "      <th>radial_velocity</th>\n",
       "      <th>source_id</th>\n",
       "    </tr>\n",
       "  </thead>\n",
       "  <tbody>\n",
       "    <tr>\n",
       "      <th>0</th>\n",
       "      <td>-52.478863</td>\n",
       "      <td>538028216707715712</td>\n",
       "    </tr>\n",
       "    <tr>\n",
       "      <th>1</th>\n",
       "      <td>-82.230064</td>\n",
       "      <td>422737314373993984</td>\n",
       "    </tr>\n",
       "    <tr>\n",
       "      <th>2</th>\n",
       "      <td>-33.695934</td>\n",
       "      <td>429530195985183744</td>\n",
       "    </tr>\n",
       "    <tr>\n",
       "      <th>3</th>\n",
       "      <td>NaN</td>\n",
       "      <td>4701763512829847808</td>\n",
       "    </tr>\n",
       "    <tr>\n",
       "      <th>4</th>\n",
       "      <td>NaN</td>\n",
       "      <td>431771039351005184</td>\n",
       "    </tr>\n",
       "    <tr>\n",
       "      <th>...</th>\n",
       "      <td>...</td>\n",
       "      <td>...</td>\n",
       "    </tr>\n",
       "    <tr>\n",
       "      <th>120304</th>\n",
       "      <td>-129.981540</td>\n",
       "      <td>2016199730570963968</td>\n",
       "    </tr>\n",
       "    <tr>\n",
       "      <th>120305</th>\n",
       "      <td>-58.779945</td>\n",
       "      <td>2013020767578111360</td>\n",
       "    </tr>\n",
       "    <tr>\n",
       "      <th>120306</th>\n",
       "      <td>NaN</td>\n",
       "      <td>6380099464951165952</td>\n",
       "    </tr>\n",
       "    <tr>\n",
       "      <th>120307</th>\n",
       "      <td>-33.941452</td>\n",
       "      <td>2282127264957087872</td>\n",
       "    </tr>\n",
       "    <tr>\n",
       "      <th>120308</th>\n",
       "      <td>NaN</td>\n",
       "      <td>6379914575198998272</td>\n",
       "    </tr>\n",
       "  </tbody>\n",
       "</table>\n",
       "<p>120309 rows × 2 columns</p>\n",
       "</div>"
      ],
      "text/plain": [
       "        radial_velocity            source_id\n",
       "0            -52.478863   538028216707715712\n",
       "1            -82.230064   422737314373993984\n",
       "2            -33.695934   429530195985183744\n",
       "3                   NaN  4701763512829847808\n",
       "4                   NaN   431771039351005184\n",
       "...                 ...                  ...\n",
       "120304      -129.981540  2016199730570963968\n",
       "120305       -58.779945  2013020767578111360\n",
       "120306              NaN  6380099464951165952\n",
       "120307       -33.941452  2282127264957087872\n",
       "120308              NaN  6379914575198998272\n",
       "\n",
       "[120309 rows x 2 columns]"
      ]
     },
     "execution_count": 159,
     "metadata": {},
     "output_type": "execute_result"
    }
   ],
   "source": [
    "gaia_ou_data[['radial_velocity', 'source_id']]"
   ]
  },
  {
   "cell_type": "code",
   "execution_count": 6,
   "metadata": {},
   "outputs": [
    {
     "data": {
      "text/html": [
       "<div>\n",
       "<style scoped>\n",
       "    .dataframe tbody tr th:only-of-type {\n",
       "        vertical-align: middle;\n",
       "    }\n",
       "\n",
       "    .dataframe tbody tr th {\n",
       "        vertical-align: top;\n",
       "    }\n",
       "\n",
       "    .dataframe thead th {\n",
       "        text-align: right;\n",
       "    }\n",
       "</style>\n",
       "<table border=\"1\" class=\"dataframe\">\n",
       "  <thead>\n",
       "    <tr style=\"text-align: right;\">\n",
       "      <th></th>\n",
       "      <th>GAIAEDR3_DR2_RADIAL_VELOCITY</th>\n",
       "      <th>source_id</th>\n",
       "    </tr>\n",
       "  </thead>\n",
       "  <tbody>\n",
       "    <tr>\n",
       "      <th>0</th>\n",
       "      <td>-5.192470e+01</td>\n",
       "      <td>538028216707715712</td>\n",
       "    </tr>\n",
       "    <tr>\n",
       "      <th>1</th>\n",
       "      <td>-8.242390e+01</td>\n",
       "      <td>422737314373993984</td>\n",
       "    </tr>\n",
       "    <tr>\n",
       "      <th>2</th>\n",
       "      <td>-3.326460e+01</td>\n",
       "      <td>429530195985183744</td>\n",
       "    </tr>\n",
       "    <tr>\n",
       "      <th>3</th>\n",
       "      <td>1.000000e+20</td>\n",
       "      <td>4701763512829847808</td>\n",
       "    </tr>\n",
       "    <tr>\n",
       "      <th>4</th>\n",
       "      <td>1.000000e+20</td>\n",
       "      <td>431771039351005184</td>\n",
       "    </tr>\n",
       "    <tr>\n",
       "      <th>...</th>\n",
       "      <td>...</td>\n",
       "      <td>...</td>\n",
       "    </tr>\n",
       "    <tr>\n",
       "      <th>120304</th>\n",
       "      <td>1.000000e+20</td>\n",
       "      <td>2016199730570963968</td>\n",
       "    </tr>\n",
       "    <tr>\n",
       "      <th>120305</th>\n",
       "      <td>-5.910300e+01</td>\n",
       "      <td>2013020767578111360</td>\n",
       "    </tr>\n",
       "    <tr>\n",
       "      <th>120306</th>\n",
       "      <td>1.000000e+20</td>\n",
       "      <td>6380099464951165952</td>\n",
       "    </tr>\n",
       "    <tr>\n",
       "      <th>120307</th>\n",
       "      <td>-3.369650e+01</td>\n",
       "      <td>2282127264957087872</td>\n",
       "    </tr>\n",
       "    <tr>\n",
       "      <th>120308</th>\n",
       "      <td>1.000000e+20</td>\n",
       "      <td>6379914575198998272</td>\n",
       "    </tr>\n",
       "  </tbody>\n",
       "</table>\n",
       "<p>120309 rows × 2 columns</p>\n",
       "</div>"
      ],
      "text/plain": [
       "        GAIAEDR3_DR2_RADIAL_VELOCITY            source_id\n",
       "0                      -5.192470e+01   538028216707715712\n",
       "1                      -8.242390e+01   422737314373993984\n",
       "2                      -3.326460e+01   429530195985183744\n",
       "3                       1.000000e+20  4701763512829847808\n",
       "4                       1.000000e+20   431771039351005184\n",
       "...                              ...                  ...\n",
       "120304                  1.000000e+20  2016199730570963968\n",
       "120305                 -5.910300e+01  2013020767578111360\n",
       "120306                  1.000000e+20  6380099464951165952\n",
       "120307                 -3.369650e+01  2282127264957087872\n",
       "120308                  1.000000e+20  6379914575198998272\n",
       "\n",
       "[120309 rows x 2 columns]"
      ]
     },
     "execution_count": 6,
     "metadata": {},
     "output_type": "execute_result"
    }
   ],
   "source": [
    "df[['GAIAEDR3_DR2_RADIAL_VELOCITY', 'source_id']]"
   ]
  },
  {
   "cell_type": "code",
   "execution_count": 5,
   "metadata": {},
   "outputs": [
    {
     "data": {
      "text/html": [
       "<div>\n",
       "<style scoped>\n",
       "    .dataframe tbody tr th:only-of-type {\n",
       "        vertical-align: middle;\n",
       "    }\n",
       "\n",
       "    .dataframe tbody tr th {\n",
       "        vertical-align: top;\n",
       "    }\n",
       "\n",
       "    .dataframe thead th {\n",
       "        text-align: right;\n",
       "    }\n",
       "</style>\n",
       "<table border=\"1\" class=\"dataframe\">\n",
       "  <thead>\n",
       "    <tr style=\"text-align: right;\">\n",
       "      <th></th>\n",
       "      <th>vr</th>\n",
       "      <th>source_id</th>\n",
       "    </tr>\n",
       "  </thead>\n",
       "  <tbody>\n",
       "    <tr>\n",
       "      <th>0</th>\n",
       "      <td>28.930144</td>\n",
       "      <td>538028216707715712</td>\n",
       "    </tr>\n",
       "    <tr>\n",
       "      <th>1</th>\n",
       "      <td>-39.429575</td>\n",
       "      <td>422737314373993984</td>\n",
       "    </tr>\n",
       "    <tr>\n",
       "      <th>2</th>\n",
       "      <td>61.274230</td>\n",
       "      <td>429530195985183744</td>\n",
       "    </tr>\n",
       "    <tr>\n",
       "      <th>3</th>\n",
       "      <td>110.250236</td>\n",
       "      <td>4701763512829847808</td>\n",
       "    </tr>\n",
       "    <tr>\n",
       "      <th>4</th>\n",
       "      <td>-26.899745</td>\n",
       "      <td>431771039351005184</td>\n",
       "    </tr>\n",
       "    <tr>\n",
       "      <th>...</th>\n",
       "      <td>...</td>\n",
       "      <td>...</td>\n",
       "    </tr>\n",
       "    <tr>\n",
       "      <th>120304</th>\n",
       "      <td>-25.724774</td>\n",
       "      <td>2016199730570963968</td>\n",
       "    </tr>\n",
       "    <tr>\n",
       "      <th>120305</th>\n",
       "      <td>15.236614</td>\n",
       "      <td>2013020767578111360</td>\n",
       "    </tr>\n",
       "    <tr>\n",
       "      <th>120306</th>\n",
       "      <td>136.812359</td>\n",
       "      <td>6380099464951165952</td>\n",
       "    </tr>\n",
       "    <tr>\n",
       "      <th>120307</th>\n",
       "      <td>78.461883</td>\n",
       "      <td>2282127264957087872</td>\n",
       "    </tr>\n",
       "    <tr>\n",
       "      <th>120308</th>\n",
       "      <td>168.210466</td>\n",
       "      <td>6379914575198998272</td>\n",
       "    </tr>\n",
       "  </tbody>\n",
       "</table>\n",
       "<p>120309 rows × 2 columns</p>\n",
       "</div>"
      ],
      "text/plain": [
       "                vr            source_id\n",
       "0        28.930144   538028216707715712\n",
       "1       -39.429575   422737314373993984\n",
       "2        61.274230   429530195985183744\n",
       "3       110.250236  4701763512829847808\n",
       "4       -26.899745   431771039351005184\n",
       "...            ...                  ...\n",
       "120304  -25.724774  2016199730570963968\n",
       "120305   15.236614  2013020767578111360\n",
       "120306  136.812359  6380099464951165952\n",
       "120307   78.461883  2282127264957087872\n",
       "120308  168.210466  6379914575198998272\n",
       "\n",
       "[120309 rows x 2 columns]"
      ]
     },
     "execution_count": 5,
     "metadata": {},
     "output_type": "execute_result"
    }
   ],
   "source": [
    "df[['vr', 'source_id']]"
   ]
  },
  {
   "cell_type": "code",
   "execution_count": 6,
   "metadata": {},
   "outputs": [
    {
     "name": "stdout",
     "output_type": "stream",
     "text": [
      "(120309, 245)\n",
      "(22810, 245)\n"
     ]
    },
    {
     "data": {
      "text/plain": [
       "(-0.5, 2.0)"
      ]
     },
     "execution_count": 6,
     "metadata": {},
     "output_type": "execute_result"
    },
    {
     "data": {
      "image/png": "[encoded data removed]",
      "text/plain": [
       "<Figure size 432x288 with 1 Axes>"
      ]
     },
     "metadata": {
      "needs_background": "light"
     },
     "output_type": "display_data"
    }
   ],
   "source": [
    "\n",
    "df_filtered = df[(df.LOGG > 0) & (df.LOGG < 2.2)]\n",
    "\n",
    "print(df_filtered.shape)\n",
    "\n",
    "df_filtered = df[df.GAIAEDR3_PARALLAX/df.GAIAEDR3_PARALLAX_ERROR > 20]\n",
    "print(df_filtered.shape)\n",
    "x = df_filtered.GAIAEDR3_PARALLAX\n",
    "y = df_filtered.spec_parallax\n",
    "\n",
    "plt.scatter(x, y, s=0.1)\n",
    "plt.xlim(-0.5, 2)\n",
    "plt.ylim(-0.5, 2)"
   ]
  },
  {
   "cell_type": "code",
   "execution_count": 22,
   "metadata": {},
   "outputs": [
    {
     "data": {
      "text/plain": [
       "0          3268.601074\n",
       "1          2599.153320\n",
       "2          2590.079102\n",
       "3          8396.721680\n",
       "4          5146.033691\n",
       "              ...     \n",
       "120304     4210.976562\n",
       "120305     3450.244873\n",
       "120306    19485.673828\n",
       "120307     2276.260986\n",
       "120308    10558.042969\n",
       "Name: GAIAEDR3_R_MED_PHOTOGEO, Length: 120309, dtype: float32"
      ]
     },
     "execution_count": 22,
     "metadata": {},
     "output_type": "execute_result"
    }
   ],
   "source": [
    "df.GAIAEDR3_R_MED_PHOTOGEO"
   ]
  },
  {
   "cell_type": "code",
   "execution_count": 47,
   "metadata": {},
   "outputs": [
    {
     "name": "stdout",
     "output_type": "stream",
     "text": [
      "(46382, 245)\n"
     ]
    },
    {
     "data": {
      "text/plain": [
       "(0.0, 10000.0)"
      ]
     },
     "execution_count": 47,
     "metadata": {},
     "output_type": "execute_result"
    },
    {
     "data": {
      "image/png": "[encoded data removed]",
      "text/plain": [
       "<Figure size 432x288 with 1 Axes>"
      ]
     },
     "metadata": {
      "needs_background": "light"
     },
     "output_type": "display_data"
    }
   ],
   "source": [
    "df_filtered = df[df.GAIAEDR3_PARALLAX/df.GAIAEDR3_PARALLAX_ERROR > 10]\n",
    "\n",
    "\n",
    "x = df_filtered.GAIAEDR3_R_MED_PHOTOGEO\n",
    "y = 1/df_filtered.spec_parallax*1e3\n",
    "\n",
    "print(df_filtered.shape)\n",
    "\n",
    "plt.scatter(x, y, s=0.1)\n",
    "plt.xlim(0, 1e4)\n",
    "plt.ylim(0, 1e4)"
   ]
  },
  {
   "cell_type": "code",
   "execution_count": null,
   "metadata": {},
   "outputs": [],
   "source": []
  },
  {
   "cell_type": "code",
   "execution_count": null,
   "metadata": {},
   "outputs": [],
   "source": []
  },
  {
   "cell_type": "code",
   "execution_count": 7,
   "metadata": {},
   "outputs": [
    {
     "name": "stdout",
     "output_type": "stream",
     "text": [
      "(46382, 29)\n"
     ]
    }
   ],
   "source": []
  },
  {
   "cell_type": "code",
   "execution_count": 194,
   "metadata": {},
   "outputs": [
    {
     "data": {
      "text/plain": [
       "Index(['source_id', 'ra', 'dec', 'r_est', 'pmra', 'pmdec', 'radial_velocity'], dtype='object')"
      ]
     },
     "execution_count": 194,
     "metadata": {},
     "output_type": "execute_result"
    }
   ],
   "source": [
    "gaia_data_in = gaia_ou_data[['source_id', 'ra', 'dec', 'r_est', 'pmra', 'pmdec', 'radial_velocity']]\n",
    "gaia_data_in.columns"
   ]
  },
  {
   "cell_type": "code",
   "execution_count": 234,
   "metadata": {},
   "outputs": [
    {
     "name": "stdout",
     "output_type": "stream",
     "text": [
      "<class 'numpy.int64'>\n"
     ]
    }
   ],
   "source": [
    "import sys\n",
    "sys.path.append(\"../../gaia_tools/\")\n",
    "sys.path.append(\"../../scripts/\")\n",
    "from covariance_generation import generate_galactocentric_covmat, transform_cov_cylindirical\n",
    "import covariance_generation\n",
    "from mcmc_plots import *\n",
    "import data_analysis\n",
    "import transformation_constants\n",
    "import helper_functions as helpfunc\n",
    "import numpy as np\n",
    "\n",
    "import transformation_functions\n",
    "\n",
    "r_0 = 8178\n",
    "z_0 = 20.8\n",
    "v_sun = np.array([[5.1], \n",
    "                  [247.3], \n",
    "                  [7.8]])\n",
    "\n",
    "galcen_data = transformation_functions.get_transformed_data(gaia_data_in,\n",
    "                        include_cylindrical = True,\n",
    "                        z_0 = z_0,\n",
    "                        r_0 = r_0,\n",
    "                        v_sun = v_sun,\n",
    "                        is_bayes = True,\n",
    "                        is_output_frame = False,\n",
    "                        is_source_included = False)\n",
    "\n",
    "source_id = np.array([gaia_ou_data.source_id], dtype=np.int64).T\n",
    "print(type(source_id[0,0]))\n",
    "#galcen_data = np.concatenate(([galcen_data, source_id.T]), axis=1)\n",
    "#galcen_data['source_id'] = gaia_ou_data.source_id"
   ]
  },
  {
   "cell_type": "code",
   "execution_count": 163,
   "metadata": {},
   "outputs": [
    {
     "data": {
      "text/plain": [
       "(array([], dtype=int64),)"
      ]
     },
     "execution_count": 163,
     "metadata": {},
     "output_type": "execute_result"
    }
   ],
   "source": [
    "# Check if source IDs are NaN anywhere\n",
    "np.where(np.array(galcen_data[:, -1]) == np.nan)"
   ]
  },
  {
   "cell_type": "code",
   "execution_count": 164,
   "metadata": {},
   "outputs": [
    {
     "ename": "AttributeError",
     "evalue": "'numpy.ndarray' object has no attribute 'source_id'",
     "output_type": "error",
     "traceback": [
      "\u001b[0;31m---------------------------------------------------------------------------\u001b[0m",
      "\u001b[0;31mAttributeError\u001b[0m                            Traceback (most recent call last)",
      "\u001b[0;32m<ipython-input-164-5f276f59f544>\u001b[0m in \u001b[0;36m<module>\u001b[0;34m\u001b[0m\n\u001b[0;32m----> 1\u001b[0;31m \u001b[0mprint\u001b[0m\u001b[0;34m(\u001b[0m\u001b[0mgalcen_data\u001b[0m\u001b[0;34m.\u001b[0m\u001b[0msource_id\u001b[0m\u001b[0;34m)\u001b[0m\u001b[0;34m\u001b[0m\u001b[0;34m\u001b[0m\u001b[0m\n\u001b[0m\u001b[1;32m      2\u001b[0m \u001b[0mprint\u001b[0m\u001b[0;34m(\u001b[0m\u001b[0mgaia_ou_data\u001b[0m\u001b[0;34m.\u001b[0m\u001b[0msource_id\u001b[0m\u001b[0;34m)\u001b[0m\u001b[0;34m\u001b[0m\u001b[0;34m\u001b[0m\u001b[0m\n",
      "\u001b[0;31mAttributeError\u001b[0m: 'numpy.ndarray' object has no attribute 'source_id'"
     ]
    }
   ],
   "source": [
    "print(galcen_data.source_id)\n",
    "print(gaia_ou_data.source_id)"
   ]
  },
  {
   "cell_type": "code",
   "execution_count": 165,
   "metadata": {},
   "outputs": [
    {
     "name": "stdout",
     "output_type": "stream",
     "text": [
      "<class 'numpy.int64'>\n"
     ]
    }
   ],
   "source": [
    "print(type(source_id[0,0]))"
   ]
  },
  {
   "cell_type": "code",
   "execution_count": 235,
   "metadata": {},
   "outputs": [],
   "source": [
    "r_filter = np.where(galcen_data[:,6] > 6000)\n",
    "galcen_data = galcen_data[r_filter]\n",
    "source_id = source_id[r_filter]"
   ]
  },
  {
   "cell_type": "code",
   "execution_count": 236,
   "metadata": {},
   "outputs": [],
   "source": [
    "wedge_filter = np.where(np.abs(galcen_data[:,2])/galcen_data[:,6] < np.tan(np.pi/30))\n",
    "wedge_filter = np.where(np.abs(galcen_data[:,2]) < 1000)\n",
    "galcen_data = galcen_data[wedge_filter]\n",
    "source_id = source_id[wedge_filter]"
   ]
  },
  {
   "cell_type": "code",
   "execution_count": 237,
   "metadata": {},
   "outputs": [],
   "source": [
    "velocity_filter = np.where(np.abs(galcen_data[:,5]) < 100)\n",
    "galcen_data = galcen_data[velocity_filter]\n",
    "source_id = source_id[velocity_filter]"
   ]
  },
  {
   "cell_type": "code",
   "execution_count": 238,
   "metadata": {},
   "outputs": [],
   "source": [
    "angle_1 = np.deg2rad(150)  # 150 degrees in radians (180 - 30)\n",
    "angle_2 = np.deg2rad(210)  # 210 degrees in radians (180 + 30)\n",
    "\n",
    "# Slopes of the lines (tan of the angles)\n",
    "slope_1 = np.tan(angle_1)\n",
    "slope_2 = np.tan(angle_2)\n",
    "\n",
    "slope_filter = np.where((galcen_data[:, 1] <= slope_1 * galcen_data[:, 0]) & (galcen_data[:, 1] >= slope_2 * galcen_data[:,0]))\n",
    "galcen_data = galcen_data[slope_filter]\n",
    "source_id = source_id[slope_filter]"
   ]
  },
  {
   "cell_type": "code",
   "execution_count": 170,
   "metadata": {},
   "outputs": [
    {
     "data": {
      "text/plain": [
       "(33919, 10)"
      ]
     },
     "execution_count": 170,
     "metadata": {},
     "output_type": "execute_result"
    }
   ],
   "source": [
    "galcen_data.shape"
   ]
  },
  {
   "cell_type": "code",
   "execution_count": 239,
   "metadata": {},
   "outputs": [
    {
     "data": {
      "text/plain": [
       "25191.478452255113"
      ]
     },
     "execution_count": 239,
     "metadata": {},
     "output_type": "execute_result"
    },
    {
     "data": {
      "image/png": "[encoded data removed]",
      "text/plain": [
       "<Figure size 432x288 with 1 Axes>"
      ]
     },
     "metadata": {
      "needs_background": "light"
     },
     "output_type": "display_data"
    }
   ],
   "source": [
    "# R distribution\n",
    "plt.hist(galcen_data[:,6], 100)\n",
    "np.max(galcen_data[:,6])"
   ]
  },
  {
   "cell_type": "code",
   "execution_count": 200,
   "metadata": {},
   "outputs": [
    {
     "data": {
      "text/plain": [
       "<matplotlib.legend.Legend at 0x7fedf1e68550>"
      ]
     },
     "execution_count": 200,
     "metadata": {},
     "output_type": "execute_result"
    },
    {
     "data": {
      "image/png": "[encoded data removed]",
      "text/plain": [
       "<Figure size 576x576 with 1 Axes>"
      ]
     },
     "metadata": {
      "needs_background": "light"
     },
     "output_type": "display_data"
    }
   ],
   "source": [
    "fig=plt.figure(figsize=(8,8))\n",
    "\n",
    "plt.scatter(galcen_data[:,0], galcen_data[:,1],s=0.5)\n",
    "\n",
    "angle_1 = np.deg2rad(150)  # 150 degrees in radians (180 - 30)\n",
    "angle_2 = np.deg2rad(210)  # 210 degrees in radians (180 + 30)\n",
    "\n",
    "line_length = 25000\n",
    "\n",
    "# Calculating the end points of the lines for the new angles\n",
    "end_x1, end_y1 = line_length * np.cos(angle_1), line_length * np.sin(angle_1)\n",
    "end_x2, end_y2 = line_length * np.cos(angle_2), line_length * np.sin(angle_2)\n",
    "\n",
    "plt.plot([0, end_x1], [0, end_y1], color='red', label=r'$60 \\degree$ wedge')\n",
    "plt.plot([0, end_x2], [0, end_y2], color='red')\n",
    "\n",
    "\n",
    "plt.ylim(-15000, 15000)\n",
    "plt.xlim(-3e4, 0)\n",
    "\n",
    "\n",
    "plt.xlabel('x [pc]')\n",
    "plt.ylabel('y [pc]')\n",
    "\n",
    "plt.grid()\n",
    "plt.scatter(0,0,s=1)\n",
    "plt.scatter(-8178, 0, marker='x', color='red', s=100, label=r'$R_0 = 8178 \\rm \\, pc$') \n",
    "\n",
    "plt.legend()"
   ]
  },
  {
   "cell_type": "code",
   "execution_count": 240,
   "metadata": {},
   "outputs": [],
   "source": [
    "# Let's check how many stars in this sample have DR3 radial velocities.\n",
    "columns = ['x', 'y', 'z', 'v_x', 'v_y', 'v_z', 'r', 'phi', 'v_r', 'v_phi']\n",
    "galcen_data = pd.DataFrame(galcen_data, columns=columns)\n",
    "galcen_data['source_id'] = source_id\n"
   ]
  },
  {
   "cell_type": "code",
   "execution_count": 229,
   "metadata": {},
   "outputs": [
    {
     "data": {
      "text/plain": [
       "(33919, 11)"
      ]
     },
     "execution_count": 229,
     "metadata": {},
     "output_type": "execute_result"
    }
   ],
   "source": [
    "galcen_data.shape"
   ]
  },
  {
   "cell_type": "code",
   "execution_count": 143,
   "metadata": {},
   "outputs": [
    {
     "data": {
      "text/plain": [
       "(33919, 1)"
      ]
     },
     "execution_count": 143,
     "metadata": {},
     "output_type": "execute_result"
    }
   ],
   "source": [
    "source_id.shape"
   ]
  },
  {
   "cell_type": "code",
   "execution_count": 173,
   "metadata": {},
   "outputs": [
    {
     "data": {
      "text/plain": [
       "(array([], dtype=int64),)"
      ]
     },
     "execution_count": 173,
     "metadata": {},
     "output_type": "execute_result"
    }
   ],
   "source": [
    "# Check if source IDs are NaN anywhere\n",
    "np.where(galcen_data.source_id == np.nan)"
   ]
  },
  {
   "cell_type": "code",
   "execution_count": 202,
   "metadata": {},
   "outputs": [
    {
     "data": {
      "text/html": [
       "<div>\n",
       "<style scoped>\n",
       "    .dataframe tbody tr th:only-of-type {\n",
       "        vertical-align: middle;\n",
       "    }\n",
       "\n",
       "    .dataframe tbody tr th {\n",
       "        vertical-align: top;\n",
       "    }\n",
       "\n",
       "    .dataframe thead th {\n",
       "        text-align: right;\n",
       "    }\n",
       "</style>\n",
       "<table border=\"1\" class=\"dataframe\">\n",
       "  <thead>\n",
       "    <tr style=\"text-align: right;\">\n",
       "      <th></th>\n",
       "      <th>source_id</th>\n",
       "      <th>ra</th>\n",
       "      <th>ra_error</th>\n",
       "      <th>dec</th>\n",
       "      <th>dec_error</th>\n",
       "      <th>parallax</th>\n",
       "      <th>parallax_error</th>\n",
       "      <th>pmra</th>\n",
       "      <th>pmra_error</th>\n",
       "      <th>pmdec</th>\n",
       "      <th>...</th>\n",
       "      <th>pmra_pmdec_corr</th>\n",
       "      <th>ruwe</th>\n",
       "      <th>phot_g_mean_mag</th>\n",
       "      <th>phot_bp_mean_mag</th>\n",
       "      <th>phot_rp_mean_mag</th>\n",
       "      <th>radial_velocity</th>\n",
       "      <th>radial_velocity_error</th>\n",
       "      <th>phot_variable_flag</th>\n",
       "      <th>r_est</th>\n",
       "      <th>r_est_error</th>\n",
       "    </tr>\n",
       "  </thead>\n",
       "  <tbody>\n",
       "    <tr>\n",
       "      <th>0</th>\n",
       "      <td>538028216707715712</td>\n",
       "      <td>0.000205</td>\n",
       "      <td>0.017419</td>\n",
       "      <td>74.285436</td>\n",
       "      <td>0.015699</td>\n",
       "      <td>0.285442</td>\n",
       "      <td>0.019475</td>\n",
       "      <td>0.048582</td>\n",
       "      <td>0.024032</td>\n",
       "      <td>0.522248</td>\n",
       "      <td>...</td>\n",
       "      <td>-0.073327</td>\n",
       "      <td>1.016402</td>\n",
       "      <td>11.698828</td>\n",
       "      <td>13.272248</td>\n",
       "      <td>10.495563</td>\n",
       "      <td>-52.478863</td>\n",
       "      <td>0.194892</td>\n",
       "      <td>NOT_AVAILABLE</td>\n",
       "      <td>3366.324654</td>\n",
       "      <td>268.680955</td>\n",
       "    </tr>\n",
       "    <tr>\n",
       "      <th>1</th>\n",
       "      <td>422737314373993984</td>\n",
       "      <td>0.013215</td>\n",
       "      <td>0.013343</td>\n",
       "      <td>58.360640</td>\n",
       "      <td>0.013436</td>\n",
       "      <td>0.359852</td>\n",
       "      <td>0.019698</td>\n",
       "      <td>-4.353479</td>\n",
       "      <td>0.020771</td>\n",
       "      <td>-1.259435</td>\n",
       "      <td>...</td>\n",
       "      <td>-0.207853</td>\n",
       "      <td>1.027965</td>\n",
       "      <td>11.143223</td>\n",
       "      <td>12.461564</td>\n",
       "      <td>10.027846</td>\n",
       "      <td>-82.230064</td>\n",
       "      <td>0.190938</td>\n",
       "      <td>NOT_AVAILABLE</td>\n",
       "      <td>2218.522428</td>\n",
       "      <td>166.209492</td>\n",
       "    </tr>\n",
       "    <tr>\n",
       "      <th>2</th>\n",
       "      <td>429530195985183744</td>\n",
       "      <td>0.022831</td>\n",
       "      <td>0.011660</td>\n",
       "      <td>61.869629</td>\n",
       "      <td>0.010069</td>\n",
       "      <td>0.365394</td>\n",
       "      <td>0.015404</td>\n",
       "      <td>1.995410</td>\n",
       "      <td>0.014309</td>\n",
       "      <td>1.353053</td>\n",
       "      <td>...</td>\n",
       "      <td>-0.269784</td>\n",
       "      <td>0.878729</td>\n",
       "      <td>11.660726</td>\n",
       "      <td>12.833045</td>\n",
       "      <td>10.603519</td>\n",
       "      <td>-33.695934</td>\n",
       "      <td>0.240525</td>\n",
       "      <td>NOT_AVAILABLE</td>\n",
       "      <td>2941.239298</td>\n",
       "      <td>184.666593</td>\n",
       "    </tr>\n",
       "    <tr>\n",
       "      <th>5</th>\n",
       "      <td>420513826985325696</td>\n",
       "      <td>0.062220</td>\n",
       "      <td>0.010380</td>\n",
       "      <td>55.579060</td>\n",
       "      <td>0.010034</td>\n",
       "      <td>0.250919</td>\n",
       "      <td>0.014998</td>\n",
       "      <td>0.024889</td>\n",
       "      <td>0.014502</td>\n",
       "      <td>-1.044799</td>\n",
       "      <td>...</td>\n",
       "      <td>-0.356075</td>\n",
       "      <td>1.141255</td>\n",
       "      <td>12.898564</td>\n",
       "      <td>13.934713</td>\n",
       "      <td>11.898685</td>\n",
       "      <td>-54.509174</td>\n",
       "      <td>0.399205</td>\n",
       "      <td>NOT_AVAILABLE</td>\n",
       "      <td>5215.786781</td>\n",
       "      <td>296.489983</td>\n",
       "    </tr>\n",
       "    <tr>\n",
       "      <th>7</th>\n",
       "      <td>429941795599771136</td>\n",
       "      <td>0.071657</td>\n",
       "      <td>0.013079</td>\n",
       "      <td>62.359014</td>\n",
       "      <td>0.014343</td>\n",
       "      <td>0.137760</td>\n",
       "      <td>0.017171</td>\n",
       "      <td>-1.705245</td>\n",
       "      <td>0.018287</td>\n",
       "      <td>-0.478869</td>\n",
       "      <td>...</td>\n",
       "      <td>-0.300556</td>\n",
       "      <td>0.990860</td>\n",
       "      <td>14.301030</td>\n",
       "      <td>16.053486</td>\n",
       "      <td>13.054741</td>\n",
       "      <td>-95.054430</td>\n",
       "      <td>1.143728</td>\n",
       "      <td>NOT_AVAILABLE</td>\n",
       "      <td>7345.948110</td>\n",
       "      <td>434.423018</td>\n",
       "    </tr>\n",
       "    <tr>\n",
       "      <th>...</th>\n",
       "      <td>...</td>\n",
       "      <td>...</td>\n",
       "      <td>...</td>\n",
       "      <td>...</td>\n",
       "      <td>...</td>\n",
       "      <td>...</td>\n",
       "      <td>...</td>\n",
       "      <td>...</td>\n",
       "      <td>...</td>\n",
       "      <td>...</td>\n",
       "      <td>...</td>\n",
       "      <td>...</td>\n",
       "      <td>...</td>\n",
       "      <td>...</td>\n",
       "      <td>...</td>\n",
       "      <td>...</td>\n",
       "      <td>...</td>\n",
       "      <td>...</td>\n",
       "      <td>...</td>\n",
       "      <td>...</td>\n",
       "      <td>...</td>\n",
       "    </tr>\n",
       "    <tr>\n",
       "      <th>120301</th>\n",
       "      <td>1995077008382180352</td>\n",
       "      <td>359.978521</td>\n",
       "      <td>0.012656</td>\n",
       "      <td>57.191339</td>\n",
       "      <td>0.013421</td>\n",
       "      <td>0.096560</td>\n",
       "      <td>0.019193</td>\n",
       "      <td>-2.031952</td>\n",
       "      <td>0.017381</td>\n",
       "      <td>-1.740929</td>\n",
       "      <td>...</td>\n",
       "      <td>-0.341784</td>\n",
       "      <td>1.210147</td>\n",
       "      <td>12.949261</td>\n",
       "      <td>14.213318</td>\n",
       "      <td>11.849603</td>\n",
       "      <td>-89.932280</td>\n",
       "      <td>0.288170</td>\n",
       "      <td>NOT_AVAILABLE</td>\n",
       "      <td>7044.690718</td>\n",
       "      <td>224.973532</td>\n",
       "    </tr>\n",
       "    <tr>\n",
       "      <th>120303</th>\n",
       "      <td>2016468767318259712</td>\n",
       "      <td>359.980717</td>\n",
       "      <td>0.015719</td>\n",
       "      <td>64.715594</td>\n",
       "      <td>0.013035</td>\n",
       "      <td>0.178242</td>\n",
       "      <td>0.017860</td>\n",
       "      <td>-2.626906</td>\n",
       "      <td>0.022191</td>\n",
       "      <td>1.273752</td>\n",
       "      <td>...</td>\n",
       "      <td>-0.167447</td>\n",
       "      <td>1.094765</td>\n",
       "      <td>14.231042</td>\n",
       "      <td>16.047014</td>\n",
       "      <td>12.963837</td>\n",
       "      <td>-46.700970</td>\n",
       "      <td>1.364495</td>\n",
       "      <td>NOT_AVAILABLE</td>\n",
       "      <td>5245.523040</td>\n",
       "      <td>257.908378</td>\n",
       "    </tr>\n",
       "    <tr>\n",
       "      <th>120304</th>\n",
       "      <td>2016199730570963968</td>\n",
       "      <td>359.981316</td>\n",
       "      <td>0.023401</td>\n",
       "      <td>64.049225</td>\n",
       "      <td>0.023106</td>\n",
       "      <td>0.203817</td>\n",
       "      <td>0.029635</td>\n",
       "      <td>-1.676314</td>\n",
       "      <td>0.031024</td>\n",
       "      <td>0.131214</td>\n",
       "      <td>...</td>\n",
       "      <td>-0.327201</td>\n",
       "      <td>1.013284</td>\n",
       "      <td>15.745505</td>\n",
       "      <td>17.341608</td>\n",
       "      <td>14.536809</td>\n",
       "      <td>-129.981540</td>\n",
       "      <td>3.498075</td>\n",
       "      <td>NOT_AVAILABLE</td>\n",
       "      <td>6156.606355</td>\n",
       "      <td>384.936252</td>\n",
       "    </tr>\n",
       "    <tr>\n",
       "      <th>120305</th>\n",
       "      <td>2013020767578111360</td>\n",
       "      <td>359.983672</td>\n",
       "      <td>0.010355</td>\n",
       "      <td>62.853389</td>\n",
       "      <td>0.010937</td>\n",
       "      <td>0.250876</td>\n",
       "      <td>0.013786</td>\n",
       "      <td>-1.252002</td>\n",
       "      <td>0.013391</td>\n",
       "      <td>-1.450979</td>\n",
       "      <td>...</td>\n",
       "      <td>-0.301147</td>\n",
       "      <td>1.004389</td>\n",
       "      <td>13.510835</td>\n",
       "      <td>14.607828</td>\n",
       "      <td>12.485116</td>\n",
       "      <td>-58.779945</td>\n",
       "      <td>0.665587</td>\n",
       "      <td>NOT_AVAILABLE</td>\n",
       "      <td>3918.339230</td>\n",
       "      <td>231.322373</td>\n",
       "    </tr>\n",
       "    <tr>\n",
       "      <th>120307</th>\n",
       "      <td>2282127264957087872</td>\n",
       "      <td>359.986642</td>\n",
       "      <td>0.012074</td>\n",
       "      <td>79.302004</td>\n",
       "      <td>0.011643</td>\n",
       "      <td>0.419710</td>\n",
       "      <td>0.014970</td>\n",
       "      <td>6.959700</td>\n",
       "      <td>0.014654</td>\n",
       "      <td>6.008740</td>\n",
       "      <td>...</td>\n",
       "      <td>-0.194156</td>\n",
       "      <td>1.281220</td>\n",
       "      <td>11.939980</td>\n",
       "      <td>12.736773</td>\n",
       "      <td>11.068843</td>\n",
       "      <td>-33.941452</td>\n",
       "      <td>0.885158</td>\n",
       "      <td>NOT_AVAILABLE</td>\n",
       "      <td>2381.500203</td>\n",
       "      <td>161.896710</td>\n",
       "    </tr>\n",
       "  </tbody>\n",
       "</table>\n",
       "<p>33919 rows × 30 columns</p>\n",
       "</div>"
      ],
      "text/plain": [
       "                  source_id          ra  ra_error        dec  dec_error  \\\n",
       "0        538028216707715712    0.000205  0.017419  74.285436   0.015699   \n",
       "1        422737314373993984    0.013215  0.013343  58.360640   0.013436   \n",
       "2        429530195985183744    0.022831  0.011660  61.869629   0.010069   \n",
       "5        420513826985325696    0.062220  0.010380  55.579060   0.010034   \n",
       "7        429941795599771136    0.071657  0.013079  62.359014   0.014343   \n",
       "...                     ...         ...       ...        ...        ...   \n",
       "120301  1995077008382180352  359.978521  0.012656  57.191339   0.013421   \n",
       "120303  2016468767318259712  359.980717  0.015719  64.715594   0.013035   \n",
       "120304  2016199730570963968  359.981316  0.023401  64.049225   0.023106   \n",
       "120305  2013020767578111360  359.983672  0.010355  62.853389   0.010937   \n",
       "120307  2282127264957087872  359.986642  0.012074  79.302004   0.011643   \n",
       "\n",
       "        parallax  parallax_error      pmra  pmra_error     pmdec  ...  \\\n",
       "0       0.285442        0.019475  0.048582    0.024032  0.522248  ...   \n",
       "1       0.359852        0.019698 -4.353479    0.020771 -1.259435  ...   \n",
       "2       0.365394        0.015404  1.995410    0.014309  1.353053  ...   \n",
       "5       0.250919        0.014998  0.024889    0.014502 -1.044799  ...   \n",
       "7       0.137760        0.017171 -1.705245    0.018287 -0.478869  ...   \n",
       "...          ...             ...       ...         ...       ...  ...   \n",
       "120301  0.096560        0.019193 -2.031952    0.017381 -1.740929  ...   \n",
       "120303  0.178242        0.017860 -2.626906    0.022191  1.273752  ...   \n",
       "120304  0.203817        0.029635 -1.676314    0.031024  0.131214  ...   \n",
       "120305  0.250876        0.013786 -1.252002    0.013391 -1.450979  ...   \n",
       "120307  0.419710        0.014970  6.959700    0.014654  6.008740  ...   \n",
       "\n",
       "        pmra_pmdec_corr      ruwe  phot_g_mean_mag  phot_bp_mean_mag  \\\n",
       "0             -0.073327  1.016402        11.698828         13.272248   \n",
       "1             -0.207853  1.027965        11.143223         12.461564   \n",
       "2             -0.269784  0.878729        11.660726         12.833045   \n",
       "5             -0.356075  1.141255        12.898564         13.934713   \n",
       "7             -0.300556  0.990860        14.301030         16.053486   \n",
       "...                 ...       ...              ...               ...   \n",
       "120301        -0.341784  1.210147        12.949261         14.213318   \n",
       "120303        -0.167447  1.094765        14.231042         16.047014   \n",
       "120304        -0.327201  1.013284        15.745505         17.341608   \n",
       "120305        -0.301147  1.004389        13.510835         14.607828   \n",
       "120307        -0.194156  1.281220        11.939980         12.736773   \n",
       "\n",
       "        phot_rp_mean_mag  radial_velocity  radial_velocity_error  \\\n",
       "0              10.495563       -52.478863               0.194892   \n",
       "1              10.027846       -82.230064               0.190938   \n",
       "2              10.603519       -33.695934               0.240525   \n",
       "5              11.898685       -54.509174               0.399205   \n",
       "7              13.054741       -95.054430               1.143728   \n",
       "...                  ...              ...                    ...   \n",
       "120301         11.849603       -89.932280               0.288170   \n",
       "120303         12.963837       -46.700970               1.364495   \n",
       "120304         14.536809      -129.981540               3.498075   \n",
       "120305         12.485116       -58.779945               0.665587   \n",
       "120307         11.068843       -33.941452               0.885158   \n",
       "\n",
       "        phot_variable_flag        r_est  r_est_error  \n",
       "0            NOT_AVAILABLE  3366.324654   268.680955  \n",
       "1            NOT_AVAILABLE  2218.522428   166.209492  \n",
       "2            NOT_AVAILABLE  2941.239298   184.666593  \n",
       "5            NOT_AVAILABLE  5215.786781   296.489983  \n",
       "7            NOT_AVAILABLE  7345.948110   434.423018  \n",
       "...                    ...          ...          ...  \n",
       "120301       NOT_AVAILABLE  7044.690718   224.973532  \n",
       "120303       NOT_AVAILABLE  5245.523040   257.908378  \n",
       "120304       NOT_AVAILABLE  6156.606355   384.936252  \n",
       "120305       NOT_AVAILABLE  3918.339230   231.322373  \n",
       "120307       NOT_AVAILABLE  2381.500203   161.896710  \n",
       "\n",
       "[33919 rows x 30 columns]"
      ]
     },
     "execution_count": 202,
     "metadata": {},
     "output_type": "execute_result"
    }
   ],
   "source": [
    "gaia_ou_data[gaia_ou_data['source_id'].isin(galcen_data['source_id'])]\n"
   ]
  },
  {
   "cell_type": "code",
   "execution_count": 203,
   "metadata": {},
   "outputs": [],
   "source": [
    "icrs_data = gaia_ou_data.merge(galcen_data, on='source_id')[gaia_ou_data.columns]"
   ]
  },
  {
   "cell_type": "code",
   "execution_count": 150,
   "metadata": {},
   "outputs": [
    {
     "data": {
      "text/plain": [
       "(33919, 29)"
      ]
     },
     "execution_count": 150,
     "metadata": {},
     "output_type": "execute_result"
    }
   ],
   "source": [
    "icrs_data.shape"
   ]
  },
  {
   "cell_type": "code",
   "execution_count": 205,
   "metadata": {},
   "outputs": [
    {
     "data": {
      "text/plain": [
       "(array([], dtype=int64),)"
      ]
     },
     "execution_count": 205,
     "metadata": {},
     "output_type": "execute_result"
    }
   ],
   "source": [
    "# Check if radial velocities are NaN anywhere\n",
    "np.where(np.array(icrs_data.radial_velocity) == np.nan)"
   ]
  },
  {
   "cell_type": "code",
   "execution_count": 207,
   "metadata": {},
   "outputs": [
    {
     "data": {
      "text/plain": [
       "(array([2.000e+00, 0.000e+00, 1.000e+00, 1.000e+00, 0.000e+00, 1.000e+00,\n",
       "        1.000e+00, 0.000e+00, 1.000e+00, 0.000e+00, 2.000e+00, 1.000e+00,\n",
       "        0.000e+00, 1.000e+00, 2.000e+00, 3.000e+00, 2.000e+00, 5.000e+00,\n",
       "        1.000e+00, 3.000e+00, 6.000e+00, 3.000e+00, 2.000e+00, 8.000e+00,\n",
       "        3.000e+00, 8.000e+00, 1.100e+01, 1.500e+01, 1.500e+01, 2.600e+01,\n",
       "        4.000e+01, 5.500e+01, 8.500e+01, 1.230e+02, 2.070e+02, 2.730e+02,\n",
       "        3.540e+02, 5.600e+02, 7.310e+02, 8.960e+02, 1.082e+03, 1.226e+03,\n",
       "        1.374e+03, 1.528e+03, 1.690e+03, 1.671e+03, 1.785e+03, 1.737e+03,\n",
       "        1.728e+03, 1.679e+03, 1.689e+03, 1.573e+03, 1.471e+03, 1.391e+03,\n",
       "        1.294e+03, 1.185e+03, 1.012e+03, 9.100e+02, 8.450e+02, 7.880e+02,\n",
       "        6.510e+02, 5.210e+02, 4.370e+02, 3.220e+02, 2.480e+02, 1.860e+02,\n",
       "        1.420e+02, 8.900e+01, 5.100e+01, 4.100e+01, 1.700e+01, 1.000e+01,\n",
       "        9.000e+00, 6.000e+00, 5.000e+00, 2.000e+00, 3.000e+00, 5.000e+00,\n",
       "        7.000e+00, 7.000e+00, 1.400e+01, 1.200e+01, 8.000e+00, 5.000e+00,\n",
       "        6.000e+00, 1.000e+00, 2.000e+00, 0.000e+00, 1.000e+00, 2.000e+00,\n",
       "        1.000e+00, 1.000e+00, 0.000e+00, 0.000e+00, 0.000e+00, 0.000e+00,\n",
       "        0.000e+00, 0.000e+00, 0.000e+00, 1.000e+00]),\n",
       " array([-380.23218  , -372.6724867, -365.1127934, -357.5531001,\n",
       "        -349.9934068, -342.4337135, -334.8740202, -327.3143269,\n",
       "        -319.7546336, -312.1949403, -304.635247 , -297.0755537,\n",
       "        -289.5158604, -281.9561671, -274.3964738, -266.8367805,\n",
       "        -259.2770872, -251.7173939, -244.1577006, -236.5980073,\n",
       "        -229.038314 , -221.4786207, -213.9189274, -206.3592341,\n",
       "        -198.7995408, -191.2398475, -183.6801542, -176.1204609,\n",
       "        -168.5607676, -161.0010743, -153.441381 , -145.8816877,\n",
       "        -138.3219944, -130.7623011, -123.2026078, -115.6429145,\n",
       "        -108.0832212, -100.5235279,  -92.9638346,  -85.4041413,\n",
       "         -77.844448 ,  -70.2847547,  -62.7250614,  -55.1653681,\n",
       "         -47.6056748,  -40.0459815,  -32.4862882,  -24.9265949,\n",
       "         -17.3669016,   -9.8072083,   -2.247515 ,    5.3121783,\n",
       "          12.8718716,   20.4315649,   27.9912582,   35.5509515,\n",
       "          43.1106448,   50.6703381,   58.2300314,   65.7897247,\n",
       "          73.349418 ,   80.9091113,   88.4688046,   96.0284979,\n",
       "         103.5881912,  111.1478845,  118.7075778,  126.2672711,\n",
       "         133.8269644,  141.3866577,  148.946351 ,  156.5060443,\n",
       "         164.0657376,  171.6254309,  179.1851242,  186.7448175,\n",
       "         194.3045108,  201.8642041,  209.4238974,  216.9835907,\n",
       "         224.543284 ,  232.1029773,  239.6626706,  247.2223639,\n",
       "         254.7820572,  262.3417505,  269.9014438,  277.4611371,\n",
       "         285.0208304,  292.5805237,  300.140217 ,  307.6999103,\n",
       "         315.2596036,  322.8192969,  330.3789902,  337.9386835,\n",
       "         345.4983768,  353.0580701,  360.6177634,  368.1774567,\n",
       "         375.73715  ]),\n",
       " <BarContainer object of 100 artists>)"
      ]
     },
     "execution_count": 207,
     "metadata": {},
     "output_type": "execute_result"
    },
    {
     "data": {
      "image/png": "[encoded data removed]",
      "text/plain": [
       "<Figure size 432x288 with 1 Axes>"
      ]
     },
     "metadata": {
      "needs_background": "light"
     },
     "output_type": "display_data"
    }
   ],
   "source": [
    "plt.hist(icrs_data.radial_velocity, 100)"
   ]
  },
  {
   "cell_type": "code",
   "execution_count": 190,
   "metadata": {},
   "outputs": [
    {
     "data": {
      "text/plain": [
       "Index(['source_id', 'ra', 'ra_error', 'dec', 'dec_error', 'parallax',\n",
       "       'parallax_error', 'pmra', 'pmra_error', 'pmdec', 'pmdec_error',\n",
       "       'ra_dec_corr', 'ra_parallax_corr', 'ra_pmra_corr', 'ra_pmdec_corr',\n",
       "       'dec_parallax_corr', 'dec_pmra_corr', 'dec_pmdec_corr',\n",
       "       'parallax_pmra_corr', 'parallax_pmdec_corr', 'pmra_pmdec_corr', 'ruwe',\n",
       "       'phot_g_mean_mag', 'phot_bp_mean_mag', 'phot_rp_mean_mag',\n",
       "       'radial_velocity', 'radial_velocity_error', 'phot_variable_flag',\n",
       "       'r_est', 'r_est_error'],\n",
       "      dtype='object')"
      ]
     },
     "execution_count": 190,
     "metadata": {},
     "output_type": "execute_result"
    }
   ],
   "source": [
    "icrs_data.columns"
   ]
  },
  {
   "cell_type": "code",
   "execution_count": 211,
   "metadata": {},
   "outputs": [
    {
     "data": {
      "text/plain": [
       "(array([1.000e+00, 0.000e+00, 0.000e+00, 0.000e+00, 1.000e+00, 0.000e+00,\n",
       "        0.000e+00, 0.000e+00, 0.000e+00, 0.000e+00, 0.000e+00, 0.000e+00,\n",
       "        4.600e+01, 3.204e+03, 6.553e+03, 6.324e+03, 5.112e+03, 3.638e+03,\n",
       "        2.659e+03, 1.805e+03, 1.256e+03, 8.820e+02, 6.450e+02, 4.590e+02,\n",
       "        3.380e+02, 2.420e+02, 1.550e+02, 1.110e+02, 9.900e+01, 7.100e+01,\n",
       "        6.000e+01, 3.100e+01, 2.900e+01, 3.700e+01, 2.100e+01, 2.000e+01,\n",
       "        1.800e+01, 1.100e+01, 9.000e+00, 7.000e+00, 5.000e+00, 9.000e+00,\n",
       "        7.000e+00, 7.000e+00, 4.000e+00, 4.000e+00, 2.000e+00, 4.000e+00,\n",
       "        4.000e+00, 3.000e+00, 2.000e+00, 5.000e+00, 0.000e+00, 4.000e+00,\n",
       "        0.000e+00, 1.000e+00, 1.000e+00, 1.000e+00, 1.000e+00, 0.000e+00,\n",
       "        1.000e+00, 0.000e+00, 1.000e+00, 0.000e+00, 0.000e+00, 1.000e+00,\n",
       "        1.000e+00, 1.000e+00, 1.000e+00, 1.000e+00, 1.000e+00, 0.000e+00,\n",
       "        1.000e+00, 0.000e+00, 0.000e+00, 0.000e+00, 0.000e+00, 0.000e+00,\n",
       "        0.000e+00, 0.000e+00, 0.000e+00, 0.000e+00, 0.000e+00, 0.000e+00,\n",
       "        1.000e+00, 0.000e+00, 0.000e+00, 0.000e+00, 0.000e+00, 0.000e+00,\n",
       "        0.000e+00, 0.000e+00, 0.000e+00, 0.000e+00, 0.000e+00, 0.000e+00,\n",
       "        0.000e+00, 0.000e+00, 0.000e+00, 1.000e+00]),\n",
       " array([-625.04322346, -574.95665029, -524.87007713, -474.78350396,\n",
       "        -424.6969308 , -374.61035763, -324.52378447, -274.4372113 ,\n",
       "        -224.35063814, -174.26406497, -124.17749181,  -74.09091864,\n",
       "         -24.00434548,   26.08222769,   76.16880085,  126.25537402,\n",
       "         176.34194718,  226.42852034,  276.51509351,  326.60166667,\n",
       "         376.68823984,  426.774813  ,  476.86138617,  526.94795933,\n",
       "         577.0345325 ,  627.12110566,  677.20767883,  727.29425199,\n",
       "         777.38082516,  827.46739832,  877.55397149,  927.64054465,\n",
       "         977.72711782, 1027.81369098, 1077.90026415, 1127.98683731,\n",
       "        1178.07341048, 1228.15998364, 1278.24655681, 1328.33312997,\n",
       "        1378.41970314, 1428.5062763 , 1478.59284947, 1528.67942263,\n",
       "        1578.7659958 , 1628.85256896, 1678.93914213, 1729.02571529,\n",
       "        1779.11228846, 1829.19886162, 1879.28543479, 1929.37200795,\n",
       "        1979.45858112, 2029.54515428, 2079.63172745, 2129.71830061,\n",
       "        2179.80487378, 2229.89144694, 2279.97802011, 2330.06459327,\n",
       "        2380.15116644, 2430.2377396 , 2480.32431277, 2530.41088593,\n",
       "        2580.4974591 , 2630.58403226, 2680.67060543, 2730.75717859,\n",
       "        2780.84375176, 2830.93032492, 2881.01689809, 2931.10347125,\n",
       "        2981.19004442, 3031.27661758, 3081.36319075, 3131.44976391,\n",
       "        3181.53633708, 3231.62291024, 3281.70948341, 3331.79605657,\n",
       "        3381.88262974, 3431.9692029 , 3482.05577607, 3532.14234923,\n",
       "        3582.2289224 , 3632.31549556, 3682.40206873, 3732.48864189,\n",
       "        3782.57521506, 3832.66178822, 3882.74836139, 3932.83493455,\n",
       "        3982.92150772, 4033.00808088, 4083.09465405, 4133.18122721,\n",
       "        4183.26780038, 4233.35437354, 4283.44094671, 4333.52751987,\n",
       "        4383.61409304]),\n",
       " <BarContainer object of 100 artists>)"
      ]
     },
     "execution_count": 211,
     "metadata": {},
     "output_type": "execute_result"
    },
    {
     "data": {
      "image/png": "[encoded data removed]",
      "text/plain": [
       "<Figure size 432x288 with 1 Axes>"
      ]
     },
     "metadata": {
      "needs_background": "light"
     },
     "output_type": "display_data"
    }
   ],
   "source": [
    "plt.hist(icrs_data.r_est_error, 100)"
   ]
  },
  {
   "cell_type": "code",
   "execution_count": 230,
   "metadata": {},
   "outputs": [
    {
     "data": {
      "text/plain": [
       "25191.478452255113"
      ]
     },
     "execution_count": 230,
     "metadata": {},
     "output_type": "execute_result"
    }
   ],
   "source": [
    "np.max(galcen_data.r)"
   ]
  },
  {
   "cell_type": "code",
   "execution_count": 209,
   "metadata": {},
   "outputs": [],
   "source": [
    "icrs_data.to_csv('/scratch/local/sven/ou_icrs_sample.csv', index=False)"
   ]
  },
  {
   "cell_type": "markdown",
   "metadata": {},
   "source": [
    "# Bin Collection Test"
   ]
  },
  {
   "cell_type": "code",
   "execution_count": 247,
   "metadata": {},
   "outputs": [],
   "source": [
    "path = '/scratch/local/sven/ou_icrs_sample.csv'\n",
    "gaia_ou_sample = pd.read_csv(path)"
   ]
  },
  {
   "cell_type": "code",
   "execution_count": 252,
   "metadata": {},
   "outputs": [],
   "source": [
    "import sys\n",
    "sys.path.append(\"../../gaia_tools/\")\n",
    "sys.path.append(\"../../scripts/\")\n",
    "from covariance_generation import generate_galactocentric_covmat, transform_cov_cylindirical\n",
    "import covariance_generation\n",
    "from mcmc_plots import *\n",
    "import data_analysis\n",
    "import transformation_constants\n",
    "import helper_functions as helpfunc\n",
    "import numpy as np\n",
    "\n",
    "import transformation_functions\n",
    "\n",
    "r_0 = 8500\n",
    "z_0 = 20.8\n",
    "v_sun = np.array([[5.1], \n",
    "                  [247.3], \n",
    "                  [7.8]])\n",
    "\n",
    "galcen_data = transformation_functions.get_transformed_data(gaia_data_in,\n",
    "                        include_cylindrical = True,\n",
    "                        z_0 = z_0,\n",
    "                        r_0 = r_0,\n",
    "                        v_sun = v_sun,\n",
    "                        is_bayes = True,\n",
    "                        is_output_frame = False,\n",
    "                        is_source_included = False)\n",
    "\n",
    "source_id = np.array([gaia_ou_data.source_id], dtype=np.int64).T\n",
    "\n",
    "columns = ['x', 'y', 'z', 'v_x', 'v_y', 'v_z', 'r', 'phi', 'v_r', 'v_phi']\n",
    "galcen_data = pd.DataFrame(galcen_data, columns=columns)\n",
    "galcen_data['source_id'] = source_id"
   ]
  },
  {
   "cell_type": "code",
   "execution_count": null,
   "metadata": {},
   "outputs": [],
   "source": []
  },
  {
   "cell_type": "code",
   "execution_count": 253,
   "metadata": {},
   "outputs": [
    {
     "name": "stdout",
     "output_type": "stream",
     "text": [
      "Binning data from galactocentric input data...\n",
      "Max r value in DataFrame 476588.1079768559\n",
      "Points drifted in r + direction 0\n",
      "Points drifted in r - direction 120309\n",
      "Time elapsed for binning data with collapsed bins: 0.08251550499699079 sec\n"
     ]
    }
   ],
   "source": [
    "r_min = 6000/8178\n",
    "r_max = 25500/8178\n",
    "\n",
    "bin_collection = data_analysis.get_collapsed_bins(data = galcen_data,\n",
    "                                                         theta = r_0,\n",
    "                                                         BL_r_min = r_min,\n",
    "                                                         BL_r_max = r_max,\n",
    "                                                         BL_z_min = -1000,\n",
    "                                                         BL_z_max = 1000,\n",
    "                                                         N_bins = (10, 1),\n",
    "                                                         r_drift = True,\n",
    "                                                         debug = True)"
   ]
  },
  {
   "cell_type": "code",
   "execution_count": 254,
   "metadata": {},
   "outputs": [
    {
     "name": "stdout",
     "output_type": "stream",
     "text": [
      "8648\n",
      "13374\n",
      "12850\n",
      "8119\n",
      "2534\n",
      "637\n",
      "283\n",
      "129\n",
      "34\n",
      "14\n"
     ]
    }
   ],
   "source": [
    "for bin in bin_collection.bins:\n",
    "    print(len(bin.data))"
   ]
  }
 ],
 "metadata": {
  "kernelspec": {
   "display_name": "dspn_env",
   "language": "python",
   "name": "python3"
  },
  "language_info": {
   "codemirror_mode": {
    "name": "ipython",
    "version": 3
   },
   "file_extension": ".py",
   "mimetype": "text/x-python",
   "name": "python",
   "nbconvert_exporter": "python",
   "pygments_lexer": "ipython3",
   "version": "3.6.8"
  }
 },
 "nbformat": 4,
 "nbformat_minor": 2
}
