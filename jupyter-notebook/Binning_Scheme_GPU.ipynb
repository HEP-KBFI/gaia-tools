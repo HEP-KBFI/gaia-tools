{
 "cells": [
  {
   "cell_type": "code",
   "execution_count": 106,
   "metadata": {},
   "outputs": [],
   "source": [
    "import cupy as cp\n",
    "import pandas as pd\n",
    "import numpy as np\n",
    "from numba import jit\n",
    "\n",
    "# Disable if running on GPU\n",
    "from numba import jit, config\n",
    "config.DISABLE_JIT = True\n",
    "import cProfile\n",
    "import sys\n",
    "sys.path.append(\"../gaia_tools/\")\n",
    "import transformation_constants\n",
    "import transformation_functions\n",
    "import data_analysis\n",
    "import covariance_generation as cov"
   ]
  },
  {
   "cell_type": "code",
   "execution_count": 67,
   "metadata": {},
   "outputs": [
    {
     "name": "stdout",
     "output_type": "stream",
     "text": [
      "Grabbing needed columns\n",
      "Importing DR3\n"
     ]
    }
   ],
   "source": [
    "print('Grabbing needed columns')\n",
    "icrs_data = pd.read_csv('/home/svenpoder/DATA/Gaia_2MASS Data_DR2/gaia_rv_data_bayes.csv', nrows = 10)\n",
    "print('Importing DR3')\n",
    "path = '/home/svenpoder/DATA/Gaia_DR3/GaiaDR3_RV_RGB_fidelity.csv'\n",
    "gaia_dr3 = pd.read_csv(path)\n",
    "icrs_data = gaia_dr3[icrs_data.columns]"
   ]
  },
  {
   "cell_type": "code",
   "execution_count": 68,
   "metadata": {},
   "outputs": [
    {
     "name": "stdout",
     "output_type": "stream",
     "text": [
      "Starting galactocentric transformation loop over all data points.. \n",
      "Time elapsed for data coordinate transformation: 2.6086947309959214 sec\n",
      "Final size of sample (1694972, 11)\n"
     ]
    }
   ],
   "source": [
    "## TRANSFORMATION CONSTANTS\n",
    "v_sun = transformation_constants.V_SUN\n",
    "\n",
    "r_0 = 8277.0\n",
    "z_0 = 25.0\n",
    "\n",
    "v_sun[0][0] = 11.1\n",
    "v_sun[1][0] = 251.5*(r_0/8277)\n",
    "v_sun[2][0] = 8.59*(r_0/8277)\n",
    "\n",
    "\n",
    "## APPLY INITIAL CUT\n",
    "galcen_data = data_analysis.get_transformed_data(icrs_data,\n",
    "                                       include_cylindrical = True,\n",
    "                                       z_0 = z_0,\n",
    "                                       r_0 = r_0,\n",
    "                                       v_sun = v_sun,\n",
    "                                       debug = True,\n",
    "                                       is_bayes = True,\n",
    "                                       is_source_included = True)\n",
    "\n",
    "galcen_data = galcen_data[(galcen_data.r < 15000) & (galcen_data.r > 5000)]\n",
    "galcen_data = galcen_data[(galcen_data.z < 200) & (galcen_data.z > -200)]\n",
    "galcen_data.reset_index(inplace=True, drop=True)\n",
    "\n",
    "## DECLARE FINAL INPUT DATA\n",
    "icrs_data = icrs_data.merge(galcen_data, on='source_id')[icrs_data.columns]\n",
    "print(\"Final size of sample {}\".format(galcen_data.shape))"
   ]
  },
  {
   "cell_type": "code",
   "execution_count": 69,
   "metadata": {},
   "outputs": [],
   "source": [
    "# Generate covariance matrices for INPUT\n",
    "C_icrs = cov.generate_covmat(icrs_data)"
   ]
  },
  {
   "cell_type": "code",
   "execution_count": 70,
   "metadata": {},
   "outputs": [],
   "source": [
    "# Declare backend\n",
    "NUMPY_LIB = cp\n",
    "dtype = cp.float32"
   ]
  },
  {
   "cell_type": "code",
   "execution_count": 71,
   "metadata": {},
   "outputs": [],
   "source": [
    "# Export INPUT to GPU with needed columns\n",
    "trans_needed_columns = ['source_id', 'ra', 'dec', 'r_est', 'pmra', 'pmdec', 'radial_velocity',]\n",
    "icrs_data = NUMPY_LIB.asarray(icrs_data[trans_needed_columns], dtype=cp.float32)\n",
    "C_icrs = NUMPY_LIB.asarray(C_icrs, dtype=cp.float32)"
   ]
  },
  {
   "cell_type": "code",
   "execution_count": 72,
   "metadata": {},
   "outputs": [],
   "source": [
    "def transform_all(icrs_data, C_icrs, r_0, z_0, v_sun):\n",
    "\n",
    "    r_0 = r_0\n",
    "    z_0 = z_0\n",
    "    v_sun = v_sun\n",
    "\n",
    "    galcen_data = transformation_functions.get_transformed_data(icrs_data,\n",
    "                                        include_cylindrical = True,\n",
    "                                        z_0 = z_0,\n",
    "                                        r_0 = r_0,\n",
    "                                        v_sun = v_sun,\n",
    "                                        debug = True,\n",
    "                                        is_bayes = True,\n",
    "                                        is_source_included = True, \n",
    "                                        NUMPY_LIB = NUMPY_LIB,\n",
    "                                        dtype = dtype)\n",
    "\n",
    "    # [\"ra\", \"dec\",\"r_est\",\"pmra\",\"pmdec\",\"radial_velocity\"] -> [:,1::]\n",
    "    galactocentric_cov = cov.transform_cov_matrix(C = C_icrs, \n",
    "                                        df = icrs_data[:,1::],\n",
    "                                        coordinate_system = 'Cartesian',\n",
    "                                        z_0 = z_0,\n",
    "                                        r_0 = r_0,\n",
    "                                        is_bayes = True,\n",
    "                                        NUMPY_LIB = NUMPY_LIB,\n",
    "                                        dtype = dtype)\n",
    "\n",
    "    # [\"x\", \"y\",\"r\",\"phi\",\"v_r\",\"v_phi\"] -> [0,1,6,7,8,9]\n",
    "    cyl_cov_gpu = cov.transform_cov_matrix(C = galactocentric_cov, \n",
    "                                        df = galcen_data[:,[0,1,6,7,8,9]],\n",
    "                                        coordinate_system = 'Cylindrical',\n",
    "                                        z_0 = z_0,\n",
    "                                        r_0 = r_0,\n",
    "                                        is_bayes = False,\n",
    "                                        NUMPY_LIB = NUMPY_LIB,\n",
    "                                        dtype = dtype)\n",
    "\n",
    "    sig_vphi = NUMPY_LIB.array([cyl_cov_gpu[:,4,4]])\n",
    "    sig_vr = NUMPY_LIB.array([cyl_cov_gpu[:,3,3]])\n",
    "    source_id = NUMPY_LIB.array([icrs_data[:,0]])\n",
    "    galcen_data = NUMPY_LIB.concatenate(([galcen_data, sig_vphi.T, sig_vr.T, source_id.T]), axis=1)\n",
    "\n",
    "    final_data_columns = ['x', 'y', 'z', 'v_x', 'v_y', 'v_z', 'r', 'phi', 'v_r', 'v_phi',\n",
    "                'sig_vphi', 'sig_vr', 'source_id']\n",
    "    \n",
    "    galcen_data = pd.DataFrame(galcen_data.get(), columns=final_data_columns)\n",
    "\n",
    "    return galcen_data"
   ]
  },
  {
   "cell_type": "code",
   "execution_count": 105,
   "metadata": {},
   "outputs": [
    {
     "name": "stdout",
     "output_type": "stream",
     "text": [
      "Old Binning Scheme\n",
      "\n",
      "\n",
      "R0 = 7800.0\n",
      "Total number of stars across bins: 1694405\n",
      "Bins of increasing r --->\n",
      "| 421896 | 473551 | 301729 | 181148 | 127575 | 66097 | 24010 | 7420 | 2294 | 512 \n",
      "\n",
      "R0 = 8033.333333333333\n",
      "Total number of stars across bins: 1606232\n",
      "Bins of increasing r --->\n",
      "| 361744 | 497503 | 336750 | 198459 | 138791 | 80062 | 30642 | 9699 | 2939 | 829 \n",
      "\n",
      "R0 = 8266.666666666666\n",
      "Total number of stars across bins: 1657418\n",
      "Bins of increasing r --->\n",
      "| 289906 | 505365 | 378622 | 220442 | 148362 | 94167 | 38877 | 12873 | 3780 | 1223 \n",
      "\n",
      "R0 = 8277\n",
      "Total number of stars across bins: 1693617\n",
      "Bins of increasing r --->\n",
      "| 286717 | 505320 | 380277 | 221674 | 148818 | 94771 | 39324 | 12991 | 3829 | 1250 \n",
      "\n",
      "R0 = 8500.0\n",
      "Total number of stars across bins: 1694971\n",
      "Bins of increasing r --->\n",
      "| 194393 | 487644 | 421778 | 251837 | 157863 | 108469 | 49047 | 16710 | 4938 | 1583 \n",
      "\n"
     ]
    }
   ],
   "source": [
    "r0_range = [x for x in np.linspace(7800, 8500, 4)]\n",
    "r0_range.append(8277)\n",
    "r0_range.sort()\n",
    "r0_range\n",
    "print('Old Binning Scheme')\n",
    "print('\\n')\n",
    "for r_0 in r0_range:\n",
    "    galcen_data = transform_all(icrs_data, C_icrs, r_0, z_0, v_sun)\n",
    "    bin_collection = data_analysis.get_collapsed_bins(data = galcen_data,\n",
    "                                                        theta = (0, 1),\n",
    "                                                        BL_r_min = 5000,\n",
    "                                                        BL_r_max = 15000,\n",
    "                                                        BL_z_min = -200,\n",
    "                                                        BL_z_max = 200,\n",
    "                                                        N_bins = (10, 1),\n",
    "                                                        r_drift = False,\n",
    "                                                        debug = False)\n",
    "\n",
    "\n",
    "    print('R0 = {}'.format(r_0))\n",
    "    print('Total number of stars across bins: {}'.format(i))\n",
    "    print('Bins of increasing r --->')                                                 \n",
    "    i = 0\n",
    "    for bin in bin_collection.bins:\n",
    "        n_bin = len(bin.data)\n",
    "        print('| {}'.format(n_bin), end=\" \")\n",
    "        i += n_bin\n",
    "    print('\\n')\n",
    "    "
   ]
  },
  {
   "cell_type": "code",
   "execution_count": 102,
   "metadata": {},
   "outputs": [
    {
     "data": {
      "text/plain": [
       "[7800.0, 8033.333333333333, 8266.666666666666, 8277, 8500.0]"
      ]
     },
     "execution_count": 102,
     "metadata": {},
     "output_type": "execute_result"
    }
   ],
   "source": [
    "r0_range = [x for x in np.linspace(7800, 8500, 4)]\n",
    "r0_range.append(8277)\n",
    "r0_range.sort()\n",
    "r0_range"
   ]
  },
  {
   "cell_type": "code",
   "execution_count": 104,
   "metadata": {},
   "outputs": [
    {
     "name": "stdout",
     "output_type": "stream",
     "text": [
      "New Binning Scheme\n",
      "\n",
      "\n",
      "R0 = 7800.0\n",
      "Total number of stars across bins: 1694959\n",
      "Bins of increasing r/r_0 --->\n",
      "| 315339 | 474126 | 352513 | 215600 | 144123 | 97850 | 45352 | 16419 | 5230 | 1787 \n",
      "\n",
      "R0 = 8033.333333333333\n",
      "Total number of stars across bins: 1668339\n",
      "Bins of increasing r/r_0 --->\n",
      "| 302118 | 489972 | 365885 | 218616 | 146431 | 96449 | 42272 | 14651 | 4517 | 1501 \n",
      "\n",
      "R0 = 8266.666666666666\n",
      "Total number of stars across bins: 1682412\n",
      "Bins of increasing r/r_0 --->\n",
      "| 287317 | 504700 | 379694 | 221508 | 148754 | 94813 | 39449 | 13068 | 3864 | 1262 \n",
      "\n",
      "R0 = 8277\n",
      "Total number of stars across bins: 1694429\n",
      "Bins of increasing r/r_0 --->\n",
      "| 286717 | 505320 | 380277 | 221674 | 148818 | 94771 | 39324 | 12991 | 3829 | 1250 \n",
      "\n",
      "R0 = 8500.0\n",
      "Total number of stars across bins: 1694971\n",
      "Bins of increasing r/r_0 --->\n",
      "| 261846 | 518004 | 393706 | 224622 | 150564 | 93132 | 36700 | 11592 | 3317 | 922 \n",
      "\n"
     ]
    }
   ],
   "source": [
    "r0_range = [x for x in np.linspace(7800, 8500, 4)]\n",
    "r0_range.append(8277)\n",
    "r0_range.sort()\n",
    "\n",
    "print('New Binning Scheme')\n",
    "print('\\n')\n",
    "for r_0 in r0_range:\n",
    "    galcen_data = transform_all(icrs_data, C_icrs, r_0, z_0, v_sun)\n",
    "\n",
    "    galcen_data['r_orig'] = galcen_data.r\n",
    "    galcen_data['r'] = galcen_data.r/r_0 \n",
    "\n",
    "    r_min = 5000/8277\n",
    "    r_max = 15000/8277\n",
    "\n",
    "\n",
    "    bin_collection = data_analysis.get_collapsed_bins(data = galcen_data,\n",
    "                                                        theta = (0, 1),\n",
    "                                                        BL_r_min = r_min,\n",
    "                                                        BL_r_max = r_max,\n",
    "                                                        BL_z_min = -200,\n",
    "                                                        BL_z_max = 200,\n",
    "                                                        N_bins = (10, 1),\n",
    "                                                        r_drift = False,\n",
    "                                                        debug = False)\n",
    "    print('R0 = {}'.format(r_0))\n",
    "    print('Total number of stars across bins: {}'.format(i))                                                 \n",
    "    print('Bins of increasing r/r_0 --->')\n",
    "    i = 0\n",
    "    for bin in bin_collection.bins:\n",
    "        n_bin = len(bin.data)\n",
    "        print('| {}'.format(n_bin), end=\" \")\n",
    "        i += n_bin\n",
    "    print('\\n')\n",
    "    "
   ]
  },
  {
   "cell_type": "code",
   "execution_count": null,
   "metadata": {},
   "outputs": [],
   "source": []
  },
  {
   "cell_type": "code",
   "execution_count": 130,
   "metadata": {},
   "outputs": [],
   "source": [
    "from scipy import stats\n",
    "from BinCollection import BinCollection\n",
    "from Bin import Bin"
   ]
  },
  {
   "cell_type": "code",
   "execution_count": 117,
   "metadata": {},
   "outputs": [],
   "source": [
    "for i in range(100):\n",
    "    bin_collection = data_analysis.get_collapsed_bins(data = galcen_data,\n",
    "                                                        theta = (0, 1),\n",
    "                                                        BL_r_min = 5000,\n",
    "                                                        BL_r_max = 15000,\n",
    "                                                        BL_z_min = -200,\n",
    "                                                        BL_z_max = 200,\n",
    "                                                        N_bins = (10, 1),\n",
    "                                                        r_drift = False,\n",
    "                                                        debug = False)"
   ]
  },
  {
   "cell_type": "code",
   "execution_count": 127,
   "metadata": {},
   "outputs": [],
   "source": [
    "def get_collapsed_bins(data, theta, BL_r_min, BL_r_max, BL_z_min, BL_z_max, N_bins = (10, 10), r_drift = False, debug=False):\n",
    "\n",
    "\n",
    "    # This assertion doesnt make sense, fix it later\n",
    "    assert len(data.shape) > 0, \"No data!\"\n",
    "\n",
    "    if not 'r' or 'phi' in data.index:\n",
    "        print(\"No cylindrical coordinates found!\")\n",
    "        return\n",
    "\n",
    "    # r and z parameters of points loaded into Series\n",
    "    r = data.r\n",
    "    z = data.z\n",
    "\n",
    "    # Velocity projections of points: NOT NEEDED\n",
    "    c = data.v_phi\n",
    "\n",
    "    # Calling the actual binning function\n",
    "    H, xedges, yedges, binnumber = stats.binned_statistic_2d(r, z, values = c, range = [[BL_r_min, BL_r_max], [BL_z_min, BL_z_max]], bins=N_bins, statistic='mean')\n",
    "\n",
    "    print(H.shape)\n",
    "\n",
    "    # Create a meshgrid from the vertices: X, Y -> R, Z\n",
    "    XX, YY = np.meshgrid(xedges, yedges)\n",
    "\n",
    "    # Assign a binnumber for each data entry\n",
    "    data['Bin_index'] = binnumber\n",
    "\n",
    "    # Instantiate a BinCollection object\n",
    "    bin_collection = BinCollection(data, N_bins, XX, YY, YY, mode='r-z')\n",
    "\n",
    "    # Generate the bins with respective r-z boundaries\n",
    "    bin_collection.GenerateBins()\n",
    "\n",
    "    \n",
    "    return bin_collection"
   ]
  },
  {
   "cell_type": "code",
   "execution_count": 129,
   "metadata": {},
   "outputs": [
    {
     "name": "stdout",
     "output_type": "stream",
     "text": [
      "(10, 1)\n"
     ]
    }
   ],
   "source": [
    "bin_collection = get_collapsed_bins(data = galcen_data,\n",
    "                                    theta = (0, 1),\n",
    "                                    BL_r_min = 5000,\n",
    "                                    BL_r_max = 15000,\n",
    "                                    BL_z_min = -200,\n",
    "                                    BL_z_max = 200,\n",
    "                                    N_bins = (10, 1),\n",
    "                                    r_drift = False,\n",
    "                                    debug = False)"
   ]
  },
  {
   "cell_type": "code",
   "execution_count": 133,
   "metadata": {},
   "outputs": [
    {
     "data": {
      "text/plain": [
       "array([  8.08716774,   8.99738312,   8.74559402, ..., 203.26690674,\n",
       "       195.06918335, 208.01971436])"
      ]
     },
     "execution_count": 133,
     "metadata": {},
     "output_type": "execute_result"
    }
   ],
   "source": [
    "galcen_data.to_numpy()[:,1]"
   ]
  },
  {
   "cell_type": "code",
   "execution_count": 135,
   "metadata": {},
   "outputs": [
    {
     "ename": "IndexError",
     "evalue": "only integers, slices (`:`), ellipsis (`...`), numpy.newaxis (`None`) and integer or boolean arrays are valid indices",
     "output_type": "error",
     "traceback": [
      "\u001b[0;31m---------------------------------------------------------------------------\u001b[0m",
      "\u001b[0;31mIndexError\u001b[0m                                Traceback (most recent call last)",
      "Cell \u001b[0;32mIn [135], line 23\u001b[0m\n\u001b[1;32m     16\u001b[0m \u001b[39mfor\u001b[39;00m j \u001b[39min\u001b[39;00m \u001b[39mrange\u001b[39m(hist\u001b[39m.\u001b[39mshape[\u001b[39m1\u001b[39m]):\n\u001b[1;32m     17\u001b[0m \n\u001b[1;32m     18\u001b[0m \n\u001b[1;32m     19\u001b[0m     \u001b[39m# Create a data subset for the current bin by selecting all points within the bin's boundaries\u001b[39;00m\n\u001b[1;32m     20\u001b[0m     data_subset \u001b[39m=\u001b[39m data[(r_array \u001b[39m>\u001b[39m\u001b[39m=\u001b[39m xedges[i]) \u001b[39m&\u001b[39m (r_array \u001b[39m<\u001b[39m xedges[i\u001b[39m+\u001b[39m\u001b[39m1\u001b[39m]) \u001b[39m&\u001b[39m\n\u001b[1;32m     21\u001b[0m                        (z_array \u001b[39m>\u001b[39m\u001b[39m=\u001b[39m yedges[j]) \u001b[39m&\u001b[39m (z_array \u001b[39m<\u001b[39m yedges[j\u001b[39m+\u001b[39m\u001b[39m1\u001b[39m])]\n\u001b[0;32m---> 23\u001b[0m     data_subset[\u001b[39m\"\u001b[39;49m\u001b[39mBin_index\u001b[39;49m\u001b[39m\"\u001b[39;49m] \u001b[39m=\u001b[39m bin_index\n\u001b[1;32m     24\u001b[0m     \u001b[39m# Create a Bin object for the current data subset and append it to the list\u001b[39;00m\n\u001b[1;32m     25\u001b[0m     bins\u001b[39m.\u001b[39mappend(Bin(data_subset))\n",
      "\u001b[0;31mIndexError\u001b[0m: only integers, slices (`:`), ellipsis (`...`), numpy.newaxis (`None`) and integer or boolean arrays are valid indices"
     ]
    }
   ],
   "source": [
    "\n",
    "r_array = (galcen_data.r).to_numpy()\n",
    "z_array = (galcen_data.z).to_numpy()\n",
    "data = galcen_data.to_numpy()\n",
    "\n",
    "# Set the number of bins for each dimension\n",
    "nbins = (10, 10)\n",
    "\n",
    "# Use numpy's histogram2d function to bin the data\n",
    "hist, xedges, yedges = np.histogram2d(r_array, z_array, bins=nbins)\n",
    "\n",
    "# Initialize an empty list to store the Bin objects\n",
    "bins = []\n",
    "bin_index = 0\n",
    "# Iterate through the bins and create a Bin object for each one\n",
    "for i in range(hist.shape[0]):\n",
    "    for j in range(hist.shape[1]):\n",
    "\n",
    "\n",
    "        # Create a data subset for the current bin by selecting all points within the bin's boundaries\n",
    "        data_subset = data[(r_array >= xedges[i]) & (r_array < xedges[i+1]) &\n",
    "                           (z_array >= yedges[j]) & (z_array < yedges[j+1])]\n",
    "\n",
    "        data_subset[\"Bin_index\"] = bin_index\n",
    "        # Create a Bin object for the current data subset and append it to the list\n",
    "        bins.append(Bin(data_subset))\n",
    "        bin_index+=1\n",
    "\n",
    "# Now you have a list of Bin objects, one for each bin in the histogram\n"
   ]
  },
  {
   "cell_type": "code",
   "execution_count": null,
   "metadata": {},
   "outputs": [],
   "source": []
  },
  {
   "cell_type": "code",
   "execution_count": null,
   "metadata": {},
   "outputs": [],
   "source": []
  },
  {
   "cell_type": "code",
   "execution_count": 113,
   "metadata": {},
   "outputs": [
    {
     "ename": "ValueError",
     "evalue": "setting an array element with a sequence.",
     "output_type": "error",
     "traceback": [
      "\u001b[0;31m---------------------------------------------------------------------------\u001b[0m",
      "\u001b[0;31mTypeError\u001b[0m                                 Traceback (most recent call last)",
      "\u001b[0;31mTypeError\u001b[0m: float() argument must be a string or a number, not 'tuple'",
      "\nThe above exception was the direct cause of the following exception:\n",
      "\u001b[0;31mValueError\u001b[0m                                Traceback (most recent call last)",
      "Cell \u001b[0;32mIn [113], line 2\u001b[0m\n\u001b[1;32m      1\u001b[0m \u001b[39mfor\u001b[39;00m i \u001b[39min\u001b[39;00m \u001b[39mrange\u001b[39m(\u001b[39m50\u001b[39m):\n\u001b[0;32m----> 2\u001b[0m     H, xedges, yedges, binnumber \u001b[39m=\u001b[39m stats\u001b[39m.\u001b[39;49mbinned_statistic_2d(r, \n\u001b[1;32m      3\u001b[0m                                                             z, \n\u001b[1;32m      4\u001b[0m                                                             values \u001b[39m=\u001b[39;49m c, \n\u001b[1;32m      5\u001b[0m                                                             \u001b[39mrange\u001b[39;49m \u001b[39m=\u001b[39;49m [[BL_r_min, BL_r_max], [BL_z_min, BL_z_max]], \n\u001b[1;32m      6\u001b[0m                                                             bins\u001b[39m=\u001b[39;49mN_bins, \n\u001b[1;32m      7\u001b[0m                                                             statistic\u001b[39m=\u001b[39;49m\u001b[39m'\u001b[39;49m\u001b[39mmean\u001b[39;49m\u001b[39m'\u001b[39;49m)\n",
      "File \u001b[0;32m~/.gaia-project-env/lib/python3.9/site-packages/scipy/stats/_binned_statistic.py:352\u001b[0m, in \u001b[0;36mbinned_statistic_2d\u001b[0;34m(x, y, values, statistic, bins, range, expand_binnumbers)\u001b[0m\n\u001b[1;32m    349\u001b[0m     xedges \u001b[39m=\u001b[39m yedges \u001b[39m=\u001b[39m np\u001b[39m.\u001b[39masarray(bins, \u001b[39mfloat\u001b[39m)\n\u001b[1;32m    350\u001b[0m     bins \u001b[39m=\u001b[39m [xedges, yedges]\n\u001b[0;32m--> 352\u001b[0m medians, edges, binnumbers \u001b[39m=\u001b[39m binned_statistic_dd(\n\u001b[1;32m    353\u001b[0m     [x, y], values, statistic, bins, \u001b[39mrange\u001b[39;49m,\n\u001b[1;32m    354\u001b[0m     expand_binnumbers\u001b[39m=\u001b[39;49mexpand_binnumbers)\n\u001b[1;32m    356\u001b[0m \u001b[39mreturn\u001b[39;00m BinnedStatistic2dResult(medians, edges[\u001b[39m0\u001b[39m], edges[\u001b[39m1\u001b[39m], binnumbers)\n",
      "File \u001b[0;32m~/.gaia-project-env/lib/python3.9/site-packages/scipy/stats/_binned_statistic.py:570\u001b[0m, in \u001b[0;36mbinned_statistic_dd\u001b[0;34m(sample, values, statistic, bins, range, expand_binnumbers, binned_statistic_result)\u001b[0m\n\u001b[1;32m    567\u001b[0m     bins \u001b[39m=\u001b[39m Ndim \u001b[39m*\u001b[39m [bins]\n\u001b[1;32m    569\u001b[0m \u001b[39mif\u001b[39;00m binned_statistic_result \u001b[39mis\u001b[39;00m \u001b[39mNone\u001b[39;00m:\n\u001b[0;32m--> 570\u001b[0m     nbin, edges, dedges \u001b[39m=\u001b[39m _bin_edges(sample, bins, \u001b[39mrange\u001b[39;49m)\n\u001b[1;32m    571\u001b[0m     binnumbers \u001b[39m=\u001b[39m _bin_numbers(sample, nbin, edges, dedges)\n\u001b[1;32m    572\u001b[0m \u001b[39melse\u001b[39;00m:\n",
      "File \u001b[0;32m~/.gaia-project-env/lib/python3.9/site-packages/scipy/stats/_binned_statistic.py:706\u001b[0m, in \u001b[0;36m_bin_edges\u001b[0;34m(sample, bins, range)\u001b[0m\n\u001b[1;32m    702\u001b[0m         \u001b[39mif\u001b[39;00m \u001b[39mrange\u001b[39m[i][\u001b[39m1\u001b[39m] \u001b[39m<\u001b[39m \u001b[39mrange\u001b[39m[i][\u001b[39m0\u001b[39m]:\n\u001b[1;32m    703\u001b[0m             \u001b[39mraise\u001b[39;00m \u001b[39mValueError\u001b[39;00m(\n\u001b[1;32m    704\u001b[0m                 \u001b[39m\"\u001b[39m\u001b[39mIn \u001b[39m\u001b[39m{}\u001b[39;00m\u001b[39mrange, start must be <= stop\u001b[39m\u001b[39m\"\u001b[39m\u001b[39m.\u001b[39mformat(\n\u001b[1;32m    705\u001b[0m                     \u001b[39mf\u001b[39m\u001b[39m\"\u001b[39m\u001b[39mdimension \u001b[39m\u001b[39m{\u001b[39;00mi \u001b[39m+\u001b[39m \u001b[39m1\u001b[39m\u001b[39m}\u001b[39;00m\u001b[39m of \u001b[39m\u001b[39m\"\u001b[39m \u001b[39mif\u001b[39;00m Ndim \u001b[39m>\u001b[39m \u001b[39m1\u001b[39m \u001b[39melse\u001b[39;00m \u001b[39m\"\u001b[39m\u001b[39m\"\u001b[39m))\n\u001b[0;32m--> 706\u001b[0m         smin[i], smax[i] \u001b[39m=\u001b[39m \u001b[39mrange\u001b[39m[i]\n\u001b[1;32m    708\u001b[0m \u001b[39m# Make sure the bins have a finite width.\u001b[39;00m\n\u001b[1;32m    709\u001b[0m \u001b[39mfor\u001b[39;00m i \u001b[39min\u001b[39;00m builtins\u001b[39m.\u001b[39mrange(\u001b[39mlen\u001b[39m(smin)):\n",
      "\u001b[0;31mValueError\u001b[0m: setting an array element with a sequence."
     ]
    }
   ],
   "source": [
    "for i in range(50):\n",
    "    H, xedges, yedges, binnumber = stats.binned_statistic_2d(r, \n",
    "                                                            z, \n",
    "                                                            values = c, \n",
    "                                                            range = [[BL_r_min, BL_r_max], [BL_z_min, BL_z_max]], \n",
    "                                                            bins=N_bins, \n",
    "                                                            statistic='mean')"
   ]
  }
 ],
 "metadata": {
  "kernelspec": {
   "display_name": ".gaia-project-env",
   "language": "python",
   "name": "python3"
  },
  "language_info": {
   "codemirror_mode": {
    "name": "ipython",
    "version": 3
   },
   "file_extension": ".py",
   "mimetype": "text/x-python",
   "name": "python",
   "nbconvert_exporter": "python",
   "pygments_lexer": "ipython3",
   "version": "3.9.12"
  },
  "orig_nbformat": 4,
  "vscode": {
   "interpreter": {
    "hash": "d8b682a76a9d2be70a33d5d7adc5516e883f06df882d840d60e537feb5053e29"
   }
  }
 },
 "nbformat": 4,
 "nbformat_minor": 2
}
