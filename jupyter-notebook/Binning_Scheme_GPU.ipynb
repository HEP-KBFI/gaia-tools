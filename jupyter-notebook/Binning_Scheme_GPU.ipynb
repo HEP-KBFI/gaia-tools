{
 "cells": [
  {
   "cell_type": "code",
   "execution_count": 1,
   "metadata": {},
   "outputs": [],
   "source": [
    "import cupy as cp\n",
    "import pandas as pd\n",
    "import numpy as np\n",
    "from numba import jit\n",
    "\n",
    "# Disable if running on GPU\n",
    "from numba import jit, config\n",
    "config.DISABLE_JIT = True\n",
    "import cProfile\n",
    "import sys\n",
    "sys.path.append(\"../gaia_tools/\")\n",
    "import transformation_constants\n",
    "import transformation_functions\n",
    "import data_analysis\n",
    "import covariance_generation as cov"
   ]
  },
  {
   "cell_type": "code",
   "execution_count": 34,
   "metadata": {},
   "outputs": [
    {
     "name": "stdout",
     "output_type": "stream",
     "text": [
      "Grabbing needed columns\n",
      "Importing DR3\n"
     ]
    }
   ],
   "source": [
    "print('Grabbing needed columns')\n",
    "icrs_data = pd.read_csv('/home/svenpoder/DATA/Gaia_2MASS Data_DR2/gaia_rv_data_bayes.csv', nrows = 10)\n",
    "print('Importing DR3')\n",
    "path = '/home/svenpoder/DATA/Gaia_DR3/GaiaDR3_RV_RGB_fidelity.csv'\n",
    "gaia_dr3 = pd.read_csv(path)\n",
    "icrs_data = gaia_dr3[icrs_data.columns]"
   ]
  },
  {
   "cell_type": "code",
   "execution_count": 35,
   "metadata": {},
   "outputs": [
    {
     "name": "stdout",
     "output_type": "stream",
     "text": [
      "Starting galactocentric transformation loop over all data points.. \n",
      "Time elapsed for data coordinate transformation: 2.524829123984091 sec\n",
      "Final size of sample (169498, 11)\n"
     ]
    }
   ],
   "source": [
    "## TRANSFORMATION CONSTANTS\n",
    "v_sun = transformation_constants.V_SUN\n",
    "\n",
    "r_0 = 8277.0\n",
    "z_0 = 25.0\n",
    "\n",
    "v_sun[0][0] = 11.1\n",
    "v_sun[1][0] = 251.5*(r_0/8277)\n",
    "v_sun[2][0] = 8.59*(r_0/8277)\n",
    "\n",
    "\n",
    "## APPLY INITIAL CUT\n",
    "galcen_data = data_analysis.get_transformed_data(icrs_data,\n",
    "                                       include_cylindrical = True,\n",
    "                                       z_0 = z_0,\n",
    "                                       r_0 = r_0,\n",
    "                                       v_sun = v_sun,\n",
    "                                       debug = True,\n",
    "                                       is_bayes = True,\n",
    "                                       is_source_included = True)\n",
    "\n",
    "galcen_data = galcen_data[(galcen_data.r < 15000) & (galcen_data.r > 5000)]\n",
    "galcen_data = galcen_data[(galcen_data.z < 200) & (galcen_data.z > -200)]\n",
    "galcen_data.reset_index(inplace=True, drop=True)\n",
    "\n",
    "galcen_data = galcen_data[::10]\n",
    "\n",
    "## DECLARE FINAL INPUT DATA\n",
    "icrs_data = icrs_data.merge(galcen_data, on='source_id')[icrs_data.columns]\n",
    "print(\"Final size of sample {}\".format(galcen_data.shape))"
   ]
  },
  {
   "cell_type": "code",
   "execution_count": 5,
   "metadata": {},
   "outputs": [],
   "source": [
    "# Generate covariance matrices for INPUT\n",
    "C_icrs = cov.generate_covmat(icrs_data)"
   ]
  },
  {
   "cell_type": "code",
   "execution_count": 6,
   "metadata": {},
   "outputs": [],
   "source": [
    "# Declare backend\n",
    "NUMPY_LIB = cp\n",
    "dtype = cp.float32"
   ]
  },
  {
   "cell_type": "code",
   "execution_count": 7,
   "metadata": {},
   "outputs": [],
   "source": [
    "# Export INPUT to GPU with needed columns\n",
    "trans_needed_columns = ['source_id', 'ra', 'dec', 'r_est', 'pmra', 'pmdec', 'radial_velocity',]\n",
    "icrs_data = NUMPY_LIB.asarray(icrs_data[trans_needed_columns], dtype=cp.float32)\n",
    "C_icrs = NUMPY_LIB.asarray(C_icrs, dtype=cp.float32)"
   ]
  },
  {
   "cell_type": "code",
   "execution_count": 20,
   "metadata": {},
   "outputs": [],
   "source": [
    "def transform_all(icrs_data, C_icrs, r_0, z_0, v_sun):\n",
    "\n",
    "    r_0 = r_0\n",
    "    z_0 = z_0\n",
    "    v_sun = v_sun\n",
    "\n",
    "    galcen_data = transformation_functions.get_transformed_data(icrs_data,\n",
    "                                        include_cylindrical = True,\n",
    "                                        z_0 = z_0,\n",
    "                                        r_0 = r_0,\n",
    "                                        v_sun = v_sun,\n",
    "                                        is_bayes = True,\n",
    "                                        NUMPY_LIB = NUMPY_LIB,\n",
    "                                        dtype = dtype)\n",
    "\n",
    "    # [\"ra\", \"dec\",\"r_est\",\"pmra\",\"pmdec\",\"radial_velocity\"] -> [:,1::]\n",
    "    galactocentric_cov = cov.transform_cov_matrix(C = C_icrs, \n",
    "                                        df = icrs_data[:,1::],\n",
    "                                        coordinate_system = 'Cartesian',\n",
    "                                        z_0 = z_0,\n",
    "                                        r_0 = r_0,\n",
    "                                        is_bayes = True,\n",
    "                                        NUMPY_LIB = NUMPY_LIB,\n",
    "                                        dtype = dtype)\n",
    "\n",
    "    # [\"x\", \"y\",\"r\",\"phi\",\"v_r\",\"v_phi\"] -> [0,1,6,7,8,9]\n",
    "    cyl_cov_gpu = cov.transform_cov_matrix(C = galactocentric_cov, \n",
    "                                        df = galcen_data[:,[0,1,6,7,8,9]],\n",
    "                                        coordinate_system = 'Cylindrical',\n",
    "                                        z_0 = z_0,\n",
    "                                        r_0 = r_0,\n",
    "                                        is_bayes = False,\n",
    "                                        NUMPY_LIB = NUMPY_LIB,\n",
    "                                        dtype = dtype)\n",
    "\n",
    "    sig_vphi = NUMPY_LIB.array([cyl_cov_gpu[:,4,4]])\n",
    "    sig_vr = NUMPY_LIB.array([cyl_cov_gpu[:,3,3]])\n",
    "    source_id = NUMPY_LIB.array([icrs_data[:,0]])\n",
    "    galcen_data = NUMPY_LIB.concatenate(([galcen_data, sig_vphi.T, sig_vr.T, source_id.T]), axis=1)\n",
    "\n",
    "    final_data_columns = ['x', 'y', 'z', 'v_x', 'v_y', 'v_z', 'r', 'phi', 'v_r', 'v_phi',\n",
    "                'sig_vphi', 'sig_vr', 'source_id']\n",
    "    \n",
    "    galcen_data = pd.DataFrame(galcen_data.get(), columns=final_data_columns)\n",
    "\n",
    "    return galcen_data"
   ]
  },
  {
   "cell_type": "code",
   "execution_count": 105,
   "metadata": {},
   "outputs": [
    {
     "name": "stdout",
     "output_type": "stream",
     "text": [
      "Old Binning Scheme\n",
      "\n",
      "\n",
      "R0 = 7800.0\n",
      "Total number of stars across bins: 1694405\n",
      "Bins of increasing r --->\n",
      "| 421896 | 473551 | 301729 | 181148 | 127575 | 66097 | 24010 | 7420 | 2294 | 512 \n",
      "\n",
      "R0 = 8033.333333333333\n",
      "Total number of stars across bins: 1606232\n",
      "Bins of increasing r --->\n",
      "| 361744 | 497503 | 336750 | 198459 | 138791 | 80062 | 30642 | 9699 | 2939 | 829 \n",
      "\n",
      "R0 = 8266.666666666666\n",
      "Total number of stars across bins: 1657418\n",
      "Bins of increasing r --->\n",
      "| 289906 | 505365 | 378622 | 220442 | 148362 | 94167 | 38877 | 12873 | 3780 | 1223 \n",
      "\n",
      "R0 = 8277\n",
      "Total number of stars across bins: 1693617\n",
      "Bins of increasing r --->\n",
      "| 286717 | 505320 | 380277 | 221674 | 148818 | 94771 | 39324 | 12991 | 3829 | 1250 \n",
      "\n",
      "R0 = 8500.0\n",
      "Total number of stars across bins: 1694971\n",
      "Bins of increasing r --->\n",
      "| 194393 | 487644 | 421778 | 251837 | 157863 | 108469 | 49047 | 16710 | 4938 | 1583 \n",
      "\n"
     ]
    }
   ],
   "source": [
    "r0_range = [x for x in np.linspace(7800, 8500, 4)]\n",
    "r0_range.append(8277)\n",
    "r0_range.sort()\n",
    "r0_range\n",
    "print('Old Binning Scheme')\n",
    "print('\\n')\n",
    "for r_0 in r0_range:\n",
    "    galcen_data = transform_all(icrs_data, C_icrs, r_0, z_0, v_sun)\n",
    "    bin_collection = data_analysis.get_collapsed_bins(data = galcen_data,\n",
    "                                                        theta = (0, 1),\n",
    "                                                        BL_r_min = 5000,\n",
    "                                                        BL_r_max = 15000,\n",
    "                                                        BL_z_min = -200,\n",
    "                                                        BL_z_max = 200,\n",
    "                                                        N_bins = (10, 1),\n",
    "                                                        r_drift = False,\n",
    "                                                        debug = False)\n",
    "\n",
    "\n",
    "    print('R0 = {}'.format(r_0))\n",
    "    print('Total number of stars across bins: {}'.format(i))\n",
    "    print('Bins of increasing r --->')                                                 \n",
    "    i = 0\n",
    "    for bin in bin_collection.bins:\n",
    "        n_bin = len(bin.data)\n",
    "        print('| {}'.format(n_bin), end=\" \")\n",
    "        i += n_bin\n",
    "    print('\\n')\n",
    "    "
   ]
  },
  {
   "cell_type": "code",
   "execution_count": 104,
   "metadata": {},
   "outputs": [
    {
     "name": "stdout",
     "output_type": "stream",
     "text": [
      "New Binning Scheme\n",
      "\n",
      "\n",
      "R0 = 7800.0\n",
      "Total number of stars across bins: 1694959\n",
      "Bins of increasing r/r_0 --->\n",
      "| 315339 | 474126 | 352513 | 215600 | 144123 | 97850 | 45352 | 16419 | 5230 | 1787 \n",
      "\n",
      "R0 = 8033.333333333333\n",
      "Total number of stars across bins: 1668339\n",
      "Bins of increasing r/r_0 --->\n",
      "| 302118 | 489972 | 365885 | 218616 | 146431 | 96449 | 42272 | 14651 | 4517 | 1501 \n",
      "\n",
      "R0 = 8266.666666666666\n",
      "Total number of stars across bins: 1682412\n",
      "Bins of increasing r/r_0 --->\n",
      "| 287317 | 504700 | 379694 | 221508 | 148754 | 94813 | 39449 | 13068 | 3864 | 1262 \n",
      "\n",
      "R0 = 8277\n",
      "Total number of stars across bins: 1694429\n",
      "Bins of increasing r/r_0 --->\n",
      "| 286717 | 505320 | 380277 | 221674 | 148818 | 94771 | 39324 | 12991 | 3829 | 1250 \n",
      "\n",
      "R0 = 8500.0\n",
      "Total number of stars across bins: 1694971\n",
      "Bins of increasing r/r_0 --->\n",
      "| 261846 | 518004 | 393706 | 224622 | 150564 | 93132 | 36700 | 11592 | 3317 | 922 \n",
      "\n"
     ]
    }
   ],
   "source": [
    "r0_range = [x for x in np.linspace(7800, 8500, 4)]\n",
    "r0_range.append(8277)\n",
    "r0_range.sort()\n",
    "\n",
    "print('New Binning Scheme')\n",
    "print('\\n')\n",
    "for r_0 in r0_range:\n",
    "    galcen_data = transform_all(icrs_data, C_icrs, r_0, z_0, v_sun)\n",
    "\n",
    "    galcen_data['r_orig'] = galcen_data.r\n",
    "    galcen_data['r'] = galcen_data.r/r_0 \n",
    "\n",
    "    r_min = 5000/8277\n",
    "    r_max = 15000/8277\n",
    "\n",
    "\n",
    "    bin_collection = data_analysis.get_collapsed_bins(data = galcen_data,\n",
    "                                                        theta = (0, 1),\n",
    "                                                        BL_r_min = r_min,\n",
    "                                                        BL_r_max = r_max,\n",
    "                                                        BL_z_min = -200,\n",
    "                                                        BL_z_max = 200,\n",
    "                                                        N_bins = (10, 1),\n",
    "                                                        r_drift = False,\n",
    "                                                        debug = False)\n",
    "    print('R0 = {}'.format(r_0))\n",
    "    print('Total number of stars across bins: {}'.format(i))                                                 \n",
    "    print('Bins of increasing r/r_0 --->')\n",
    "    i = 0\n",
    "    for bin in bin_collection.bins:\n",
    "        n_bin = len(bin.data)\n",
    "        print('| {}'.format(n_bin), end=\" \")\n",
    "        i += n_bin\n",
    "    print('\\n')\n",
    "    "
   ]
  },
  {
   "cell_type": "code",
   "execution_count": 29,
   "metadata": {},
   "outputs": [],
   "source": [
    "r_0 = 8150\n",
    "galcen_data = transform_all(icrs_data, C_icrs, r_0, z_0, v_sun)"
   ]
  },
  {
   "cell_type": "code",
   "execution_count": 30,
   "metadata": {},
   "outputs": [],
   "source": [
    "bin_collection_old = data_analysis.get_collapsed_bins(data = galcen_data,\n",
    "                                                        theta = (0, 1),\n",
    "                                                        BL_r_min = 5000,\n",
    "                                                        BL_r_max = 15000,\n",
    "                                                        BL_z_min = -200,\n",
    "                                                        BL_z_max = 200,\n",
    "                                                        N_bins = (10, 1),\n",
    "                                                        r_drift = False,\n",
    "                                                        debug = False)"
   ]
  },
  {
   "cell_type": "code",
   "execution_count": 31,
   "metadata": {},
   "outputs": [],
   "source": [
    "r_min = 5000/8277\n",
    "r_max = 15000/8277\n",
    "\n",
    "bin_collection_new = data_analysis.get_collapsed_bins(data = galcen_data,\n",
    "                                                      theta = r_0,\n",
    "                                                      BL_r_min = r_min,\n",
    "                                                      BL_r_max = r_max,\n",
    "                                                      BL_z_min = -200,\n",
    "                                                      BL_z_max = 200,\n",
    "                                                      N_bins = (10, 1),\n",
    "                                                      r_drift = True,\n",
    "                                                      debug = False)"
   ]
  },
  {
   "cell_type": "code",
   "execution_count": 32,
   "metadata": {},
   "outputs": [
    {
     "name": "stdout",
     "output_type": "stream",
     "text": [
      "0\n",
      "32693\n",
      "29561\n",
      "-223.21603\n",
      "-222.43484\n",
      "1\n",
      "50335\n",
      "49751\n",
      "-228.18697\n",
      "-227.93152\n",
      "2\n",
      "35936\n",
      "37175\n",
      "-229.06459\n",
      "-229.07814\n",
      "3\n",
      "20630\n",
      "21985\n",
      "-227.68185\n",
      "-228.01587\n",
      "4\n",
      "14467\n",
      "14872\n",
      "-224.52776\n",
      "-224.9061\n",
      "5\n",
      "8696\n",
      "9490\n",
      "-221.92928\n",
      "-222.48607\n",
      "6\n",
      "3439\n",
      "4096\n",
      "-220.65163\n",
      "-220.43832\n",
      "7\n",
      "1123\n",
      "1383\n",
      "-219.75937\n",
      "-220.40474\n",
      "8\n",
      "353\n",
      "435\n",
      "-215.89459\n",
      "-215.68567\n",
      "9\n",
      "87\n",
      "133\n",
      "-215.23866\n",
      "-218.41888\n"
     ]
    }
   ],
   "source": [
    "for i, bin in enumerate(bin_collection_old.bins):\n",
    "    print(i)\n",
    "    print(len(bin_collection_old.bins[i].data))\n",
    "    print(len(bin_collection_new.bins[i].data))\n",
    "    print(np.mean(bin_collection_old.bins[i].data.v_phi))\n",
    "    print(np.mean(bin_collection_new.bins[i].data.v_phi))"
   ]
  }
 ],
 "metadata": {
  "kernelspec": {
   "display_name": ".gaia-project-env",
   "language": "python",
   "name": "python3"
  },
  "language_info": {
   "codemirror_mode": {
    "name": "ipython",
    "version": 3
   },
   "file_extension": ".py",
   "mimetype": "text/x-python",
   "name": "python",
   "nbconvert_exporter": "python",
   "pygments_lexer": "ipython3",
   "version": "3.9.12 (main, Apr  5 2022, 06:56:58) \n[GCC 7.5.0]"
  },
  "orig_nbformat": 4,
  "vscode": {
   "interpreter": {
    "hash": "d8b682a76a9d2be70a33d5d7adc5516e883f06df882d840d60e537feb5053e29"
   }
  }
 },
 "nbformat": 4,
 "nbformat_minor": 2
}
