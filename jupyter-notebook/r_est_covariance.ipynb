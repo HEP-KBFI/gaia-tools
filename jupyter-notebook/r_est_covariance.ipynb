{
 "cells": [
  {
   "cell_type": "code",
   "execution_count": null,
   "metadata": {},
   "outputs": [],
   "source": [
    "import sys\n",
    "sys.path.append(\"../gaia_tools/\")\n",
    "sys.path.append(\"../scripts/\")\n",
    "import covariance_generation\n",
    "import transformation_constants\n",
    "import data_analysis\n",
    "from mcmc_plots import *\n",
    "import numpy as np\n",
    "import emcee\n",
    "import matplotlib.pyplot as plt\n",
    "import matplotlib.ticker as ticker\n",
    "import pickle\n",
    "from pylab import *\n",
    "from scipy.optimize import curve_fit\n",
    "from cProfile import label\n",
    "import pandas as pd"
   ]
  },
  {
   "cell_type": "code",
   "execution_count": null,
   "metadata": {},
   "outputs": [],
   "source": [
    "dr3_path = '/local/mariacst/2022_v0_project/data/GaiaDR3_RV_RGB_fidelity.csv'\n",
    "gaia_dr3 = pd.read_csv(dr3_path)\n",
    "gaia_dr3.columns"
   ]
  },
  {
   "cell_type": "code",
   "execution_count": null,
   "metadata": {},
   "outputs": [],
   "source": [
    "r_est_error = (gaia_dr3.B_rpgeo - gaia_dr3.b_rpgeo)/2\n",
    "gaia_dr3['r_est_error'] = r_est_error"
   ]
  },
  {
   "cell_type": "code",
   "execution_count": null,
   "metadata": {},
   "outputs": [],
   "source": [
    "C_icrs_new = covariance_generation.generate_covmat(gaia_dr3)\n",
    "C_icrs_old = covariance_generation.generate_covmat(gaia_dr3, is_parallax=True)"
   ]
  },
  {
   "cell_type": "code",
   "execution_count": null,
   "metadata": {},
   "outputs": [],
   "source": [
    "Z_0 = 25\n",
    "R_0 = 8277"
   ]
  },
  {
   "cell_type": "code",
   "execution_count": null,
   "metadata": {},
   "outputs": [],
   "source": [
    "data_array = gaia_dr3[[\"ra\", \"dec\",\"r_est\",\"pmra\",\"pmdec\",\"radial_velocity\"]].to_numpy()\n",
    "C_icrs_new_galcen = covariance_generation.transform_cov_matrix(C_icrs_new, data_array, \"Cartesian\", Z_0, R_0, is_bayes=True)\n",
    "C_icrs_old_galcen = covariance_generation.transform_cov_matrix(C_icrs_old, data_array, \"Cartesian\", Z_0, R_0, is_bayes=True)"
   ]
  },
  {
   "cell_type": "code",
   "execution_count": null,
   "metadata": {},
   "outputs": [],
   "source": [
    "def load_galactic_parameters():\n",
    "   \n",
    "   # Initial Galactocentric distance\n",
    "   r_0 = 8277\n",
    "\n",
    "   # Initial height over Galactic plane\n",
    "   z_0 = 25\n",
    "\n",
    "   # Initial solar vector\n",
    "   v_sun = transformation_constants.V_SUN\n",
    "   v_sun[0][0] = 11.1\n",
    "   v_sun[1][0] = 251.5\n",
    "   v_sun[2][0] = 8.59\n",
    "   \n",
    "   return r_0, z_0, v_sun\n",
    "r_0, z_0, v_sun = load_galactic_parameters()\n",
    "\n",
    "galcen_data = data_analysis.get_transformed_data(gaia_dr3,\n",
    "                                        include_cylindrical = True,\n",
    "                                        z_0 = z_0,\n",
    "                                        r_0 = r_0,\n",
    "                                        v_sun = v_sun,\n",
    "                                        debug = True,\n",
    "                                        is_bayes = True,\n",
    "                                        is_source_included = True)"
   ]
  },
  {
   "cell_type": "code",
   "execution_count": null,
   "metadata": {},
   "outputs": [],
   "source": [
    "data_array = galcen_data[[\"x\", \"y\",\"r\",\"phi\",\"v_r\",\"v_phi\"]].to_numpy()\n",
    "C_new_cylindrical = covariance_generation.transform_cov_matrix(C_icrs_new_galcen, data_array, \"Cylindrical\", Z_0, R_0)\n",
    "C_old_cylindrical = covariance_generation.transform_cov_matrix(C_icrs_old_galcen, data_array, \"Cylindrical\", Z_0, R_0)"
   ]
  },
  {
   "cell_type": "code",
   "execution_count": null,
   "metadata": {},
   "outputs": [],
   "source": [
    "C_new_cylindrical[:, 3, 3]\n",
    "C_old_cylindrical[:, 4, 4]"
   ]
  },
  {
   "cell_type": "code",
   "execution_count": null,
   "metadata": {},
   "outputs": [],
   "source": [
    "i = 3\n",
    "\n",
    "fig = plt.figure(figsize=(8, 6))\n",
    "h2 = plt.hist(np.sqrt(C_old_cylindrical[:, i, i]), \n",
    "            100, \n",
    "            range=(0, 100), \n",
    "            label='Old', \n",
    "            histtype='step', \n",
    "            linewidth=2)\n",
    "\n",
    "h1 = plt.hist(C_new_cylindrical[:, i, i], \n",
    "            100, \n",
    "            range=(0, 50000), \n",
    "            label='Fixed', \n",
    "            histtype='step',\n",
    "            linewidth=2)\n",
    "plt.xlim(0, 50000)\n",
    "plt.legend()\n",
    "plt.yscale('log')\n",
    "\n",
    "plt.xlabel(r'$\\sigma_{Vr}$', fontdict={'fontsize' : 15})\n",
    "plt.title(r'$\\sigma_{Vr}$', fontsize = 18)"
   ]
  },
  {
   "cell_type": "code",
   "execution_count": null,
   "metadata": {},
   "outputs": [],
   "source": []
  },
  {
   "cell_type": "code",
   "execution_count": null,
   "metadata": {},
   "outputs": [],
   "source": []
  }
 ],
 "metadata": {
  "kernelspec": {
   "display_name": "dspn_env",
   "language": "python",
   "name": "python3"
  },
  "language_info": {
   "name": "python",
   "version": "3.6.8 (default, Nov 16 2020, 16:55:22) \n[GCC 4.8.5 20150623 (Red Hat 4.8.5-44)]"
  },
  "orig_nbformat": 4,
  "vscode": {
   "interpreter": {
    "hash": "af1399650a6de459a9a764ca6f3d56f5c10db3565673a08cfbc83104c38a1a89"
   }
  }
 },
 "nbformat": 4,
 "nbformat_minor": 2
}
